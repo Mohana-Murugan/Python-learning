{
 "cells": [
  {
   "cell_type": "markdown",
   "id": "fba7d32d",
   "metadata": {},
   "source": [
    "## What is Python?\n",
    "\n",
    "- Python is a high-level, interpreted programming language known for its simplicity, readability, and versatility.\n",
    "- Python is a general-purpose, popular programming language, and it is used in almost every technical field. \n",
    "\n",
    "![image](Image/1715159018154.jpg)\n",
    "(Image Credit: Google.com)\n",
    "\n",
    "![image](Image/1715159018141.jpg)\n",
    "(Image Credit: Google.com)\n",
    "\n",
    "**Web Scraping** \n",
    "- Is an automatic way to retrieve unstructured data from a website and store them in a structured format. \n",
    "- For example, if we want to analyze what kind of face mask can sell better in Singapore, we may want to scrape all the face mask information on an E-Commerce website like Lazada.\n",
    "\n",
    "**Automation testing**\n",
    "- Is the process of using specialized software tools to execute pre-scripted tests on a software application before it is released into production. \n",
    "- The goal of automation testing is to automate repetitive but necessary tasks in a formalized testing process already in place, or to perform additional testing that would be difficult to do manually."
   ]
  },
  {
   "cell_type": "markdown",
   "id": "7413133c",
   "metadata": {},
   "source": [
    "## Let's start with print statement\n",
    "\n",
    "- Print statement is used to display output on the screen or other output devices. It is a built-in function that takes one or more arguments and prints them to the standard output. \n",
    "- Here's the basic syntax of the print statement:\n",
    "\n",
    "                    print(value1, value2, ..., sep=' ', end='\\n', file=sys.stdout, flush=False)\n",
    "                    \n",
    "- *value1, value2, etc.:* These are the values or variables that you want to print. You can provide multiple values separated by commas, and print will concatenate them with spaces by default.\n",
    "- *sep:* Specifies the separator between values. By default, it is a space (' ').\n",
    "- *end:* Specifies what to print at the end of the print statement. By default, it is a newline ('\\n'), which moves the cursor to the next line after printing.\n",
    "- *file:* Specifies the file where the output should be printed. By default, it is sys.stdout, which represents the standard output (usually the console).\n",
    "- *flush:* If True, the output is forcibly flushed after printing, ensuring that it appears immediately. By default, it is False."
   ]
  },
  {
   "cell_type": "code",
   "execution_count": 1,
   "id": "d2bdb38a",
   "metadata": {},
   "outputs": [
    {
     "name": "stdout",
     "output_type": "stream",
     "text": [
      "Hai, Welcome to python learning\n"
     ]
    }
   ],
   "source": [
    "print(\"Hai, Welcome to python learning\")"
   ]
  },
  {
   "cell_type": "code",
   "execution_count": 2,
   "id": "d0db3a2a",
   "metadata": {},
   "outputs": [
    {
     "name": "stdout",
     "output_type": "stream",
     "text": [
      "Name Mona Age= 20\n",
      "Percentage:90.56%\n",
      "Name--Mona--Age=--20\n",
      "Name--Mona--Age=--20done!!"
     ]
    }
   ],
   "source": [
    "name=\"Mona\"\n",
    "age=\"20\"\n",
    "percentage=90.56\n",
    "\n",
    "print(\"Name\",name,\"Age=\", age,)\n",
    "print(\"Percentage:{:.2f}%\".format(percentage))\n",
    "\n",
    "print(\"Name\",name,\"Age=\", age, sep=\"--\")\n",
    "\n",
    "print(\"Name\",name,\"Age=\", age, sep=\"--\",end='done!!')"
   ]
  },
  {
   "cell_type": "code",
   "execution_count": 3,
   "id": "35ed4128",
   "metadata": {},
   "outputs": [
    {
     "name": "stdout",
     "output_type": "stream",
     "text": [
      "X= 5 Y= 10 Sum= 15\n"
     ]
    }
   ],
   "source": [
    "x=5\n",
    "y=10\n",
    "print(\"X=\",x, \"Y=\", y , \"Sum=\",x+y)"
   ]
  },
  {
   "cell_type": "code",
   "execution_count": 4,
   "id": "957f3ed0",
   "metadata": {},
   "outputs": [
    {
     "name": "stdout",
     "output_type": "stream",
     "text": [
      "Hello, world!\n",
      "The value of x is: 10 and the value of y is: 20\n",
      "Python***is***awesome!!\n"
     ]
    }
   ],
   "source": [
    "# Printing a string\n",
    "print(\"Hello, world!\")\n",
    "\n",
    "# Printing variables and values\n",
    "x = 10\n",
    "y = 20\n",
    "print(\"The value of x is:\", x, \"and the value of y is:\", y)\n",
    "\n",
    "# Specifying separator and end characters\n",
    "print(\"Python\", \"is\", \"awesome\", sep='***', end='!!\\n')\n",
    "\n",
    "# Redirecting output to a file\n",
    "with open('output.txt', 'w') as f:\n",
    "    print(\"This is written to a file.\", file=f)"
   ]
  },
  {
   "cell_type": "markdown",
   "id": "e53e5752",
   "metadata": {},
   "source": [
    "### Python Comments\n",
    "\n",
    "Comments are hints that we add to our code to make it easier to understand.\n",
    "\n",
    "Comments are completely ignored and not executed by code editors.\n",
    "\n",
    "* Single Line comments `#`\n",
    "* Multiple Line Comments ` ''' '''`"
   ]
  },
  {
   "cell_type": "code",
   "execution_count": 5,
   "id": "786c94cf",
   "metadata": {},
   "outputs": [
    {
     "name": "stdout",
     "output_type": "stream",
     "text": [
      "Sum= 30\n"
     ]
    }
   ],
   "source": [
    "# Declare a varible (Single line comment)\n",
    "X=10\n",
    "# Declare another variable\n",
    "Y=20\n",
    "print(\"Sum=\",X+Y)"
   ]
  },
  {
   "cell_type": "code",
   "execution_count": 6,
   "id": "fe1b90d2",
   "metadata": {},
   "outputs": [
    {
     "name": "stdout",
     "output_type": "stream",
     "text": [
      "Hello, World!\n"
     ]
    }
   ],
   "source": [
    "'''This is an example of Multiline\n",
    "comment'''\n",
    "\n",
    "print(\"Hello, World!\")"
   ]
  },
  {
   "cell_type": "code",
   "execution_count": 7,
   "id": "cd3e05e1",
   "metadata": {},
   "outputs": [
    {
     "name": "stdout",
     "output_type": "stream",
     "text": [
      "Hello, World!\n"
     ]
    }
   ],
   "source": [
    "\"\"\" \n",
    "This is an example of Multiline\n",
    "comment\n",
    "\"\"\"\n",
    "\n",
    "print(\"Hello, World!\")"
   ]
  },
  {
   "cell_type": "markdown",
   "id": "4ae9de29",
   "metadata": {},
   "source": [
    "## Statement"
   ]
  },
  {
   "cell_type": "code",
   "execution_count": 8,
   "id": "3b0b400a",
   "metadata": {},
   "outputs": [
    {
     "name": "stdout",
     "output_type": "stream",
     "text": [
      "40\n",
      "[4, 5, 6, 7]\n"
     ]
    }
   ],
   "source": [
    "# Single Line Statement\n",
    "\n",
    "p1=10+30\n",
    "print(p1)\n",
    "\n",
    "p2=[4,5,6,7]\n",
    "print(p2)"
   ]
  },
  {
   "cell_type": "code",
   "execution_count": 9,
   "id": "dbd61fc4",
   "metadata": {},
   "outputs": [
    {
     "name": "stdout",
     "output_type": "stream",
     "text": [
      "78\n",
      "('Hi', 'welcome', 'python', 'learning')\n",
      "[4, 6, 8, 9]\n"
     ]
    }
   ],
   "source": [
    "# multiline statement\n",
    "\n",
    "p1=90+ \\\n",
    "40 -\\\n",
    "52\n",
    "\n",
    "print(p1)\n",
    "\n",
    "\n",
    "p1=(f\"Hi\",\n",
    "   f\"welcome\",\n",
    "   f\"python\",\n",
    "   f\"learning\")\n",
    "\n",
    "print(p1)\n",
    "\n",
    "list=[4,\n",
    "     6,\n",
    "     8,\n",
    "     9]\n",
    "print(list)"
   ]
  },
  {
   "cell_type": "markdown",
   "id": "79a63ce7",
   "metadata": {},
   "source": [
    "## Indentation\n",
    "- Indentation in programming refers to the spaces or tabs used at the beginning of a line of code to indicate its logical structure. "
   ]
  },
  {
   "cell_type": "code",
   "execution_count": 11,
   "id": "5dbd3c12",
   "metadata": {},
   "outputs": [
    {
     "name": "stdout",
     "output_type": "stream",
     "text": [
      "It is equal\n"
     ]
    }
   ],
   "source": [
    "p=10\n",
    "\n",
    "if p==10:\n",
    "    print(\"It is equal\")\n",
    "else:\n",
    "    print(\"It is not equal\")"
   ]
  },
  {
   "cell_type": "code",
   "execution_count": 12,
   "id": "a0812099",
   "metadata": {},
   "outputs": [
    {
     "ename": "IndentationError",
     "evalue": "expected an indented block after 'if' statement on line 3 (2492752302.py, line 4)",
     "output_type": "error",
     "traceback": [
      "\u001b[1;36m  Cell \u001b[1;32mIn[12], line 4\u001b[1;36m\u001b[0m\n\u001b[1;33m    print(\"It is equal\")\u001b[0m\n\u001b[1;37m    ^\u001b[0m\n\u001b[1;31mIndentationError\u001b[0m\u001b[1;31m:\u001b[0m expected an indented block after 'if' statement on line 3\n"
     ]
    }
   ],
   "source": [
    "p=10\n",
    "\n",
    "if p==10:\n",
    "print(\"It is equal\")\n",
    "else:\n",
    "    print(\"It is not equal\")"
   ]
  },
  {
   "cell_type": "markdown",
   "id": "d6b470e3",
   "metadata": {},
   "source": [
    "## Python Variables\n",
    "\n",
    "- A variable is a named storage location in the computer's memory for holding a piece of information.\n",
    "- The information stored in variables may change while the program is running (hence the name \"variable\"). \n",
    "- Variables are symbolic names that represent locations in the computer's random-access memory (RAM). \n",
    "- When information is stored in a variable, it is actually stored in RAM.\n",
    "\n",
    "**Syntax**\n",
    "- data_type variable_name = value;\n",
    "\n",
    "**Variable declaration**\n",
    "\n",
    "- Take a look at this: int age; \n",
    "- This is called variable declaration. \n",
    "- It tells the compiler the variable's name and the data type it will hold. Memory is allocated upon variable declaration.\n",
    "- This line indicates the variable's name is age. The word int stands for integer, so age will only be used to hold integer numbers. The data type also determines the amount of memory space to be allocated for the variable.\n",
    "\n",
    "**Variable declaration and initialization**\n",
    "\n",
    "- Take a look at this: int age = 20; \n",
    "- This is called variable declaration and initialization. It provides a inital value 20 to age, which will be saved in the allocated memory location.\n",
    "\n",
    "Usually, variable declaration and initialization are done together."
   ]
  },
  {
   "cell_type": "code",
   "execution_count": 13,
   "id": "aef96794",
   "metadata": {},
   "outputs": [],
   "source": [
    "name = \"A\"  \n",
    "Name = \"B\"  \n",
    "naMe = \"C\"  \n",
    "NAME = \"D\"  \n",
    "n_a_m_e = \"E\"  \n",
    "_name = \"F\"  \n",
    "name_ = \"G\"  \n",
    "_name_ = \"H\"  \n",
    "na56me = \"I\"  "
   ]
  },
  {
   "cell_type": "code",
   "execution_count": 14,
   "id": "da26a87e",
   "metadata": {},
   "outputs": [
    {
     "name": "stdout",
     "output_type": "stream",
     "text": [
      "A B C D E D E F G F I\n"
     ]
    }
   ],
   "source": [
    "print(name,Name,naMe,NAME,n_a_m_e, NAME, n_a_m_e, _name, name_,_name, na56me)  "
   ]
  },
  {
   "cell_type": "markdown",
   "id": "6d86e72b",
   "metadata": {},
   "source": [
    "The multi-word keywords can be created by the following method.\n",
    "\n",
    "* *Camel Case* - In the camel case, each word or abbreviation in the `middle of begins with a capital letter`. There is no intervention of whitespace. `For example - nameOfStudent, valueOfVaraible, etc`.\n",
    "* *Pascal Case* - It is the same as the Camel Case, but here the `first word is also capital`. For example - NameOfStudent, etc.\n",
    "* *Snake Case* - In the snake case, `Words are separated by the underscore`. For example - name_of_student, etc."
   ]
  },
  {
   "cell_type": "code",
   "execution_count": 15,
   "id": "ab223d56",
   "metadata": {},
   "outputs": [
    {
     "name": "stdout",
     "output_type": "stream",
     "text": [
      "Mohana Mona Mohana Murugan 26 5.3\n"
     ]
    }
   ],
   "source": [
    "Name='Mohana'  # we can use single, double and triple quotes for string datatye\n",
    "Nick_name=\"Mona\"\n",
    "Full_Name='''Mohana Murugan'''\n",
    "Age=26\n",
    "height=5.3\n",
    "print(Name, Nick_name, Full_Name,Age, height)"
   ]
  },
  {
   "cell_type": "markdown",
   "id": "5085c04f",
   "metadata": {},
   "source": [
    "All the variables (Name, Nick_name, Full_Name, Age, height) are printed with spaces in between them because print automatically adds spaces when you pass multiple arguments to it."
   ]
  },
  {
   "cell_type": "code",
   "execution_count": 16,
   "id": "1c78b73b",
   "metadata": {},
   "outputs": [
    {
     "name": "stdout",
     "output_type": "stream",
     "text": [
      "Mohana | Mona | Mohana Murugan | 26 | 5.3\n"
     ]
    }
   ],
   "source": [
    "Name = 'Mohana'  # Single quotes\n",
    "Nick_name = \"Mona\"  # Double quotes\n",
    "Full_Name = '''Mohana Murugan'''  # Triple quotes\n",
    "Age = 26\n",
    "height = 5.3\n",
    "\n",
    "print(Name, Nick_name, Full_Name, Age, height, sep=' | ')"
   ]
  },
  {
   "cell_type": "code",
   "execution_count": 17,
   "id": "08da712f",
   "metadata": {},
   "outputs": [
    {
     "name": "stdout",
     "output_type": "stream",
     "text": [
      "value a= 6 Value b= 6\n",
      "Before 6\n",
      "After 8\n",
      "6|5.6|string\n",
      "sampledata\n",
      "sampledata\n"
     ]
    }
   ],
   "source": [
    "a=6  #We can write like a=b=6\n",
    "b=a\n",
    "print(\"value a=\",a, \"Value b=\",b)\n",
    "\n",
    "a=6  # Changing the Value of a Variable in Python\n",
    "print(\"Before\",a)\n",
    "a=8\n",
    "print(\"After\",a)\n",
    "\n",
    "c,d,f=6,5.6,\"string\" # Assigning multiple values to multiple variables\n",
    "print(c,d,f,sep=\"|\")\n",
    "\n",
    "g=h=\"sampledata\" # assign the same value to multiple variables at once\n",
    "print(g)\n",
    "print(h)"
   ]
  },
  {
   "cell_type": "code",
   "execution_count": 18,
   "id": "38bc1387",
   "metadata": {},
   "outputs": [
    {
     "name": "stdout",
     "output_type": "stream",
     "text": [
      "10\n",
      "<class 'int'>\n",
      "140707578496072\n",
      "0x7ff9093bc448\n"
     ]
    },
    {
     "data": {
      "application/javascript": [
       "\n",
       "        if (window._pyforest_update_imports_cell) { window._pyforest_update_imports_cell('import sys'); }\n",
       "    "
      ],
      "text/plain": [
       "<IPython.core.display.Javascript object>"
      ]
     },
     "metadata": {},
     "output_type": "display_data"
    },
    {
     "data": {
      "text/plain": [
       "28"
      ]
     },
     "execution_count": 18,
     "metadata": {},
     "output_type": "execute_result"
    }
   ],
   "source": [
    "a= 10\n",
    "\n",
    "print(a)\n",
    "print(type(a))\n",
    "print(id(a))\n",
    "print(hex(id(a)))\n",
    "\n",
    "sys.getsizeof(int())"
   ]
  },
  {
   "cell_type": "markdown",
   "id": "2a445e44",
   "metadata": {},
   "source": [
    "### Python Identifier\n",
    "\n",
    "- An identifier is a name given to various elements in a Python program, such as variables, functions, classes, modules, and more.\n",
    "\n",
    "*Identifiers must follow certain rules:*\n",
    "  - They can contain letters (a-z, A-Z), digits (0-9), and underscores (_).\n",
    "  - They must start with a letter (a-z, A-Z) or an underscore (_).\n",
    "  - They are case-sensitive (myVar, MyVar, and myvar are different identifiers).\n",
    "  - They cannot be a Python keyword (reserved word).\n",
    "  - Examples of valid identifiers: *variable, _underscore_var, class_name, function123.*\n",
    "  - Examples of invalid identifiers: *123variable (starts with a digit), for (Python keyword), my-var (contains hyphen).*"
   ]
  },
  {
   "cell_type": "code",
   "execution_count": 19,
   "id": "7a611a58",
   "metadata": {},
   "outputs": [
    {
     "name": "stdout",
     "output_type": "stream",
     "text": [
      "6\n"
     ]
    }
   ],
   "source": [
    "# Valid Identifiers\n",
    "variable_name = 10\n",
    "first_name = \"John\"\n",
    "_last_name = \"Doe\"\n",
    "age123 = 30\n",
    "is_student = True\n",
    "PI = 3.14\n",
    "\n",
    "# Invalid Identifiers (commented out to avoid syntax errors)\n",
    "# 123variable = 10  # starts with a digit\n",
    "# my-var = 20       # contains a hyphen\n",
    "# for = 5           # using a keyword as an identifier\n",
    "\n",
    "def add(x):  # add is like an identifier\n",
    "    print(x)\n",
    "    \n",
    "add(6)"
   ]
  },
  {
   "cell_type": "markdown",
   "id": "1d6c0330",
   "metadata": {},
   "source": [
    "## Python Identifier and Keyword\n",
    "- Keywords, also known as reserved words, are predefined words in Python that have special meanings and purposes. They are part of the language's syntax and cannot be used as identifiers (names for variables, functions, etc.).\n",
    "- Python has a set of keywords that are reserved for specific language features and functionalities.\n",
    "- Examples of Python keywords: if, else, while, for, def, class, import, from, return, True, False, None, etc.\n",
    "\n",
    "**Best Practices:**\n",
    "* Use descriptive names for variables to make our code more *readable and understandable*\n",
    "* Use lowercase letters for variable names (e.g., my_variable) and separate words with underscores in multi-word variable names for better readability (e.g., student_name, total_count)."
   ]
  },
  {
   "cell_type": "code",
   "execution_count": 20,
   "id": "03686b18",
   "metadata": {},
   "outputs": [
    {
     "name": "stdout",
     "output_type": "stream",
     "text": [
      "['False', 'None', 'True', 'and', 'as', 'assert', 'async', 'await', 'break', 'class', 'continue', 'def', 'del', 'elif', 'else', 'except', 'finally', 'for', 'from', 'global', 'if', 'import', 'in', 'is', 'lambda', 'nonlocal', 'not', 'or', 'pass', 'raise', 'return', 'try', 'while', 'with', 'yield']\n"
     ]
    }
   ],
   "source": [
    "import keyword\n",
    "\n",
    "print(keyword.kwlist)"
   ]
  },
  {
   "cell_type": "code",
   "execution_count": 21,
   "id": "800a5ee8",
   "metadata": {},
   "outputs": [
    {
     "ename": "SyntaxError",
     "evalue": "invalid syntax (1829959084.py, line 1)",
     "output_type": "error",
     "traceback": [
      "\u001b[1;36m  Cell \u001b[1;32mIn[21], line 1\u001b[1;36m\u001b[0m\n\u001b[1;33m    class=5 # Attempting to use a keyword as an identifier will result in a syntax error.\u001b[0m\n\u001b[1;37m         ^\u001b[0m\n\u001b[1;31mSyntaxError\u001b[0m\u001b[1;31m:\u001b[0m invalid syntax\n"
     ]
    }
   ],
   "source": [
    "class=5 # Attempting to use a keyword as an identifier will result in a syntax error.\n",
    "print(5)"
   ]
  },
  {
   "cell_type": "markdown",
   "id": "5681ebfd",
   "metadata": {},
   "source": [
    "## Literals\n",
    "\n",
    "A literal in programming refers to a notation that represents a fixed value in the source code of a program.\n",
    "\n",
    "- **Numeric Literals** : Numeric literals represent numerical values, such as integers, floating-point numbers, and complex numbers. Examples: \n",
    "* Integer literals: 123, -45, 0\n",
    "* Floating-point literals: 3.14, -0.5, 1e5\n",
    "* Complex number literals: 1+2j, 3.5-4j`\n",
    "\n",
    "- **String Literals** :String literals represent sequences of characters enclosed in single quotes (''), double quotes (\"\") or triple quotes (''' or \"\"\"). \n",
    "\n",
    "- **Boolean Literals** : Boolean literals represent the two boolean values: True and False. These are keywords in Python and are used to represent logical values in expressions and conditions.\n",
    "- **Character Literals:** : Character literals represent individual characters enclosed in single quotes (''). \n",
    "*In Python, characters are represented using their Unicode code point. Example: 'A', 'b', '3'\n",
    "\n",
    "- **None Literal:** The None literal represents the absence of a value or a null value. It is used to indicate that a variable or expression does not refer to any object.\n",
    "\n",
    "- **Raw String Literals:** Raw string literals are prefixed with an 'r' or 'R' and are used to represent strings where backslashes () are treated as literal characters, rather than escape characters. Example: r'C:\\Users\\'\n",
    "- Raw strings (r'' or R'') are used to handle strings containing backslashes more conveniently and to improve code readability, especially in contexts where backslashes are used frequently and need to be interpreted literally.\n",
    "\n",
    "- **Bytes and Bytearray Literals (Python 3):** Bytes and bytearray literals represent sequences of bytes. Bytes literals are prefixed with a 'b' or 'B', while bytearray literals are prefixed with a 'bytearray' or 'BYTEARRAY'."
   ]
  },
  {
   "cell_type": "code",
   "execution_count": 22,
   "id": "a6a6c16a",
   "metadata": {},
   "outputs": [
    {
     "ename": "SyntaxError",
     "evalue": "unterminated string literal (detected at line 28) (1311519601.py, line 28)",
     "output_type": "error",
     "traceback": [
      "\u001b[1;36m  Cell \u001b[1;32mIn[22], line 28\u001b[1;36m\u001b[0m\n\u001b[1;33m    raw_string_literal = r'C:\\Users\\'\u001b[0m\n\u001b[1;37m                         ^\u001b[0m\n\u001b[1;31mSyntaxError\u001b[0m\u001b[1;31m:\u001b[0m unterminated string literal (detected at line 28)\n"
     ]
    }
   ],
   "source": [
    "# interger literal\n",
    "integer_literal = 123\n",
    "negative_integer_literal = -45\n",
    "floating_point_literal = 3.14\n",
    "scientific_notation_literal = 1e5\n",
    "complex_literal = 1+2j\n",
    "\n",
    "# String Literal\n",
    "single_quoted_string = 'Hello'\n",
    "double_quoted_string = \"World\"\n",
    "triple_quoted_string = '''Triple quotes'''\n",
    "\n",
    "# Boolean literals\n",
    "boolean_true = True\n",
    "boolean_false = False\n",
    "\n",
    "# character_literal\n",
    "character_literal = 'A'\n",
    "\n",
    "# None literal\n",
    "null_literal = None\n",
    "\n",
    "# Bytes and Bytearray Literals (Python 3)\n",
    "bytes_literal = b'Hello'\n",
    "bytearray_literal = bytearray(b'Python')\n",
    "\n",
    "# raw_string_literal \n",
    "raw_string_literal = r'C:\\Users\\'"
   ]
  },
  {
   "cell_type": "markdown",
   "id": "bf7508f1",
   "metadata": {},
   "source": [
    "### Python Datatypes \n",
    "\n",
    "- Numeric Types:\n",
    "    - *int:* Integer type, representing whole numbers like 5, -3, 1000, etc.\n",
    "    - *float:* Floating-point type, representing decimal numbers like 3.14, -0.5, 2.0, etc.\n",
    "    - *complex:* Complex numbers like 3 + 4j, where 3 is the real part and 4j is the imaginary part.\n",
    "- Sequence Types:\n",
    "    - *list:* Ordered collection of items, mutable (can be modified).\n",
    "    - *tuple:* Ordered collection of items, immutable (cannot be modified).\n",
    "    - *str:* String type, represents a sequence of characters like \"hello\", \"python\", etc.\n",
    "- Mapping Type:\n",
    "    - *dict:* Collection of key-value pairs, where each key is unique and maps to a value.\n",
    "- Set Types:\n",
    "    - *set:* Unordered collection of unique items, mutable.\n",
    "    - *frozenset:* Unordered collection of unique items, immutable.\n",
    "- Boolean Type:\n",
    "    - *bool:* Represents True or False.\n",
    "- None Type:\n",
    "    - *None:* Represents a null or empty value."
   ]
  },
  {
   "cell_type": "code",
   "execution_count": 23,
   "id": "777a9b94",
   "metadata": {},
   "outputs": [
    {
     "name": "stdout",
     "output_type": "stream",
     "text": [
      "<class 'int'>|<class 'float'>|<class 'str'>|<class 'list'>|<class 'tuple'>|<class 'set'>|<class 'dict'>|<class 'frozenset'>|<class 'bool'>|<class 'NoneType'>\n"
     ]
    }
   ],
   "source": [
    "a=5\n",
    "b=56.7\n",
    "c='welcome'\n",
    "d=[4,5,6]\n",
    "e=(3,5,7)\n",
    "f={4,6,8}\n",
    "g={'x':'mona','y':23}\n",
    "h=frozenset({1, 2, 3})\n",
    "is_valid = True\n",
    "empty_value = None\n",
    "\n",
    "print(type(a),type(b),type(c),type(d),type(e),type(f),type(g),type(h),type(is_valid),type(empty_value), sep=\"|\")\n"
   ]
  },
  {
   "cell_type": "markdown",
   "id": "3f17168f",
   "metadata": {},
   "source": [
    "## Python Type Conversion\n",
    "\n",
    "Python provides several built-in functions for type conversion, allowing you to convert data from one type to another. "
   ]
  },
  {
   "cell_type": "code",
   "execution_count": 24,
   "id": "c2959553",
   "metadata": {},
   "outputs": [
    {
     "name": "stdout",
     "output_type": "stream",
     "text": [
      "Integer= 10\n",
      "Float= 10.0\n",
      "String= 123\n",
      "Boolean= False\n"
     ]
    },
    {
     "ename": "TypeError",
     "evalue": "'list' object is not callable",
     "output_type": "error",
     "traceback": [
      "\u001b[1;31m---------------------------------------------------------------------------\u001b[0m",
      "\u001b[1;31mTypeError\u001b[0m                                 Traceback (most recent call last)",
      "Cell \u001b[1;32mIn[24], line 19\u001b[0m\n\u001b[0;32m     16\u001b[0m \u001b[38;5;28mprint\u001b[39m(\u001b[38;5;124m\"\u001b[39m\u001b[38;5;124mBoolean=\u001b[39m\u001b[38;5;124m\"\u001b[39m,y)\n\u001b[0;32m     18\u001b[0m x \u001b[38;5;241m=\u001b[39m (\u001b[38;5;241m1\u001b[39m, \u001b[38;5;241m2\u001b[39m, \u001b[38;5;241m3\u001b[39m)\n\u001b[1;32m---> 19\u001b[0m y \u001b[38;5;241m=\u001b[39m \u001b[38;5;28mlist\u001b[39m(x)  \u001b[38;5;66;03m# y will be [1, 2, 3]\u001b[39;00m\n\u001b[0;32m     20\u001b[0m \u001b[38;5;28mprint\u001b[39m(\u001b[38;5;124m\"\u001b[39m\u001b[38;5;124mList=\u001b[39m\u001b[38;5;124m\"\u001b[39m,y)\n\u001b[0;32m     22\u001b[0m x \u001b[38;5;241m=\u001b[39m [\u001b[38;5;241m1\u001b[39m, \u001b[38;5;241m2\u001b[39m, \u001b[38;5;241m3\u001b[39m]\n",
      "\u001b[1;31mTypeError\u001b[0m: 'list' object is not callable"
     ]
    }
   ],
   "source": [
    "x=10.5 \n",
    "y=int(x) #float to integer\n",
    "\n",
    "print(\"Integer=\", y)\n",
    "\n",
    "x=10 \n",
    "y=float(x) #interger to float\n",
    "print(\"Float=\",y)\n",
    "\n",
    "x=123\n",
    "y=str(x) # y will be '123'\n",
    "print(\"String=\",y)\n",
    "\n",
    "x=0\n",
    "y=bool(x) # y will be False\n",
    "print(\"Boolean=\",y)\n",
    "\n",
    "x = (1, 2, 3)\n",
    "y = list(x)  # y will be [1, 2, 3]\n",
    "print(\"List=\",y)\n",
    "\n",
    "x = [1, 2, 3]\n",
    "y = tuple(x)  # y will be (1, 2, 3)\n",
    "print(\"Tuple=\",y)\n",
    "\n",
    "x = [1, 2, 3]\n",
    "y = set(x)  # y will be {1, 2, 3}\n",
    "print(\"Set=\",y)\n",
    "\n",
    "x = [('a', 1), ('b', 2)]\n",
    "y = dict(x)  # y will be {'a': 1, 'b': 2}\n",
    "print(\"Dictonary=\", y)\n",
    "\n",
    "x = 65\n",
    "y = chr(x)  # y will be 'A'\n",
    "print(\"Charactor=\", y)\n",
    "\n",
    "x = 'A'\n",
    "y = ord(x)  # y will be 65\n",
    "print(\"Unicode code=\",y)"
   ]
  },
  {
   "cell_type": "markdown",
   "id": "9805d4ef",
   "metadata": {},
   "source": [
    "## Python Basic Input and Output "
   ]
  },
  {
   "cell_type": "code",
   "execution_count": 25,
   "id": "e973a995",
   "metadata": {},
   "outputs": [
    {
     "name": "stdout",
     "output_type": "stream",
     "text": [
      "Python is general-purpose language\n",
      "Welcome..!\n",
      "Welcome Have a good day\n",
      "New year.2023.see you soon\n"
     ]
    }
   ],
   "source": [
    "print('Python is general-purpose language')\n",
    "print('Welcome..!')\n",
    "print(\"Welcome\", end= ' ')\n",
    "print(\"Have a good day\")\n",
    "print('New year', 2023, 'see you soon', sep='.')"
   ]
  },
  {
   "cell_type": "code",
   "execution_count": 26,
   "id": "33b5402e",
   "metadata": {},
   "outputs": [
    {
     "name": "stdout",
     "output_type": "stream",
     "text": [
      "5\n",
      "-10.6\n",
      "programme\n",
      "Welcome to python learning\n",
      "The value of x=6 The value of y=9\n"
     ]
    }
   ],
   "source": [
    "number=-10.6\n",
    "name=\"programme\"\n",
    "\n",
    "print(5) #print literal\n",
    "\n",
    "print(number) #print varible \n",
    "print(name)\n",
    "\n",
    "print('Welcome to ' + 'python learning')\n",
    "\n",
    "\n",
    "x=6\n",
    "y=9\n",
    "print('The value of x={} The value of y={}'.format(x,y))"
   ]
  },
  {
   "cell_type": "markdown",
   "id": "dcfc75a2",
   "metadata": {},
   "source": [
    "## Python User input"
   ]
  },
  {
   "cell_type": "code",
   "execution_count": 27,
   "id": "2251df26",
   "metadata": {},
   "outputs": [
    {
     "name": "stdout",
     "output_type": "stream",
     "text": [
      "Enter a value34\n",
      "You entered value= 34\n",
      "Data Type of num: <class 'str'>\n",
      "Enter a value67\n",
      "You entered value= 67\n",
      "Data Type of num: <class 'int'>\n"
     ]
    }
   ],
   "source": [
    "num=input('Enter a value') #defalut it takes an string \n",
    "print(\"You entered value=\",num)\n",
    "print(\"Data Type of num:\", type(num))\n",
    "\n",
    "\n",
    "num=int(input('Enter a value')) #convert string to integer\n",
    "print(\"You entered value=\",num)\n",
    "print(\"Data Type of num:\", type(num))"
   ]
  },
  {
   "cell_type": "code",
   "execution_count": 28,
   "id": "b08a9798",
   "metadata": {},
   "outputs": [
    {
     "name": "stdout",
     "output_type": "stream",
     "text": [
      "Enter a value: 4\n",
      "Enter a interger value: 5\n",
      "Enter a value: 2\n",
      "Enter a float value: 5\n",
      "4\n",
      "5\n",
      "2\n",
      "5.0\n"
     ]
    }
   ],
   "source": [
    "a=input(\"Enter a value: \") # accept any values\n",
    "b=int(input(\"Enter a interger value: \")) # only accept integer value \n",
    "c=str(input(\"Enter a value: \"))\n",
    "d=float(input(\"Enter a float value: \"))\n",
    "\n",
    "print(a)\n",
    "print(b)\n",
    "print(c)\n",
    "print(d)"
   ]
  },
  {
   "cell_type": "markdown",
   "id": "e6faba2a",
   "metadata": {},
   "source": [
    "## Python operators\n",
    "\n",
    "- Arithmetic Operator `(+, -, *, /, //, %, **)`\n",
    "- Assignment Operator `(=,+=,-+,*=,/=,//=,%=,**=)`\n",
    "- Comparison Opeartor `==,!=, <,>,<=,<=`\n",
    "- Logical Opeartor `and , or, not`\n",
    "- Bitwise Opeartor `&, |, ~, ^, >>,<< `\n",
    "- Special Operator (Identity and Membership)"
   ]
  },
  {
   "cell_type": "code",
   "execution_count": 29,
   "id": "8824331a",
   "metadata": {},
   "outputs": [
    {
     "name": "stdout",
     "output_type": "stream",
     "text": [
      "Addition:  8\n",
      "Subtraction:  2\n",
      "Multiplication:  15\n",
      "Division:  1.6666666666666667\n",
      "Floor Division:  1\n",
      "Modulo:  2\n",
      "Power:  125\n",
      "---------------------------------\n",
      "Assignment a=:  10\n",
      "Addition: a+=b => a=a+b :  15\n",
      "Subtraction: a-=b => a=a-b :  10\n",
      "Multiplication:a*=b => a=a*b :  50\n",
      "Division: a/=b => a=a/b :  10.0\n",
      "Floor Division: a//=b => a=a//b :  2.0\n",
      "Modulo: a%=b => a=a%b :  2.0\n",
      "Power: a**=b => a=a**b :  32.0\n",
      "---------------------------------\n",
      "a>b = True\n",
      "a<b = False\n",
      "a>=b = True\n",
      "a<=b = False\n",
      "a==b = False\n",
      "a!= b = True\n",
      "---------------------------------\n",
      "(a>2) and (b>=6): True\n",
      "(a>2) or (b>=6): True\n",
      "(a>2): False\n",
      "---------------------------------\n",
      "Bitwise AND (&) = 5\n",
      "Bitwise OR (|) = 7\n",
      "Bitwise NOT (~) = -6\n",
      "Bitwise XOR (^) = 2\n",
      "Bitwise right shift= 0\n",
      "Bitwise left shift= 640\n"
     ]
    }
   ],
   "source": [
    "# artithmetic operation\n",
    "x= 5\n",
    "y= 3\n",
    "\n",
    "print('Addition: ', x+y)\n",
    "print('Subtraction: ', x-y)\n",
    "print('Multiplication: ', x*y)\n",
    "print('Division: ', x/y)\n",
    "print('Floor Division: ', x//y) # return interger number \n",
    "print('Modulo: ', x%y)  \n",
    "print('Power: ', x**y)\n",
    "\n",
    "\n",
    "print('---------------------------------')\n",
    "\n",
    "#Assignment Operator\n",
    "\n",
    "a=10\n",
    "b=5\n",
    "\n",
    "print('Assignment a=: ', a)\n",
    "a+=b\n",
    "print('Addition: a+=b => a=a+b : ', a)\n",
    "a-=b\n",
    "print('Subtraction: a-=b => a=a-b : ', a)\n",
    "a*=b\n",
    "print('Multiplication:a*=b => a=a*b : ', a)\n",
    "a/=b\n",
    "print('Division: a/=b => a=a/b : ', a)\n",
    "a//=b\n",
    "print('Floor Division: a//=b => a=a//b : ', a) # return quotient \n",
    "a%=b\n",
    "print('Modulo: a%=b => a=a%b : ', a) # return remainder\n",
    "a**=b\n",
    "print('Power: a**=b => a=a**b : ', a)\n",
    "\n",
    "print('---------------------------------')\n",
    "\n",
    "# Comparison\n",
    "a=5\n",
    "b=2\n",
    "print(\"a>b =\", a>b)\n",
    "print(\"a<b =\", a<b)\n",
    "print(\"a>=b =\", a>=b)\n",
    "print(\"a<=b =\", a<=b)\n",
    "print(\"a==b =\", a==b)\n",
    "print(\"a!= b =\", a!=b)\n",
    "\n",
    "print('---------------------------------')\n",
    "\n",
    "# Logical Operator\n",
    "\n",
    "a=5\n",
    "b=7\n",
    "print(\"(a>2) and (b>=6):\", (a>2) and (b>=6))\n",
    "\n",
    "print(\"(a>2) or (b>=6):\", (a>10) or (b>=6))\n",
    "\n",
    "print(\"(a>2):\", not(a>2))\n",
    "\n",
    "\n",
    "print('---------------------------------')\n",
    "\n",
    "# Bitwise Operator\n",
    "x=10\n",
    "y=4\n",
    "\n",
    "print(\"Bitwise AND (&) =\", a&b)\n",
    "print(\"Bitwise OR (|) =\", a|b)\n",
    "print(\"Bitwise NOT (~) =\", ~a)\n",
    "print(\"Bitwise XOR (^) =\", a^b)\n",
    "print(\"Bitwise right shift=\", a>>b)\n",
    "print(\"Bitwise left shift=\", a<<b)"
   ]
  },
  {
   "cell_type": "markdown",
   "id": "cc121b9f",
   "metadata": {},
   "source": [
    "#### Identity Operator \n",
    "- `is` and `is not` are used to check if two values are located at the same memory location \n",
    "- `is` True if the operands are identical (refer to the same object)\n",
    "- `is not` True if the operands are not identical (do not refer to the same object) "
   ]
  },
  {
   "cell_type": "code",
   "execution_count": 30,
   "id": "151f8d06",
   "metadata": {},
   "outputs": [
    {
     "name": "stdout",
     "output_type": "stream",
     "text": [
      "True\n",
      "140707578495912 140707578495912\n",
      "False\n",
      "140707578495912 140707578497672\n",
      "----------------------------\n",
      "False\n",
      "True\n",
      "2998857394288 2998857394288\n",
      "----------------------------\n",
      "True\n",
      "False\n",
      "2998856236544 2998863789888\n"
     ]
    }
   ],
   "source": [
    "x1= 5\n",
    "y1= 5\n",
    "\n",
    "print(x1 is y1)  # point same memory location\n",
    "print(id(x1),id(y1))\n",
    "\n",
    "a= 5\n",
    "b= 60\n",
    "\n",
    "print(a is b) # not point same memory location\n",
    "print(id(a),id(b))\n",
    "\n",
    "print('----------------------------')\n",
    "x2= 'Hello'\n",
    "y2= 'Hello'\n",
    "\n",
    "print(x2 is not y2)\n",
    "print(x2 is y2)\n",
    "print (id(x2), id(y2))\n",
    "print('----------------------------')\n",
    "\n",
    "x3=[1,2,3]\n",
    "y3=[1,2,3]\n",
    "\n",
    "print(x3 == y3)\n",
    "print(x3 is y3) # In python each list have different memory location even though same values\n",
    "print(id(x3),id(y3))"
   ]
  },
  {
   "cell_type": "markdown",
   "id": "f9ec6103",
   "metadata": {},
   "source": [
    "#### Membership operators\n",
    "- `in` and `not in` are the membership operators\n",
    "- They are used to test whether a value or variable is found in a sequence (string, list, tuple, set and dictionary) \n",
    "\n",
    "- `in` -- `True` if value/varible is found in the sequence \n",
    "- `not in` -- `True` if value/varible is not found in the sequence"
   ]
  },
  {
   "cell_type": "code",
   "execution_count": 31,
   "id": "8396d032",
   "metadata": {},
   "outputs": [
    {
     "name": "stdout",
     "output_type": "stream",
     "text": [
      "Result True\n",
      "----------------------------\n",
      "Result False\n",
      "----------------------------\n",
      "Result True\n",
      "----------------------------\n",
      "Result True\n",
      "Result False\n"
     ]
    }
   ],
   "source": [
    "str1=\"r\"\n",
    "str2=\"ram\"\n",
    "print(\"Result\", str1 in str2)\n",
    "\n",
    "print('----------------------------')\n",
    "\n",
    "str1=\"s\"\n",
    "str2=\"ram\"\n",
    "print(\"Result\", str1 in str2) # s not present in str2\n",
    "\n",
    "print('----------------------------')\n",
    "\n",
    "str1=\"s\"\n",
    "str2=\"ram\"\n",
    "print(\"Result\", str1 not in str2)\n",
    "\n",
    "print('----------------------------')\n",
    "\n",
    "l1=[1,2,4,5]\n",
    "print(\"Result\", 4 in l1)\n",
    "print(\"Result\", 14 in l1)"
   ]
  },
  {
   "cell_type": "code",
   "execution_count": 32,
   "id": "177cb9e9",
   "metadata": {},
   "outputs": [
    {
     "name": "stdout",
     "output_type": "stream",
     "text": [
      "True\n",
      "True\n",
      "True\n",
      "True\n"
     ]
    }
   ],
   "source": [
    "fruits=['apple','orange','banana']\n",
    "print('banana' in fruits)\n",
    "\n",
    "message=\"Hello world\" # string\n",
    "print('world' in message)\n",
    "\n",
    "numbers =(1,2,3,4,5) # Tuple\n",
    "print(3 in numbers)\n",
    "\n",
    "person={'name':'Mona', 'age':24} # dictionary\n",
    "print('age' in person)"
   ]
  },
  {
   "cell_type": "markdown",
   "id": "b29345a1",
   "metadata": {},
   "source": [
    "### Operator precedence\n",
    "\n",
    "In python, operators have different levels of precedence, which determine the order in which they are evaluated.\n",
    "\n",
    "- *Parentheses ()*: Highest precedence, used to group expressions and force the evaluation order.\n",
    "- *Exponentiation* **: Raises a number to a power.\n",
    "- *Unary plus + and minus -*: Positive and negative signs for numbers.\n",
    "- *Multiplication *, Division /, Floor Division //, Modulus % *: Multiplication, division, integer division, and remainder operations.\n",
    "- *Addition + and Subtraction - *: Addition and subtraction operations.\n",
    "- *Comparison Operators ==, !=, >, <, >=, <=, is, is not, in, not in*: Comparisons between values.\n",
    "- *Boolean NOT not*: Unary operation for negating a boolean value.\n",
    "- *Boolean AND and*: Binary operation for logical AND.\n",
    "- *Boolean OR or*: Binary operation for logical OR."
   ]
  },
  {
   "cell_type": "code",
   "execution_count": 33,
   "id": "7bee1d22",
   "metadata": {},
   "outputs": [
    {
     "name": "stdout",
     "output_type": "stream",
     "text": [
      "14.5\n",
      "20.784609690826528\n"
     ]
    }
   ],
   "source": [
    "print(10 + 2 * 3 ** 2 / 4)  # 10+2*9/4 --> 10+18/4 --> 10+(4.5) --> 15.5\n",
    "print((10 + 2) * 3 ** (2 / 4)) # 12*3**0.5 --> 12*sqrt(3) --> 12*1.732 --> 20.784"
   ]
  },
  {
   "cell_type": "markdown",
   "id": "fb31a52d",
   "metadata": {},
   "source": [
    "### Important things we sholud knwow "
   ]
  },
  {
   "cell_type": "code",
   "execution_count": 34,
   "id": "d3c5b5ce",
   "metadata": {},
   "outputs": [
    {
     "name": "stdout",
     "output_type": "stream",
     "text": [
      "3.11.7 | packaged by Anaconda, Inc. | (main, Dec 15 2023, 18:05:47) [MSC v.1916 64 bit (AMD64)]\n"
     ]
    }
   ],
   "source": [
    "import sys\n",
    "\n",
    "print(sys.version) # check the Python version"
   ]
  },
  {
   "cell_type": "code",
   "execution_count": 35,
   "id": "31343686",
   "metadata": {},
   "outputs": [
    {
     "name": "stdout",
     "output_type": "stream",
     "text": [
      "C:\\Users\\mohana\\anaconda3\\python.exe\n"
     ]
    }
   ],
   "source": [
    "import sys\n",
    "\n",
    "print(sys.executable) # check the Python path to determine which Python interpreter is being used"
   ]
  },
  {
   "cell_type": "code",
   "execution_count": 36,
   "id": "8e995d36",
   "metadata": {},
   "outputs": [
    {
     "name": "stdout",
     "output_type": "stream",
     "text": [
      "['__breakpointhook__', '__displayhook__', '__doc__', '__excepthook__', '__interactivehook__', '__loader__', '__name__', '__package__', '__spec__', '__stderr__', '__stdin__', '__stdout__', '__unraisablehook__', '_base_executable', '_clear_type_cache', '_current_exceptions', '_current_frames', '_debugmallocstats', '_enablelegacywindowsfsencoding', '_framework', '_getframe', '_getquickenedcount', '_git', '_home', '_stdlib_dir', '_vpath', '_xoptions', 'addaudithook', 'api_version', 'argv', 'audit', 'base_exec_prefix', 'base_prefix', 'breakpointhook', 'builtin_module_names', 'byteorder', 'call_tracing', 'copyright', 'displayhook', 'dllhandle', 'dont_write_bytecode', 'exc_info', 'excepthook', 'exception', 'exec_prefix', 'executable', 'exit', 'flags', 'float_info', 'float_repr_style', 'get_asyncgen_hooks', 'get_coroutine_origin_tracking_depth', 'get_int_max_str_digits', 'getallocatedblocks', 'getdefaultencoding', 'getfilesystemencodeerrors', 'getfilesystemencoding', 'getprofile', 'getrecursionlimit', 'getrefcount', 'getsizeof', 'getswitchinterval', 'gettrace', 'getwindowsversion', 'hash_info', 'hexversion', 'implementation', 'int_info', 'intern', 'is_finalizing', 'last_traceback', 'last_type', 'last_value', 'maxsize', 'maxunicode', 'meta_path', 'modules', 'orig_argv', 'path', 'path_hooks', 'path_importer_cache', 'platform', 'platlibdir', 'prefix', 'ps1', 'ps2', 'ps3', 'pycache_prefix', 'set_asyncgen_hooks', 'set_coroutine_origin_tracking_depth', 'set_int_max_str_digits', 'setprofile', 'setrecursionlimit', 'setswitchinterval', 'settrace', 'stderr', 'stdin', 'stdlib_module_names', 'stdout', 'thread_info', 'unraisablehook', 'version', 'version_info', 'warnoptions', 'winver']\n"
     ]
    }
   ],
   "source": [
    "print(dir(sys)) # list out available function "
   ]
  },
  {
   "cell_type": "code",
   "execution_count": 37,
   "id": "bc973fdf",
   "metadata": {},
   "outputs": [
    {
     "name": "stdout",
     "output_type": "stream",
     "text": [
      "3.11.7\n"
     ]
    }
   ],
   "source": [
    "import platform \n",
    "\n",
    "print(platform.python_version()) # check the kernel information, kernel is a program that runs and introspects the user’s code"
   ]
  },
  {
   "cell_type": "code",
   "execution_count": 38,
   "id": "2e56cc04",
   "metadata": {},
   "outputs": [
    {
     "name": "stdout",
     "output_type": "stream",
     "text": [
      "Help on built-in module sys:\n",
      "\n",
      "NAME\n",
      "    sys\n",
      "\n",
      "MODULE REFERENCE\n",
      "    https://docs.python.org/3.11/library/sys.html\n",
      "    \n",
      "    The following documentation is automatically generated from the Python\n",
      "    source files.  It may be incomplete, incorrect or include features that\n",
      "    are considered implementation detail and may vary between Python\n",
      "    implementations.  When in doubt, consult the module reference at the\n",
      "    location listed above.\n",
      "\n",
      "DESCRIPTION\n",
      "    This module provides access to some objects used or maintained by the\n",
      "    interpreter and to functions that interact strongly with the interpreter.\n",
      "    \n",
      "    Dynamic objects:\n",
      "    \n",
      "    argv -- command line arguments; argv[0] is the script pathname if known\n",
      "    path -- module search path; path[0] is the script directory, else ''\n",
      "    modules -- dictionary of loaded modules\n",
      "    \n",
      "    displayhook -- called to show results in an interactive session\n",
      "    excepthook -- called to handle any uncaught exception other than SystemExit\n",
      "      To customize printing in an interactive session or to install a custom\n",
      "      top-level exception handler, assign other functions to replace these.\n",
      "    \n",
      "    stdin -- standard input file object; used by input()\n",
      "    stdout -- standard output file object; used by print()\n",
      "    stderr -- standard error object; used for error messages\n",
      "      By assigning other file objects (or objects that behave like files)\n",
      "      to these, it is possible to redirect all of the interpreter's I/O.\n",
      "    \n",
      "    last_type -- type of last uncaught exception\n",
      "    last_value -- value of last uncaught exception\n",
      "    last_traceback -- traceback of last uncaught exception\n",
      "      These three are only available in an interactive session after a\n",
      "      traceback has been printed.\n",
      "    \n",
      "    Static objects:\n",
      "    \n",
      "    builtin_module_names -- tuple of module names built into this interpreter\n",
      "    copyright -- copyright notice pertaining to this interpreter\n",
      "    exec_prefix -- prefix used to find the machine-specific Python library\n",
      "    executable -- absolute path of the executable binary of the Python interpreter\n",
      "    float_info -- a named tuple with information about the float implementation.\n",
      "    float_repr_style -- string indicating the style of repr() output for floats\n",
      "    hash_info -- a named tuple with information about the hash algorithm.\n",
      "    hexversion -- version information encoded as a single integer\n",
      "    implementation -- Python implementation information.\n",
      "    int_info -- a named tuple with information about the int implementation.\n",
      "    maxsize -- the largest supported length of containers.\n",
      "    maxunicode -- the value of the largest Unicode code point\n",
      "    platform -- platform identifier\n",
      "    prefix -- prefix used to find the Python library\n",
      "    thread_info -- a named tuple with information about the thread implementation.\n",
      "    version -- the version of this interpreter as a string\n",
      "    version_info -- version information as a named tuple\n",
      "    dllhandle -- [Windows only] integer handle of the Python DLL\n",
      "    winver -- [Windows only] version number of the Python DLL\n",
      "    _enablelegacywindowsfsencoding -- [Windows only]\n",
      "    __stdin__ -- the original stdin; don't touch!\n",
      "    __stdout__ -- the original stdout; don't touch!\n",
      "    __stderr__ -- the original stderr; don't touch!\n",
      "    __displayhook__ -- the original displayhook; don't touch!\n",
      "    __excepthook__ -- the original excepthook; don't touch!\n",
      "    \n",
      "    Functions:\n",
      "    \n",
      "    displayhook() -- print an object to the screen, and save it in builtins._\n",
      "    excepthook() -- print an exception and its traceback to sys.stderr\n",
      "    exception() -- return the current thread's active exception\n",
      "    exc_info() -- return information about the current thread's active exception\n",
      "    exit() -- exit the interpreter by raising SystemExit\n",
      "    getdlopenflags() -- returns flags to be used for dlopen() calls\n",
      "    getprofile() -- get the global profiling function\n",
      "    getrefcount() -- return the reference count for an object (plus one :-)\n",
      "    getrecursionlimit() -- return the max recursion depth for the interpreter\n",
      "    getsizeof() -- return the size of an object in bytes\n",
      "    gettrace() -- get the global debug tracing function\n",
      "    setdlopenflags() -- set the flags to be used for dlopen() calls\n",
      "    setprofile() -- set the global profiling function\n",
      "    setrecursionlimit() -- set the max recursion depth for the interpreter\n",
      "    settrace() -- set the global debug tracing function\n",
      "\n",
      "FUNCTIONS\n",
      "    __breakpointhook__ = breakpointhook(...)\n",
      "        breakpointhook(*args, **kws)\n",
      "        \n",
      "        This hook function is called by built-in breakpoint().\n",
      "    \n",
      "    __displayhook__ = displayhook(object, /)\n",
      "        Print an object to sys.stdout and also save it in builtins._\n",
      "    \n",
      "    __excepthook__ = excepthook(exctype, value, traceback, /)\n",
      "        Handle an exception by displaying it with a traceback on sys.stderr.\n",
      "    \n",
      "    __unraisablehook__ = unraisablehook(unraisable, /)\n",
      "        Handle an unraisable exception.\n",
      "        \n",
      "        The unraisable argument has the following attributes:\n",
      "        \n",
      "        * exc_type: Exception type.\n",
      "        * exc_value: Exception value, can be None.\n",
      "        * exc_traceback: Exception traceback, can be None.\n",
      "        * err_msg: Error message, can be None.\n",
      "        * object: Object causing the exception, can be None.\n",
      "    \n",
      "    addaudithook(hook)\n",
      "        Adds a new audit hook callback.\n",
      "    \n",
      "    audit(...)\n",
      "        audit(event, *args)\n",
      "        \n",
      "        Passes the event to any audit hooks that are attached.\n",
      "    \n",
      "    call_tracing(func, args, /)\n",
      "        Call func(*args), while tracing is enabled.\n",
      "        \n",
      "        The tracing state is saved, and restored afterwards.  This is intended\n",
      "        to be called from a debugger from a checkpoint, to recursively debug\n",
      "        some other code.\n",
      "    \n",
      "    exc_info()\n",
      "        Return current exception information: (type, value, traceback).\n",
      "        \n",
      "        Return information about the most recent exception caught by an except\n",
      "        clause in the current stack frame or in an older stack frame.\n",
      "    \n",
      "    exception()\n",
      "        Return the current exception.\n",
      "        \n",
      "        Return the most recent exception caught by an except clause\n",
      "        in the current stack frame or in an older stack frame, or None\n",
      "        if no such exception exists.\n",
      "    \n",
      "    exit(status=None, /)\n",
      "        Exit the interpreter by raising SystemExit(status).\n",
      "        \n",
      "        If the status is omitted or None, it defaults to zero (i.e., success).\n",
      "        If the status is an integer, it will be used as the system exit status.\n",
      "        If it is another kind of object, it will be printed and the system\n",
      "        exit status will be one (i.e., failure).\n",
      "    \n",
      "    get_asyncgen_hooks()\n",
      "        Return the installed asynchronous generators hooks.\n",
      "        \n",
      "        This returns a namedtuple of the form (firstiter, finalizer).\n",
      "    \n",
      "    get_coroutine_origin_tracking_depth()\n",
      "        Check status of origin tracking for coroutine objects in this thread.\n",
      "    \n",
      "    get_int_max_str_digits()\n",
      "        Return the maximum string digits limit for non-binary int<->str conversions.\n",
      "    \n",
      "    getallocatedblocks()\n",
      "        Return the number of memory blocks currently allocated.\n",
      "    \n",
      "    getdefaultencoding()\n",
      "        Return the current default encoding used by the Unicode implementation.\n",
      "    \n",
      "    getfilesystemencodeerrors()\n",
      "        Return the error mode used Unicode to OS filename conversion.\n",
      "    \n",
      "    getfilesystemencoding()\n",
      "        Return the encoding used to convert Unicode filenames to OS filenames.\n",
      "    \n",
      "    getprofile()\n",
      "        Return the profiling function set with sys.setprofile.\n",
      "        \n",
      "        See the profiler chapter in the library manual.\n",
      "    \n",
      "    getrecursionlimit()\n",
      "        Return the current value of the recursion limit.\n",
      "        \n",
      "        The recursion limit is the maximum depth of the Python interpreter\n",
      "        stack.  This limit prevents infinite recursion from causing an overflow\n",
      "        of the C stack and crashing Python.\n",
      "    \n",
      "    getrefcount(object, /)\n",
      "        Return the reference count of object.\n",
      "        \n",
      "        The count returned is generally one higher than you might expect,\n",
      "        because it includes the (temporary) reference as an argument to\n",
      "        getrefcount().\n",
      "    \n",
      "    getsizeof(...)\n",
      "        getsizeof(object [, default]) -> int\n",
      "        \n",
      "        Return the size of object in bytes.\n",
      "    \n",
      "    getswitchinterval()\n",
      "        Return the current thread switch interval; see sys.setswitchinterval().\n",
      "    \n",
      "    gettrace()\n",
      "        Return the global debug tracing function set with sys.settrace.\n",
      "        \n",
      "        See the debugger chapter in the library manual.\n",
      "    \n",
      "    getwindowsversion()\n",
      "        Return info about the running version of Windows as a named tuple.\n",
      "        \n",
      "        The members are named: major, minor, build, platform, service_pack,\n",
      "        service_pack_major, service_pack_minor, suite_mask, product_type and\n",
      "        platform_version. For backward compatibility, only the first 5 items\n",
      "        are available by indexing. All elements are numbers, except\n",
      "        service_pack and platform_type which are strings, and platform_version\n",
      "        which is a 3-tuple. Platform is always 2. Product_type may be 1 for a\n",
      "        workstation, 2 for a domain controller, 3 for a server.\n",
      "        Platform_version is a 3-tuple containing a version number that is\n",
      "        intended for identifying the OS rather than feature detection.\n",
      "    \n",
      "    intern(string, /)\n",
      "        ``Intern'' the given string.\n",
      "        \n",
      "        This enters the string in the (global) table of interned strings whose\n",
      "        purpose is to speed up dictionary lookups. Return the string itself or\n",
      "        the previously interned string object with the same value.\n",
      "    \n",
      "    is_finalizing()\n",
      "        Return True if Python is exiting.\n",
      "    \n",
      "    set_asyncgen_hooks(...)\n",
      "        set_asyncgen_hooks(* [, firstiter] [, finalizer])\n",
      "        \n",
      "        Set a finalizer for async generators objects.\n",
      "    \n",
      "    set_coroutine_origin_tracking_depth(depth)\n",
      "        Enable or disable origin tracking for coroutine objects in this thread.\n",
      "        \n",
      "        Coroutine objects will track 'depth' frames of traceback information\n",
      "        about where they came from, available in their cr_origin attribute.\n",
      "        \n",
      "        Set a depth of 0 to disable.\n",
      "    \n",
      "    set_int_max_str_digits(maxdigits)\n",
      "        Set the maximum string digits limit for non-binary int<->str conversions.\n",
      "    \n",
      "    setprofile(...)\n",
      "        setprofile(function)\n",
      "        \n",
      "        Set the profiling function.  It will be called on each function call\n",
      "        and return.  See the profiler chapter in the library manual.\n",
      "    \n",
      "    setrecursionlimit(limit, /)\n",
      "        Set the maximum depth of the Python interpreter stack to n.\n",
      "        \n",
      "        This limit prevents infinite recursion from causing an overflow of the C\n",
      "        stack and crashing Python.  The highest possible limit is platform-\n",
      "        dependent.\n",
      "    \n",
      "    setswitchinterval(interval, /)\n",
      "        Set the ideal thread switching delay inside the Python interpreter.\n",
      "        \n",
      "        The actual frequency of switching threads can be lower if the\n",
      "        interpreter executes long sequences of uninterruptible code\n",
      "        (this is implementation-specific and workload-dependent).\n",
      "        \n",
      "        The parameter must represent the desired switching delay in seconds\n",
      "        A typical value is 0.005 (5 milliseconds).\n",
      "    \n",
      "    settrace(...)\n",
      "        settrace(function)\n",
      "        \n",
      "        Set the global debug tracing function.  It will be called on each\n",
      "        function call.  See the debugger chapter in the library manual.\n",
      "    \n",
      "    unraisablehook(unraisable, /)\n",
      "        Handle an unraisable exception.\n",
      "        \n",
      "        The unraisable argument has the following attributes:\n",
      "        \n",
      "        * exc_type: Exception type.\n",
      "        * exc_value: Exception value, can be None.\n",
      "        * exc_traceback: Exception traceback, can be None.\n",
      "        * err_msg: Error message, can be None.\n",
      "        * object: Object causing the exception, can be None.\n",
      "\n",
      "DATA\n",
      "    __stderr__ = <_io.TextIOWrapper name='<stderr>' mode='w' encoding='cp1...\n",
      "    __stdin__ = <_io.TextIOWrapper name='<stdin>' mode='r' encoding='cp125...\n",
      "    __stdout__ = <_io.TextIOWrapper name='<stdout>' mode='w' encoding='cp1...\n",
      "    api_version = 1013\n",
      "    argv = [r'C:\\Users\\mohana\\anaconda3\\Lib\\site-packages\\ipykernel_launch...\n",
      "    base_exec_prefix = r'C:\\Users\\mohana\\anaconda3'\n",
      "    base_prefix = r'C:\\Users\\mohana\\anaconda3'\n",
      "    builtin_module_names = ('_abc', '_ast', '_bisect', '_blake2', '_codecs...\n",
      "    byteorder = 'little'\n",
      "    copyright = 'Copyright (c) 2001-2023 Python Software Foundati...ematis...\n",
      "    displayhook = <ipykernel.displayhook.ZMQShellDisplayHook object>\n",
      "    dllhandle = 140707572416512\n",
      "    dont_write_bytecode = False\n",
      "    exec_prefix = r'C:\\Users\\mohana\\anaconda3'\n",
      "    executable = r'C:\\Users\\mohana\\anaconda3\\python.exe'\n",
      "    flags = sys.flags(debug=0, inspect=0, interactive=0, opt...coding=0, s...\n",
      "    float_info = sys.float_info(max=1.7976931348623157e+308, max_...epsilo...\n",
      "    float_repr_style = 'short'\n",
      "    hash_info = sys.hash_info(width=64, modulus=2305843009213693...iphash1...\n",
      "    hexversion = 51054576\n",
      "    implementation = namespace(name='cpython', cache_tag='cpython-311...as...\n",
      "    int_info = sys.int_info(bits_per_digit=30, sizeof_digit=4, ..._str_dig...\n",
      "    last_value = TypeError(\"'list' object is not callable\")\n",
      "    maxsize = 9223372036854775807\n",
      "    maxunicode = 1114111\n",
      "    meta_path = [<_distutils_hack.DistutilsMetaFinder object>, <class '_fr...\n",
      "    modules = {'IPython': <module 'IPython' from 'C:\\\\Users\\\\mohana\\\\anaco...\n",
      "    orig_argv = [r'C:\\Users\\mohana\\anaconda3\\python.exe', '-m', 'ipykernel...\n",
      "    path = [r'C:\\Users\\mohana\\Python_Tutorial\\Complete Python', r'C:\\Users...\n",
      "    path_hooks = [<class 'zipimport.zipimporter'>, <function FileFinder.pa...\n",
      "    path_importer_cache = {r'C:\\Users\\mohana\\.ipython\\profile_default\\star...\n",
      "    platform = 'win32'\n",
      "    platlibdir = 'DLLs'\n",
      "    prefix = r'C:\\Users\\mohana\\anaconda3'\n",
      "    ps1 = 'In : '\n",
      "    ps2 = '...: '\n",
      "    ps3 = 'Out: '\n",
      "    pycache_prefix = None\n",
      "    stderr = <ipykernel.iostream.OutStream object>\n",
      "    stdin = <_io.TextIOWrapper name='<stdin>' mode='r' encoding='cp1252'>\n",
      "    stdlib_module_names = frozenset({'__future__', '_abc', '_aix_support',...\n",
      "    stdout = <ipykernel.iostream.OutStream object>\n",
      "    thread_info = sys.thread_info(name='nt', lock=None, version=None)\n",
      "    version = '3.11.7 | packaged by Anaconda, Inc. | (main, Dec 15 2023, 1...\n",
      "    version_info = sys.version_info(major=3, minor=11, micro=7, releaselev...\n",
      "    warnoptions = []\n",
      "    winver = '3.11'\n",
      "\n",
      "FILE\n",
      "    (built-in)\n",
      "\n",
      "\n"
     ]
    }
   ],
   "source": [
    "# The Python help function is used to display the documentation of modules, functions, classes, keywords, etc.\n",
    "help(sys)"
   ]
  },
  {
   "cell_type": "markdown",
   "id": "bcd2f032",
   "metadata": {},
   "source": [
    "## Print statement format\n",
    "\n",
    "There are several ways to present the output of a program. Data can be printed in a human-readable form, or written to a file for future use, or even in some other specified form. Users often want more control over the formatting of output than simply printing space-separated values.\n",
    "\n",
    "- Basic Print --> `print(value)`\n",
    "- Formatted Strings (f-strings) --> `f\"string {expression}`\n",
    "- Using .format()  --> `\"string {}\".format(value)`\n",
    "- Concatenation --> `\"string\" + expression`\n",
    "- Formatted Output with Specific Width --> `f\"string {value:width.precision}`\n",
    "- Escape Characters \n",
    "- Printing Multiple Values --> `print(\"string\", value1, value2, ...)`\n",
    "- Printing without a Newline --> `print(\"string\", end=\"\")`\n",
    "- Printing with Separator --> `print(value1, value2, ..., sep=\"separator\")`\n",
    "- Printing Unicode Characters --> `print(\"\\uXXXX\")`"
   ]
  },
  {
   "cell_type": "code",
   "execution_count": 39,
   "id": "ffe2536c",
   "metadata": {},
   "outputs": [
    {
     "name": "stdout",
     "output_type": "stream",
     "text": [
      "Hello, World!\n",
      "My name is Alice and I am 30 years old.\n",
      "My name is Bob and I am 25 years old.\n",
      "The value of x is 10\n",
      "Formatted Number:   123.46\n",
      "Formatted Number:   123.46%\n",
      "This is a new line.\n",
      "This is another line.\n",
      "This is a tabbed line.\tThis is another tabbed line.\n",
      "The values are: 5 10\n",
      "Hello, World!\n",
      "apple, banana, cherry\n",
      "Ω\n"
     ]
    }
   ],
   "source": [
    "print(\"Hello, World!\") # basic\n",
    "\n",
    "name = \"Alice\"\n",
    "age = 30\n",
    "print(f\"My name is {name} and I am {age} years old.\") # Formatted Strings (f-strings)\n",
    "\n",
    "\n",
    "name = \"Bob\"\n",
    "age = 25\n",
    "print(\"My name is {} and I am {} years old.\".format(name, age))\n",
    "\n",
    "x = 10\n",
    "print(\"The value of x is \" + str(x))  # Note: str(x) converts x to a string for concatenation\n",
    "\n",
    "num = 123.456\n",
    "print(f\"Formatted Number: {num:8.2f}\")  # Output: \"Formatted Number:   123.46\"\n",
    "print(\"Formatted Number: {:8.2f}%\".format(num)) \n",
    "\n",
    "print(\"This is a new line.\\nThis is another line.\")  # \\n inserts a new line\n",
    "print(\"This is a tabbed line.\\tThis is another tabbed line.\")  # \\t inserts a tab\n",
    "\n",
    "x = 5\n",
    "y = 10\n",
    "print(\"The values are:\", x, y)  # Output: \"The values are: 5 10\"\n",
    "\n",
    "print(\"Hello, \", end=\"\")\n",
    "print(\"World!\")  # Output: \"Hello, World!\"\n",
    "\n",
    "print(\"apple\", \"banana\", \"cherry\", sep=\", \")  # Output: \"apple, banana, cherry\"\n",
    "\n",
    "print(\"\\u03A9\")  # Output: \"Ω\" (Unicode character)"
   ]
  },
  {
   "cell_type": "code",
   "execution_count": 40,
   "id": "3e2b1c48",
   "metadata": {},
   "outputs": [
    {
     "name": "stdout",
     "output_type": "stream",
     "text": [
      "Hello World\n",
      "Welcome to JavaTpoint\n",
      "JavaTpoint to Welcome\n",
      "Number one position is Java, T, and Point.\n",
      "Java :12, Tpoint :    0.55\n",
      "Second argument:  11, first one:   47.42\n",
      "Java:   453,  Tpoint:    59.06\n"
     ]
    }
   ],
   "source": [
    "print('{} {}'.format('Hello', 'World'))   \n",
    "    \n",
    "# using format() method and referring    \n",
    "# a position of the object   \n",
    "print('{0} to {1}'.format('Welcome', 'JavaTpoint'))   \n",
    "print('{1} to {0}'.format('Welcome', 'JavaTpoint'))  \n",
    "\n",
    "print('Number one position is {0}, {1}, and {other}.'.format('Java', 'T', other ='Point')) \n",
    "\n",
    "print(\"Java :{0:2d}, Tpoint :{1:8.2f}\".format(12, 00.546))  \n",
    "\n",
    "# Changing positional argument  \n",
    "print(\"Second argument: {1:3d}, first one: {0:7.2f}\". format(47.42, 11))\n",
    "\n",
    "print(\"Java: {a:5d},  Tpoint: {p:8.2f}\".format(a = 453, p = 59.058))  \n"
   ]
  },
  {
   "cell_type": "markdown",
   "id": "a1f31697",
   "metadata": {},
   "source": [
    "## Best Practices\n",
    "\n",
    "- **Use Virtual Environments**: Always work within a virtual environment to **avoid conflicts between different Python packages and versions**.\n",
    "\n",
    "- `python -m venv myenv` : This command creates a new virtual environment named `myenv` in the current directory. Virtual environments isolate our Python environment, allowing us to install and manage packages independently of the system Python installation. This helps avoid conflicts between different package versions and ensures a clean environment for each project.\n",
    "\n",
    "                        \n",
    "- **Keep Jupyter Kernels Updated** : Regularly update Jupyter kernels to benefit from the latest features and bug fixes.\n",
    "\n",
    "- `pip install ipykernel --upgrade` : updates the ipykernel package, which is used by Jupyter to manage different Python kernels. Keeping Jupyter kernels updated ensures that benefit from the latest features, bug fixes, and compatibility improvements. It's especially important when working with multiple projects or collaborators, as it helps maintain a consistent and reliable Jupyter environment.\n",
    "\n",
    "\n",
    "- **Document Environment Dependencies** : Maintain a `requirements.txt` file or `environment.yml` file to document and replicate the project environment.\n",
    "\n",
    "- `pip freeze > requirements.txt`: command generates a `requirements.txt` file that lists all the packages and their versions currently installed in our Python environment. This file serves as documentation for your project's dependencies, making it easier to replicate the environment on another machine or for future reference.\n",
    "\n",
    "- Alternatively, if we're using conda environments, we can use `conda env export --file environment.yml` to create an `environment.yml` file that captures the environment's configuration, including both Python packages and their dependencies."
   ]
  },
  {
   "cell_type": "markdown",
   "id": "48eb369b-7c9e-468a-a55f-1d7f3e83c7eb",
   "metadata": {},
   "source": [
    "## Create Conda Environment "
   ]
  },
  {
   "cell_type": "markdown",
   "id": "9e7a597d-727e-421e-b540-f590e03a2f3e",
   "metadata": {},
   "source": [
    "* python --version\n",
    "* conda create --help\n",
    "* conda create --name ml-learning    #create an environment\n",
    "* conda create -n python-learning python=3.11.7     #create an environment with a specific version of Python\n",
    "* conda create -n myenv scipy       #create a specific package\n",
    "* conda create -n myenv scipy=0.17.3     #create an specific package with version\n",
    "* activate  python-learning   # directory will change the base to a python-learning environment\n",
    "* deactivate python-learning\n",
    "* conda remove python-learning    # before removing please ensure it"
   ]
  },
  {
   "cell_type": "markdown",
   "id": "774b1dda-5142-4cfc-adc8-090aa14070be",
   "metadata": {},
   "source": [
    "### YAML file \n",
    "\n",
    "- A YAML file is a human-readable data serialization format commonly used for configuration files, data exchange, and defining data structures in various programming languages.\n",
    "- In Anaconda, a YAML file can be used as an environment configuration file to manage dependencies and create reproducible computing environments. This file is commonly known as an environment YAML file or `environment.yml` file. It specifies the packages and their versions that should be installed in a Conda environment.\n",
    "- Using an `environment.yml` file helps ensure that everyone working on a project has the same environment with consistent package versions, making it easier to collaborate and reproduce results."
   ]
  },
  {
   "cell_type": "markdown",
   "id": "1c6cea8c-166a-48ad-ac93-c4538f615098",
   "metadata": {},
   "source": [
    "- conda env create -f environment.yml\n",
    "- conda activate myenv #\n",
    "- conda env list # Verify that the new environment was installed correctly"
   ]
  },
  {
   "cell_type": "markdown",
   "id": "208a1ea0-f84e-4bd9-a2ba-abeed320a257",
   "metadata": {},
   "source": [
    "## Create virtual Environment \n",
    "- A virtual environment is a Python environment such that the Python interpreter, libraries and scripts installed into it are isolated from those installed in other virtual environments, and (by default) any libraries installed in a “system” Python, i.e., one which is installed as part of your operating system\n",
    "\n",
    "  \n",
    "- **For instance:** Consider this scenario: you are working on app A, using your system installed Python and you pip install packageX version 1.0 to your global Python library. Then you switch to project B on your local machine, and you install the same packageX but version 2.0, which has some breaking changes between version 1.0 and 2.0.\n",
    "- \n",
    "When you go back to run your app A, you get all sorts of errors, and your app does not run. This is a scenario you can run into when building software with Python. And to get around this, we can use virtual environments."
   ]
  }
 ],
 "metadata": {
  "kernelspec": {
   "display_name": "Python 3 (ipykernel)",
   "language": "python",
   "name": "python3"
  },
  "language_info": {
   "codemirror_mode": {
    "name": "ipython",
    "version": 3
   },
   "file_extension": ".py",
   "mimetype": "text/x-python",
   "name": "python",
   "nbconvert_exporter": "python",
   "pygments_lexer": "ipython3",
   "version": "3.11.7"
  }
 },
 "nbformat": 4,
 "nbformat_minor": 5
}
