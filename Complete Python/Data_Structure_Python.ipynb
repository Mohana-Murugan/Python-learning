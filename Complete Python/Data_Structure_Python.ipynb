{
 "cells": [
  {
   "cell_type": "markdown",
   "id": "1dad2e16",
   "metadata": {},
   "source": [
    "## Data Structure \n",
    "- Data Structures are a way of organizing data so that it can be accessed more efficiently depending upon the situation. \n",
    "- Data Structures are fundamentals of any programming language around which a program is built. \n",
    "- Python helps to learn the fundamental of these data structures in a simpler way as compared to other programming languages.\n",
    "\n",
    "### Linear Data Structures\n",
    "- Arrays\n",
    "    - Fixed size\n",
    "    - Fast access by index\n",
    "- Linked Lists\n",
    "    - Singly Linked List: Nodes with single forward pointer\n",
    "    - Doubly Linked List: Nodes with both forward and backward pointers\n",
    "    - Circular Linked List: Last node points back to the first node\n",
    "- Stacks\n",
    "    - LIFO (Last In First Out)\n",
    "    - Operations: Push, Pop, Peek\n",
    "- Queues\n",
    "    - FIFO (First In First Out)\n",
    "    - Operations: Enqueue, Dequeue\n",
    "    - Variants: Circular Queue, Priority Queue, Deque (Double-ended Queue)\n",
    "### Non-linear Data Structures\n",
    "- Trees\n",
    "    - Binary Tree: Each node has at most two children\n",
    "    - Binary Search Tree (BST): Left child < Parent < Right child\n",
    "    - AVL Tree: Self-balancing BST\n",
    "    - Red-Black Tree: Self-balancing BST with color properties\n",
    "    - Heap: Complete binary tree (Min-Heap, Max-Heap)\n",
    "    - Trie (Prefix Tree): Tree used for dynamic set of strings\n",
    "- Graphs\n",
    "    - Represented as a set of nodes (vertices) and edges\n",
    "    - Types: Directed, Undirected, Weighted, Unweighted\n",
    "    - Representations: Adjacency List, Adjacency Matrix\n",
    "- Hash Tables\n",
    "    - Key-value pairs\n",
    "    - Efficient lookups, insertions, deletions\n",
    "    - Collision handling: Separate Chaining, Open Addressing"
   ]
  },
  {
   "cell_type": "markdown",
   "id": "aae61205",
   "metadata": {},
   "source": [
    "## Algorithm\n",
    "- An algorithm is a step-by-step procedure or a set of rules designed to perform a specific task or solve a particular problem.\n",
    "- Algorithms are essential in computer science and mathematics, as they provide a clear method for solving problems in a finite amount of time.\n",
    "\n",
    "### Characteristics of Algorithms\n",
    "- **Finite**: An algorithm must always terminate after a finite number of steps.\n",
    "- **Definite**: Each step of the algorithm must be precisely defined and unambiguous.\n",
    "- **Input**: An algorithm has zero or more inputs, which are the initial data given before the algorithm starts.\n",
    "- **Output**: An algorithm has one or more outputs, which are the results produced by following the steps of the algorithm.\n",
    "- **Effective**: The steps of the algorithm must be basic enough to be performed, in principle, by a person using only pencil and paper. Each step must also be achievable in a finite amount of time.\n",
    "\n",
    "### Types of Algorithms\n",
    "- **Simple Recursive Algorithms**: Algorithms that solve the base case directly and solve the larger problem by breaking it down into smaller instances of the same problem.\n",
    "- **Backtracking Algorithms**: Algorithms that try different possibilities until a solution is found.\n",
    "- **Divide and Conquer Algorithms**: Algorithms that divide the problem into smaller subproblems, solve each subproblem recursively, and combine the solutions.\n",
    "- **Dynamic Programming Algorithms**: Algorithms that solve problems by breaking them down into simpler subproblems and storing the results of subproblems to avoid redundant computations.\n",
    "- **Greedy Algorithms**: Algorithms that make the locally optimal choice at each step with the hope of finding the global optimum.\n",
    "- **Brute Force Algorithms**: Algorithms that try all possible solutions to find the correct one.\n",
    "- **Randomized Algorithms**: Algorithms that use random numbers to influence the choices they make during their computation."
   ]
  },
  {
   "cell_type": "code",
   "execution_count": null,
   "id": "046b0bfe",
   "metadata": {},
   "outputs": [],
   "source": []
  }
 ],
 "metadata": {
  "kernelspec": {
   "display_name": "Python 3 (ipykernel)",
   "language": "python",
   "name": "python3"
  },
  "language_info": {
   "codemirror_mode": {
    "name": "ipython",
    "version": 3
   },
   "file_extension": ".py",
   "mimetype": "text/x-python",
   "name": "python",
   "nbconvert_exporter": "python",
   "pygments_lexer": "ipython3",
   "version": "3.11.7"
  }
 },
 "nbformat": 4,
 "nbformat_minor": 5
}
