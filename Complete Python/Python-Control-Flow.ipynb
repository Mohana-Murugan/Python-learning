{
 "cells": [
  {
   "cell_type": "markdown",
   "id": "795aaa96",
   "metadata": {},
   "source": [
    "## Control Flow \n",
    "    1. If Statements \n",
    "    2. For statements \n",
    "    3. Range\n",
    "    4. Break, Continue and Else\n",
    "    5. Pass\n",
    "    6. Match\n",
    "    7. Functions\n",
    "    8. More about Functions"
   ]
  },
  {
   "cell_type": "markdown",
   "id": "10cbddaf",
   "metadata": {},
   "source": [
    "## If Statements\n",
    "\n",
    "- `if` statement in Python is used for conditional execution. It allows you to run a block of code only if a specified condition is true.\n",
    "- `else` statement to execute a different block of code when the condition is false\n",
    "-  `elif` (short for \"else if\") to check multiple conditions"
   ]
  },
  {
   "cell_type": "code",
   "execution_count": 53,
   "id": "c5244af1-401e-4711-b111-314f408e0082",
   "metadata": {},
   "outputs": [
    {
     "name": "stdout",
     "output_type": "stream",
     "text": [
      "x is greater than 5\n"
     ]
    }
   ],
   "source": [
    "x=10\n",
    "if(x>5):\n",
    "    print('x is greater than 5')\n",
    "\n",
    "x=10\n",
    "if(x>15):\n",
    "    print('x is greater than 5')"
   ]
  },
  {
   "cell_type": "code",
   "execution_count": 54,
   "id": "e38655ed-9d1a-466d-b7a9-8d624c22a4c1",
   "metadata": {},
   "outputs": [
    {
     "name": "stdout",
     "output_type": "stream",
     "text": [
      "x is not greater than 5\n"
     ]
    }
   ],
   "source": [
    "# if-else statement\n",
    "x = 3\n",
    "if x > 5:\n",
    "    print(\"x is greater than 5\")\n",
    "else:\n",
    "    print(\"x is not greater than 5\")"
   ]
  },
  {
   "cell_type": "code",
   "execution_count": 55,
   "id": "ecf38963-6f91-4ed9-9848-6f6ce5794c0d",
   "metadata": {},
   "outputs": [
    {
     "name": "stdout",
     "output_type": "stream",
     "text": [
      "x is greater than 5 but not greater than 10\n"
     ]
    }
   ],
   "source": [
    "# if-elif-else statement\n",
    "x = 7\n",
    "if x > 10:\n",
    "    print(\"x is greater than 10\")\n",
    "elif x > 5:\n",
    "    print(\"x is greater than 5 but not greater than 10\")\n",
    "else:\n",
    "    print(\"x is 5 or less\")"
   ]
  },
  {
   "cell_type": "code",
   "execution_count": 56,
   "id": "2e7187ad",
   "metadata": {},
   "outputs": [
    {
     "name": "stdout",
     "output_type": "stream",
     "text": [
      "Enter the marks?45\n",
      "You scored grade B\n"
     ]
    }
   ],
   "source": [
    "marks=int(input(\"Enter the marks?\"))\n",
    "\n",
    "if marks>85 and marks<=100:\n",
    "    print(\"Congrats! you scored grade A\")\n",
    "elif marks >60 and marks<=85:\n",
    "    print('You scored grade B+')\n",
    "elif marks >40 and marks <=60:\n",
    "    print('You scored grade B')\n",
    "elif (marks >30 and marks <=40):\n",
    "    print('You scored grade C')\n",
    "else:\n",
    "    print('Sorry, you are failed')"
   ]
  },
  {
   "cell_type": "markdown",
   "id": "150c71a8",
   "metadata": {},
   "source": [
    "### Nested If statement"
   ]
  },
  {
   "cell_type": "code",
   "execution_count": 57,
   "id": "502f38be",
   "metadata": {},
   "outputs": [
    {
     "name": "stdout",
     "output_type": "stream",
     "text": [
      "Amount= 2500\n",
      "Payable amount= 2375.0\n"
     ]
    }
   ],
   "source": [
    "amount =2500\n",
    "print ('Amount=',amount)\n",
    "if amount >10000:\n",
    "    discount=amount*20 /100\n",
    "else:\n",
    "    if amount>5000:\n",
    "        discount=amount * 10 /100\n",
    "    else:\n",
    "        if amount>1000:\n",
    "            discount =amount*5/100\n",
    "        else:\n",
    "            discount=0\n",
    "print('Payable amount=', amount-discount)"
   ]
  },
  {
   "cell_type": "code",
   "execution_count": 58,
   "id": "0348e8eb",
   "metadata": {},
   "outputs": [
    {
     "name": "stdout",
     "output_type": "stream",
     "text": [
      "Amount= 4500\n",
      "Payable amount= 4275.0\n"
     ]
    }
   ],
   "source": [
    "amount =4500\n",
    "print ('Amount=',amount)\n",
    "if amount >10000:\n",
    "    discount=amount*20 /100\n",
    "elif amount>5000:\n",
    "    discount=amount * 10 /100\n",
    "elif amount>1000:\n",
    "    discount =amount*5/100\n",
    "else:\n",
    "    discount=0\n",
    "print('Payable amount=', amount-discount)"
   ]
  },
  {
   "cell_type": "markdown",
   "id": "b40d0bab",
   "metadata": {},
   "source": [
    "### Single statement Suits"
   ]
  },
  {
   "cell_type": "code",
   "execution_count": 59,
   "id": "84d12c1d",
   "metadata": {},
   "outputs": [
    {
     "name": "stdout",
     "output_type": "stream",
     "text": [
      "Values of expression is 100\n",
      "Thank you!\n",
      "Thank you!\n"
     ]
    }
   ],
   "source": [
    "var =100\n",
    "if(var==100): print('Values of expression is 100')\n",
    "print (\"Thank you!\")\n",
    "\n",
    "var =100\n",
    "if(var==10): print('Values of expression is 100')\n",
    "print (\"Thank you!\")"
   ]
  },
  {
   "cell_type": "markdown",
   "id": "a8fc8582-a73f-49f8-9392-261dacb26e76",
   "metadata": {},
   "source": [
    "## For Statement \n",
    "- `for` statement in Python is used for iterating over a sequence (such as a list, tuple, string, or range) or any iterable object. It executes a block of code repeatedly for each item in the sequence.\n",
    "- `range(start, stop , step_size)` function to generate a sequence of numbers within a specified range\n",
    "- iterate over `strings`\n",
    "- combine for loops with `if statements` for more complex iterations and conditional processing within the loop"
   ]
  },
  {
   "cell_type": "code",
   "execution_count": 60,
   "id": "fcfe486c-5828-4c6e-8e65-864bdf0eb2c5",
   "metadata": {},
   "outputs": [
    {
     "name": "stdout",
     "output_type": "stream",
     "text": [
      "2\n",
      "3\n",
      "5\n"
     ]
    }
   ],
   "source": [
    "for i in [2,3,5]:\n",
    "    print(i)"
   ]
  },
  {
   "cell_type": "code",
   "execution_count": 61,
   "id": "774d630e",
   "metadata": {},
   "outputs": [
    {
     "name": "stdout",
     "output_type": "stream",
     "text": [
      "1\n",
      "2\n",
      "3\n",
      "4\n",
      "5\n",
      "6\n",
      "7\n",
      "8\n",
      "9\n"
     ]
    }
   ],
   "source": [
    "for i in range(1,10):\n",
    "    print(i)"
   ]
  },
  {
   "cell_type": "code",
   "execution_count": 62,
   "id": "e6897d5d",
   "metadata": {},
   "outputs": [
    {
     "name": "stdout",
     "output_type": "stream",
     "text": [
      "1\n",
      "3\n",
      "5\n",
      "7\n",
      "9\n",
      "--------------------\n",
      "4\n",
      "6\n",
      "8\n"
     ]
    }
   ],
   "source": [
    "for i in range(1,10,2):\n",
    "    print(i)\n",
    "print('--------------------')\n",
    "for i in range(4,10,2):\n",
    "    print(i)"
   ]
  },
  {
   "cell_type": "code",
   "execution_count": 63,
   "id": "863fdfa5",
   "metadata": {},
   "outputs": [
    {
     "name": "stdout",
     "output_type": "stream",
     "text": [
      "W\n",
      "e\n",
      "l\n",
      "c\n",
      "o\n",
      "m\n",
      "e\n",
      " \n",
      "t\n",
      "o\n",
      " \n",
      "p\n",
      "y\n",
      "t\n",
      "h\n",
      "o\n",
      "n\n",
      " \n",
      "l\n",
      "e\n",
      "a\n",
      "r\n",
      "n\n",
      "i\n",
      "n\n",
      "g\n"
     ]
    }
   ],
   "source": [
    "for item in \"Welcome to python learning\":\n",
    "    print(item)"
   ]
  },
  {
   "cell_type": "code",
   "execution_count": 64,
   "id": "2522cad1",
   "metadata": {},
   "outputs": [
    {
     "name": "stdout",
     "output_type": "stream",
     "text": [
      "apple\n",
      "orange\n",
      "Mango\n",
      "-------------------------------\n",
      "APPLE\n",
      "ORANGE\n",
      "MANGO\n",
      "-------------------------------\n",
      "Apple\n",
      "Orange\n",
      "Mango\n",
      "Iterated all elements\n"
     ]
    }
   ],
   "source": [
    "fruits=(\"apple\",\"orange\",\"Mango\")\n",
    "for i in range(len(fruits)):\n",
    "    print(fruits[i])\n",
    "print('-------------------------------')\n",
    "    \n",
    "fruits=(\"apple\",\"orange\",\"Mango\")\n",
    "for i in range(len(fruits)):\n",
    "    print(fruits[i].upper())\n",
    "    \n",
    "print('-------------------------------')\n",
    "    \n",
    "fruits=(\"apple\",\"orange\",\"Mango\")\n",
    "for i in range(len(fruits)):\n",
    "    print(fruits[i].capitalize())\n",
    "else:\n",
    "    print(\"Iterated all elements\")"
   ]
  },
  {
   "cell_type": "code",
   "execution_count": 65,
   "id": "e731e6f2",
   "metadata": {},
   "outputs": [
    {
     "name": "stdout",
     "output_type": "stream",
     "text": [
      "1 is odd number\n",
      "2 is even number\n",
      "3 is odd number\n",
      "4 is even number\n",
      "5 is odd number\n"
     ]
    }
   ],
   "source": [
    "number=[1,2,3,4,5]\n",
    "for num in number:\n",
    "    if num % 2==0:\n",
    "        print(f\"{num} is even number\")\n",
    "    else:\n",
    "        print(f\"{num} is odd number\")"
   ]
  },
  {
   "cell_type": "code",
   "execution_count": 66,
   "id": "dc0096a9",
   "metadata": {},
   "outputs": [
    {
     "name": "stdout",
     "output_type": "stream",
     "text": [
      "*****\n",
      "*****\n",
      "*****\n",
      "*****\n",
      "*****\n"
     ]
    }
   ],
   "source": [
    "for i in range(1,6):\n",
    "    for j in range (1,6):\n",
    "        print(\"*\", end=\"\")\n",
    "    print(\"\\n\", end=\"\")"
   ]
  },
  {
   "cell_type": "code",
   "execution_count": 67,
   "id": "626b3b61",
   "metadata": {},
   "outputs": [
    {
     "name": "stdout",
     "output_type": "stream",
     "text": [
      "12345\n",
      "2345\n",
      "345\n",
      "45\n",
      "5\n"
     ]
    }
   ],
   "source": [
    "for i in range(1,6):\n",
    "    for j in range (i,6):\n",
    "            print(j, end=\"\")\n",
    "    print(\"\\n\", end=\"\")"
   ]
  },
  {
   "cell_type": "code",
   "execution_count": 68,
   "id": "27528a23",
   "metadata": {},
   "outputs": [
    {
     "name": "stdout",
     "output_type": "stream",
     "text": [
      "0 Mary\n",
      "1 had\n",
      "2 a\n",
      "3 little\n",
      "4 lamb\n",
      "---------------------------------\n",
      "Mary\n",
      "had\n",
      "a\n",
      "little\n",
      "lamb\n"
     ]
    }
   ],
   "source": [
    "a = ['Mary', 'had', 'a', 'little', 'lamb']\n",
    "for i in range(len(a)):\n",
    "    print(i, a[i])\n",
    "\n",
    "print('---------------------------------')\n",
    "    \n",
    "for i in a:\n",
    "    print(i)"
   ]
  },
  {
   "cell_type": "markdown",
   "id": "306a2835",
   "metadata": {},
   "source": [
    "### For in dictionaries "
   ]
  },
  {
   "cell_type": "code",
   "execution_count": 69,
   "id": "6f3ce5e8",
   "metadata": {},
   "outputs": [
    {
     "name": "stdout",
     "output_type": "stream",
     "text": [
      "10\n",
      "20\n"
     ]
    }
   ],
   "source": [
    "numbers={'10':\"Ten\", '20':\"Twenty\"}\n",
    "\n",
    "for i in numbers:\n",
    "    print(i)"
   ]
  },
  {
   "cell_type": "code",
   "execution_count": 70,
   "id": "383b3dee",
   "metadata": {},
   "outputs": [
    {
     "name": "stdout",
     "output_type": "stream",
     "text": [
      "10 : Ten\n",
      "20 : Twenty\n"
     ]
    }
   ],
   "source": [
    "numbers={'10':\"Ten\", '20':\"Twenty\"}\n",
    "\n",
    "for i in numbers:\n",
    "    print(i,\":\",numbers[i])"
   ]
  },
  {
   "cell_type": "code",
   "execution_count": 71,
   "id": "693bbbe7",
   "metadata": {},
   "outputs": [
    {
     "name": "stdout",
     "output_type": "stream",
     "text": [
      "('10', 'Ten')\n",
      "('20', 'Twenty')\n"
     ]
    }
   ],
   "source": [
    "numbers={'10':\"Ten\", '20':\"Twenty\"}\n",
    "\n",
    "for i in numbers.items():\n",
    "    print(i) # tuple element "
   ]
  },
  {
   "cell_type": "code",
   "execution_count": 72,
   "id": "c8693dad",
   "metadata": {},
   "outputs": [
    {
     "name": "stdout",
     "output_type": "stream",
     "text": [
      "10 : Ten\n",
      "20 : Twenty\n"
     ]
    }
   ],
   "source": [
    "numbers={'10':\"Ten\", '20':\"Twenty\"}\n",
    "\n",
    "for i,j in numbers.items():\n",
    "    print(i,\":\",j) # tuple element "
   ]
  },
  {
   "cell_type": "code",
   "execution_count": 73,
   "id": "a16a822a",
   "metadata": {},
   "outputs": [
    {
     "name": "stdout",
     "output_type": "stream",
     "text": [
      "10 : Ten\n",
      "20 : Twenty\n"
     ]
    }
   ],
   "source": [
    "numbers={'10':\"Ten\", '20':\"Twenty\"}\n",
    "\n",
    "for i in numbers.keys():\n",
    "    print(i,\":\", numbers[i])"
   ]
  },
  {
   "cell_type": "markdown",
   "id": "fa1e7fa6",
   "metadata": {},
   "source": [
    "## While Loop\n",
    "- Repeats a statement or group of statements while a given condition is TRUE.\n",
    "- It tests the condition before executing the loop body"
   ]
  },
  {
   "cell_type": "code",
   "execution_count": 74,
   "id": "ed37878e",
   "metadata": {},
   "outputs": [
    {
     "name": "stdout",
     "output_type": "stream",
     "text": [
      "1\n",
      "2\n",
      "3\n",
      "4\n",
      "5\n",
      "6\n",
      "7\n",
      "8\n",
      "9\n"
     ]
    }
   ],
   "source": [
    "i=1\n",
    "while(i<10):\n",
    "    print(i)\n",
    "    i+=1"
   ]
  },
  {
   "cell_type": "code",
   "execution_count": 75,
   "id": "2346ce55",
   "metadata": {},
   "outputs": [
    {
     "name": "stdout",
     "output_type": "stream",
     "text": [
      "5\n",
      "6\n",
      "7\n",
      "8\n",
      "9\n",
      "loop ends\n"
     ]
    }
   ],
   "source": [
    "number=5\n",
    "while (number<10):\n",
    "    print(number)\n",
    "    number+=1\n",
    "else:\n",
    "    print(\"loop ends\")"
   ]
  },
  {
   "cell_type": "markdown",
   "id": "d414ce28",
   "metadata": {},
   "source": [
    "## Sentinel Controlled Statement\n",
    "\n",
    "- we do not use any counter variable because we do not know how many times the loop will execute. \n",
    "- Here user decides how many times he/she wants to execute the loop\n",
    "- For this, we use a sentinel value which means value that is used to terminate a loop whenever a user enters it, generally, the sentinel value is -1"
   ]
  },
  {
   "cell_type": "code",
   "execution_count": 76,
   "id": "aa1cf1ef",
   "metadata": {},
   "outputs": [
    {
     "name": "stdout",
     "output_type": "stream",
     "text": [
      "Enter a number (-1 to quit):34\n",
      "Enter a number (-1 to quit):56\n",
      "Enter a number (-1 to quit):-1\n"
     ]
    }
   ],
   "source": [
    "a=int(input('Enter a number (-1 to quit):'))\n",
    "\n",
    "while a!=-1:\n",
    "    a=int(input('Enter a number (-1 to quit):'))"
   ]
  },
  {
   "cell_type": "code",
   "execution_count": 77,
   "id": "12477b2c",
   "metadata": {},
   "outputs": [
    {
     "name": "stdout",
     "output_type": "stream",
     "text": [
      "count is 1\n",
      "count is 2\n",
      "count is 3\n",
      "count is 4\n",
      "count is 5\n",
      "count is 6\n",
      "count is 7\n",
      "count is 8\n",
      "count is 9\n",
      "count is 10\n",
      "The loop has ended.\n"
     ]
    }
   ],
   "source": [
    "count = 0\n",
    "while True:\n",
    "    count+=1\n",
    "    print(f'count is {count}')\n",
    "    \n",
    "    if count ==10:\n",
    "        break\n",
    "print('The loop has ended.')"
   ]
  },
  {
   "cell_type": "code",
   "execution_count": 78,
   "id": "f6b6c1cd",
   "metadata": {},
   "outputs": [
    {
     "name": "stdout",
     "output_type": "stream",
     "text": [
      "4\n",
      "3\n",
      "2\n",
      "1\n"
     ]
    }
   ],
   "source": [
    "a=[1,2,3,4]\n",
    "while a:\n",
    "    print(a.pop())"
   ]
  },
  {
   "cell_type": "markdown",
   "id": "c34d9bf0",
   "metadata": {},
   "source": [
    "### Single statement, Separated by semicolon(;)"
   ]
  },
  {
   "cell_type": "code",
   "execution_count": 79,
   "id": "ab21111d",
   "metadata": {},
   "outputs": [
    {
     "name": "stdout",
     "output_type": "stream",
     "text": [
      "10\n",
      "9\n",
      "8\n",
      "7\n",
      "6\n"
     ]
    }
   ],
   "source": [
    "number=10\n",
    "\n",
    "while(number>5):print(number);number-=1"
   ]
  },
  {
   "cell_type": "markdown",
   "id": "d4a489ce",
   "metadata": {},
   "source": [
    "## Nested Loop\n",
    "- We can iterate a loop inside another loop"
   ]
  },
  {
   "cell_type": "code",
   "execution_count": 80,
   "id": "06ad0008",
   "metadata": {},
   "outputs": [
    {
     "name": "stdout",
     "output_type": "stream",
     "text": [
      "AAAAA\n",
      "BBBB\n",
      "CCC\n",
      "DD\n",
      "E\n"
     ]
    }
   ],
   "source": [
    "for i in range(65,70):\n",
    "    for j in range (i,70):\n",
    "        print(chr(i),end=\"\")\n",
    "    print(\"\\n\",end=\"\")"
   ]
  },
  {
   "cell_type": "code",
   "execution_count": 81,
   "id": "977ef23e",
   "metadata": {},
   "outputs": [
    {
     "name": "stdout",
     "output_type": "stream",
     "text": [
      "AAAAA\n",
      "BBBB\n",
      "CCC\n",
      "DD\n",
      "E\n"
     ]
    }
   ],
   "source": [
    "i=65\n",
    "while (i<70):\n",
    "    j=i\n",
    "    while (j<70):\n",
    "        print(chr(i), end=\"\")\n",
    "        j+=1\n",
    "    print(\"\\n\", end=\"\")\n",
    "    i+=1"
   ]
  },
  {
   "cell_type": "markdown",
   "id": "f9bcaa1c",
   "metadata": {},
   "source": [
    "## Break Statement\n",
    "- Terminates the loop's execution and transfers the program control to the statement next to the loop"
   ]
  },
  {
   "cell_type": "code",
   "execution_count": 82,
   "id": "564b09d9",
   "metadata": {},
   "outputs": [],
   "source": [
    "for string in \"python learning\":\n",
    "    if string == 'o' or string =='p' or string =='t':\n",
    "        break\n",
    "    else:\n",
    "        print(f'Current Letter:{string}')"
   ]
  },
  {
   "cell_type": "code",
   "execution_count": 83,
   "id": "e838863c",
   "metadata": {},
   "outputs": [
    {
     "name": "stdout",
     "output_type": "stream",
     "text": [
      "1    3    5    7    9    11    13    15    17    19  "
     ]
    }
   ],
   "source": [
    "for i in range (1,20):\n",
    "    for i in range(i,20):\n",
    "        if (i%2==0):\n",
    "            break\n",
    "        else:\n",
    "            print(i,end=\"\")\n",
    "    print(\" \", end=\" \")"
   ]
  },
  {
   "cell_type": "markdown",
   "id": "5d78d274",
   "metadata": {},
   "source": [
    "## Continue Statement\n",
    "- Command skip the iteration of the loop.\n",
    "- statements following the continue statement are not executed once the Python interpreter reaches the continue statement"
   ]
  },
  {
   "cell_type": "code",
   "execution_count": 84,
   "id": "10e2b8d7",
   "metadata": {},
   "outputs": [
    {
     "name": "stdout",
     "output_type": "stream",
     "text": [
      "Current Letter:y\n",
      "Current Letter:h\n",
      "Current Letter:n\n",
      "Current Letter: \n",
      "Current Letter:l\n",
      "Current Letter:e\n",
      "Current Letter:a\n",
      "Current Letter:r\n",
      "Current Letter:n\n",
      "Current Letter:i\n",
      "Current Letter:n\n",
      "Current Letter:g\n"
     ]
    }
   ],
   "source": [
    "for string in \"python learning\":\n",
    "    if string == 'o' or string =='p' or string =='t':\n",
    "        continue\n",
    "        print(\"Hai\") # not executed \n",
    "    print(f'Current Letter:{string}')"
   ]
  },
  {
   "cell_type": "markdown",
   "id": "a660d8c0",
   "metadata": {},
   "source": [
    "## Pass Statement\n",
    "- Pass statement used when a statement is syntactically necessary, but no code is to be executed\n",
    "- Used to create empty loops, also employed for classes, function, and empty control statements"
   ]
  },
  {
   "cell_type": "code",
   "execution_count": 85,
   "id": "de205170",
   "metadata": {},
   "outputs": [
    {
     "name": "stdout",
     "output_type": "stream",
     "text": [
      "Last value 9\n"
     ]
    }
   ],
   "source": [
    "for i in range(1,10):\n",
    "    pass\n",
    "print(f\"Last value {i}\")"
   ]
  },
  {
   "cell_type": "markdown",
   "id": "7b455630",
   "metadata": {},
   "source": [
    "## More about Loops"
   ]
  },
  {
   "cell_type": "code",
   "execution_count": 86,
   "id": "5e6676b6",
   "metadata": {},
   "outputs": [
    {
     "name": "stdout",
     "output_type": "stream",
     "text": [
      "The sum of squre is 130\n"
     ]
    }
   ],
   "source": [
    "number = [2,4,5,6,7]\n",
    "sum1=0\n",
    "for num in number:\n",
    "    sum1=sum1+num**2\n",
    "print(f'The sum of squre is {sum1}')"
   ]
  },
  {
   "cell_type": "code",
   "execution_count": 87,
   "id": "20606020",
   "metadata": {},
   "outputs": [
    {
     "name": "stdout",
     "output_type": "stream",
     "text": [
      "The sum of squre is 30\n"
     ]
    }
   ],
   "source": [
    "number = [2,4,5,6,7]\n",
    "sum1=0\n",
    "for num in range(len(number)):\n",
    "    sum1=sum1+num**2\n",
    "print(f'The sum of squre is {sum1}')"
   ]
  },
  {
   "cell_type": "markdown",
   "id": "081b3a9c",
   "metadata": {},
   "source": [
    "## Match-Case Statement \n",
    "- Similar to switch statement in other programming language"
   ]
  },
  {
   "cell_type": "code",
   "execution_count": 88,
   "id": "69fdc1ac",
   "metadata": {},
   "outputs": [
    {
     "name": "stdout",
     "output_type": "stream",
     "text": [
      "Thuresday\n",
      "Saturday\n",
      "None\n"
     ]
    }
   ],
   "source": [
    "def weekdays(n):\n",
    "    match n:\n",
    "        case 0: return \"Monaday\"\n",
    "        case 1: return \"Tuesday\"\n",
    "        case 2: return \"Wednessday\"\n",
    "        case 3: return \"Thuresday\"\n",
    "        case 4: return \"Friday\"\n",
    "        case 5: return \"Saturday\"\n",
    "        case 6: return \"Sunday\"\n",
    "print(weekdays(3))\n",
    "print(weekdays(5))\n",
    "print(weekdays(7))"
   ]
  },
  {
   "cell_type": "code",
   "execution_count": 89,
   "id": "78b89474",
   "metadata": {},
   "outputs": [
    {
     "name": "stdout",
     "output_type": "stream",
     "text": [
      "It is not vowels\n",
      "It is vowels\n"
     ]
    }
   ],
   "source": [
    "def vowels(n):\n",
    "    match n:\n",
    "        case 'A': return \"It is vowels\"\n",
    "        case 'E': return \"It is vowels\"\n",
    "        case 'I': return \"It is vowels\"\n",
    "        case 'O': return \"It is vowels\"\n",
    "        case 'U': return \"It is vowels\"\n",
    "        case _: return 'It is not vowels'\n",
    "print(vowels('k'))\n",
    "print(vowels('E'))"
   ]
  },
  {
   "cell_type": "markdown",
   "id": "637ff06a",
   "metadata": {},
   "source": [
    "Note the last block: the “variable name” _ acts as a wildcard and never fails to match. If no case matches, none of the branches is executed."
   ]
  },
  {
   "cell_type": "code",
   "execution_count": 90,
   "id": "982bf03a",
   "metadata": {},
   "outputs": [
    {
     "name": "stdout",
     "output_type": "stream",
     "text": [
      "Full access\n",
      "Limited access\n",
      "Enter your preferences: user\n",
      "No access\n"
     ]
    }
   ],
   "source": [
    "def access(user):\n",
    "    match user:\n",
    "        case \"admin\" | \"manager\": return \"Full access\"\n",
    "        case \"Guest\": return \"Limited access\"\n",
    "        case _: return \"No access\"\n",
    "print(access(\"manager\"))\n",
    "print(access(\"Guest\"))\n",
    "user1=str(input(\"Enter your preferences: \"))\n",
    "print(access(user1))"
   ]
  },
  {
   "cell_type": "code",
   "execution_count": 91,
   "id": "adb7d397",
   "metadata": {},
   "outputs": [
    {
     "name": "stdout",
     "output_type": "stream",
     "text": [
      "good Morning Priya!\n",
      "good Afternoon Riya!\n",
      "Good Morning Priya!\n",
      "Good Morning Ram!\n",
      "Good Morning Manoj!\n",
      "\n"
     ]
    }
   ],
   "source": [
    "# same way we can use set also (x,y)\n",
    "def greeting(details):\n",
    "    match details:\n",
    "        case [item, name]:\n",
    "            return f'good {item} {name}!'\n",
    "        case [time, *names]:\n",
    "            msg=''\n",
    "            for name in names:\n",
    "                msg+=f'Good {time} {name}!\\n'\n",
    "            return msg\n",
    "print (greeting([\"Morning\",\"Priya\"]))\n",
    "print (greeting([\"Afternoon\",\"Riya\"]))\n",
    "print (greeting([\"Morning\",\"Priya\", \"Ram\",\"Manoj\"]))"
   ]
  },
  {
   "cell_type": "code",
   "execution_count": 92,
   "id": "84e07e90",
   "metadata": {},
   "outputs": [
    {
     "name": "stdout",
     "output_type": "stream",
     "text": [
      "Interest= 2500.0\n",
      "Interest= 6750.0\n"
     ]
    }
   ],
   "source": [
    "def intr(details):\n",
    "    match details:\n",
    "        case [amt,duration] if amt<10000:\n",
    "            return amt*10*duration/100\n",
    "        case [amt, duration] if amt>=10000:\n",
    "            return amt*15*duration/100\n",
    "print(\"Interest=\", intr([5000,5]))\n",
    "print(\"Interest=\", intr([15000,3]))"
   ]
  },
  {
   "cell_type": "markdown",
   "id": "8c1bc54e",
   "metadata": {},
   "source": [
    "## Functions \n",
    "- Python function is a block organized, resusable code that is used to perform a single, related action\n",
    "- Function may be invoked from any other function by passing required data (called parameters or arguments)\n",
    "- Called function returns its result back to the calling environment\n",
    "\n",
    "### Types of Python Functions\n",
    "- Built-in functions  (print(),len(),sum() etc.,)\n",
    "- Functions defined in built-in modules\n",
    "- User-defined functions\n",
    "\n",
    "### Some Benefits of Using Functions\n",
    "\n",
    "- Increase Code Readability \n",
    "- Increase Code Reusability"
   ]
  },
  {
   "cell_type": "markdown",
   "id": "1881adb7",
   "metadata": {},
   "source": [
    "## Built-in Functions\n",
    "\n",
    "- Built-in functions in Python are pre-defined functions provided by the Python language that can be used to perform common tasks.\n",
    "- Access all function [click here.!](https://docs.python.org/3/library/functions.html)"
   ]
  },
  {
   "cell_type": "code",
   "execution_count": 93,
   "id": "84bea654",
   "metadata": {},
   "outputs": [
    {
     "name": "stdout",
     "output_type": "stream",
     "text": [
      "['ArithmeticError', 'AssertionError', 'AttributeError', 'BaseException', 'BaseExceptionGroup', 'BlockingIOError', 'BrokenPipeError', 'BufferError', 'BytesWarning', 'ChildProcessError', 'ConnectionAbortedError', 'ConnectionError', 'ConnectionRefusedError', 'ConnectionResetError', 'DeprecationWarning', 'EOFError', 'Ellipsis', 'EncodingWarning', 'EnvironmentError', 'Exception', 'ExceptionGroup', 'False', 'FileExistsError', 'FileNotFoundError', 'FloatingPointError', 'FutureWarning', 'GeneratorExit', 'IOError', 'ImportError', 'ImportWarning', 'IndentationError', 'IndexError', 'InterruptedError', 'IsADirectoryError', 'KeyError', 'KeyboardInterrupt', 'LookupError', 'MemoryError', 'ModuleNotFoundError', 'NameError', 'None', 'NotADirectoryError', 'NotImplemented', 'NotImplementedError', 'OSError', 'OverflowError', 'PendingDeprecationWarning', 'PermissionError', 'ProcessLookupError', 'RecursionError', 'ReferenceError', 'ResourceWarning', 'RuntimeError', 'RuntimeWarning', 'StopAsyncIteration', 'StopIteration', 'SyntaxError', 'SyntaxWarning', 'SystemError', 'SystemExit', 'TabError', 'TimeoutError', 'True', 'TypeError', 'UnboundLocalError', 'UnicodeDecodeError', 'UnicodeEncodeError', 'UnicodeError', 'UnicodeTranslateError', 'UnicodeWarning', 'UserWarning', 'ValueError', 'Warning', 'WindowsError', 'ZeroDivisionError', '__IPYTHON__', '__build_class__', '__debug__', '__doc__', '__import__', '__loader__', '__name__', '__package__', '__spec__', 'abs', 'aiter', 'all', 'anext', 'any', 'ascii', 'bin', 'bool', 'breakpoint', 'bytearray', 'bytes', 'callable', 'chr', 'classmethod', 'compile', 'complex', 'copyright', 'credits', 'delattr', 'dict', 'dir', 'display', 'divmod', 'enumerate', 'eval', 'exec', 'execfile', 'filter', 'float', 'format', 'frozenset', 'get_ipython', 'getattr', 'globals', 'hasattr', 'hash', 'help', 'hex', 'id', 'input', 'int', 'isinstance', 'issubclass', 'iter', 'len', 'license', 'list', 'locals', 'map', 'max', 'memoryview', 'min', 'next', 'object', 'oct', 'open', 'ord', 'pow', 'print', 'property', 'range', 'repr', 'reversed', 'round', 'runfile', 'set', 'setattr', 'slice', 'sorted', 'staticmethod', 'str', 'sum', 'super', 'tuple', 'type', 'vars', 'zip']\n"
     ]
    }
   ],
   "source": [
    "import builtins\n",
    "print(dir(builtins))"
   ]
  },
  {
   "cell_type": "code",
   "execution_count": 94,
   "id": "0f43259f",
   "metadata": {},
   "outputs": [
    {
     "name": "stdout",
     "output_type": "stream",
     "text": [
      "5\n",
      "------------------------------------\n",
      "4\n",
      "4\n",
      "1\n",
      "------------------------------------\n",
      "14\n",
      "-----------------------------------\n",
      "4\n"
     ]
    }
   ],
   "source": [
    "list1 = ['hi','how','are','you','2024']\n",
    "print(len(list1))\n",
    "print('------------------------------------')\n",
    " \n",
    "tuple1 = (1,2,3,4)\n",
    "# printing length of tuple1\n",
    "print(len(tuple1))\n",
    "print(max(tuple1))\n",
    "print(min(tuple1))\n",
    "\n",
    "print('------------------------------------')\n",
    " \n",
    "string1 = \"pythonlearning\"\n",
    "# printing length of string1\n",
    "print(len(string1))\n",
    "\n",
    "print('-----------------------------------')\n",
    "print(round(3.5673))"
   ]
  },
  {
   "cell_type": "code",
   "execution_count": 95,
   "id": "d484baa3",
   "metadata": {},
   "outputs": [
    {
     "name": "stdout",
     "output_type": "stream",
     "text": [
      "Length of the list: 5\n",
      "Maximum value in the list: 20\n",
      "Minimum value in the list: 5\n",
      "Enter your name: mona\n",
      "Hello, mona\n",
      "Rounded pi: 3.14\n",
      "0 apple\n",
      "1 banana\n",
      "2 cherry\n"
     ]
    }
   ],
   "source": [
    "# Using various built-in functions\n",
    "numbers = [10, 5, 8, 20, 15]\n",
    "\n",
    "# Find the length of the list\n",
    "length = len(numbers)\n",
    "print(\"Length of the list:\", length)\n",
    "\n",
    "\n",
    "# Find the maximum and minimum values in the list\n",
    "max_value = max(numbers)\n",
    "min_value = min(numbers)\n",
    "print(\"Maximum value in the list:\", max_value)\n",
    "print(\"Minimum value in the list:\", min_value)\n",
    "\n",
    "# Read input from the user\n",
    "name = input(\"Enter your name: \")\n",
    "print(\"Hello,\", name)\n",
    "\n",
    "# Round a number to two decimal places\n",
    "pi = 3.14159\n",
    "rounded_pi = round(pi, 2)\n",
    "print(\"Rounded pi:\", rounded_pi)\n",
    "\n",
    "fruits = ['apple', 'banana', 'cherry']\n",
    "for index, fruit in enumerate(fruits):\n",
    "    print(index, fruit)  # Returns an enumerate object that yields pairs of index and value from an iterable."
   ]
  },
  {
   "cell_type": "markdown",
   "id": "37ec5a03",
   "metadata": {},
   "source": [
    "## User Defined Function\n",
    "\n",
    "\n",
    "### Defining a Python Function\n",
    "- Function blocks begin with the keyword def followed by the function name and parentheses ( ( ) ).\n",
    "- Any input parameters or arguments should be placed within these parentheses. We can also define parameters inside these parentheses.\n",
    "- The first statement of a function can be an optional statement; the documentation string of the function or docstring.\n",
    "- The code block within every function starts with a colon (:) and is indented.\n",
    "- The statement return [expression] exits a function, optionally passing back an expression to the caller. \n",
    "- A return statement with no arguments is the same as return None."
   ]
  },
  {
   "cell_type": "markdown",
   "id": "7a4ffe96",
   "metadata": {},
   "source": [
    "### Types of Python Function Arguments \n",
    "\n",
    "- **Position or Required Arguments :** Required arguments are the arguments passed to a function in correct positional order. Here, the number of arguments in the function call should match exactly with the function definition.\n",
    "- **Keyword Arguments :**  Keyword arguments are related to the function calls. When you use keyword arguments in a function call, the caller identifies the arguments by the parameter name. \n",
    "- **Default Arguments:** - Default argument is an argument that assumes a default value if a value is not provided in the function call for that argument. \n",
    "- **Positional-only Arguments :** - Positional-only arguments are function arguments that can only be passed positionally and cannot be used as keyword arguments. They are defined using a / separator in the function signature. This feature was introduced in Python 3.8 to improve the clarity and flexibility of function parameter passing.\n",
    "- The benefit of using this type of argument is that it ensures the functions are called with the correct arguments in the correct order. \n",
    "- **Keyword-only arguments :** -  arguments that must be specified by their name while calling the function. They are defined by placing an asterisk (\"*\") in the function's parameter list before any keyword-only parameters.\n",
    "- **Arbitrary or Variable-length Arguments :** -  need to process a function for more arguments than you specified while defining the function. These arguments are called variable-length arguments and are not named in the function definition, unlike required and default arguments. Moreover, the arbitrary number of arguments might be positional or keyword arguments."
   ]
  },
  {
   "cell_type": "code",
   "execution_count": 96,
   "id": "b7a2c64e",
   "metadata": {},
   "outputs": [
    {
     "name": "stdout",
     "output_type": "stream",
     "text": [
      "Hello, Welcome to python learning\n"
     ]
    }
   ],
   "source": [
    "# Simple Function\n",
    "\n",
    "def greet():\n",
    "    print('Hello, Welcome to python learning')\n",
    "greet() # function call"
   ]
  },
  {
   "cell_type": "markdown",
   "id": "8d755fc4",
   "metadata": {},
   "source": [
    "### Position or Required Arguments "
   ]
  },
  {
   "cell_type": "code",
   "execution_count": 97,
   "id": "78d82176",
   "metadata": {},
   "outputs": [
    {
     "name": "stdout",
     "output_type": "stream",
     "text": [
      "Hello Mona, Welcome to python learning\n",
      "Outside Function\n"
     ]
    }
   ],
   "source": [
    "# Function with Arguments\n",
    "\n",
    "def greet(name):\n",
    "    print(f'Hello {name}, Welcome to python learning')\n",
    "    \n",
    "greet('Mona') # call the function and pass arguments\n",
    "print(\"Outside Function\")"
   ]
  },
  {
   "cell_type": "code",
   "execution_count": 98,
   "id": "feea0b3c",
   "metadata": {},
   "outputs": [
    {
     "ename": "TypeError",
     "evalue": "greet() missing 1 required positional argument: 'name'",
     "output_type": "error",
     "traceback": [
      "\u001b[1;31m---------------------------------------------------------------------------\u001b[0m",
      "\u001b[1;31mTypeError\u001b[0m                                 Traceback (most recent call last)",
      "Cell \u001b[1;32mIn[98], line 6\u001b[0m\n\u001b[0;32m      3\u001b[0m \u001b[38;5;28;01mdef\u001b[39;00m \u001b[38;5;21mgreet\u001b[39m(name):\n\u001b[0;32m      4\u001b[0m     \u001b[38;5;28mprint\u001b[39m(\u001b[38;5;124mf\u001b[39m\u001b[38;5;124m'\u001b[39m\u001b[38;5;124mHello \u001b[39m\u001b[38;5;132;01m{\u001b[39;00mname\u001b[38;5;132;01m}\u001b[39;00m\u001b[38;5;124m, Welcome to python learning\u001b[39m\u001b[38;5;124m'\u001b[39m)\n\u001b[1;32m----> 6\u001b[0m greet() \u001b[38;5;66;03m# call the function and pass arguments\u001b[39;00m\n\u001b[0;32m      7\u001b[0m \u001b[38;5;28mprint\u001b[39m(\u001b[38;5;124m\"\u001b[39m\u001b[38;5;124mOutside Function\u001b[39m\u001b[38;5;124m\"\u001b[39m)\n",
      "\u001b[1;31mTypeError\u001b[0m: greet() missing 1 required positional argument: 'name'"
     ]
    }
   ],
   "source": [
    "# if we miss argument, it will show error\n",
    "\n",
    "def greet(name):\n",
    "    print(f'Hello {name}, Welcome to python learning')\n",
    "    \n",
    "greet() # call the function and pass arguments\n",
    "print(\"Outside Function\")"
   ]
  },
  {
   "cell_type": "code",
   "execution_count": 99,
   "id": "e420baf2",
   "metadata": {},
   "outputs": [
    {
     "data": {
      "text/plain": [
       "11"
      ]
     },
     "execution_count": 99,
     "metadata": {},
     "output_type": "execute_result"
    }
   ],
   "source": [
    "# Function with two Arguments\n",
    "\n",
    "def add(num1, num2):\n",
    "    return num1+num2\n",
    "\n",
    "add(5,6) # pass two arguments"
   ]
  },
  {
   "cell_type": "code",
   "execution_count": 100,
   "id": "780b5b43",
   "metadata": {},
   "outputs": [
    {
     "name": "stdout",
     "output_type": "stream",
     "text": [
      "Addition: 9\n",
      "Addition: 10\n"
     ]
    }
   ],
   "source": [
    "def add(num1, num2):\n",
    "    return num1+num2\n",
    "\n",
    "c=add(3,6)\n",
    "print(\"Addition:\",c)\n",
    "print(\"Addition:\",add(5,5))"
   ]
  },
  {
   "cell_type": "code",
   "execution_count": 1,
   "id": "161f7433",
   "metadata": {},
   "outputs": [
    {
     "name": "stdout",
     "output_type": "stream",
     "text": [
      "Addition: 9\n"
     ]
    }
   ],
   "source": [
    "def find_squre(num1, num2):\n",
    "    result =num1*num2\n",
    "    return result\n",
    "\n",
    "squre=find_squre(3,3)\n",
    "print(\"Addition:\",squre)"
   ]
  },
  {
   "cell_type": "markdown",
   "id": "f06c334c",
   "metadata": {},
   "source": [
    "### Keyword argument"
   ]
  },
  {
   "cell_type": "code",
   "execution_count": 101,
   "id": "2dab74c1",
   "metadata": {},
   "outputs": [
    {
     "name": "stdout",
     "output_type": "stream",
     "text": [
      "Name:  miki\n",
      "Age  50\n",
      "Name:  mona\n",
      "Age  25\n"
     ]
    }
   ],
   "source": [
    "# Keyword argument\n",
    "# skip arguments or place them out of order\n",
    "def printinfo( name, age ):\n",
    "    \n",
    "    \"This prints a passed info into this function\"\n",
    "    \n",
    "    print (\"Name: \", name)\n",
    "    print (\"Age \", age)\n",
    "    return;\n",
    "\n",
    "# Now you can call printinfo function\n",
    "printinfo( age=50, name=\"miki\" )\n",
    "printinfo('mona',25)\n",
    "\n",
    "#printinfo(25, 'mona')"
   ]
  },
  {
   "cell_type": "markdown",
   "id": "b4db1972",
   "metadata": {},
   "source": [
    "### Default arguments"
   ]
  },
  {
   "cell_type": "code",
   "execution_count": 102,
   "id": "86bcb627",
   "metadata": {},
   "outputs": [
    {
     "name": "stdout",
     "output_type": "stream",
     "text": [
      "Hello, Guest!\n",
      "Hello, Alice!\n"
     ]
    }
   ],
   "source": [
    "#Function with Default Arguments\n",
    "\n",
    "def greet(name=\"Guest\"):\n",
    "    print(f\"Hello, {name}!\")\n",
    "\n",
    "greet()        # Output: Hello, Guest!\n",
    "greet(\"Alice\") # Output: Hello, Alice!"
   ]
  },
  {
   "cell_type": "code",
   "execution_count": 26,
   "id": "764dc24b",
   "metadata": {},
   "outputs": [
    {
     "name": "stdout",
     "output_type": "stream",
     "text": [
      "Name:  miki\n",
      "Age  50\n",
      "Name:  miki\n",
      "Age  35\n",
      "Name:  miki\n",
      "Age  50\n"
     ]
    }
   ],
   "source": [
    "# Default arguments\n",
    "\n",
    "def printinfo( name, age = 35):\n",
    "    \n",
    "    \"This prints a passed info into this function\"\n",
    "    \n",
    "    print (\"Name: \", name)\n",
    "    print (\"Age \", age)\n",
    "    return;\n",
    "\n",
    "# Now you can call printinfo function\n",
    "printinfo(age=50, name=\"miki\" )\n",
    "\n",
    "printinfo(name=\"miki\")\n",
    "\n",
    "printinfo(name=\"miki\", age=50)"
   ]
  },
  {
   "cell_type": "code",
   "execution_count": 103,
   "id": "02f961a7",
   "metadata": {},
   "outputs": [
    {
     "name": "stdout",
     "output_type": "stream",
     "text": [
      "num:10 den:5 quotient:2.0\n",
      "num:5 den:10 quotient:0.5\n",
      "num:10 den:5 quotient:2.0\n",
      "num:10 den:5 quotient:2.0\n",
      "num:10 den:5 quotient:2.0\n"
     ]
    }
   ],
   "source": [
    "# default arguments\n",
    "\n",
    "def division(num, den):\n",
    "    quotient = num/den\n",
    "    print (\"num:{} den:{} quotient:{}\".format(num, den, quotient))\n",
    "\n",
    "division(10,5)\n",
    "division(5,10)\n",
    "\n",
    "division(num=10, den=5)\n",
    "division(den=5, num=10)\n",
    "\n",
    "# When using keyword arguments, it is not necessary to follow the order of formal arguments in function definition.\n",
    "\n",
    "division(10, den=5)\n",
    "#division(num=5, 10) #positional arguments must be before the keyword arguments while using mixed calling."
   ]
  },
  {
   "cell_type": "code",
   "execution_count": 23,
   "id": "fd623e45",
   "metadata": {},
   "outputs": [
    {
     "name": "stdout",
     "output_type": "stream",
     "text": [
      "percentage: 65.0\n",
      "percentage: 86.0\n"
     ]
    }
   ],
   "source": [
    "# Default arguments\n",
    "\n",
    "def percent(phy, maths, maxmarks=200):\n",
    "    val = (phy+maths)*100/maxmarks\n",
    "    return val\n",
    "\n",
    "phy = 60\n",
    "maths = 70\n",
    "result = percent(phy,maths)\n",
    "print (\"percentage:\", result)\n",
    "\n",
    "phy = 40\n",
    "maths = 46\n",
    "result = percent(phy,maths, 100)\n",
    "print (\"percentage:\", result)"
   ]
  },
  {
   "cell_type": "markdown",
   "id": "dd5a43c2",
   "metadata": {},
   "source": [
    "### Positional-only arguments"
   ]
  },
  {
   "cell_type": "code",
   "execution_count": 104,
   "id": "99731ad6",
   "metadata": {},
   "outputs": [
    {
     "name": "stdout",
     "output_type": "stream",
     "text": [
      "Hello, Alice!\n"
     ]
    }
   ],
   "source": [
    "# Positional-only arguments --> one or more arguments can not accept their value with keywords\n",
    "\n",
    "def greet(name, /, message=\"Hello\"):\n",
    "    print(f\"{message}, {name}!\")\n",
    "\n",
    "greet(\"Alice\")          # Valid: positional argument for 'name'\n",
    "# greet(\"Bob\", \"Hi\")      # Error: 'message' is positional-only\n",
    "# greet(name=\"Charlie\")   # Error: 'name' cannot be a keyword argument"
   ]
  },
  {
   "cell_type": "code",
   "execution_count": 18,
   "id": "0553a673",
   "metadata": {},
   "outputs": [
    {
     "name": "stdout",
     "output_type": "stream",
     "text": [
      "Evaluating positional-only arguments: \n",
      "66\n",
      "67\n"
     ]
    }
   ],
   "source": [
    "def posFun(x, y, /, z):\n",
    "    print(x + y + z)\n",
    "\n",
    "print(\"Evaluating positional-only arguments: \")\n",
    "posFun(33, 22, z=11) \n",
    "posFun(30, 26, 11) \n",
    "#posFun(x=30, 26, 11) "
   ]
  },
  {
   "cell_type": "code",
   "execution_count": 40,
   "id": "8b87eae0",
   "metadata": {},
   "outputs": [
    {
     "name": "stdout",
     "output_type": "stream",
     "text": [
      "10 20 30\n",
      "10 20 30\n"
     ]
    }
   ],
   "source": [
    "# Positional-only arguments\n",
    "\n",
    "def myfunction(x, /, y, *, z):\n",
    "    print (x, y, z)\n",
    "    \n",
    "myfunction(10, y=20, z=30)\n",
    "myfunction(10, 20, z=30)\n",
    "\n",
    "# these calls raise errors\n",
    "\n",
    "# myfunction(x=10, y=20, z=30) \n",
    "# myfunction(10, 20, 30) "
   ]
  },
  {
   "cell_type": "markdown",
   "id": "45b740be",
   "metadata": {},
   "source": [
    "### Keyword-only arguments"
   ]
  },
  {
   "cell_type": "markdown",
   "id": "d42132ca",
   "metadata": {},
   "source": [
    "- In this function, x is a required positional-only argument, \n",
    "- y is a regular positional argument (we can use it as keyword if we want), and \n",
    "- z is a keyword-only argument."
   ]
  },
  {
   "cell_type": "code",
   "execution_count": 19,
   "id": "11b57cf5",
   "metadata": {},
   "outputs": [
    {
     "name": "stdout",
     "output_type": "stream",
     "text": [
      "Evaluating keyword-only arguments: \n",
      "240\n"
     ]
    }
   ],
   "source": [
    "# Keyword-only arguments\n",
    "\n",
    "def posFun(*, num1, num2, num3):\n",
    "    print(num1 * num2 * num3)\n",
    "\n",
    "print(\"Evaluating keyword-only arguments: \")\n",
    "posFun(num1=6, num2=8, num3=5) "
   ]
  },
  {
   "cell_type": "code",
   "execution_count": 36,
   "id": "e1aadbc0",
   "metadata": {},
   "outputs": [
    {
     "name": "stdout",
     "output_type": "stream",
     "text": [
      "100.0\n"
     ]
    }
   ],
   "source": [
    "def intr(amt,*, rate):\n",
    "    val = amt*rate/100\n",
    "    return val\n",
    "interest = intr(1000, rate=10)\n",
    "print(interest)\n",
    "\n",
    "# interest1 = intr(1000, 10) # value for rate must be passed by keyword.\n",
    "# print(interest1)"
   ]
  },
  {
   "cell_type": "code",
   "execution_count": 20,
   "id": "5a841e0a",
   "metadata": {},
   "outputs": [
    {
     "ename": "SyntaxError",
     "evalue": "positional argument follows keyword argument (501974841.py, line 10)",
     "output_type": "error",
     "traceback": [
      "\u001b[1;36m  Cell \u001b[1;32mIn[20], line 10\u001b[1;36m\u001b[0m\n\u001b[1;33m    greet(name=\"Dave\", \"Hola\")      # Error: 'message' is keyword-only\u001b[0m\n\u001b[1;37m                             ^\u001b[0m\n\u001b[1;31mSyntaxError\u001b[0m\u001b[1;31m:\u001b[0m positional argument follows keyword argument\n"
     ]
    }
   ],
   "source": [
    "def greet(name, *, message=\"Hello\"):\n",
    "    \n",
    "    '''Keyword-only arguments are function arguments that can only be passed by keyword and not by position. '''\n",
    "    \n",
    "    print(f\"{message}, {name}!\")\n",
    "\n",
    "greet(\"Alice\")                  # Valid: positional argument for 'name'\n",
    "greet(\"Bob\", message=\"Hi\")      # Valid: keyword argument for 'message'\n",
    "greet(name=\"Charlie\")           # Valid: keyword argument for 'name'\n",
    "greet(name=\"Dave\", \"Hola\")      # Error: 'message' is keyword-only\n",
    "greet(\"Eve\", \"Bonjour\")         # Error: 'message' is keyword-only"
   ]
  },
  {
   "cell_type": "markdown",
   "id": "63e5382e",
   "metadata": {},
   "source": [
    "### Arbitrary Arguments (*args)"
   ]
  },
  {
   "cell_type": "code",
   "execution_count": 3,
   "id": "b97ebf43",
   "metadata": {},
   "outputs": [
    {
     "name": "stdout",
     "output_type": "stream",
     "text": [
      "10\n"
     ]
    }
   ],
   "source": [
    "#Function with Variable-Length Arguments, Functions that accept a variable number of arguments using *args or **kwargs.\n",
    "\n",
    "def sum_all(*args):\n",
    "    return sum(args)\n",
    "\n",
    "total = sum_all(1, 2, 3, 4)\n",
    "print(total)  # Output: 10"
   ]
  },
  {
   "cell_type": "code",
   "execution_count": 41,
   "id": "b19d4c03",
   "metadata": {},
   "outputs": [
    {
     "name": "stdout",
     "output_type": "stream",
     "text": [
      "100\n",
      "6\n"
     ]
    }
   ],
   "source": [
    "# sum of numbers\n",
    "def add(*args):\n",
    "    s=0\n",
    "    for x in args:\n",
    "        s=s+x\n",
    "    return s\n",
    "\n",
    "result = add(10,20,30,40)\n",
    "print (result)\n",
    "\n",
    "result = add(1,2,3)\n",
    "print (result)"
   ]
  },
  {
   "cell_type": "code",
   "execution_count": 52,
   "id": "55c5a73e",
   "metadata": {},
   "outputs": [
    {
     "name": "stdout",
     "output_type": "stream",
     "text": [
      "45.0\n"
     ]
    }
   ],
   "source": [
    "# Required Arguments With Arbitrary Arguments\n",
    "# avg of first test and best of following tests\n",
    "\n",
    "def avg(first, *rest):\n",
    "    #print(first)\n",
    "    second=max(rest)\n",
    "    #print(second)\n",
    "    return (first+second)/2\n",
    "   \n",
    "result=avg(40,30,50,25)\n",
    "print (result)"
   ]
  },
  {
   "cell_type": "code",
   "execution_count": 21,
   "id": "9e1b19f9",
   "metadata": {},
   "outputs": [
    {
     "name": "stdout",
     "output_type": "stream",
     "text": [
      "Output is: \n",
      "10\n",
      "Output is: \n",
      "70\n",
      "60\n",
      "50\n"
     ]
    }
   ],
   "source": [
    "# Function with Variable-Length Arguments\n",
    "\n",
    "def printinfo( arg1, *vartuple ):\n",
    "    \n",
    "    \"This prints a variable passed arguments\"\n",
    "    \n",
    "    print (\"Output is: \")\n",
    "    print (arg1)\n",
    "    for var in vartuple:\n",
    "        print (var)\n",
    "    return;\n",
    "\n",
    "# Now you can call printinfo function\n",
    "printinfo( 10 )\n",
    "printinfo( 70, 60, 50 )"
   ]
  },
  {
   "cell_type": "markdown",
   "id": "3fa381f8",
   "metadata": {},
   "source": [
    "### Arbitrary Keyword Arguments (**kwargs)\n",
    "- If a variable in the argument list has two asterisks prefixed to it, the function can accept arbitrary number of keyword arguments. \n",
    "- The variable becomes a dictionary of `keyword:value` pairs."
   ]
  },
  {
   "cell_type": "code",
   "execution_count": 48,
   "id": "0fee23d7",
   "metadata": {},
   "outputs": [
    {
     "name": "stdout",
     "output_type": "stream",
     "text": [
      "pass two keyword args\n",
      "Name:John\n",
      "City:Mumbai\n",
      "pass four keyword args\n",
      "Name:Raam\n",
      "City:Mumbai\n",
      "ph_no:9123134567\n",
      "PIN:400001\n"
     ]
    }
   ],
   "source": [
    "def addr(**kwargs):\n",
    "    for k,v in kwargs.items():\n",
    "        print (\"{}:{}\".format(k,v))\n",
    "\n",
    "print (\"pass two keyword args\")\n",
    "addr(Name=\"John\", City=\"Mumbai\")\n",
    "print (\"pass four keyword args\")\n",
    "\n",
    "# pass four keyword args\n",
    "addr(Name=\"Raam\", City=\"Mumbai\", ph_no=\"9123134567\", PIN=\"400001\")"
   ]
  },
  {
   "cell_type": "code",
   "execution_count": 49,
   "id": "163d078c",
   "metadata": {},
   "outputs": [
    {
     "name": "stdout",
     "output_type": "stream",
     "text": [
      "maths: 80\n",
      "sci: 75\n",
      "Eng:70\n",
      "Hist:65\n",
      "Geo:72\n",
      "percentage: 72.4\n"
     ]
    }
   ],
   "source": [
    "# Multiple Arguments With Arbitrary Keyword Arguments\n",
    "\n",
    "def percent(math, sci, **optional):\n",
    "    print (\"maths:\", math)\n",
    "    print (\"sci:\", sci)\n",
    "    s=math+sci\n",
    "    for k,v in optional.items():\n",
    "        print (\"{}:{}\".format(k,v))\n",
    "        s=s+v\n",
    "    return s/(len(optional)+2)\n",
    "\n",
    "result=percent(math=80, sci=75, Eng=70, Hist=65, Geo=72)\n",
    "print (\"percentage:\", result)"
   ]
  },
  {
   "cell_type": "markdown",
   "id": "60430e55",
   "metadata": {},
   "source": [
    "### Other type Functions"
   ]
  },
  {
   "cell_type": "code",
   "execution_count": 105,
   "id": "9ba7032b",
   "metadata": {},
   "outputs": [],
   "source": [
    "def find_squre():\n",
    "    \n",
    "    \"\"\"Do nothing, but document it.\n",
    "\n",
    "    No, really, it doesn't do anything.\n",
    "    \"\"\"\n",
    "    pass\n",
    "\n",
    "find_squre() # this will execute without any error or any action"
   ]
  },
  {
   "cell_type": "code",
   "execution_count": 106,
   "id": "a75aaac5",
   "metadata": {},
   "outputs": [
    {
     "name": "stdout",
     "output_type": "stream",
     "text": [
      "Do nothing, but document it.\n",
      "\n",
      "    No, really, it doesn't do anything.\n",
      "    \n"
     ]
    }
   ],
   "source": [
    "\n",
    "def my_function():\n",
    "    \"\"\"Do nothing, but document it.\n",
    "\n",
    "    No, really, it doesn't do anything.\n",
    "    \"\"\"\n",
    "    pass\n",
    "\n",
    "print(my_function.__doc__) # accesses the docstring of the my_function and prints it."
   ]
  },
  {
   "cell_type": "code",
   "execution_count": 4,
   "id": "7d4c4264",
   "metadata": {},
   "outputs": [
    {
     "name": "stdout",
     "output_type": "stream",
     "text": [
      "5\n",
      "4\n",
      "3\n",
      "2\n",
      "1\n"
     ]
    }
   ],
   "source": [
    "# Generator Functions\n",
    "\n",
    "def countdown(n):\n",
    "    while n > 0:\n",
    "        yield n\n",
    "        n -= 1\n",
    "\n",
    "for i in countdown(5):\n",
    "    print(i)  # Outputs: 5, 4, 3, 2, 1"
   ]
  },
  {
   "cell_type": "markdown",
   "id": "24b2573b",
   "metadata": {},
   "source": [
    "- **Generator Functions** : Functions that use the yield keyword to generate a sequence of values, useful for iterating over large data sets without storing them in memory."
   ]
  },
  {
   "cell_type": "markdown",
   "id": "e580044e",
   "metadata": {},
   "source": [
    "## Order of Python Function Arguments\n",
    "\n",
    "- Order of Python function arguments determines how we can pass arguments to a function and affects the way the function can be called.\n",
    "\n",
    "- **Positional Arguments:** These are defined first in the function signature. They can be passed both positionally and as keyword arguments.\n",
    "- **Default Arguments:** Default arguments follow positional arguments and are specified with default values. They can also be passed as keyword arguments, allowing you to skip them if you want to use their default values.\n",
    "- **Keyword-only Arguments:** Keyword-only arguments are specified after a * separator in the function signature. They must be passed as keyword arguments and cannot be used positionally.\n",
    "- **Variable-Length Arguments:** Variable-length arguments (e.g., *args, ** kwargs) are specified after keyword-only arguments. They allow functions to accept a variable number of arguments."
   ]
  },
  {
   "cell_type": "markdown",
   "id": "ba89b336",
   "metadata": {},
   "source": [
    "- A function can accept all of one type or the other, but arguments need to go in a specific order.\n",
    "\n",
    "- All of the required arguments go first. They are then followed by the optional keyword arguments.\n",
    "\n",
    "- What happens when we try to define our arguments out of order? If you guessed a SyntaxError, you’re correct!"
   ]
  },
  {
   "cell_type": "code",
   "execution_count": 22,
   "id": "5131feb1",
   "metadata": {},
   "outputs": [
    {
     "name": "stdout",
     "output_type": "stream",
     "text": [
      "positional\n",
      "default\n",
      "keyword_only\n",
      "{'extra_arg': 'extra'}\n"
     ]
    }
   ],
   "source": [
    "def example_function(positional_arg, default_arg=\"default\", *, keyword_only_arg, **kwargs):\n",
    "    print(positional_arg)\n",
    "    print(default_arg)\n",
    "    print(keyword_only_arg)\n",
    "    print(kwargs)\n",
    "\n",
    "example_function(\"positional\", keyword_only_arg=\"keyword_only\", extra_arg=\"extra\")"
   ]
  },
  {
   "cell_type": "markdown",
   "id": "cd1bfe10",
   "metadata": {},
   "source": [
    "### Pass by Reference vs Value\n",
    "\n",
    "- There are two main function calling mechanisms: Call by Value and Call by Reference.\n",
    "\n",
    "- When a variable is passed to a function, what does the function do to it? \n",
    "- If any changes to its **variable doesnot get reflected** in the actual argument, then it uses **call by value mechanism**. \n",
    "- On the other hand, if the **change is reflected,** then it becomes **call by reference mechanism**."
   ]
  },
  {
   "cell_type": "code",
   "execution_count": 5,
   "id": "433fdd41",
   "metadata": {},
   "outputs": [
    {
     "name": "stdout",
     "output_type": "stream",
     "text": [
      "ID before passing: 1576205022576\n",
      "ID inside the function: 1576205022576\n"
     ]
    }
   ],
   "source": [
    "def testfunction(arg):\n",
    "    print (\"ID inside the function:\", id(arg))\n",
    "\n",
    "var=\"Hello\"\n",
    "print (\"ID before passing:\", id(var))\n",
    "testfunction(var)"
   ]
  },
  {
   "cell_type": "code",
   "execution_count": 6,
   "id": "69c9e822",
   "metadata": {},
   "outputs": [
    {
     "name": "stdout",
     "output_type": "stream",
     "text": [
      "ID before passing: 140703636767816\n",
      "ID inside the function: 140703636767816\n",
      "new object after increment 11 140703636767848\n",
      "value after function call 10\n"
     ]
    }
   ],
   "source": [
    "\n",
    "def testfunction(arg):\n",
    "    print (\"ID inside the function:\", id(arg))\n",
    "    arg=arg+1\n",
    "    print (\"new object after increment\", arg, id(arg))\n",
    "\n",
    "var=10\n",
    "print (\"ID before passing:\", id(var))\n",
    "testfunction(var)\n",
    "print (\"value after function call\", var)"
   ]
  },
  {
   "cell_type": "markdown",
   "id": "de875849",
   "metadata": {},
   "source": [
    "Python numeric object is immutable. When a numeric object is passed, and then the function changes the value of the formal argument, it actually creates a new object in the memory, leaving the original variable unchanged."
   ]
  },
  {
   "cell_type": "code",
   "execution_count": 7,
   "id": "eebe1b7a",
   "metadata": {},
   "outputs": [
    {
     "name": "stdout",
     "output_type": "stream",
     "text": [
      "ID before passing: 1576205988416\n",
      "Inside function: [10, 20, 30, 40]\n",
      "ID inside the function: 1576205988416\n",
      "list after function call [10, 20, 30, 40, 100]\n"
     ]
    }
   ],
   "source": [
    "def testfunction(arg):\n",
    "    print (\"Inside function:\",arg)\n",
    "    print (\"ID inside the function:\", id(arg))\n",
    "    arg=arg.append(100)\n",
    "   \n",
    "var=[10, 20, 30, 40]\n",
    "print (\"ID before passing:\", id(var))\n",
    "testfunction(var)\n",
    "print (\"list after function call\", var)"
   ]
  },
  {
   "cell_type": "markdown",
   "id": "d64e57f9",
   "metadata": {},
   "source": [
    "Let us now pass a mutable object (such as a list or dictionary) to a function. It is also passed by reference, as the id() of lidt before and after passing is same. However, if we modify the list inside the function, its global representation also reflects the change."
   ]
  },
  {
   "cell_type": "markdown",
   "id": "08e87bbd",
   "metadata": {},
   "source": [
    "### Recursive Function\n",
    "\n",
    "- Function can call itself "
   ]
  },
  {
   "cell_type": "code",
   "execution_count": 107,
   "id": "ea0b77b2",
   "metadata": {},
   "outputs": [
    {
     "name": "stdout",
     "output_type": "stream",
     "text": [
      "The factorial of 3 is 6\n"
     ]
    }
   ],
   "source": [
    "def factorial(x):\n",
    "    ''' This is recursive function to find the factorial of an integer''' # doc string\n",
    "    if x==1:\n",
    "        return 1\n",
    "    else:\n",
    "        return (x*factorial(x-1))\n",
    "num=3\n",
    "print('The factorial of', num, 'is', factorial(num))"
   ]
  },
  {
   "cell_type": "markdown",
   "id": "c6ea7790",
   "metadata": {},
   "source": [
    "## Python Modules\n",
    "\n",
    "Python modules are packages of code that we can import into our Python scripts or interactive sessions to use predefined functions, classes, or variables.\n",
    "\n",
    "- **math:** Provides mathematical functions like sqrt() for square root, sin() for sine function, etc.\n",
    "- **random:** Allows generating random numbers, shuffling sequences, etc.\n",
    "- **datetime:** Helps with date and time manipulation.\n",
    "- **os:** Provides operating system-related functions like file handling, directory manipulation, etc.\n",
    "- **sys:** Provides access to some variables used or maintained by the interpreter and to functions that interact strongly with the interpreter.\n",
    "- **string** - module contains a number of functions for string processing\n",
    "- **re** - provides a set of powerful regular expression facilities. Regular expression (RegEx), allows powerful string search and matching for a pattern in a string\n",
    "- **cmath** - module contains a number of mathematical operations for complex numbers.\n",
    "- **pickle** - Convert Python objects to streams of bytes and back.\n",
    "- **json:** Enables encoding and decoding JSON data.\n",
    "- **csv:** Facilitates reading and writing CSV files.\n",
    "- **requests:** Allows sending HTTP requests and handling responses.\n",
    "- **numpy:** A library for numerical computations, especially arrays and matrices.\n",
    "- **pandas:** Provides data structures and data analysis tools, especially for working with structured data.\n",
    "- **matplotlib:** Used for creating data visualizations, such as plots and charts.\n",
    "- **scikit-learn:** Provides machine learning algorithms and tools for data mining and data analysis.\n",
    "- **tensorflow or pytorch:** Libraries for deep learning and neural networks.\n",
    "- **flask or django:** Web frameworks for building web applications in Python"
   ]
  },
  {
   "cell_type": "markdown",
   "id": "555308db",
   "metadata": {},
   "source": [
    "## Functions defined in built-in modules"
   ]
  },
  {
   "cell_type": "code",
   "execution_count": 108,
   "id": "c59e7e08",
   "metadata": {},
   "outputs": [
    {
     "name": "stdout",
     "output_type": "stream",
     "text": [
      "Squre Root of 3 is 1.7320508075688772\n",
      "Squre Root of 3 is 1.73\n",
      "Power of 3 is:8.0\n",
      "Factorial of 5 is:120\n"
     ]
    }
   ],
   "source": [
    "import math # built-in models\n",
    " \n",
    "squre_root=math.sqrt(3)\n",
    "\n",
    "print(f'Squre Root of 3 is {squre_root}')\n",
    "print(\"Squre Root of 3 is {:.2f}\".format(squre_root))\n",
    "\n",
    "power=math.pow(2,3)\n",
    "print(f'Power of 3 is:{power}')\n",
    "\n",
    "print(f'Factorial of 5 is:{math.factorial(5)}')"
   ]
  },
  {
   "cell_type": "code",
   "execution_count": 109,
   "id": "a3870201",
   "metadata": {},
   "outputs": [
    {
     "name": "stdout",
     "output_type": "stream",
     "text": [
      "['__doc__', '__loader__', '__name__', '__package__', '__spec__', 'acos', 'acosh', 'asin', 'asinh', 'atan', 'atan2', 'atanh', 'cbrt', 'ceil', 'comb', 'copysign', 'cos', 'cosh', 'degrees', 'dist', 'e', 'erf', 'erfc', 'exp', 'exp2', 'expm1', 'fabs', 'factorial', 'floor', 'fmod', 'frexp', 'fsum', 'gamma', 'gcd', 'hypot', 'inf', 'isclose', 'isfinite', 'isinf', 'isnan', 'isqrt', 'lcm', 'ldexp', 'lgamma', 'log', 'log10', 'log1p', 'log2', 'modf', 'nan', 'nextafter', 'perm', 'pi', 'pow', 'prod', 'radians', 'remainder', 'sin', 'sinh', 'sqrt', 'tan', 'tanh', 'tau', 'trunc', 'ulp']\n"
     ]
    }
   ],
   "source": [
    "print(dir(math))"
   ]
  },
  {
   "cell_type": "code",
   "execution_count": 110,
   "id": "2872e658",
   "metadata": {},
   "outputs": [
    {
     "name": "stdout",
     "output_type": "stream",
     "text": [
      "6\n",
      "[3, 2, 5, 4, 1]\n"
     ]
    }
   ],
   "source": [
    "import random\n",
    "\n",
    "# Generate a random integer between 1 and 10\n",
    "print(random.randint(1, 10))\n",
    "\n",
    "# Shuffle a list\n",
    "my_list = [1, 2, 3, 4, 5]\n",
    "random.shuffle(my_list)\n",
    "print(my_list)"
   ]
  },
  {
   "cell_type": "code",
   "execution_count": 111,
   "id": "de562e2d",
   "metadata": {},
   "outputs": [
    {
     "name": "stdout",
     "output_type": "stream",
     "text": [
      "['BPF', 'LOG4', 'NV_MAGICCONST', 'RECIP_BPF', 'Random', 'SG_MAGICCONST', 'SystemRandom', 'TWOPI', '_ONE', '_Sequence', '_Set', '__all__', '__builtins__', '__cached__', '__doc__', '__file__', '__loader__', '__name__', '__package__', '__spec__', '_accumulate', '_acos', '_bisect', '_ceil', '_cos', '_e', '_exp', '_floor', '_index', '_inst', '_isfinite', '_log', '_os', '_pi', '_random', '_repeat', '_sha512', '_sin', '_sqrt', '_test', '_test_generator', '_urandom', '_warn', 'betavariate', 'choice', 'choices', 'expovariate', 'gammavariate', 'gauss', 'getrandbits', 'getstate', 'lognormvariate', 'normalvariate', 'paretovariate', 'randbytes', 'randint', 'random', 'randrange', 'sample', 'seed', 'setstate', 'shuffle', 'triangular', 'uniform', 'vonmisesvariate', 'weibullvariate']\n"
     ]
    }
   ],
   "source": [
    "print(dir(random))"
   ]
  },
  {
   "cell_type": "code",
   "execution_count": 112,
   "id": "5598566e",
   "metadata": {},
   "outputs": [
    {
     "name": "stdout",
     "output_type": "stream",
     "text": [
      "C:\\Users\\mohana\\Python Tutorial\n",
      "['.ipynb_checkpoints', 'Dataset', 'Images', 'Keras.ipynb', 'math_operations.py', 'Matplotlib.ipynb', 'NumPy.ipynb', 'OpenCV.ipynb', 'Pandas.ipynb', 'Plotly.ipynb', 'Python-Control-Flow.ipynb', 'Python-Introduction.ipynb', 'Python-OOPs.ipynb', 'Python-Script.ipynb', 'python-sequences.ipynb', 'SciKit-Learn.ipynb', 'SciPy.ipynb', 'Seaborn.ipynb', 'TensorFlow.ipynb', 'yaml.png', '__pycache__']\n",
      "------------------------------------------------------\n",
      "['DirEntry', 'EX_OK', 'F_OK', 'GenericAlias', 'Mapping', 'MutableMapping', 'O_APPEND', 'O_BINARY', 'O_CREAT', 'O_EXCL', 'O_NOINHERIT', 'O_RANDOM', 'O_RDONLY', 'O_RDWR', 'O_SEQUENTIAL', 'O_SHORT_LIVED', 'O_TEMPORARY', 'O_TEXT', 'O_TRUNC', 'O_WRONLY', 'P_DETACH', 'P_NOWAIT', 'P_NOWAITO', 'P_OVERLAY', 'P_WAIT', 'PathLike', 'R_OK', 'SEEK_CUR', 'SEEK_END', 'SEEK_SET', 'TMP_MAX', 'W_OK', 'X_OK', '_AddedDllDirectory', '_Environ', '__all__', '__builtins__', '__doc__', '__file__', '__loader__', '__name__', '__package__', '__spec__', '_check_methods', '_execvpe', '_exists', '_exit', '_fspath', '_get_exports_list', '_walk', '_wrap_close', 'abc', 'abort', 'access', 'add_dll_directory', 'altsep', 'chdir', 'chmod', 'close', 'closerange', 'cpu_count', 'curdir', 'defpath', 'device_encoding', 'devnull', 'dup', 'dup2', 'environ', 'error', 'execl', 'execle', 'execlp', 'execlpe', 'execv', 'execve', 'execvp', 'execvpe', 'extsep', 'fdopen', 'fsdecode', 'fsencode', 'fspath', 'fstat', 'fsync', 'ftruncate', 'get_exec_path', 'get_handle_inheritable', 'get_inheritable', 'get_terminal_size', 'getcwd', 'getcwdb', 'getenv', 'getlogin', 'getpid', 'getppid', 'isatty', 'kill', 'linesep', 'link', 'listdir', 'lseek', 'lstat', 'makedirs', 'mkdir', 'name', 'open', 'pardir', 'path', 'pathsep', 'pipe', 'popen', 'putenv', 'read', 'readlink', 'remove', 'removedirs', 'rename', 'renames', 'replace', 'rmdir', 'scandir', 'sep', 'set_handle_inheritable', 'set_inheritable', 'spawnl', 'spawnle', 'spawnv', 'spawnve', 'st', 'startfile', 'stat', 'stat_result', 'statvfs_result', 'strerror', 'supports_bytes_environ', 'supports_dir_fd', 'supports_effective_ids', 'supports_fd', 'supports_follow_symlinks', 'symlink', 'sys', 'system', 'terminal_size', 'times', 'times_result', 'truncate', 'umask', 'uname_result', 'unlink', 'unsetenv', 'urandom', 'utime', 'waitpid', 'waitstatus_to_exitcode', 'walk', 'write']\n"
     ]
    }
   ],
   "source": [
    "import os\n",
    "\n",
    "# Get current working directory\n",
    "print(os.getcwd())\n",
    "\n",
    "# List files in a directory\n",
    "print(os.listdir('.'))\n",
    "\n",
    "print('------------------------------------------------------')\n",
    "\n",
    "print(dir(os))"
   ]
  },
  {
   "cell_type": "markdown",
   "id": "b25d573d",
   "metadata": {},
   "source": [
    "### Create Python Own Modules\n",
    "\n",
    "- *Define the Module Code :* Create a Python file with our module's code. This file will contain functions, classes, variables, or any other code we want to include in our module.\n",
    "- *Organize the Module Structure :* module becomes more complex, we might want to organize it into sub-modules or packages\n",
    "- *Save the Module File :* Save the Python file `(filename.py in this case)` in a directory where Python can find it. We can save it in the same directory as our main script or in a directory included in the Python path.\n",
    "- *Import the Module :* import it into our Python script. We can import the whole module or specific functions/classes from it"
   ]
  },
  {
   "cell_type": "code",
   "execution_count": 113,
   "id": "6a3ce211",
   "metadata": {},
   "outputs": [],
   "source": [
    "# math_operations.py\n",
    "def add(x, y):\n",
    "    return x + y\n",
    "\n",
    "def subtract(x, y):\n",
    "    return x - y\n",
    "\n",
    "def multiply(x, y):\n",
    "    return x * y\n",
    "\n",
    "def divide(x, y):\n",
    "    if y != 0:\n",
    "        return x / y\n",
    "    else:\n",
    "        return \"Error: Division by zero\""
   ]
  },
  {
   "cell_type": "code",
   "execution_count": 114,
   "id": "d24e5a95",
   "metadata": {},
   "outputs": [
    {
     "name": "stdout",
     "output_type": "stream",
     "text": [
      "8\n"
     ]
    }
   ],
   "source": [
    "# Import the whole module\n",
    "import math_operations\n",
    "\n",
    "result = math_operations.add(5, 3)\n",
    "print(result)  # Output: 8"
   ]
  },
  {
   "cell_type": "code",
   "execution_count": 115,
   "id": "789d6520",
   "metadata": {},
   "outputs": [
    {
     "name": "stdout",
     "output_type": "stream",
     "text": [
      "8 24\n"
     ]
    }
   ],
   "source": [
    "# Import specific functions from the module\n",
    "from math_operations import add, multiply\n",
    "\n",
    "result_add = add(5, 3)\n",
    "result_multiply = multiply(4, 6)\n",
    "print(result_add, result_multiply)  # Output: 8 24"
   ]
  },
  {
   "cell_type": "code",
   "execution_count": 116,
   "id": "ea1947a9",
   "metadata": {},
   "outputs": [
    {
     "name": "stdout",
     "output_type": "stream",
     "text": [
      "['__builtins__', '__cached__', '__doc__', '__file__', '__loader__', '__name__', '__package__', '__spec__', 'add', 'divide', 'multiply', 'subtract']\n"
     ]
    }
   ],
   "source": [
    "print(dir(math_operations))"
   ]
  },
  {
   "cell_type": "code",
   "execution_count": 117,
   "id": "9e750b5d",
   "metadata": {},
   "outputs": [
    {
     "name": "stdout",
     "output_type": "stream",
     "text": [
      "6 20\n"
     ]
    }
   ],
   "source": [
    "from math_operations import *  #Possible to import all the names from a module into the current namespace\n",
    "\n",
    "result_add = add(3, 3)\n",
    "result_multiply = multiply(4, 5)\n",
    "print(result_add, result_multiply)  # Output: 9 20"
   ]
  },
  {
   "cell_type": "code",
   "execution_count": 119,
   "id": "784af08e",
   "metadata": {},
   "outputs": [
    {
     "name": "stdout",
     "output_type": "stream",
     "text": [
      "sum: 30\n",
      "average: -10\n",
      "power: 20\n"
     ]
    }
   ],
   "source": [
    "import math_operations as x  #assign an alias name to the imported module\n",
    "\n",
    "print (\"sum:\",x.add(10,20))\n",
    "print (\"average:\", x.subtract(10,20))\n",
    "print (\"power:\", x.multiply(10, 2))"
   ]
  },
  {
   "cell_type": "markdown",
   "id": "e42f6281",
   "metadata": {},
   "source": [
    "## Lamda Function \n",
    "\n",
    "- Lambda function in Python, also known as an `anonymous function`, is a small, inline function defined using the lambda keyword.\n",
    "- It allows us to create a `function` without a formal `def` statement, typically for simple operations or as an argument to higher-order functions like map(), filter(), or sort().\n",
    "\n",
    "- `lambda arguments: expression`"
   ]
  },
  {
   "cell_type": "code",
   "execution_count": 120,
   "id": "bfae291c",
   "metadata": {},
   "outputs": [
    {
     "name": "stdout",
     "output_type": "stream",
     "text": [
      "5\n"
     ]
    }
   ],
   "source": [
    "add = lambda a,b:a+b\n",
    "print(add(2,3))"
   ]
  },
  {
   "cell_type": "code",
   "execution_count": 121,
   "id": "fd1de408",
   "metadata": {},
   "outputs": [
    {
     "name": "stdout",
     "output_type": "stream",
     "text": [
      "[(2, 5), (3, 10), (1, 20)]\n"
     ]
    }
   ],
   "source": [
    "data = [(3, 10), (1, 20), (2, 5)]\n",
    "sorted_data = sorted(data, key=lambda x: x[1]) # Sorting a List of Tuples by Second Element:\n",
    "print(sorted_data) "
   ]
  },
  {
   "cell_type": "code",
   "execution_count": 122,
   "id": "8b80e020",
   "metadata": {},
   "outputs": [
    {
     "name": "stdout",
     "output_type": "stream",
     "text": [
      "[2, 4, 6, 8, 10]\n"
     ]
    }
   ],
   "source": [
    "numbers = [1, 2, 3, 4, 5, 6, 7, 8, 9, 10]\n",
    "even_numbers = list(filter(lambda x: x % 2 == 0, numbers))\n",
    "print(even_numbers)  # Output: [2, 4, 6, 8, 10]"
   ]
  },
  {
   "cell_type": "code",
   "execution_count": 123,
   "id": "c814fa57",
   "metadata": {},
   "outputs": [
    {
     "name": "stdout",
     "output_type": "stream",
     "text": [
      "[1, 4, 9, 16, 25]\n"
     ]
    }
   ],
   "source": [
    "numbers = [1, 2, 3, 4, 5]\n",
    "squared_numbers = list(map(lambda x: x ** 2, numbers)) # Mapping a Function to a List, \n",
    "print(squared_numbers)  "
   ]
  },
  {
   "cell_type": "code",
   "execution_count": null,
   "id": "3393f21c",
   "metadata": {},
   "outputs": [],
   "source": [
    "numbers = [1, 2, 3, 4, 5]\n",
    "print(sum)\n",
    "sum_of_squares = sum(map(lambda x: x ** 2, numbers))\n",
    "print(sum_of_squares)  #"
   ]
  },
  {
   "cell_type": "markdown",
   "id": "1cd49e7e",
   "metadata": {},
   "source": [
    "`map()` function in Python is used to apply a given function to each item of an iterable (like a list, tuple, etc.) and returns an iterator that yields the results."
   ]
  },
  {
   "cell_type": "code",
   "execution_count": 124,
   "id": "fd488a31",
   "metadata": {},
   "outputs": [
    {
     "name": "stdout",
     "output_type": "stream",
     "text": [
      "Adult\n",
      "Minor\n"
     ]
    }
   ],
   "source": [
    "check_age=lambda age: \"Adult\" if age >=18 else \"Minor\"\n",
    "print(check_age(25))\n",
    "print(check_age(12))"
   ]
  },
  {
   "cell_type": "code",
   "execution_count": null,
   "id": "46b3ab0f",
   "metadata": {},
   "outputs": [],
   "source": []
  },
  {
   "cell_type": "markdown",
   "id": "34383a7d",
   "metadata": {},
   "source": [
    "## Function Annotations\n",
    "\n",
    "- Function annotations in Python are a way to associate arbitrary metadata with function arguments and return values. \n",
    "- They allow us to specify the expected types of function parameters and the return type, as well as add additional information or documentation to our functions. \n",
    "- Annotations are optional and do not affect the actual behavior of the function; they are primarily used for documentation purposes and type hinting."
   ]
  },
  {
   "cell_type": "code",
   "execution_count": 125,
   "id": "be0a4acd",
   "metadata": {},
   "outputs": [
    {
     "name": "stdout",
     "output_type": "stream",
     "text": [
      "3 4\n"
     ]
    }
   ],
   "source": [
    "def add(x: int, y: int) -> int:\n",
    "    \"\"\"Add two integers and return the result.\"\"\"\n",
    "    return x + y\n",
    "\n",
    "print(3,4)"
   ]
  },
  {
   "cell_type": "markdown",
   "id": "d034d7f4",
   "metadata": {},
   "source": [
    "In this example:\n",
    "\n",
    "- x: int and y: int are parameter annotations indicating that x and y are expected to be integers.\n",
    "- -> int is the return type annotation specifying that the function returns an integer."
   ]
  },
  {
   "cell_type": "code",
   "execution_count": 126,
   "id": "9b29eebc",
   "metadata": {},
   "outputs": [
    {
     "name": "stdout",
     "output_type": "stream",
     "text": [
      "('banana', 6)\n"
     ]
    }
   ],
   "source": [
    "from typing import List, Tuple\n",
    "\n",
    "def process_data(data: List[str], index: int) -> Tuple[str, int]:\n",
    "    \"\"\"Process data and return a tuple.\"\"\"\n",
    "    result = data[index]\n",
    "    return result, len(result)\n",
    "\n",
    "# Example usage:\n",
    "data_list = [\"apple\", \"banana\", \"cherry\"]\n",
    "index_value = 1\n",
    "\n",
    "result_tuple = process_data(data_list, index_value)\n",
    "print(result_tuple)  # Output: ('banana', 6)"
   ]
  },
  {
   "cell_type": "code",
   "execution_count": 127,
   "id": "221e1509",
   "metadata": {},
   "outputs": [
    {
     "name": "stdout",
     "output_type": "stream",
     "text": [
      "{'x': <class 'int'>, 'y': <class 'int'>, 'return': <class 'int'>}\n"
     ]
    }
   ],
   "source": [
    "print(add.__annotations__)  # Output: {'x': <class 'int'>, 'y': <class 'int'>, 'return': <class 'int'>}"
   ]
  },
  {
   "cell_type": "markdown",
   "id": "99348b84",
   "metadata": {},
   "source": [
    "However, note that Python does not enforce these annotations; they are purely for documentation and can be used by type checkers or other tools for static analysis and type hinting purposes."
   ]
  },
  {
   "cell_type": "markdown",
   "id": "9668667e",
   "metadata": {},
   "source": [
    "## Scope of the variables\n",
    "\n",
    "- In Python, variable scope refers to where in your code a variable is accessible and where it can be used. \n",
    "- Understanding variable scope is crucial for writing clear and maintainable code. \n",
    "\n",
    "- **Global Scope :** Variables defined outside of any function or class have global scope. They can be accessed from anywhere in the code, including inside functions and classes.\n",
    "- **Local Scope :** Variables defined within a function have local scope. They can only be accessed within that function and are not visible outside of it.\n",
    "- **Enclosing Scope (Nonlocal)** - In nested functions, variables defined in the outer function are accessible in the inner function. This is called enclosing scope or closure.\n",
    "- **Built-in Scope:** - Python has a built-in scope that includes functions and variables provided by Python itself, such as print() and len(). These can be used anywhere in your code without needing to define them."
   ]
  },
  {
   "cell_type": "code",
   "execution_count": 128,
   "id": "8f4ce4fe",
   "metadata": {},
   "outputs": [
    {
     "name": "stdout",
     "output_type": "stream",
     "text": [
      "10\n"
     ]
    }
   ],
   "source": [
    "global_var = 10\n",
    "\n",
    "def my_function():\n",
    "    print(global_var)  # Accessible inside the function\n",
    "\n",
    "my_function()  # Output: 10"
   ]
  },
  {
   "cell_type": "code",
   "execution_count": 130,
   "id": "79c43adc",
   "metadata": {},
   "outputs": [
    {
     "ename": "NameError",
     "evalue": "name 'local_var' is not defined",
     "output_type": "error",
     "traceback": [
      "\u001b[1;31m---------------------------------------------------------------------------\u001b[0m",
      "\u001b[1;31mNameError\u001b[0m                                 Traceback (most recent call last)",
      "Cell \u001b[1;32mIn[130], line 5\u001b[0m\n\u001b[0;32m      2\u001b[0m     local_var \u001b[38;5;241m=\u001b[39m \u001b[38;5;241m20\u001b[39m  \u001b[38;5;66;03m# Local variable\u001b[39;00m\n\u001b[0;32m      4\u001b[0m my_function()\n\u001b[1;32m----> 5\u001b[0m \u001b[38;5;28mprint\u001b[39m(local_var)\n",
      "\u001b[1;31mNameError\u001b[0m: name 'local_var' is not defined"
     ]
    }
   ],
   "source": [
    "def my_function():\n",
    "    local_var = 20  # Local variable\n",
    "\n",
    "my_function()\n",
    "print(local_var)  # Error: NameError: name 'local_var' is not defined"
   ]
  },
  {
   "cell_type": "code",
   "execution_count": 131,
   "id": "18a140e9",
   "metadata": {},
   "outputs": [
    {
     "name": "stdout",
     "output_type": "stream",
     "text": [
      "Hello\n"
     ]
    }
   ],
   "source": [
    "def outer_function():\n",
    "    outer_var = \"Hello\"\n",
    "\n",
    "    def inner_function():\n",
    "        print(outer_var)  # Accessing variable from outer function\n",
    "\n",
    "    inner_function()  # Output: Hello\n",
    "\n",
    "outer_function()"
   ]
  },
  {
   "cell_type": "code",
   "execution_count": 137,
   "id": "1b38d977",
   "metadata": {},
   "outputs": [
    {
     "name": "stdout",
     "output_type": "stream",
     "text": [
      "variable a: 10\n",
      "variable b: 20\n",
      "30\n"
     ]
    }
   ],
   "source": [
    "def yourfunction():\n",
    "   a = 5\n",
    "   b = 6 \n",
    "   # nested function\n",
    "   def myfunction():\n",
    "      #  # Using nonlocal to access variables from the enclosing scope\n",
    "      nonlocal a\n",
    "      nonlocal b\n",
    "      a = 10\n",
    "      b = 20 \n",
    "      print(\"variable a:\", a)\n",
    "      print(\"variable b:\", b)\n",
    "      return a+b\n",
    "   print (myfunction())\n",
    "\n",
    "yourfunction()"
   ]
  },
  {
   "cell_type": "markdown",
   "id": "640ccc0a",
   "metadata": {},
   "source": [
    "Here's what's happening:\n",
    "\n",
    "- `yourfunction()` defines two variables a and b in its local scope.\n",
    "- Inside yourfunction(), there's a nested function `myfunction()`.\n",
    "- When we use nonlocal within myfunction(), we're telling Python to look for a and b in the enclosing scope (i.e., yourfunction()'s scope), rather than creating new local variables.\n",
    "- The statements a = 10 and b = 20 modify the values of a and b in the enclosing scope (yourfunction()'s scope).\n",
    "- The print statements inside myfunction() then print the modified values of a and b.\n",
    "- Finally, myfunction() returns the sum of a and b (which are now 10 and 20, respectively), and this sum is printed by print(myfunction()) within yourfunction()."
   ]
  },
  {
   "cell_type": "markdown",
   "id": "ee4e1b3e",
   "metadata": {},
   "source": [
    "The Python variables that are not defined in either local or global scope are called nonlocal variables. They are used in nested functions."
   ]
  },
  {
   "cell_type": "code",
   "execution_count": 132,
   "id": "b69bb3cc",
   "metadata": {},
   "outputs": [
    {
     "name": "stdout",
     "output_type": "stream",
     "text": [
      "Hello, world!\n"
     ]
    }
   ],
   "source": [
    "print(\"Hello, world!\")  # Using built-in function"
   ]
  },
  {
   "cell_type": "markdown",
   "id": "f9b475a6",
   "metadata": {},
   "source": [
    "## Namespace and Scope of Python Variables"
   ]
  },
  {
   "cell_type": "markdown",
   "id": "d7f95a8e",
   "metadata": {},
   "source": [
    "### Namespace : \n",
    "- A namespace is a mapping from names to objects. It keeps track of the names of variables and functions defined within it.\n",
    "- Python implements namespaces as dictionaries, where the keys are the names of objects (variables, functions, classes) and the values are the objects themselves.\n",
    "- Each Python module creates its namespace, and namespaces are isolated from each other to avoid naming conflicts.\n",
    "\n",
    "####  Python provides the following types of namespaces −\n",
    "\n",
    "- Built-in namespace contains built-in functions and built-in exceptions. They are loaded in the memory as soon as Python interpreter is loaded and remain till the interpreter is running.\n",
    "\n",
    "- Global namespace contains any names defined in the main program. These names remain in memory till the program is running.\n",
    "\n",
    "- Local namespace contains names defined inside a function. They are available till the function is running.\n",
    "\n",
    "### Variable Access:\n",
    "- When you use a variable, Python first searches for it in the local scope. If not found, it looks in the enclosing scope, then the global scope, and finally the built-in scope.\n",
    "- To modify a global variable within a function, you need to use the global keyword to declare it as global.\n",
    "\n",
    "- In Python, locals() and globals() are built-in functions that allow you to access variables in different scopes:\n",
    "\n",
    "### locals():\n",
    "- The `locals()` function returns a dictionary containing the current local symbol table. This table includes all variables defined in the current local scope, including function arguments and local variables.\n",
    "- When called inside a function, `locals()` provides access to the variables and their values within that function's scope.\n",
    "\n",
    "### globals():\n",
    "- The `globals()` function returns a dictionary representing the global symbol table. It contains all variables defined at the global level, including module-level variables, functions, and classes.\n",
    "- When called within a function or any other scope, `globals()` provides access to the global variables visible from that scope."
   ]
  },
  {
   "cell_type": "code",
   "execution_count": 139,
   "id": "972f8ef7",
   "metadata": {},
   "outputs": [
    {
     "name": "stdout",
     "output_type": "stream",
     "text": [
      "Global Variable (Outside functions): 10\n",
      "Local Variable: 30\n",
      "Enclosing Variable: 20\n",
      "Global Variable: 10\n"
     ]
    }
   ],
   "source": [
    "# Global variable\n",
    "global_var = 10\n",
    "\n",
    "def outer_function():\n",
    "    # Enclosing (nonlocal) variable\n",
    "    enclosing_var = 20\n",
    "    \n",
    "    def inner_function():\n",
    "        # Local variable\n",
    "        local_var = 30\n",
    "        print(\"Local Variable:\", local_var)\n",
    "        print(\"Enclosing Variable:\", enclosing_var)\n",
    "        print(\"Global Variable:\", global_var)\n",
    "    \n",
    "    inner_function()\n",
    "\n",
    "# Accessing global variable outside functions\n",
    "print(\"Global Variable (Outside functions):\", global_var)\n",
    "\n",
    "outer_function()"
   ]
  },
  {
   "cell_type": "code",
   "execution_count": 147,
   "id": "401bc2a7",
   "metadata": {},
   "outputs": [
    {
     "name": "stdout",
     "output_type": "stream",
     "text": [
      "{'a': 10, 'b': 20}\n"
     ]
    }
   ],
   "source": [
    "def my_function():\n",
    "    a = 10\n",
    "    b = 20\n",
    "    print(locals())\n",
    "\n",
    "my_function()"
   ]
  },
  {
   "cell_type": "code",
   "execution_count": 149,
   "id": "635fe799",
   "metadata": {},
   "outputs": [
    {
     "name": "stdout",
     "output_type": "stream",
     "text": [
      "{'__name__': '__main__', '__doc__': 'Automatically created module for IPython interactive environment', '__package__': None, '__loader__': None, '__spec__': None, '__builtin__': <module 'builtins' (built-in)>, '__builtins__': <module 'builtins' (built-in)>, '_ih': ['', 'def find_squre(num1, num2):\\n    result =num1*num2\\n    return result\\n\\nsqure=find_squre(3,3)\\nprint(\"Addition:\",squre)', '#Function with Default Arguments\\n\\ndef greet(name=\"Guest\"):\\n    print(f\"Hello, {name}!\")\\n\\ngreet()        # Output: Hello, Guest!\\ngreet(\"Alice\") # Output: Hello, Alice!', '#Function with Variable-Length Arguments, Functions that accept a variable number of arguments using *args or **kwargs.\\n\\ndef sum_all(*args):\\n    return sum(args)\\n\\ntotal = sum_all(1, 2, 3, 4)\\nprint(total)  # Output: 10', '# Generator Functions\\n\\ndef countdown(n):\\n    while n > 0:\\n        yield n\\n        n -= 1\\n\\nfor i in countdown(5):\\n    print(i)  # Outputs: 5, 4, 3, 2, 1', 'def testfunction(arg):\\n    print (\"ID inside the function:\", id(arg))\\n\\nvar=\"Hello\"\\nprint (\"ID before passing:\", id(var))\\ntestfunction(var)', 'def testfunction(arg):\\n   print (\"ID inside the function:\", id(arg))\\n   arg=arg+1\\n   print (\"new object after increment\", arg, id(arg))\\n\\nvar=10\\nprint (\"ID before passing:\", id(var))\\ntestfunction(var)\\nprint (\"value after function call\", var)', 'def testfunction(arg):\\n    print (\"Inside function:\",arg)\\n    print (\"ID inside the function:\", id(arg))\\n    arg=arg.append(100)\\n   \\nvar=[10, 20, 30, 40]\\nprint (\"ID before passing:\", id(var))\\ntestfunction(var)\\nprint (\"list after function call\", var)', '# Function with Arguments\\n\\ndef greet(name):\\n    print(f\\'Hello {name}, Welcome to python learning\\')\\ngreet() # call the function and pass arguments\\nprint(\"Outside Function\")', '# Keyword argument\\n# skip arguments or place them out of order\\ndef printinfo( name, age ):\\n   \"This prints a passed info into this function\"\\n   print (\"Name: \", name)\\n   print (\"Age \", age)\\n   return;\\n\\n# Now you can call printinfo function\\nprintinfo( age=50, name=\"miki\" )', '# Keyword argument\\n# skip arguments or place them out of order\\ndef printinfo( name, age ):\\n    \\n    \"This prints a passed info into this function\"\\n    \\n    print (\"Name: \", name)\\n    print (\"Age \", age)\\n    return;\\n\\n# Now you can call printinfo function\\nprintinfo( age=50, name=\"miki\" )\\nprintinfo(\\'mona\\',25)', '# Keyword argument\\n# skip arguments or place them out of order\\ndef printinfo( name, age ):\\n    \\n    \"This prints a passed info into this function\"\\n    \\n    print (\"Name: \", name)\\n    print (\"Age \", age)\\n    return;\\n\\n# Now you can call printinfo function\\nprintinfo( age=50, name=\"miki\" )\\nprintinfo(\\'mona\\',25)\\nprintinfo(25, \\'mona\\')', '# Positional-only arguments\\n\\ndef greet(name, /, message=\"Hello\"):\\n    print(f\"{message}, {name}!\")\\n\\ngreet(\"Alice\")          # Valid: positional argument for \\'name\\'\\ngreet(\"Bob\", \"Hi\")      # Error: \\'message\\' is positional-only\\ngreet(name=\"Charlie\")   # Error: \\'name\\' cannot be a keyword argument', 'def posFun(x, y, /, z):\\n    print(x + y + z)\\n\\nprint(\"Evaluating positional-only arguments: \")\\nposFun(33, 22, z=11) ', 'def posFun(x, y, /, z):\\n    print(x + y + z)\\n\\nprint(\"Evaluating positional-only arguments: \")\\nposFun(33, 22, z=11) \\nposFun(33, 22, 11) ', 'def posFun(x, y, /, z):\\n    print(x + y + z)\\n\\nprint(\"Evaluating positional-only arguments: \")\\nposFun(33, 22, z=11) \\nposFun(30, 26, 11) ', 'def posFun(x, y, /, z):\\n    print(x + y + z)\\n\\nprint(\"Evaluating positional-only arguments: \")\\nposFun(33, 22, z=11) \\nposFun(30, 26, 11) \\nposFun(30, 26, a=11)', 'def posFun(x, y, /, z):\\n    print(x + y + z)\\n\\nprint(\"Evaluating positional-only arguments: \")\\nposFun(33, 22, z=11) \\nposFun(30, 26, 11) \\nposFun(x=30, 26, 11) ', 'def posFun(x, y, /, z):\\n    print(x + y + z)\\n\\nprint(\"Evaluating positional-only arguments: \")\\nposFun(33, 22, z=11) \\nposFun(30, 26, 11) \\n#posFun(x=30, 26, 11) ', '# Keyword-only arguments\\n\\ndef posFun(*, num1, num2, num3):\\n    print(num1 * num2 * num3)\\n\\nprint(\"Evaluating keyword-only arguments: \")\\nposFun(num1=6, num2=8, num3=5) ', 'def greet(name, *, message=\"Hello\"):\\n    \\n    \\'\\'\\'Keyword-only arguments are function arguments that can only be passed by keyword and not by position. \\'\\'\\'\\n    \\n    print(f\"{message}, {name}!\")\\n\\ngreet(\"Alice\")                  # Valid: positional argument for \\'name\\'\\ngreet(\"Bob\", message=\"Hi\")      # Valid: keyword argument for \\'message\\'\\ngreet(name=\"Charlie\")           # Valid: keyword argument for \\'name\\'\\ngreet(name=\"Dave\", \"Hola\")      # Error: \\'message\\' is keyword-only\\ngreet(\"Eve\", \"Bonjour\")         # Error: \\'message\\' is keyword-only', '# Function with Variable-Length Arguments\\n\\ndef printinfo( arg1, *vartuple ):\\n    \\n    \"This prints a variable passed arguments\"\\n    \\n    print (\"Output is: \")\\n    print (arg1)\\n    for var in vartuple:\\n        print (var)\\n    return;\\n\\n# Now you can call printinfo function\\nprintinfo( 10 )\\nprintinfo( 70, 60, 50 )', 'def example_function(positional_arg, default_arg=\"default\", *, keyword_only_arg, **kwargs):\\n    print(positional_arg)\\n    print(default_arg)\\n    print(keyword_only_arg)\\n    print(kwargs)\\n\\nexample_function(\"positional\", keyword_only_arg=\"keyword_only\", extra_arg=\"extra\")', 'def percent(phy, maths, maxmarks=200):\\n    val = (phy+maths)*100/maxmarks\\n    return val\\n\\nphy = 60\\nmaths = 70\\nresult = percent(phy,maths)\\nprint (\"percentage:\", result)\\n\\nphy = 40\\nmaths = 46\\nresult = percent(phy,maths, 100)\\nprint (\"percentage:\", result)', '# Default arguments\\n\\ndef printinfo( name, age = 35 ):\\n    \\n    \"This prints a passed info into this function\"\\n    \\n    print (\"Name: \", name)\\n    print (\"Age \", age)\\n    return;\\n\\n# Now you can call printinfo function\\nprintinfo( age=50, name=\"miki\" )\\nprintinfo( name=\"miki\" )\\n\\nprintinfo(name=\"miki\", age=50)', '# Default arguments\\n\\ndef printinfo( name, age = 35 ):\\n    \\n    \"This prints a passed info into this function\"\\n    \\n    print (\"Name: \", name)\\n    print (\"Age \", age)\\n    return;\\n\\n# Now you can call printinfo function\\nprintinfo( age=50, name=\"miki\" )\\nprintinfo( name=\"miki\" )\\n\\nprintinfo(name=\"miki\", age=50)\\nprintinfo(name=\"miki\")', '# Default arguments\\n\\ndef printinfo( name, age = 35 ):\\n    \\n    \"This prints a passed info into this function\"\\n    \\n    print (\"Name: \", name)\\n    print (\"Age \", age)\\n    return;\\n\\n# Now you can call printinfo function\\nprintinfo(age=50, name=\"miki\" )\\n\\nprintinfo(name=\"miki\")\\n\\nprintinfo(name=\"miki\", age=50)', 'def division(num, den):\\n    quotient = num/den\\n    print (\"num:{} den:{} quotient:{}\".format(num, den, quotient))\\n\\ndivision(10,5)\\ndivision(5,10)\\n\\ndivision(num=10, den=5)\\ndivision(den=5, num=10)', 'def division(num, den):\\n    quotient = num/den\\n    print (\"num:{} den:{} quotient:{}\".format(num, den, quotient))\\n\\ndivision(10,5)\\ndivision(5,10)\\n\\ndivision(num=10, den=5)\\ndivision(den=5, num=10)\\n\\n# When using keyword arguments, it is not necessary to follow the order of formal arguments in function definition.', 'def division(num, den):\\n    quotient = num/den\\n    print (\"num:{} den:{} quotient:{}\".format(num, den, quotient))\\n\\ndivision(10,5)\\ndivision(5,10)\\n\\ndivision(num=10, den=5)\\ndivision(den=5, num=10)\\n\\n# When using keyword arguments, it is not necessary to follow the order of formal arguments in function definition.\\n\\ndivision(10, den=5)\\ndivision(num=5, 10)', 'def division(num, den):\\n    quotient = num/den\\n    print (\"num:{} den:{} quotient:{}\".format(num, den, quotient))\\n\\ndivision(10,5)\\ndivision(5,10)\\n\\ndivision(num=10, den=5)\\ndivision(den=5, num=10)\\n\\n# When using keyword arguments, it is not necessary to follow the order of formal arguments in function definition.\\n\\ndivision(10, den=5)\\n#division(num=5, 10) #positional arguments must be before the keyword arguments while using mixed calling.', 'def intr(amt,*, rate):\\n    val = amt*rate/100\\n    return val\\ninterest = intr(1000, rate=10)', 'def intr(amt,*, rate):\\n    val = amt*rate/100\\n    return val\\ninterest = intr(1000, rate=10)\\nprint(interest)', 'def intr(amt,*, rate):\\n    val = amt*rate/100\\n    return val\\ninterest = intr(1000, rate=10)\\nprint(interest)\\n\\ninterest = intr(1000, 10)\\nprint(interest)', 'def intr(amt,*, rate):\\n    val = amt*rate/100\\n    return val\\ninterest = intr(1000, rate=10)\\nprint(interest)\\n\\n#interest = intr(1000, 10)\\nprint(interest)', 'def intr(amt,*, rate):\\n    val = amt*rate/100\\n    return val\\ninterest = intr(1000, rate=10)\\nprint(interest)\\n\\n#interest1 = intr(1000, 10)\\nprint(interest1)', 'def intr(amt,*, rate):\\n    val = amt*rate/100\\n    return val\\ninterest = intr(1000, rate=10)\\nprint(interest)\\n\\n# interest1 = intr(1000, 10) # value for rate must be passed by keyword.\\n# print(interest1)', '# Positional-only arguments --> one or more arguments can not accept their value with keywords\\n\\ndef greet(name, /, message=\"Hello\"):\\n    print(f\"{message}, {name}!\")\\n\\ngreet(\"Alice\")          # Valid: positional argument for \\'name\\'\\ngreet(\"Bob\", \"Hi\")      # Error: \\'message\\' is positional-only\\ngreet(name=\"Charlie\")   # Error: \\'name\\' cannot be a keyword argument', '# Positional-only arguments --> one or more arguments can not accept their value with keywords\\n\\ndef greet(name, /, message=\"Hello\"):\\n    print(f\"{message}, {name}!\")\\n\\ngreet(\"Alice\")          # Valid: positional argument for \\'name\\'\\n# greet(\"Bob\", \"Hi\")      # Error: \\'message\\' is positional-only\\n# greet(name=\"Charlie\")   # Error: \\'name\\' cannot be a keyword argument', '# Positional-only arguments\\n\\ndef myfunction(x, /, y, *, z):\\n    print (x, y, z)\\n    \\nmyfunction(10, y=20, z=30)\\nmyfunction(10, 20, z=30)', '# Positional-only arguments\\n\\ndef myfunction(x, /, y, *, z):\\n    print (x, y, z)\\n    \\nmyfunction(10, y=20, z=30)\\nmyfunction(10, 20, z=30)\\n\\n# these calls raise errors\\n\\n# myfunction(x=10, y=20, z=30) \\n# myfunction(10, 20, 30) ', '# sum of numbers\\ndef add(*args):\\n    s=0\\n    for x in args:\\n        s=s+x\\n    return s\\n\\nresult = add(10,20,30,40)\\nprint (result)\\n\\nresult = add(1,2,3)\\nprint (result)', 'def find_squre():\\n    \\n    \"\"\"Do nothing, but document it.\\n\\n    No, really, it doesn\\'t do anything.\\n    \"\"\"\\n    pass\\n\\nfind_squre(find_squre.__doc__) # this will execute without any error or any action', 'def find_squre():\\n    \\n    \"\"\"Do nothing, but document it.\\n\\n    No, really, it doesn\\'t do anything.\\n    \"\"\"\\n    pass\\n\\nfind_squre(find_squre. __doc__) # this will execute without any error or any action', 'def find_squre():\\n    \\n    \"\"\"Do nothing, but document it.\\n\\n    No, really, it doesn\\'t do anything.\\n    \"\"\"\\n    pass\\n\\nfind_squre(find_squre.__doc__) # this will execute without any error or any action', 'def my_function():\\n    \"\"\"Do nothing, but document it.\\n\\n    No, really, it doesn\\'t do anything.\\n    \"\"\"\\n    pass\\n\\nprint(my_function.__doc__)', 'def my_function():\\n    \"\"\"Do nothing, but document it.\\n\\n    No, really, it doesn\\'t do anything.\\n    \"\"\"\\n    pass\\n\\nprint(my_function.__doc__)\\nprint(my_function.__doc__)', 'def my_function():\\n    \"\"\"Do nothing, but document it.\\n\\n    No, really, it doesn\\'t do anything.\\n    \"\"\"\\n    pass\\n\\nprint(my_function.__doc__) # accesses the docstring of the my_function and prints it.', 'def addr(**kwargs):\\n    for k,v in kwargs.items():\\n        print (\"{}:{}\".format(k,v))\\n\\nprint (\"pass two keyword args\")\\naddr(Name=\"John\", City=\"Mumbai\")\\nprint (\"pass four keyword args\")\\n\\n# pass four keyword args\\naddr(Name=\"Raam\", City=\"Mumbai\", ph_no=\"9123134567\", PIN=\"400001\")', '# Multiple Arguments With Arbitrary Keyword Arguments\\n\\ndef percent(math, sci, **optional):\\n    print (\"maths:\", math)\\n    print (\"sci:\", sci)\\n    s=math+sci\\n    for k,v in optional.items():\\n        print (\"{}:{}\".format(k,v))\\n        s=s+v\\n    return s/(len(optional)+2)\\n\\nresult=percent(math=80, sci=75, Eng=70, Hist=65, Geo=72)\\nprint (\"percentage:\", result)', '# Required Arguments With Arbitrary Arguments\\n#avg of first test and best of following tests\\n\\ndef avg(first, *rest):\\n    second=max(rest)\\n    return (first+second)/2\\n   \\nresult=avg(40,30,50,25)\\nprint (result)', '# Required Arguments With Arbitrary Arguments\\n# avg of first test and best of following tests\\n\\ndef avg(first, *rest):\\n    print(first)\\n    second=max(rest)\\n    print(second)\\n    return (first+second)/2\\n   \\nresult=avg(40,30,50,25)\\nprint (result)', '# Required Arguments With Arbitrary Arguments\\n# avg of first test and best of following tests\\n\\ndef avg(first, *rest):\\n    #print(first)\\n    second=max(rest)\\n    #print(second)\\n    return (first+second)/2\\n   \\nresult=avg(40,30,50,25)\\nprint (result)', \"x=10\\nif(x>5):\\n    print('x is greater than 5')\\n\\nx=10\\nif(x>15):\\n    print('x is greater than 5')\", '# if-else statement\\nx = 3\\nif x > 5:\\n    print(\"x is greater than 5\")\\nelse:\\n    print(\"x is not greater than 5\")', '# if-elif-else statement\\nx = 7\\nif x > 10:\\n    print(\"x is greater than 10\")\\nelif x > 5:\\n    print(\"x is greater than 5 but not greater than 10\")\\nelse:\\n    print(\"x is 5 or less\")', 'marks=int(input(\"Enter the marks?\"))\\n\\nif marks>85 and marks<=100:\\n    print(\"Congrats! you scored grade A\")\\nelif marks >60 and marks<=85:\\n    print(\\'You scored grade B+\\')\\nelif marks >40 and marks <=60:\\n    print(\\'You scored grade B\\')\\nelif (marks >30 and marks <=40):\\n    print(\\'You scored grade C\\')\\nelse:\\n    print(\\'Sorry, you are failed\\')', \"amount =2500\\nprint ('Amount=',amount)\\nif amount >10000:\\n    discount=amount*20 /100\\nelse:\\n    if amount>5000:\\n        discount=amount * 10 /100\\n    else:\\n        if amount>1000:\\n            discount =amount*5/100\\n        else:\\n            discount=0\\nprint('Payable amount=', amount-discount)\", \"amount =4500\\nprint ('Amount=',amount)\\nif amount >10000:\\n    discount=amount*20 /100\\nelif amount>5000:\\n    discount=amount * 10 /100\\nelif amount>1000:\\n    discount =amount*5/100\\nelse:\\n    discount=0\\nprint('Payable amount=', amount-discount)\", 'var =100\\nif(var==100): print(\\'Values of expression is 100\\')\\nprint (\"Thank you!\")\\n\\nvar =100\\nif(var==10): print(\\'Values of expression is 100\\')\\nprint (\"Thank you!\")', 'for i in [2,3,5]:\\n    print(i)', 'for i in range(1,10):\\n    print(i)', \"for i in range(1,10,2):\\n    print(i)\\nprint('--------------------')\\nfor i in range(4,10,2):\\n    print(i)\", 'for item in \"Welcome to python learning\":\\n    print(item)', 'fruits=(\"apple\",\"orange\",\"Mango\")\\nfor i in range(len(fruits)):\\n    print(fruits[i])\\nprint(\\'-------------------------------\\')\\n    \\nfruits=(\"apple\",\"orange\",\"Mango\")\\nfor i in range(len(fruits)):\\n    print(fruits[i].upper())\\n    \\nprint(\\'-------------------------------\\')\\n    \\nfruits=(\"apple\",\"orange\",\"Mango\")\\nfor i in range(len(fruits)):\\n    print(fruits[i].capitalize())\\nelse:\\n    print(\"Iterated all elements\")', 'number=[1,2,3,4,5]\\nfor num in number:\\n    if num % 2==0:\\n        print(f\"{num} is even number\")\\n    else:\\n        print(f\"{num} is odd number\")', 'for i in range(1,6):\\n    for j in range (1,6):\\n        print(\"*\", end=\"\")\\n    print(\"\\\\n\", end=\"\")', 'for i in range(1,6):\\n    for j in range (i,6):\\n            print(j, end=\"\")\\n    print(\"\\\\n\", end=\"\")', \"a = ['Mary', 'had', 'a', 'little', 'lamb']\\nfor i in range(len(a)):\\n    print(i, a[i])\\n\\nprint('---------------------------------')\\n    \\nfor i in a:\\n    print(i)\", 'numbers={\\'10\\':\"Ten\", \\'20\\':\"Twenty\"}\\nfor i in numbers:\\n    print(i)', 'numbers={\\'10\\':\"Ten\", \\'20\\':\"Twenty\"}\\nfor i in numbers:\\n    print(i,\":\",numbers[i])', 'numbers={\\'10\\':\"Ten\", \\'20\\':\"Twenty\"}\\nfor i in numbers.items():\\n    print(i) # tuple element ', 'numbers={\\'10\\':\"Ten\", \\'20\\':\"Twenty\"}\\nfor i,j in numbers.items():\\n    print(i,\":\",j) # tuple element ', 'numbers={\\'10\\':\"Ten\", \\'20\\':\"Twenty\"}\\nfor i in numbers.keys():\\n    print(i,\":\", numbers[i])', 'i=1\\nwhile(i<10):\\n    print(i)\\n    i+=1', 'number=5\\nwhile (number<10):\\n    print(number)\\n    number+=1\\nelse:\\n    print(\"loop ends\")', \"a=int(input('Enter a number (-1 to quit):'))\\nwhile a!=-1:\\n    a=int(input('Enter a number (-1 to quit):'))\", \"count = 0\\nwhile True:\\n    count+=1\\n    print(f'count is {count}')\\n    \\n    if count ==10:\\n        break\\nprint('The loop has ended.')\", 'a=[1,2,3,4]\\nwhile a:\\n    print(a.pop())', 'number=10\\nwhile(number>5):print(number);number-=1', 'for i in range(65,70):\\n    for j in range (i,70):\\n        print(chr(i),end=\"\")\\n    print(\"\\\\n\",end=\"\")', 'i=65\\nwhile (i<70):\\n    j=i\\n    while (j<70):\\n        print(chr(i), end=\"\")\\n        j+=1\\n    print(\"\\\\n\", end=\"\")\\n    i+=1', 'for string in \"python learning\":\\n    if string == \\'o\\' or string ==\\'p\\' or string ==\\'t\\':\\n        break\\n    else:\\n        print(f\\'Current Letter:{string}\\')', 'for i in range (1,20):\\n    for i in range(i,20):\\n        if (i%2==0):\\n            break\\n        else:\\n            print(i,end=\"\")\\n    print(\" \", end=\" \")', 'for string in \"python learning\":\\n    if string == \\'o\\' or string ==\\'p\\' or string ==\\'t\\':\\n        continue\\n        print(\"Hai\") # not executed \\n    print(f\\'Current Letter:{string}\\')', 'for i in range(1,10):\\n    pass\\nprint(f\"Last value {i}\")', \"number = [2,4,5,6,7]\\nsum1=0\\nfor num in number:\\n    sum1=sum1+num**2\\nprint(f'The sum of squre is {sum1}')\", \"number = [2,4,5,6,7]\\nsum1=0\\nfor num in range(len(number)):\\n    sum1=sum1+num**2\\nprint(f'The sum of squre is {sum1}')\", 'def weekdays(n):\\n    match n:\\n        case 0: return \"Monaday\"\\n        case 1: return \"Tuesday\"\\n        case 2: return \"Wednessday\"\\n        case 3: return \"Thuresday\"\\n        case 4: return \"Friday\"\\n        case 5: return \"Saturday\"\\n        case 6: return \"Sunday\"\\nprint(weekdays(3))\\nprint(weekdays(5))\\nprint(weekdays(7))', 'def vowels(n):\\n    match n:\\n        case \\'A\\': return \"It is vowels\"\\n        case \\'E\\': return \"It is vowels\"\\n        case \\'I\\': return \"It is vowels\"\\n        case \\'O\\': return \"It is vowels\"\\n        case \\'U\\': return \"It is vowels\"\\n        case _: return \\'It is not vowels\\'\\nprint(vowels(\\'k\\'))\\nprint(vowels(\\'E\\'))', 'def access(user):\\n    match user:\\n        case \"admin\" | \"manager\": return \"Full access\"\\n        case \"Guest\": return \"Limited access\"\\n        case _: return \"No access\"\\nprint(access(\"manager\"))\\nprint(access(\"Guest\"))\\nuser1=str(input(\"Enter your preferences: \"))\\nprint(access(user1))', '# same way we can use set also (x,y)\\ndef greeting(details):\\n    match details:\\n        case [item, name]:\\n            return f\\'good {item} {name}!\\'\\n        case [time, *names]:\\n            msg=\\'\\'\\n            for name in names:\\n                msg+=f\\'Good {time} {name}!\\\\n\\'\\n            return msg\\nprint (greeting([\"Morning\",\"Priya\"]))\\nprint (greeting([\"Afternoon\",\"Riya\"]))\\nprint (greeting([\"Morning\",\"Priya\", \"Ram\",\"Manoj\"]))', 'def intr(details):\\n    match details:\\n        case [amt,duration] if amt<10000:\\n            return amt*10*duration/100\\n        case [amt, duration] if amt>=10000:\\n            return amt*15*duration/100\\nprint(\"Interest=\", intr([5000,5]))\\nprint(\"Interest=\", intr([15000,3]))', 'import builtins\\nprint(dir(builtins))', 'list1 = [\\'hi\\',\\'how\\',\\'are\\',\\'you\\',\\'2024\\']\\nprint(len(list1))\\nprint(\\'------------------------------------\\')\\n \\ntuple1 = (1,2,3,4)\\n# printing length of tuple1\\nprint(len(tuple1))\\nprint(max(tuple1))\\nprint(min(tuple1))\\n\\nprint(\\'------------------------------------\\')\\n \\nstring1 = \"pythonlearning\"\\n# printing length of string1\\nprint(len(string1))\\n\\nprint(\\'-----------------------------------\\')\\nprint(round(3.5673))', '# Using various built-in functions\\nnumbers = [10, 5, 8, 20, 15]\\n\\n# Find the length of the list\\nlength = len(numbers)\\nprint(\"Length of the list:\", length)\\n\\n\\n# Find the maximum and minimum values in the list\\nmax_value = max(numbers)\\nmin_value = min(numbers)\\nprint(\"Maximum value in the list:\", max_value)\\nprint(\"Minimum value in the list:\", min_value)\\n\\n# Read input from the user\\nname = input(\"Enter your name: \")\\nprint(\"Hello,\", name)\\n\\n# Round a number to two decimal places\\npi = 3.14159\\nrounded_pi = round(pi, 2)\\nprint(\"Rounded pi:\", rounded_pi)\\n\\nfruits = [\\'apple\\', \\'banana\\', \\'cherry\\']\\nfor index, fruit in enumerate(fruits):\\n    print(index, fruit)  # Returns an enumerate object that yields pairs of index and value from an iterable.', \"# Simple Function\\n\\ndef greet():\\n    print('Hello, Welcome to python learning')\\ngreet() # function call\", '# Function with Arguments\\n\\ndef greet(name):\\n    print(f\\'Hello {name}, Welcome to python learning\\')\\n    \\ngreet(\\'Mona\\') # call the function and pass arguments\\nprint(\"Outside Function\")', '# if we miss argument, it will show error\\n\\ndef greet(name):\\n    print(f\\'Hello {name}, Welcome to python learning\\')\\n    \\ngreet() # call the function and pass arguments\\nprint(\"Outside Function\")', '# Function with two Arguments\\n\\ndef add(num1, num2):\\n    return num1+num2\\n\\nadd(5,6) # pass two arguments', 'def add(num1, num2):\\n    return num1+num2\\n\\nc=add(3,6)\\nprint(\"Addition:\",c)\\nprint(\"Addition:\",add(5,5))', '# Keyword argument\\n# skip arguments or place them out of order\\ndef printinfo( name, age ):\\n    \\n    \"This prints a passed info into this function\"\\n    \\n    print (\"Name: \", name)\\n    print (\"Age \", age)\\n    return;\\n\\n# Now you can call printinfo function\\nprintinfo( age=50, name=\"miki\" )\\nprintinfo(\\'mona\\',25)\\n\\n#printinfo(25, \\'mona\\')', '#Function with Default Arguments\\n\\ndef greet(name=\"Guest\"):\\n    print(f\"Hello, {name}!\")\\n\\ngreet()        # Output: Hello, Guest!\\ngreet(\"Alice\") # Output: Hello, Alice!', '# default arguments\\n\\ndef division(num, den):\\n    quotient = num/den\\n    print (\"num:{} den:{} quotient:{}\".format(num, den, quotient))\\n\\ndivision(10,5)\\ndivision(5,10)\\n\\ndivision(num=10, den=5)\\ndivision(den=5, num=10)\\n\\n# When using keyword arguments, it is not necessary to follow the order of formal arguments in function definition.\\n\\ndivision(10, den=5)\\n#division(num=5, 10) #positional arguments must be before the keyword arguments while using mixed calling.', '# Positional-only arguments --> one or more arguments can not accept their value with keywords\\n\\ndef greet(name, /, message=\"Hello\"):\\n    print(f\"{message}, {name}!\")\\n\\ngreet(\"Alice\")          # Valid: positional argument for \\'name\\'\\n# greet(\"Bob\", \"Hi\")      # Error: \\'message\\' is positional-only\\n# greet(name=\"Charlie\")   # Error: \\'name\\' cannot be a keyword argument', 'def find_squre():\\n    \\n    \"\"\"Do nothing, but document it.\\n\\n    No, really, it doesn\\'t do anything.\\n    \"\"\"\\n    pass\\n\\nfind_squre() # this will execute without any error or any action', 'def my_function():\\n    \"\"\"Do nothing, but document it.\\n\\n    No, really, it doesn\\'t do anything.\\n    \"\"\"\\n    pass\\n\\nprint(my_function.__doc__) # accesses the docstring of the my_function and prints it.', \"def factorial(x):\\n    ''' This is recursive function to find the factorial of an integer''' # doc string\\n    if x==1:\\n        return 1\\n    else:\\n        return (x*factorial(x-1))\\nnum=3\\nprint('The factorial of', num, 'is', factorial(num))\", 'import math # built-in models\\n \\nsqure_root=math.sqrt(3)\\n\\nprint(f\\'Squre Root of 3 is {squre_root}\\')\\nprint(\"Squre Root of 3 is {:.2f}\".format(squre_root))\\n\\npower=math.pow(2,3)\\nprint(f\\'Power of 3 is:{power}\\')\\n\\nprint(f\\'Factorial of 5 is:{math.factorial(5)}\\')', 'print(dir(math))', 'import random\\n\\n# Generate a random integer between 1 and 10\\nprint(random.randint(1, 10))\\n\\n# Shuffle a list\\nmy_list = [1, 2, 3, 4, 5]\\nrandom.shuffle(my_list)\\nprint(my_list)', 'print(dir(random))', \"import os\\n\\n# Get current working directory\\nprint(os.getcwd())\\n\\n# List files in a directory\\nprint(os.listdir('.'))\\n\\nprint('------------------------------------------------------')\\n\\nprint(dir(os))\", '# math_operations.py\\ndef add(x, y):\\n    return x + y\\n\\ndef subtract(x, y):\\n    return x - y\\n\\ndef multiply(x, y):\\n    return x * y\\n\\ndef divide(x, y):\\n    if y != 0:\\n        return x / y\\n    else:\\n        return \"Error: Division by zero\"', '# Import the whole module\\nimport math_operations\\n\\nresult = math_operations.add(5, 3)\\nprint(result)  # Output: 8', '# Import specific functions from the module\\nfrom math_operations import add, multiply\\n\\nresult_add = add(5, 3)\\nresult_multiply = multiply(4, 6)\\nprint(result_add, result_multiply)  # Output: 8 24', 'print(dir(math_operations))', 'from math_operations import *  #Possible to import all the names from a module into the current namespace\\n\\nresult_add = add(3, 3)\\nresult_multiply = multiply(4, 5)\\nprint(result_add, result_multiply)  # Output: 9 20', 'from math_operations as x  #assign an alias name to the imported module\\n\\nprint (\"sum:\",x.add(10,20))\\nprint (\"average:\", x.subtract(10,20))\\nprint (\"power:\", x.multiply(10, 2))', 'import math_operations as x  #assign an alias name to the imported module\\n\\nprint (\"sum:\",x.add(10,20))\\nprint (\"average:\", x.subtract(10,20))\\nprint (\"power:\", x.multiply(10, 2))', 'add = lambda a,b:a+b\\nprint(add(2,3))', 'data = [(3, 10), (1, 20), (2, 5)]\\nsorted_data = sorted(data, key=lambda x: x[1]) # Sorting a List of Tuples by Second Element:\\nprint(sorted_data) ', 'numbers = [1, 2, 3, 4, 5, 6, 7, 8, 9, 10]\\neven_numbers = list(filter(lambda x: x % 2 == 0, numbers))\\nprint(even_numbers)  # Output: [2, 4, 6, 8, 10]', 'numbers = [1, 2, 3, 4, 5]\\nsquared_numbers = list(map(lambda x: x ** 2, numbers)) # Mapping a Function to a List, \\nprint(squared_numbers)  ', 'check_age=lambda age: \"Adult\" if age >=18 else \"Minor\"\\nprint(check_age(25))\\nprint(check_age(12))', 'def add(x: int, y: int) -> int:\\n    \"\"\"Add two integers and return the result.\"\"\"\\n    return x + y\\n\\nprint(3,4)', 'from typing import List, Tuple\\n\\ndef process_data(data: List[str], index: int) -> Tuple[str, int]:\\n    \"\"\"Process data and return a tuple.\"\"\"\\n    result = data[index]\\n    return result, len(result)\\n\\n# Example usage:\\ndata_list = [\"apple\", \"banana\", \"cherry\"]\\nindex_value = 1\\n\\nresult_tuple = process_data(data_list, index_value)\\nprint(result_tuple)  # Output: (\\'banana\\', 6)', \"print(add.__annotations__)  # Output: {'x': <class 'int'>, 'y': <class 'int'>, 'return': <class 'int'>}\", 'global_var = 10\\n\\ndef my_function():\\n    print(global_var)  # Accessible inside the function\\n\\nmy_function()  # Output: 10', \"def my_function():\\n    local_var = 20  # Local variable\\n\\nmy_function()\\nprint(local_var)  # Error: NameError: name 'local_var' is not defined\", \"def my_function():\\n    local_var = 20  # Local variable\\n\\nmy_function()\\nprint(local_var)  # Error: NameError: name 'local_var' is not defined\", 'def outer_function():\\n    outer_var = \"Hello\"\\n\\n    def inner_function():\\n        print(outer_var)  # Accessing variable from outer function\\n\\n    inner_function()  # Output: Hello\\n\\nouter_function()', 'print(\"Hello, world!\")  # Using built-in function', 'def yourfunction():\\n   a = 5\\n   b = 6 \\n   # nested function\\n   def myfunction():\\n      # nonlocal function \\n      nonlocal a\\n      nonlocal b\\n      a = 10\\n      b = 20 \\n      print(\"variable a:\", a)\\n      print(\"variable b:\", b)\\n      return a+b\\n   print (myfunction())\\n return a+b\\nprint(yourfunction())', 'def yourfunction():\\n   a = 5\\n   b = 6 \\n   # nested function\\n   def myfunction():\\n      # nonlocal function \\n      nonlocal a\\n      nonlocal b\\n      a = 10\\n      b = 20 \\n      print(\"variable a:\", a)\\n      print(\"variable b:\", b)\\n      return a+b\\n   print (myfunction())\\n\\nprint(yourfunction())', 'def yourfunction():\\n   a = 5\\n   b = 6 \\n   # nested function\\n   def myfunction():\\n      # nonlocal function \\n      nonlocal a\\n      nonlocal b\\n      a = 10\\n      b = 20 \\n      print(\"variable a:\", a)\\n      print(\"variable b:\", b)\\n      return a+b\\n   print (myfunction())\\n\\n   return a+b \\n\\nprint(yourfunction())', 'def yourfunction():\\n   a = 5\\n   b = 6 \\n   # nested function\\n   def myfunction():\\n      # nonlocal function \\n      nonlocal a\\n      nonlocal b\\n      a = 10\\n      b = 20 \\n      print(\"variable a:\", a)\\n      print(\"variable b:\", b)\\n      return a+b\\n   print (myfunction())\\n\\nyourfunction()', '# Global variable\\nglobal_var = 10\\n\\ndef outer_function():\\n    # Enclosing (nonlocal) variable\\n    enclosing_var = 20\\n    \\n    def inner_function():\\n        # Local variable\\n        local_var = 30\\n        print(\"Local Variable:\", local_var)\\n        print(\"Enclosing Variable:\", enclosing_var)\\n        print(\"Global Variable:\", global_var)\\n    \\n    inner_function()\\n\\n# Accessing global variable outside functions\\nprint(\"Global Variable (Outside functions):\", global_var)\\n\\nouter_function()', '# Global variable\\nglobal_var = 10\\n\\ndef outer_function():\\n    # Enclosing (nonlocal) variable\\n    enclosing_var = 20\\n    \\n    def inner_function():\\n        # Local variable\\n        local_var = 30\\n        print(\"Local Variable:\", local_var)\\n        print(\"Enclosing Variable:\", enclosing_var)\\n        print(\"Global Variable:\", global_var)\\n    \\n    inner_function()\\n\\n# Accessing global variable outside functions\\nprint(\"Global Variable (Outside functions):\", global_var)\\n\\nouter_function()', '# Namespace Conflict in Python\\n\\nmarks = 50 # this is a global variable\\ndef myfunction():\\n    marks = 70 # this is a local variable\\n    print (marks)\\n   \\nmyfunction()\\nprint (marks) # prints global value', 'marks = 50 # this is a global variable\\ndef myfunction():\\n   marks = marks + 20\\n   print (marks)\\n\\nmyfunction()\\nprint (marks) # prints global value', 'var1 = 50 # this is a global variable\\nvar2 = 60 # this is a global variable\\n\\ndef myfunction():\\n    \\n   \"Change values of global variables\"\\n\\n   globals()[\\'var1\\'] = globals()[\\'var1\\']+10\\n   global var2\\n   var2 = var2 + 20\\n\\nmyfunction()\\nprint (\"var1:\",var1, \"var2:\",var2) #shows global variables with changed values', 'def my_function():\\n    a = 10\\n    b = 20\\n    print(locals())\\n\\nmy_function()', 'global_var = 100\\n\\ndef my_function():\\n    print(globals())\\n\\nmy_function()', 'global_var = 100\\n\\ndef my_function1():\\n    print(globals())\\n\\nmy_function()', 'global_var = 100\\n\\ndef my_fun():\\n    print(globals())\\n\\nmy_function()', 'def my_function():\\n    a = 10\\n    b = 20\\n    print(locals())\\n\\nmy_function()', 'global_var = 100\\n\\ndef my_fun():\\n    print(globals())\\n\\nmy_function()', 'global_var = 100\\n\\ndef my_fun():\\n    print(globals())\\n\\nmy_fun()'], '_oh': {99: 11}, '_dh': [WindowsPath('C:/Users/mohana/Python Tutorial')], 'In': ['', 'def find_squre(num1, num2):\\n    result =num1*num2\\n    return result\\n\\nsqure=find_squre(3,3)\\nprint(\"Addition:\",squre)', '#Function with Default Arguments\\n\\ndef greet(name=\"Guest\"):\\n    print(f\"Hello, {name}!\")\\n\\ngreet()        # Output: Hello, Guest!\\ngreet(\"Alice\") # Output: Hello, Alice!', '#Function with Variable-Length Arguments, Functions that accept a variable number of arguments using *args or **kwargs.\\n\\ndef sum_all(*args):\\n    return sum(args)\\n\\ntotal = sum_all(1, 2, 3, 4)\\nprint(total)  # Output: 10', '# Generator Functions\\n\\ndef countdown(n):\\n    while n > 0:\\n        yield n\\n        n -= 1\\n\\nfor i in countdown(5):\\n    print(i)  # Outputs: 5, 4, 3, 2, 1', 'def testfunction(arg):\\n    print (\"ID inside the function:\", id(arg))\\n\\nvar=\"Hello\"\\nprint (\"ID before passing:\", id(var))\\ntestfunction(var)', 'def testfunction(arg):\\n   print (\"ID inside the function:\", id(arg))\\n   arg=arg+1\\n   print (\"new object after increment\", arg, id(arg))\\n\\nvar=10\\nprint (\"ID before passing:\", id(var))\\ntestfunction(var)\\nprint (\"value after function call\", var)', 'def testfunction(arg):\\n    print (\"Inside function:\",arg)\\n    print (\"ID inside the function:\", id(arg))\\n    arg=arg.append(100)\\n   \\nvar=[10, 20, 30, 40]\\nprint (\"ID before passing:\", id(var))\\ntestfunction(var)\\nprint (\"list after function call\", var)', '# Function with Arguments\\n\\ndef greet(name):\\n    print(f\\'Hello {name}, Welcome to python learning\\')\\ngreet() # call the function and pass arguments\\nprint(\"Outside Function\")', '# Keyword argument\\n# skip arguments or place them out of order\\ndef printinfo( name, age ):\\n   \"This prints a passed info into this function\"\\n   print (\"Name: \", name)\\n   print (\"Age \", age)\\n   return;\\n\\n# Now you can call printinfo function\\nprintinfo( age=50, name=\"miki\" )', '# Keyword argument\\n# skip arguments or place them out of order\\ndef printinfo( name, age ):\\n    \\n    \"This prints a passed info into this function\"\\n    \\n    print (\"Name: \", name)\\n    print (\"Age \", age)\\n    return;\\n\\n# Now you can call printinfo function\\nprintinfo( age=50, name=\"miki\" )\\nprintinfo(\\'mona\\',25)', '# Keyword argument\\n# skip arguments or place them out of order\\ndef printinfo( name, age ):\\n    \\n    \"This prints a passed info into this function\"\\n    \\n    print (\"Name: \", name)\\n    print (\"Age \", age)\\n    return;\\n\\n# Now you can call printinfo function\\nprintinfo( age=50, name=\"miki\" )\\nprintinfo(\\'mona\\',25)\\nprintinfo(25, \\'mona\\')', '# Positional-only arguments\\n\\ndef greet(name, /, message=\"Hello\"):\\n    print(f\"{message}, {name}!\")\\n\\ngreet(\"Alice\")          # Valid: positional argument for \\'name\\'\\ngreet(\"Bob\", \"Hi\")      # Error: \\'message\\' is positional-only\\ngreet(name=\"Charlie\")   # Error: \\'name\\' cannot be a keyword argument', 'def posFun(x, y, /, z):\\n    print(x + y + z)\\n\\nprint(\"Evaluating positional-only arguments: \")\\nposFun(33, 22, z=11) ', 'def posFun(x, y, /, z):\\n    print(x + y + z)\\n\\nprint(\"Evaluating positional-only arguments: \")\\nposFun(33, 22, z=11) \\nposFun(33, 22, 11) ', 'def posFun(x, y, /, z):\\n    print(x + y + z)\\n\\nprint(\"Evaluating positional-only arguments: \")\\nposFun(33, 22, z=11) \\nposFun(30, 26, 11) ', 'def posFun(x, y, /, z):\\n    print(x + y + z)\\n\\nprint(\"Evaluating positional-only arguments: \")\\nposFun(33, 22, z=11) \\nposFun(30, 26, 11) \\nposFun(30, 26, a=11)', 'def posFun(x, y, /, z):\\n    print(x + y + z)\\n\\nprint(\"Evaluating positional-only arguments: \")\\nposFun(33, 22, z=11) \\nposFun(30, 26, 11) \\nposFun(x=30, 26, 11) ', 'def posFun(x, y, /, z):\\n    print(x + y + z)\\n\\nprint(\"Evaluating positional-only arguments: \")\\nposFun(33, 22, z=11) \\nposFun(30, 26, 11) \\n#posFun(x=30, 26, 11) ', '# Keyword-only arguments\\n\\ndef posFun(*, num1, num2, num3):\\n    print(num1 * num2 * num3)\\n\\nprint(\"Evaluating keyword-only arguments: \")\\nposFun(num1=6, num2=8, num3=5) ', 'def greet(name, *, message=\"Hello\"):\\n    \\n    \\'\\'\\'Keyword-only arguments are function arguments that can only be passed by keyword and not by position. \\'\\'\\'\\n    \\n    print(f\"{message}, {name}!\")\\n\\ngreet(\"Alice\")                  # Valid: positional argument for \\'name\\'\\ngreet(\"Bob\", message=\"Hi\")      # Valid: keyword argument for \\'message\\'\\ngreet(name=\"Charlie\")           # Valid: keyword argument for \\'name\\'\\ngreet(name=\"Dave\", \"Hola\")      # Error: \\'message\\' is keyword-only\\ngreet(\"Eve\", \"Bonjour\")         # Error: \\'message\\' is keyword-only', '# Function with Variable-Length Arguments\\n\\ndef printinfo( arg1, *vartuple ):\\n    \\n    \"This prints a variable passed arguments\"\\n    \\n    print (\"Output is: \")\\n    print (arg1)\\n    for var in vartuple:\\n        print (var)\\n    return;\\n\\n# Now you can call printinfo function\\nprintinfo( 10 )\\nprintinfo( 70, 60, 50 )', 'def example_function(positional_arg, default_arg=\"default\", *, keyword_only_arg, **kwargs):\\n    print(positional_arg)\\n    print(default_arg)\\n    print(keyword_only_arg)\\n    print(kwargs)\\n\\nexample_function(\"positional\", keyword_only_arg=\"keyword_only\", extra_arg=\"extra\")', 'def percent(phy, maths, maxmarks=200):\\n    val = (phy+maths)*100/maxmarks\\n    return val\\n\\nphy = 60\\nmaths = 70\\nresult = percent(phy,maths)\\nprint (\"percentage:\", result)\\n\\nphy = 40\\nmaths = 46\\nresult = percent(phy,maths, 100)\\nprint (\"percentage:\", result)', '# Default arguments\\n\\ndef printinfo( name, age = 35 ):\\n    \\n    \"This prints a passed info into this function\"\\n    \\n    print (\"Name: \", name)\\n    print (\"Age \", age)\\n    return;\\n\\n# Now you can call printinfo function\\nprintinfo( age=50, name=\"miki\" )\\nprintinfo( name=\"miki\" )\\n\\nprintinfo(name=\"miki\", age=50)', '# Default arguments\\n\\ndef printinfo( name, age = 35 ):\\n    \\n    \"This prints a passed info into this function\"\\n    \\n    print (\"Name: \", name)\\n    print (\"Age \", age)\\n    return;\\n\\n# Now you can call printinfo function\\nprintinfo( age=50, name=\"miki\" )\\nprintinfo( name=\"miki\" )\\n\\nprintinfo(name=\"miki\", age=50)\\nprintinfo(name=\"miki\")', '# Default arguments\\n\\ndef printinfo( name, age = 35 ):\\n    \\n    \"This prints a passed info into this function\"\\n    \\n    print (\"Name: \", name)\\n    print (\"Age \", age)\\n    return;\\n\\n# Now you can call printinfo function\\nprintinfo(age=50, name=\"miki\" )\\n\\nprintinfo(name=\"miki\")\\n\\nprintinfo(name=\"miki\", age=50)', 'def division(num, den):\\n    quotient = num/den\\n    print (\"num:{} den:{} quotient:{}\".format(num, den, quotient))\\n\\ndivision(10,5)\\ndivision(5,10)\\n\\ndivision(num=10, den=5)\\ndivision(den=5, num=10)', 'def division(num, den):\\n    quotient = num/den\\n    print (\"num:{} den:{} quotient:{}\".format(num, den, quotient))\\n\\ndivision(10,5)\\ndivision(5,10)\\n\\ndivision(num=10, den=5)\\ndivision(den=5, num=10)\\n\\n# When using keyword arguments, it is not necessary to follow the order of formal arguments in function definition.', 'def division(num, den):\\n    quotient = num/den\\n    print (\"num:{} den:{} quotient:{}\".format(num, den, quotient))\\n\\ndivision(10,5)\\ndivision(5,10)\\n\\ndivision(num=10, den=5)\\ndivision(den=5, num=10)\\n\\n# When using keyword arguments, it is not necessary to follow the order of formal arguments in function definition.\\n\\ndivision(10, den=5)\\ndivision(num=5, 10)', 'def division(num, den):\\n    quotient = num/den\\n    print (\"num:{} den:{} quotient:{}\".format(num, den, quotient))\\n\\ndivision(10,5)\\ndivision(5,10)\\n\\ndivision(num=10, den=5)\\ndivision(den=5, num=10)\\n\\n# When using keyword arguments, it is not necessary to follow the order of formal arguments in function definition.\\n\\ndivision(10, den=5)\\n#division(num=5, 10) #positional arguments must be before the keyword arguments while using mixed calling.', 'def intr(amt,*, rate):\\n    val = amt*rate/100\\n    return val\\ninterest = intr(1000, rate=10)', 'def intr(amt,*, rate):\\n    val = amt*rate/100\\n    return val\\ninterest = intr(1000, rate=10)\\nprint(interest)', 'def intr(amt,*, rate):\\n    val = amt*rate/100\\n    return val\\ninterest = intr(1000, rate=10)\\nprint(interest)\\n\\ninterest = intr(1000, 10)\\nprint(interest)', 'def intr(amt,*, rate):\\n    val = amt*rate/100\\n    return val\\ninterest = intr(1000, rate=10)\\nprint(interest)\\n\\n#interest = intr(1000, 10)\\nprint(interest)', 'def intr(amt,*, rate):\\n    val = amt*rate/100\\n    return val\\ninterest = intr(1000, rate=10)\\nprint(interest)\\n\\n#interest1 = intr(1000, 10)\\nprint(interest1)', 'def intr(amt,*, rate):\\n    val = amt*rate/100\\n    return val\\ninterest = intr(1000, rate=10)\\nprint(interest)\\n\\n# interest1 = intr(1000, 10) # value for rate must be passed by keyword.\\n# print(interest1)', '# Positional-only arguments --> one or more arguments can not accept their value with keywords\\n\\ndef greet(name, /, message=\"Hello\"):\\n    print(f\"{message}, {name}!\")\\n\\ngreet(\"Alice\")          # Valid: positional argument for \\'name\\'\\ngreet(\"Bob\", \"Hi\")      # Error: \\'message\\' is positional-only\\ngreet(name=\"Charlie\")   # Error: \\'name\\' cannot be a keyword argument', '# Positional-only arguments --> one or more arguments can not accept their value with keywords\\n\\ndef greet(name, /, message=\"Hello\"):\\n    print(f\"{message}, {name}!\")\\n\\ngreet(\"Alice\")          # Valid: positional argument for \\'name\\'\\n# greet(\"Bob\", \"Hi\")      # Error: \\'message\\' is positional-only\\n# greet(name=\"Charlie\")   # Error: \\'name\\' cannot be a keyword argument', '# Positional-only arguments\\n\\ndef myfunction(x, /, y, *, z):\\n    print (x, y, z)\\n    \\nmyfunction(10, y=20, z=30)\\nmyfunction(10, 20, z=30)', '# Positional-only arguments\\n\\ndef myfunction(x, /, y, *, z):\\n    print (x, y, z)\\n    \\nmyfunction(10, y=20, z=30)\\nmyfunction(10, 20, z=30)\\n\\n# these calls raise errors\\n\\n# myfunction(x=10, y=20, z=30) \\n# myfunction(10, 20, 30) ', '# sum of numbers\\ndef add(*args):\\n    s=0\\n    for x in args:\\n        s=s+x\\n    return s\\n\\nresult = add(10,20,30,40)\\nprint (result)\\n\\nresult = add(1,2,3)\\nprint (result)', 'def find_squre():\\n    \\n    \"\"\"Do nothing, but document it.\\n\\n    No, really, it doesn\\'t do anything.\\n    \"\"\"\\n    pass\\n\\nfind_squre(find_squre.__doc__) # this will execute without any error or any action', 'def find_squre():\\n    \\n    \"\"\"Do nothing, but document it.\\n\\n    No, really, it doesn\\'t do anything.\\n    \"\"\"\\n    pass\\n\\nfind_squre(find_squre. __doc__) # this will execute without any error or any action', 'def find_squre():\\n    \\n    \"\"\"Do nothing, but document it.\\n\\n    No, really, it doesn\\'t do anything.\\n    \"\"\"\\n    pass\\n\\nfind_squre(find_squre.__doc__) # this will execute without any error or any action', 'def my_function():\\n    \"\"\"Do nothing, but document it.\\n\\n    No, really, it doesn\\'t do anything.\\n    \"\"\"\\n    pass\\n\\nprint(my_function.__doc__)', 'def my_function():\\n    \"\"\"Do nothing, but document it.\\n\\n    No, really, it doesn\\'t do anything.\\n    \"\"\"\\n    pass\\n\\nprint(my_function.__doc__)\\nprint(my_function.__doc__)', 'def my_function():\\n    \"\"\"Do nothing, but document it.\\n\\n    No, really, it doesn\\'t do anything.\\n    \"\"\"\\n    pass\\n\\nprint(my_function.__doc__) # accesses the docstring of the my_function and prints it.', 'def addr(**kwargs):\\n    for k,v in kwargs.items():\\n        print (\"{}:{}\".format(k,v))\\n\\nprint (\"pass two keyword args\")\\naddr(Name=\"John\", City=\"Mumbai\")\\nprint (\"pass four keyword args\")\\n\\n# pass four keyword args\\naddr(Name=\"Raam\", City=\"Mumbai\", ph_no=\"9123134567\", PIN=\"400001\")', '# Multiple Arguments With Arbitrary Keyword Arguments\\n\\ndef percent(math, sci, **optional):\\n    print (\"maths:\", math)\\n    print (\"sci:\", sci)\\n    s=math+sci\\n    for k,v in optional.items():\\n        print (\"{}:{}\".format(k,v))\\n        s=s+v\\n    return s/(len(optional)+2)\\n\\nresult=percent(math=80, sci=75, Eng=70, Hist=65, Geo=72)\\nprint (\"percentage:\", result)', '# Required Arguments With Arbitrary Arguments\\n#avg of first test and best of following tests\\n\\ndef avg(first, *rest):\\n    second=max(rest)\\n    return (first+second)/2\\n   \\nresult=avg(40,30,50,25)\\nprint (result)', '# Required Arguments With Arbitrary Arguments\\n# avg of first test and best of following tests\\n\\ndef avg(first, *rest):\\n    print(first)\\n    second=max(rest)\\n    print(second)\\n    return (first+second)/2\\n   \\nresult=avg(40,30,50,25)\\nprint (result)', '# Required Arguments With Arbitrary Arguments\\n# avg of first test and best of following tests\\n\\ndef avg(first, *rest):\\n    #print(first)\\n    second=max(rest)\\n    #print(second)\\n    return (first+second)/2\\n   \\nresult=avg(40,30,50,25)\\nprint (result)', \"x=10\\nif(x>5):\\n    print('x is greater than 5')\\n\\nx=10\\nif(x>15):\\n    print('x is greater than 5')\", '# if-else statement\\nx = 3\\nif x > 5:\\n    print(\"x is greater than 5\")\\nelse:\\n    print(\"x is not greater than 5\")', '# if-elif-else statement\\nx = 7\\nif x > 10:\\n    print(\"x is greater than 10\")\\nelif x > 5:\\n    print(\"x is greater than 5 but not greater than 10\")\\nelse:\\n    print(\"x is 5 or less\")', 'marks=int(input(\"Enter the marks?\"))\\n\\nif marks>85 and marks<=100:\\n    print(\"Congrats! you scored grade A\")\\nelif marks >60 and marks<=85:\\n    print(\\'You scored grade B+\\')\\nelif marks >40 and marks <=60:\\n    print(\\'You scored grade B\\')\\nelif (marks >30 and marks <=40):\\n    print(\\'You scored grade C\\')\\nelse:\\n    print(\\'Sorry, you are failed\\')', \"amount =2500\\nprint ('Amount=',amount)\\nif amount >10000:\\n    discount=amount*20 /100\\nelse:\\n    if amount>5000:\\n        discount=amount * 10 /100\\n    else:\\n        if amount>1000:\\n            discount =amount*5/100\\n        else:\\n            discount=0\\nprint('Payable amount=', amount-discount)\", \"amount =4500\\nprint ('Amount=',amount)\\nif amount >10000:\\n    discount=amount*20 /100\\nelif amount>5000:\\n    discount=amount * 10 /100\\nelif amount>1000:\\n    discount =amount*5/100\\nelse:\\n    discount=0\\nprint('Payable amount=', amount-discount)\", 'var =100\\nif(var==100): print(\\'Values of expression is 100\\')\\nprint (\"Thank you!\")\\n\\nvar =100\\nif(var==10): print(\\'Values of expression is 100\\')\\nprint (\"Thank you!\")', 'for i in [2,3,5]:\\n    print(i)', 'for i in range(1,10):\\n    print(i)', \"for i in range(1,10,2):\\n    print(i)\\nprint('--------------------')\\nfor i in range(4,10,2):\\n    print(i)\", 'for item in \"Welcome to python learning\":\\n    print(item)', 'fruits=(\"apple\",\"orange\",\"Mango\")\\nfor i in range(len(fruits)):\\n    print(fruits[i])\\nprint(\\'-------------------------------\\')\\n    \\nfruits=(\"apple\",\"orange\",\"Mango\")\\nfor i in range(len(fruits)):\\n    print(fruits[i].upper())\\n    \\nprint(\\'-------------------------------\\')\\n    \\nfruits=(\"apple\",\"orange\",\"Mango\")\\nfor i in range(len(fruits)):\\n    print(fruits[i].capitalize())\\nelse:\\n    print(\"Iterated all elements\")', 'number=[1,2,3,4,5]\\nfor num in number:\\n    if num % 2==0:\\n        print(f\"{num} is even number\")\\n    else:\\n        print(f\"{num} is odd number\")', 'for i in range(1,6):\\n    for j in range (1,6):\\n        print(\"*\", end=\"\")\\n    print(\"\\\\n\", end=\"\")', 'for i in range(1,6):\\n    for j in range (i,6):\\n            print(j, end=\"\")\\n    print(\"\\\\n\", end=\"\")', \"a = ['Mary', 'had', 'a', 'little', 'lamb']\\nfor i in range(len(a)):\\n    print(i, a[i])\\n\\nprint('---------------------------------')\\n    \\nfor i in a:\\n    print(i)\", 'numbers={\\'10\\':\"Ten\", \\'20\\':\"Twenty\"}\\nfor i in numbers:\\n    print(i)', 'numbers={\\'10\\':\"Ten\", \\'20\\':\"Twenty\"}\\nfor i in numbers:\\n    print(i,\":\",numbers[i])', 'numbers={\\'10\\':\"Ten\", \\'20\\':\"Twenty\"}\\nfor i in numbers.items():\\n    print(i) # tuple element ', 'numbers={\\'10\\':\"Ten\", \\'20\\':\"Twenty\"}\\nfor i,j in numbers.items():\\n    print(i,\":\",j) # tuple element ', 'numbers={\\'10\\':\"Ten\", \\'20\\':\"Twenty\"}\\nfor i in numbers.keys():\\n    print(i,\":\", numbers[i])', 'i=1\\nwhile(i<10):\\n    print(i)\\n    i+=1', 'number=5\\nwhile (number<10):\\n    print(number)\\n    number+=1\\nelse:\\n    print(\"loop ends\")', \"a=int(input('Enter a number (-1 to quit):'))\\nwhile a!=-1:\\n    a=int(input('Enter a number (-1 to quit):'))\", \"count = 0\\nwhile True:\\n    count+=1\\n    print(f'count is {count}')\\n    \\n    if count ==10:\\n        break\\nprint('The loop has ended.')\", 'a=[1,2,3,4]\\nwhile a:\\n    print(a.pop())', 'number=10\\nwhile(number>5):print(number);number-=1', 'for i in range(65,70):\\n    for j in range (i,70):\\n        print(chr(i),end=\"\")\\n    print(\"\\\\n\",end=\"\")', 'i=65\\nwhile (i<70):\\n    j=i\\n    while (j<70):\\n        print(chr(i), end=\"\")\\n        j+=1\\n    print(\"\\\\n\", end=\"\")\\n    i+=1', 'for string in \"python learning\":\\n    if string == \\'o\\' or string ==\\'p\\' or string ==\\'t\\':\\n        break\\n    else:\\n        print(f\\'Current Letter:{string}\\')', 'for i in range (1,20):\\n    for i in range(i,20):\\n        if (i%2==0):\\n            break\\n        else:\\n            print(i,end=\"\")\\n    print(\" \", end=\" \")', 'for string in \"python learning\":\\n    if string == \\'o\\' or string ==\\'p\\' or string ==\\'t\\':\\n        continue\\n        print(\"Hai\") # not executed \\n    print(f\\'Current Letter:{string}\\')', 'for i in range(1,10):\\n    pass\\nprint(f\"Last value {i}\")', \"number = [2,4,5,6,7]\\nsum1=0\\nfor num in number:\\n    sum1=sum1+num**2\\nprint(f'The sum of squre is {sum1}')\", \"number = [2,4,5,6,7]\\nsum1=0\\nfor num in range(len(number)):\\n    sum1=sum1+num**2\\nprint(f'The sum of squre is {sum1}')\", 'def weekdays(n):\\n    match n:\\n        case 0: return \"Monaday\"\\n        case 1: return \"Tuesday\"\\n        case 2: return \"Wednessday\"\\n        case 3: return \"Thuresday\"\\n        case 4: return \"Friday\"\\n        case 5: return \"Saturday\"\\n        case 6: return \"Sunday\"\\nprint(weekdays(3))\\nprint(weekdays(5))\\nprint(weekdays(7))', 'def vowels(n):\\n    match n:\\n        case \\'A\\': return \"It is vowels\"\\n        case \\'E\\': return \"It is vowels\"\\n        case \\'I\\': return \"It is vowels\"\\n        case \\'O\\': return \"It is vowels\"\\n        case \\'U\\': return \"It is vowels\"\\n        case _: return \\'It is not vowels\\'\\nprint(vowels(\\'k\\'))\\nprint(vowels(\\'E\\'))', 'def access(user):\\n    match user:\\n        case \"admin\" | \"manager\": return \"Full access\"\\n        case \"Guest\": return \"Limited access\"\\n        case _: return \"No access\"\\nprint(access(\"manager\"))\\nprint(access(\"Guest\"))\\nuser1=str(input(\"Enter your preferences: \"))\\nprint(access(user1))', '# same way we can use set also (x,y)\\ndef greeting(details):\\n    match details:\\n        case [item, name]:\\n            return f\\'good {item} {name}!\\'\\n        case [time, *names]:\\n            msg=\\'\\'\\n            for name in names:\\n                msg+=f\\'Good {time} {name}!\\\\n\\'\\n            return msg\\nprint (greeting([\"Morning\",\"Priya\"]))\\nprint (greeting([\"Afternoon\",\"Riya\"]))\\nprint (greeting([\"Morning\",\"Priya\", \"Ram\",\"Manoj\"]))', 'def intr(details):\\n    match details:\\n        case [amt,duration] if amt<10000:\\n            return amt*10*duration/100\\n        case [amt, duration] if amt>=10000:\\n            return amt*15*duration/100\\nprint(\"Interest=\", intr([5000,5]))\\nprint(\"Interest=\", intr([15000,3]))', 'import builtins\\nprint(dir(builtins))', 'list1 = [\\'hi\\',\\'how\\',\\'are\\',\\'you\\',\\'2024\\']\\nprint(len(list1))\\nprint(\\'------------------------------------\\')\\n \\ntuple1 = (1,2,3,4)\\n# printing length of tuple1\\nprint(len(tuple1))\\nprint(max(tuple1))\\nprint(min(tuple1))\\n\\nprint(\\'------------------------------------\\')\\n \\nstring1 = \"pythonlearning\"\\n# printing length of string1\\nprint(len(string1))\\n\\nprint(\\'-----------------------------------\\')\\nprint(round(3.5673))', '# Using various built-in functions\\nnumbers = [10, 5, 8, 20, 15]\\n\\n# Find the length of the list\\nlength = len(numbers)\\nprint(\"Length of the list:\", length)\\n\\n\\n# Find the maximum and minimum values in the list\\nmax_value = max(numbers)\\nmin_value = min(numbers)\\nprint(\"Maximum value in the list:\", max_value)\\nprint(\"Minimum value in the list:\", min_value)\\n\\n# Read input from the user\\nname = input(\"Enter your name: \")\\nprint(\"Hello,\", name)\\n\\n# Round a number to two decimal places\\npi = 3.14159\\nrounded_pi = round(pi, 2)\\nprint(\"Rounded pi:\", rounded_pi)\\n\\nfruits = [\\'apple\\', \\'banana\\', \\'cherry\\']\\nfor index, fruit in enumerate(fruits):\\n    print(index, fruit)  # Returns an enumerate object that yields pairs of index and value from an iterable.', \"# Simple Function\\n\\ndef greet():\\n    print('Hello, Welcome to python learning')\\ngreet() # function call\", '# Function with Arguments\\n\\ndef greet(name):\\n    print(f\\'Hello {name}, Welcome to python learning\\')\\n    \\ngreet(\\'Mona\\') # call the function and pass arguments\\nprint(\"Outside Function\")', '# if we miss argument, it will show error\\n\\ndef greet(name):\\n    print(f\\'Hello {name}, Welcome to python learning\\')\\n    \\ngreet() # call the function and pass arguments\\nprint(\"Outside Function\")', '# Function with two Arguments\\n\\ndef add(num1, num2):\\n    return num1+num2\\n\\nadd(5,6) # pass two arguments', 'def add(num1, num2):\\n    return num1+num2\\n\\nc=add(3,6)\\nprint(\"Addition:\",c)\\nprint(\"Addition:\",add(5,5))', '# Keyword argument\\n# skip arguments or place them out of order\\ndef printinfo( name, age ):\\n    \\n    \"This prints a passed info into this function\"\\n    \\n    print (\"Name: \", name)\\n    print (\"Age \", age)\\n    return;\\n\\n# Now you can call printinfo function\\nprintinfo( age=50, name=\"miki\" )\\nprintinfo(\\'mona\\',25)\\n\\n#printinfo(25, \\'mona\\')', '#Function with Default Arguments\\n\\ndef greet(name=\"Guest\"):\\n    print(f\"Hello, {name}!\")\\n\\ngreet()        # Output: Hello, Guest!\\ngreet(\"Alice\") # Output: Hello, Alice!', '# default arguments\\n\\ndef division(num, den):\\n    quotient = num/den\\n    print (\"num:{} den:{} quotient:{}\".format(num, den, quotient))\\n\\ndivision(10,5)\\ndivision(5,10)\\n\\ndivision(num=10, den=5)\\ndivision(den=5, num=10)\\n\\n# When using keyword arguments, it is not necessary to follow the order of formal arguments in function definition.\\n\\ndivision(10, den=5)\\n#division(num=5, 10) #positional arguments must be before the keyword arguments while using mixed calling.', '# Positional-only arguments --> one or more arguments can not accept their value with keywords\\n\\ndef greet(name, /, message=\"Hello\"):\\n    print(f\"{message}, {name}!\")\\n\\ngreet(\"Alice\")          # Valid: positional argument for \\'name\\'\\n# greet(\"Bob\", \"Hi\")      # Error: \\'message\\' is positional-only\\n# greet(name=\"Charlie\")   # Error: \\'name\\' cannot be a keyword argument', 'def find_squre():\\n    \\n    \"\"\"Do nothing, but document it.\\n\\n    No, really, it doesn\\'t do anything.\\n    \"\"\"\\n    pass\\n\\nfind_squre() # this will execute without any error or any action', 'def my_function():\\n    \"\"\"Do nothing, but document it.\\n\\n    No, really, it doesn\\'t do anything.\\n    \"\"\"\\n    pass\\n\\nprint(my_function.__doc__) # accesses the docstring of the my_function and prints it.', \"def factorial(x):\\n    ''' This is recursive function to find the factorial of an integer''' # doc string\\n    if x==1:\\n        return 1\\n    else:\\n        return (x*factorial(x-1))\\nnum=3\\nprint('The factorial of', num, 'is', factorial(num))\", 'import math # built-in models\\n \\nsqure_root=math.sqrt(3)\\n\\nprint(f\\'Squre Root of 3 is {squre_root}\\')\\nprint(\"Squre Root of 3 is {:.2f}\".format(squre_root))\\n\\npower=math.pow(2,3)\\nprint(f\\'Power of 3 is:{power}\\')\\n\\nprint(f\\'Factorial of 5 is:{math.factorial(5)}\\')', 'print(dir(math))', 'import random\\n\\n# Generate a random integer between 1 and 10\\nprint(random.randint(1, 10))\\n\\n# Shuffle a list\\nmy_list = [1, 2, 3, 4, 5]\\nrandom.shuffle(my_list)\\nprint(my_list)', 'print(dir(random))', \"import os\\n\\n# Get current working directory\\nprint(os.getcwd())\\n\\n# List files in a directory\\nprint(os.listdir('.'))\\n\\nprint('------------------------------------------------------')\\n\\nprint(dir(os))\", '# math_operations.py\\ndef add(x, y):\\n    return x + y\\n\\ndef subtract(x, y):\\n    return x - y\\n\\ndef multiply(x, y):\\n    return x * y\\n\\ndef divide(x, y):\\n    if y != 0:\\n        return x / y\\n    else:\\n        return \"Error: Division by zero\"', '# Import the whole module\\nimport math_operations\\n\\nresult = math_operations.add(5, 3)\\nprint(result)  # Output: 8', '# Import specific functions from the module\\nfrom math_operations import add, multiply\\n\\nresult_add = add(5, 3)\\nresult_multiply = multiply(4, 6)\\nprint(result_add, result_multiply)  # Output: 8 24', 'print(dir(math_operations))', 'from math_operations import *  #Possible to import all the names from a module into the current namespace\\n\\nresult_add = add(3, 3)\\nresult_multiply = multiply(4, 5)\\nprint(result_add, result_multiply)  # Output: 9 20', 'from math_operations as x  #assign an alias name to the imported module\\n\\nprint (\"sum:\",x.add(10,20))\\nprint (\"average:\", x.subtract(10,20))\\nprint (\"power:\", x.multiply(10, 2))', 'import math_operations as x  #assign an alias name to the imported module\\n\\nprint (\"sum:\",x.add(10,20))\\nprint (\"average:\", x.subtract(10,20))\\nprint (\"power:\", x.multiply(10, 2))', 'add = lambda a,b:a+b\\nprint(add(2,3))', 'data = [(3, 10), (1, 20), (2, 5)]\\nsorted_data = sorted(data, key=lambda x: x[1]) # Sorting a List of Tuples by Second Element:\\nprint(sorted_data) ', 'numbers = [1, 2, 3, 4, 5, 6, 7, 8, 9, 10]\\neven_numbers = list(filter(lambda x: x % 2 == 0, numbers))\\nprint(even_numbers)  # Output: [2, 4, 6, 8, 10]', 'numbers = [1, 2, 3, 4, 5]\\nsquared_numbers = list(map(lambda x: x ** 2, numbers)) # Mapping a Function to a List, \\nprint(squared_numbers)  ', 'check_age=lambda age: \"Adult\" if age >=18 else \"Minor\"\\nprint(check_age(25))\\nprint(check_age(12))', 'def add(x: int, y: int) -> int:\\n    \"\"\"Add two integers and return the result.\"\"\"\\n    return x + y\\n\\nprint(3,4)', 'from typing import List, Tuple\\n\\ndef process_data(data: List[str], index: int) -> Tuple[str, int]:\\n    \"\"\"Process data and return a tuple.\"\"\"\\n    result = data[index]\\n    return result, len(result)\\n\\n# Example usage:\\ndata_list = [\"apple\", \"banana\", \"cherry\"]\\nindex_value = 1\\n\\nresult_tuple = process_data(data_list, index_value)\\nprint(result_tuple)  # Output: (\\'banana\\', 6)', \"print(add.__annotations__)  # Output: {'x': <class 'int'>, 'y': <class 'int'>, 'return': <class 'int'>}\", 'global_var = 10\\n\\ndef my_function():\\n    print(global_var)  # Accessible inside the function\\n\\nmy_function()  # Output: 10', \"def my_function():\\n    local_var = 20  # Local variable\\n\\nmy_function()\\nprint(local_var)  # Error: NameError: name 'local_var' is not defined\", \"def my_function():\\n    local_var = 20  # Local variable\\n\\nmy_function()\\nprint(local_var)  # Error: NameError: name 'local_var' is not defined\", 'def outer_function():\\n    outer_var = \"Hello\"\\n\\n    def inner_function():\\n        print(outer_var)  # Accessing variable from outer function\\n\\n    inner_function()  # Output: Hello\\n\\nouter_function()', 'print(\"Hello, world!\")  # Using built-in function', 'def yourfunction():\\n   a = 5\\n   b = 6 \\n   # nested function\\n   def myfunction():\\n      # nonlocal function \\n      nonlocal a\\n      nonlocal b\\n      a = 10\\n      b = 20 \\n      print(\"variable a:\", a)\\n      print(\"variable b:\", b)\\n      return a+b\\n   print (myfunction())\\n return a+b\\nprint(yourfunction())', 'def yourfunction():\\n   a = 5\\n   b = 6 \\n   # nested function\\n   def myfunction():\\n      # nonlocal function \\n      nonlocal a\\n      nonlocal b\\n      a = 10\\n      b = 20 \\n      print(\"variable a:\", a)\\n      print(\"variable b:\", b)\\n      return a+b\\n   print (myfunction())\\n\\nprint(yourfunction())', 'def yourfunction():\\n   a = 5\\n   b = 6 \\n   # nested function\\n   def myfunction():\\n      # nonlocal function \\n      nonlocal a\\n      nonlocal b\\n      a = 10\\n      b = 20 \\n      print(\"variable a:\", a)\\n      print(\"variable b:\", b)\\n      return a+b\\n   print (myfunction())\\n\\n   return a+b \\n\\nprint(yourfunction())', 'def yourfunction():\\n   a = 5\\n   b = 6 \\n   # nested function\\n   def myfunction():\\n      # nonlocal function \\n      nonlocal a\\n      nonlocal b\\n      a = 10\\n      b = 20 \\n      print(\"variable a:\", a)\\n      print(\"variable b:\", b)\\n      return a+b\\n   print (myfunction())\\n\\nyourfunction()', '# Global variable\\nglobal_var = 10\\n\\ndef outer_function():\\n    # Enclosing (nonlocal) variable\\n    enclosing_var = 20\\n    \\n    def inner_function():\\n        # Local variable\\n        local_var = 30\\n        print(\"Local Variable:\", local_var)\\n        print(\"Enclosing Variable:\", enclosing_var)\\n        print(\"Global Variable:\", global_var)\\n    \\n    inner_function()\\n\\n# Accessing global variable outside functions\\nprint(\"Global Variable (Outside functions):\", global_var)\\n\\nouter_function()', '# Global variable\\nglobal_var = 10\\n\\ndef outer_function():\\n    # Enclosing (nonlocal) variable\\n    enclosing_var = 20\\n    \\n    def inner_function():\\n        # Local variable\\n        local_var = 30\\n        print(\"Local Variable:\", local_var)\\n        print(\"Enclosing Variable:\", enclosing_var)\\n        print(\"Global Variable:\", global_var)\\n    \\n    inner_function()\\n\\n# Accessing global variable outside functions\\nprint(\"Global Variable (Outside functions):\", global_var)\\n\\nouter_function()', '# Namespace Conflict in Python\\n\\nmarks = 50 # this is a global variable\\ndef myfunction():\\n    marks = 70 # this is a local variable\\n    print (marks)\\n   \\nmyfunction()\\nprint (marks) # prints global value', 'marks = 50 # this is a global variable\\ndef myfunction():\\n   marks = marks + 20\\n   print (marks)\\n\\nmyfunction()\\nprint (marks) # prints global value', 'var1 = 50 # this is a global variable\\nvar2 = 60 # this is a global variable\\n\\ndef myfunction():\\n    \\n   \"Change values of global variables\"\\n\\n   globals()[\\'var1\\'] = globals()[\\'var1\\']+10\\n   global var2\\n   var2 = var2 + 20\\n\\nmyfunction()\\nprint (\"var1:\",var1, \"var2:\",var2) #shows global variables with changed values', 'def my_function():\\n    a = 10\\n    b = 20\\n    print(locals())\\n\\nmy_function()', 'global_var = 100\\n\\ndef my_function():\\n    print(globals())\\n\\nmy_function()', 'global_var = 100\\n\\ndef my_function1():\\n    print(globals())\\n\\nmy_function()', 'global_var = 100\\n\\ndef my_fun():\\n    print(globals())\\n\\nmy_function()', 'def my_function():\\n    a = 10\\n    b = 20\\n    print(locals())\\n\\nmy_function()', 'global_var = 100\\n\\ndef my_fun():\\n    print(globals())\\n\\nmy_function()', 'global_var = 100\\n\\ndef my_fun():\\n    print(globals())\\n\\nmy_fun()'], 'Out': {99: 11}, 'get_ipython': <bound method InteractiveShell.get_ipython of <ipykernel.zmqshell.ZMQInteractiveShell object at 0x0000016EFD25D6D0>>, 'exit': <IPython.core.autocall.ZMQExitAutocall object at 0x0000016EFD269F10>, 'quit': <IPython.core.autocall.ZMQExitAutocall object at 0x0000016EFD269F10>, 'open': <function open at 0x0000016EFB235760>, '_': 11, '__': '', '___': '', '_i': 'global_var = 100\\n\\ndef my_fun():\\n    print(globals())\\n\\nmy_function()', '_ii': 'def my_function():\\n    a = 10\\n    b = 20\\n    print(locals())\\n\\nmy_function()', '_iii': 'global_var = 100\\n\\ndef my_fun():\\n    print(globals())\\n\\nmy_function()', '_i1': 'def find_squre(num1, num2):\\n    result =num1*num2\\n    return result\\n\\nsqure=find_squre(3,3)\\nprint(\"Addition:\",squre)', 'find_squre': <function find_squre at 0x0000016EFE0ED260>, 'squre': 9, '_i2': '#Function with Default Arguments\\n\\ndef greet(name=\"Guest\"):\\n    print(f\"Hello, {name}!\")\\n\\ngreet()        # Output: Hello, Guest!\\ngreet(\"Alice\") # Output: Hello, Alice!', 'greet': <function greet at 0x0000016EFD397560>, '_i3': '#Function with Variable-Length Arguments, Functions that accept a variable number of arguments using *args or **kwargs.\\n\\ndef sum_all(*args):\\n    return sum(args)\\n\\ntotal = sum_all(1, 2, 3, 4)\\nprint(total)  # Output: 10', 'sum_all': <function sum_all at 0x0000016EFD304680>, 'total': 10, '_i4': '# Generator Functions\\n\\ndef countdown(n):\\n    while n > 0:\\n        yield n\\n        n -= 1\\n\\nfor i in countdown(5):\\n    print(i)  # Outputs: 5, 4, 3, 2, 1', 'countdown': <function countdown at 0x0000016EFD304FE0>, 'i': 9, '_i5': 'def testfunction(arg):\\n    print (\"ID inside the function:\", id(arg))\\n\\nvar=\"Hello\"\\nprint (\"ID before passing:\", id(var))\\ntestfunction(var)', 'testfunction': <function testfunction at 0x0000016EFD305300>, 'var': 100, '_i6': 'def testfunction(arg):\\n   print (\"ID inside the function:\", id(arg))\\n   arg=arg+1\\n   print (\"new object after increment\", arg, id(arg))\\n\\nvar=10\\nprint (\"ID before passing:\", id(var))\\ntestfunction(var)\\nprint (\"value after function call\", var)', '_i7': 'def testfunction(arg):\\n    print (\"Inside function:\",arg)\\n    print (\"ID inside the function:\", id(arg))\\n    arg=arg.append(100)\\n   \\nvar=[10, 20, 30, 40]\\nprint (\"ID before passing:\", id(var))\\ntestfunction(var)\\nprint (\"list after function call\", var)', '_i8': '# Function with Arguments\\n\\ndef greet(name):\\n    print(f\\'Hello {name}, Welcome to python learning\\')\\ngreet() # call the function and pass arguments\\nprint(\"Outside Function\")', '_i9': '# Keyword argument\\n# skip arguments or place them out of order\\ndef printinfo( name, age ):\\n   \"This prints a passed info into this function\"\\n   print (\"Name: \", name)\\n   print (\"Age \", age)\\n   return;\\n\\n# Now you can call printinfo function\\nprintinfo( age=50, name=\"miki\" )', 'printinfo': <function printinfo at 0x0000016EFA615300>, '_i10': '# Keyword argument\\n# skip arguments or place them out of order\\ndef printinfo( name, age ):\\n    \\n    \"This prints a passed info into this function\"\\n    \\n    print (\"Name: \", name)\\n    print (\"Age \", age)\\n    return;\\n\\n# Now you can call printinfo function\\nprintinfo( age=50, name=\"miki\" )\\nprintinfo(\\'mona\\',25)', '_i11': '# Keyword argument\\n# skip arguments or place them out of order\\ndef printinfo( name, age ):\\n    \\n    \"This prints a passed info into this function\"\\n    \\n    print (\"Name: \", name)\\n    print (\"Age \", age)\\n    return;\\n\\n# Now you can call printinfo function\\nprintinfo( age=50, name=\"miki\" )\\nprintinfo(\\'mona\\',25)\\nprintinfo(25, \\'mona\\')', '_i12': '# Positional-only arguments\\n\\ndef greet(name, /, message=\"Hello\"):\\n    print(f\"{message}, {name}!\")\\n\\ngreet(\"Alice\")          # Valid: positional argument for \\'name\\'\\ngreet(\"Bob\", \"Hi\")      # Error: \\'message\\' is positional-only\\ngreet(name=\"Charlie\")   # Error: \\'name\\' cannot be a keyword argument', '_i13': 'def posFun(x, y, /, z):\\n    print(x + y + z)\\n\\nprint(\"Evaluating positional-only arguments: \")\\nposFun(33, 22, z=11) ', 'posFun': <function posFun at 0x0000016EFD396520>, '_i14': 'def posFun(x, y, /, z):\\n    print(x + y + z)\\n\\nprint(\"Evaluating positional-only arguments: \")\\nposFun(33, 22, z=11) \\nposFun(33, 22, 11) ', '_i15': 'def posFun(x, y, /, z):\\n    print(x + y + z)\\n\\nprint(\"Evaluating positional-only arguments: \")\\nposFun(33, 22, z=11) \\nposFun(30, 26, 11) ', '_i16': 'def posFun(x, y, /, z):\\n    print(x + y + z)\\n\\nprint(\"Evaluating positional-only arguments: \")\\nposFun(33, 22, z=11) \\nposFun(30, 26, 11) \\nposFun(30, 26, a=11)', '_i17': 'def posFun(x, y, /, z):\\n    print(x + y + z)\\n\\nprint(\"Evaluating positional-only arguments: \")\\nposFun(33, 22, z=11) \\nposFun(30, 26, 11) \\nposFun(x=30, 26, 11) ', '_i18': 'def posFun(x, y, /, z):\\n    print(x + y + z)\\n\\nprint(\"Evaluating positional-only arguments: \")\\nposFun(33, 22, z=11) \\nposFun(30, 26, 11) \\n#posFun(x=30, 26, 11) ', '_i19': '# Keyword-only arguments\\n\\ndef posFun(*, num1, num2, num3):\\n    print(num1 * num2 * num3)\\n\\nprint(\"Evaluating keyword-only arguments: \")\\nposFun(num1=6, num2=8, num3=5) ', '_i20': 'def greet(name, *, message=\"Hello\"):\\n    \\n    \\'\\'\\'Keyword-only arguments are function arguments that can only be passed by keyword and not by position. \\'\\'\\'\\n    \\n    print(f\"{message}, {name}!\")\\n\\ngreet(\"Alice\")                  # Valid: positional argument for \\'name\\'\\ngreet(\"Bob\", message=\"Hi\")      # Valid: keyword argument for \\'message\\'\\ngreet(name=\"Charlie\")           # Valid: keyword argument for \\'name\\'\\ngreet(name=\"Dave\", \"Hola\")      # Error: \\'message\\' is keyword-only\\ngreet(\"Eve\", \"Bonjour\")         # Error: \\'message\\' is keyword-only', '_i21': '# Function with Variable-Length Arguments\\n\\ndef printinfo( arg1, *vartuple ):\\n    \\n    \"This prints a variable passed arguments\"\\n    \\n    print (\"Output is: \")\\n    print (arg1)\\n    for var in vartuple:\\n        print (var)\\n    return;\\n\\n# Now you can call printinfo function\\nprintinfo( 10 )\\nprintinfo( 70, 60, 50 )', '_i22': 'def example_function(positional_arg, default_arg=\"default\", *, keyword_only_arg, **kwargs):\\n    print(positional_arg)\\n    print(default_arg)\\n    print(keyword_only_arg)\\n    print(kwargs)\\n\\nexample_function(\"positional\", keyword_only_arg=\"keyword_only\", extra_arg=\"extra\")', 'example_function': <function example_function at 0x0000016EFD396D40>, '_i23': 'def percent(phy, maths, maxmarks=200):\\n    val = (phy+maths)*100/maxmarks\\n    return val\\n\\nphy = 60\\nmaths = 70\\nresult = percent(phy,maths)\\nprint (\"percentage:\", result)\\n\\nphy = 40\\nmaths = 46\\nresult = percent(phy,maths, 100)\\nprint (\"percentage:\", result)', 'percent': <function percent at 0x0000016EFD19FD80>, 'phy': 40, 'maths': 46, 'result': 8, '_i24': '# Default arguments\\n\\ndef printinfo( name, age = 35 ):\\n    \\n    \"This prints a passed info into this function\"\\n    \\n    print (\"Name: \", name)\\n    print (\"Age \", age)\\n    return;\\n\\n# Now you can call printinfo function\\nprintinfo( age=50, name=\"miki\" )\\nprintinfo( name=\"miki\" )\\n\\nprintinfo(name=\"miki\", age=50)', '_i25': '# Default arguments\\n\\ndef printinfo( name, age = 35 ):\\n    \\n    \"This prints a passed info into this function\"\\n    \\n    print (\"Name: \", name)\\n    print (\"Age \", age)\\n    return;\\n\\n# Now you can call printinfo function\\nprintinfo( age=50, name=\"miki\" )\\nprintinfo( name=\"miki\" )\\n\\nprintinfo(name=\"miki\", age=50)\\nprintinfo(name=\"miki\")', '_i26': '# Default arguments\\n\\ndef printinfo( name, age = 35 ):\\n    \\n    \"This prints a passed info into this function\"\\n    \\n    print (\"Name: \", name)\\n    print (\"Age \", age)\\n    return;\\n\\n# Now you can call printinfo function\\nprintinfo(age=50, name=\"miki\" )\\n\\nprintinfo(name=\"miki\")\\n\\nprintinfo(name=\"miki\", age=50)', '_i27': 'def division(num, den):\\n    quotient = num/den\\n    print (\"num:{} den:{} quotient:{}\".format(num, den, quotient))\\n\\ndivision(10,5)\\ndivision(5,10)\\n\\ndivision(num=10, den=5)\\ndivision(den=5, num=10)', 'division': <function division at 0x0000016EFE0ECFE0>, '_i28': 'def division(num, den):\\n    quotient = num/den\\n    print (\"num:{} den:{} quotient:{}\".format(num, den, quotient))\\n\\ndivision(10,5)\\ndivision(5,10)\\n\\ndivision(num=10, den=5)\\ndivision(den=5, num=10)\\n\\n# When using keyword arguments, it is not necessary to follow the order of formal arguments in function definition.', '_i29': 'def division(num, den):\\n    quotient = num/den\\n    print (\"num:{} den:{} quotient:{}\".format(num, den, quotient))\\n\\ndivision(10,5)\\ndivision(5,10)\\n\\ndivision(num=10, den=5)\\ndivision(den=5, num=10)\\n\\n# When using keyword arguments, it is not necessary to follow the order of formal arguments in function definition.\\n\\ndivision(10, den=5)\\ndivision(num=5, 10)', '_i30': 'def division(num, den):\\n    quotient = num/den\\n    print (\"num:{} den:{} quotient:{}\".format(num, den, quotient))\\n\\ndivision(10,5)\\ndivision(5,10)\\n\\ndivision(num=10, den=5)\\ndivision(den=5, num=10)\\n\\n# When using keyword arguments, it is not necessary to follow the order of formal arguments in function definition.\\n\\ndivision(10, den=5)\\n#division(num=5, 10) #positional arguments must be before the keyword arguments while using mixed calling.', '_i31': 'def intr(amt,*, rate):\\n    val = amt*rate/100\\n    return val\\ninterest = intr(1000, rate=10)', 'intr': <function intr at 0x0000016EFE00F560>, 'interest': 100.0, '_i32': 'def intr(amt,*, rate):\\n    val = amt*rate/100\\n    return val\\ninterest = intr(1000, rate=10)\\nprint(interest)', '_i33': 'def intr(amt,*, rate):\\n    val = amt*rate/100\\n    return val\\ninterest = intr(1000, rate=10)\\nprint(interest)\\n\\ninterest = intr(1000, 10)\\nprint(interest)', '_i34': 'def intr(amt,*, rate):\\n    val = amt*rate/100\\n    return val\\ninterest = intr(1000, rate=10)\\nprint(interest)\\n\\n#interest = intr(1000, 10)\\nprint(interest)', '_i35': 'def intr(amt,*, rate):\\n    val = amt*rate/100\\n    return val\\ninterest = intr(1000, rate=10)\\nprint(interest)\\n\\n#interest1 = intr(1000, 10)\\nprint(interest1)', '_i36': 'def intr(amt,*, rate):\\n    val = amt*rate/100\\n    return val\\ninterest = intr(1000, rate=10)\\nprint(interest)\\n\\n# interest1 = intr(1000, 10) # value for rate must be passed by keyword.\\n# print(interest1)', '_i37': '# Positional-only arguments --> one or more arguments can not accept their value with keywords\\n\\ndef greet(name, /, message=\"Hello\"):\\n    print(f\"{message}, {name}!\")\\n\\ngreet(\"Alice\")          # Valid: positional argument for \\'name\\'\\ngreet(\"Bob\", \"Hi\")      # Error: \\'message\\' is positional-only\\ngreet(name=\"Charlie\")   # Error: \\'name\\' cannot be a keyword argument', '_i38': '# Positional-only arguments --> one or more arguments can not accept their value with keywords\\n\\ndef greet(name, /, message=\"Hello\"):\\n    print(f\"{message}, {name}!\")\\n\\ngreet(\"Alice\")          # Valid: positional argument for \\'name\\'\\n# greet(\"Bob\", \"Hi\")      # Error: \\'message\\' is positional-only\\n# greet(name=\"Charlie\")   # Error: \\'name\\' cannot be a keyword argument', '_i39': '# Positional-only arguments\\n\\ndef myfunction(x, /, y, *, z):\\n    print (x, y, z)\\n    \\nmyfunction(10, y=20, z=30)\\nmyfunction(10, 20, z=30)', 'myfunction': <function myfunction at 0x0000016EFE0EF4C0>, '_i40': '# Positional-only arguments\\n\\ndef myfunction(x, /, y, *, z):\\n    print (x, y, z)\\n    \\nmyfunction(10, y=20, z=30)\\nmyfunction(10, 20, z=30)\\n\\n# these calls raise errors\\n\\n# myfunction(x=10, y=20, z=30) \\n# myfunction(10, 20, 30) ', '_i41': '# sum of numbers\\ndef add(*args):\\n    s=0\\n    for x in args:\\n        s=s+x\\n    return s\\n\\nresult = add(10,20,30,40)\\nprint (result)\\n\\nresult = add(1,2,3)\\nprint (result)', 'add': <function add at 0x0000016EFE0ED120>, '_i42': 'def find_squre():\\n    \\n    \"\"\"Do nothing, but document it.\\n\\n    No, really, it doesn\\'t do anything.\\n    \"\"\"\\n    pass\\n\\nfind_squre(find_squre.__doc__) # this will execute without any error or any action', '_i43': 'def find_squre():\\n    \\n    \"\"\"Do nothing, but document it.\\n\\n    No, really, it doesn\\'t do anything.\\n    \"\"\"\\n    pass\\n\\nfind_squre(find_squre. __doc__) # this will execute without any error or any action', '_i44': 'def find_squre():\\n    \\n    \"\"\"Do nothing, but document it.\\n\\n    No, really, it doesn\\'t do anything.\\n    \"\"\"\\n    pass\\n\\nfind_squre(find_squre.__doc__) # this will execute without any error or any action', '_i45': '\\ndef my_function():\\n    \"\"\"Do nothing, but document it.\\n\\n    No, really, it doesn\\'t do anything.\\n    \"\"\"\\n    pass\\n\\nprint(my_function.__doc__)', 'my_function': <function my_function at 0x0000016EFE0EEDE0>, '_i46': '\\ndef my_function():\\n    \"\"\"Do nothing, but document it.\\n\\n    No, really, it doesn\\'t do anything.\\n    \"\"\"\\n    pass\\n\\nprint(my_function.__doc__)\\nprint(my_function.__doc__)', '_i47': '\\ndef my_function():\\n    \"\"\"Do nothing, but document it.\\n\\n    No, really, it doesn\\'t do anything.\\n    \"\"\"\\n    pass\\n\\nprint(my_function.__doc__) # accesses the docstring of the my_function and prints it.', '_i48': 'def addr(**kwargs):\\n    for k,v in kwargs.items():\\n        print (\"{}:{}\".format(k,v))\\n\\nprint (\"pass two keyword args\")\\naddr(Name=\"John\", City=\"Mumbai\")\\nprint (\"pass four keyword args\")\\n\\n# pass four keyword args\\naddr(Name=\"Raam\", City=\"Mumbai\", ph_no=\"9123134567\", PIN=\"400001\")', 'addr': <function addr at 0x0000016EFD395940>, '_i49': '# Multiple Arguments With Arbitrary Keyword Arguments\\n\\ndef percent(math, sci, **optional):\\n    print (\"maths:\", math)\\n    print (\"sci:\", sci)\\n    s=math+sci\\n    for k,v in optional.items():\\n        print (\"{}:{}\".format(k,v))\\n        s=s+v\\n    return s/(len(optional)+2)\\n\\nresult=percent(math=80, sci=75, Eng=70, Hist=65, Geo=72)\\nprint (\"percentage:\", result)', '_i50': '# Required Arguments With Arbitrary Arguments\\n#avg of first test and best of following tests\\n\\ndef avg(first, *rest):\\n    second=max(rest)\\n    return (first+second)/2\\n   \\nresult=avg(40,30,50,25)\\nprint (result)', 'avg': <function avg at 0x0000016EFD251A80>, '_i51': '# Required Arguments With Arbitrary Arguments\\n# avg of first test and best of following tests\\n\\ndef avg(first, *rest):\\n    print(first)\\n    second=max(rest)\\n    print(second)\\n    return (first+second)/2\\n   \\nresult=avg(40,30,50,25)\\nprint (result)', '_i52': '# Required Arguments With Arbitrary Arguments\\n# avg of first test and best of following tests\\n\\ndef avg(first, *rest):\\n    #print(first)\\n    second=max(rest)\\n    #print(second)\\n    return (first+second)/2\\n   \\nresult=avg(40,30,50,25)\\nprint (result)', '_i53': \"x=10\\nif(x>5):\\n    print('x is greater than 5')\\n\\nx=10\\nif(x>15):\\n    print('x is greater than 5')\", 'x': <module 'math_operations' from 'C:\\\\Users\\\\mohana\\\\Python Tutorial\\\\math_operations.py'>, '_i54': '# if-else statement\\nx = 3\\nif x > 5:\\n    print(\"x is greater than 5\")\\nelse:\\n    print(\"x is not greater than 5\")', '_i55': '# if-elif-else statement\\nx = 7\\nif x > 10:\\n    print(\"x is greater than 10\")\\nelif x > 5:\\n    print(\"x is greater than 5 but not greater than 10\")\\nelse:\\n    print(\"x is 5 or less\")', '_i56': 'marks=int(input(\"Enter the marks?\"))\\n\\nif marks>85 and marks<=100:\\n    print(\"Congrats! you scored grade A\")\\nelif marks >60 and marks<=85:\\n    print(\\'You scored grade B+\\')\\nelif marks >40 and marks <=60:\\n    print(\\'You scored grade B\\')\\nelif (marks >30 and marks <=40):\\n    print(\\'You scored grade C\\')\\nelse:\\n    print(\\'Sorry, you are failed\\')', 'marks': 50, '_i57': \"amount =2500\\nprint ('Amount=',amount)\\nif amount >10000:\\n    discount=amount*20 /100\\nelse:\\n    if amount>5000:\\n        discount=amount * 10 /100\\n    else:\\n        if amount>1000:\\n            discount =amount*5/100\\n        else:\\n            discount=0\\nprint('Payable amount=', amount-discount)\", 'amount': 4500, 'discount': 225.0, '_i58': \"amount =4500\\nprint ('Amount=',amount)\\nif amount >10000:\\n    discount=amount*20 /100\\nelif amount>5000:\\n    discount=amount * 10 /100\\nelif amount>1000:\\n    discount =amount*5/100\\nelse:\\n    discount=0\\nprint('Payable amount=', amount-discount)\", '_i59': 'var =100\\nif(var==100): print(\\'Values of expression is 100\\')\\nprint (\"Thank you!\")\\n\\nvar =100\\nif(var==10): print(\\'Values of expression is 100\\')\\nprint (\"Thank you!\")', '_i60': 'for i in [2,3,5]:\\n    print(i)', '_i61': 'for i in range(1,10):\\n    print(i)', '_i62': \"for i in range(1,10,2):\\n    print(i)\\nprint('--------------------')\\nfor i in range(4,10,2):\\n    print(i)\", '_i63': 'for item in \"Welcome to python learning\":\\n    print(item)', 'item': 'g', '_i64': 'fruits=(\"apple\",\"orange\",\"Mango\")\\nfor i in range(len(fruits)):\\n    print(fruits[i])\\nprint(\\'-------------------------------\\')\\n    \\nfruits=(\"apple\",\"orange\",\"Mango\")\\nfor i in range(len(fruits)):\\n    print(fruits[i].upper())\\n    \\nprint(\\'-------------------------------\\')\\n    \\nfruits=(\"apple\",\"orange\",\"Mango\")\\nfor i in range(len(fruits)):\\n    print(fruits[i].capitalize())\\nelse:\\n    print(\"Iterated all elements\")', 'fruits': ['apple', 'banana', 'cherry'], '_i65': 'number=[1,2,3,4,5]\\nfor num in number:\\n    if num % 2==0:\\n        print(f\"{num} is even number\")\\n    else:\\n        print(f\"{num} is odd number\")', 'number': [2, 4, 5, 6, 7], 'num': 3, '_i66': 'for i in range(1,6):\\n    for j in range (1,6):\\n        print(\"*\", end=\"\")\\n    print(\"\\\\n\", end=\"\")', 'j': 70, '_i67': 'for i in range(1,6):\\n    for j in range (i,6):\\n            print(j, end=\"\")\\n    print(\"\\\\n\", end=\"\")', '_i68': \"a = ['Mary', 'had', 'a', 'little', 'lamb']\\nfor i in range(len(a)):\\n    print(i, a[i])\\n\\nprint('---------------------------------')\\n    \\nfor i in a:\\n    print(i)\", 'a': [], '_i69': 'numbers={\\'10\\':\"Ten\", \\'20\\':\"Twenty\"}\\nfor i in numbers:\\n    print(i)', 'numbers': [1, 2, 3, 4, 5], '_i70': 'numbers={\\'10\\':\"Ten\", \\'20\\':\"Twenty\"}\\nfor i in numbers:\\n    print(i,\":\",numbers[i])', '_i71': 'numbers={\\'10\\':\"Ten\", \\'20\\':\"Twenty\"}\\nfor i in numbers.items():\\n    print(i) # tuple element ', '_i72': 'numbers={\\'10\\':\"Ten\", \\'20\\':\"Twenty\"}\\nfor i,j in numbers.items():\\n    print(i,\":\",j) # tuple element ', '_i73': 'numbers={\\'10\\':\"Ten\", \\'20\\':\"Twenty\"}\\nfor i in numbers.keys():\\n    print(i,\":\", numbers[i])', '_i74': 'i=1\\nwhile(i<10):\\n    print(i)\\n    i+=1', '_i75': 'number=5\\nwhile (number<10):\\n    print(number)\\n    number+=1\\nelse:\\n    print(\"loop ends\")', '_i76': \"a=int(input('Enter a number (-1 to quit):'))\\nwhile a!=-1:\\n    a=int(input('Enter a number (-1 to quit):'))\", '_i77': \"count = 0\\nwhile True:\\n    count+=1\\n    print(f'count is {count}')\\n    \\n    if count ==10:\\n        break\\nprint('The loop has ended.')\", 'count': 10, '_i78': 'a=[1,2,3,4]\\nwhile a:\\n    print(a.pop())', '_i79': 'number=10\\nwhile(number>5):print(number);number-=1', '_i80': 'for i in range(65,70):\\n    for j in range (i,70):\\n        print(chr(i),end=\"\")\\n    print(\"\\\\n\",end=\"\")', '_i81': 'i=65\\nwhile (i<70):\\n    j=i\\n    while (j<70):\\n        print(chr(i), end=\"\")\\n        j+=1\\n    print(\"\\\\n\", end=\"\")\\n    i+=1', '_i82': 'for string in \"python learning\":\\n    if string == \\'o\\' or string ==\\'p\\' or string ==\\'t\\':\\n        break\\n    else:\\n        print(f\\'Current Letter:{string}\\')', 'string': 'g', '_i83': 'for i in range (1,20):\\n    for i in range(i,20):\\n        if (i%2==0):\\n            break\\n        else:\\n            print(i,end=\"\")\\n    print(\" \", end=\" \")', '_i84': 'for string in \"python learning\":\\n    if string == \\'o\\' or string ==\\'p\\' or string ==\\'t\\':\\n        continue\\n        print(\"Hai\") # not executed \\n    print(f\\'Current Letter:{string}\\')', '_i85': 'for i in range(1,10):\\n    pass\\nprint(f\"Last value {i}\")', '_i86': \"number = [2,4,5,6,7]\\nsum1=0\\nfor num in number:\\n    sum1=sum1+num**2\\nprint(f'The sum of squre is {sum1}')\", 'sum1': 30, '_i87': \"number = [2,4,5,6,7]\\nsum1=0\\nfor num in range(len(number)):\\n    sum1=sum1+num**2\\nprint(f'The sum of squre is {sum1}')\", '_i88': 'def weekdays(n):\\n    match n:\\n        case 0: return \"Monaday\"\\n        case 1: return \"Tuesday\"\\n        case 2: return \"Wednessday\"\\n        case 3: return \"Thuresday\"\\n        case 4: return \"Friday\"\\n        case 5: return \"Saturday\"\\n        case 6: return \"Sunday\"\\nprint(weekdays(3))\\nprint(weekdays(5))\\nprint(weekdays(7))', 'weekdays': <function weekdays at 0x0000016EFE00F4C0>, '_i89': 'def vowels(n):\\n    match n:\\n        case \\'A\\': return \"It is vowels\"\\n        case \\'E\\': return \"It is vowels\"\\n        case \\'I\\': return \"It is vowels\"\\n        case \\'O\\': return \"It is vowels\"\\n        case \\'U\\': return \"It is vowels\"\\n        case _: return \\'It is not vowels\\'\\nprint(vowels(\\'k\\'))\\nprint(vowels(\\'E\\'))', 'vowels': <function vowels at 0x0000016EFE00D8A0>, '_i90': 'def access(user):\\n    match user:\\n        case \"admin\" | \"manager\": return \"Full access\"\\n        case \"Guest\": return \"Limited access\"\\n        case _: return \"No access\"\\nprint(access(\"manager\"))\\nprint(access(\"Guest\"))\\nuser1=str(input(\"Enter your preferences: \"))\\nprint(access(user1))', 'access': <function access at 0x0000016EFD304AE0>, 'user1': 'user', '_i91': '# same way we can use set also (x,y)\\ndef greeting(details):\\n    match details:\\n        case [item, name]:\\n            return f\\'good {item} {name}!\\'\\n        case [time, *names]:\\n            msg=\\'\\'\\n            for name in names:\\n                msg+=f\\'Good {time} {name}!\\\\n\\'\\n            return msg\\nprint (greeting([\"Morning\",\"Priya\"]))\\nprint (greeting([\"Afternoon\",\"Riya\"]))\\nprint (greeting([\"Morning\",\"Priya\", \"Ram\",\"Manoj\"]))', 'greeting': <function greeting at 0x0000016EFE00C4A0>, '_i92': 'def intr(details):\\n    match details:\\n        case [amt,duration] if amt<10000:\\n            return amt*10*duration/100\\n        case [amt, duration] if amt>=10000:\\n            return amt*15*duration/100\\nprint(\"Interest=\", intr([5000,5]))\\nprint(\"Interest=\", intr([15000,3]))', '_i93': 'import builtins\\nprint(dir(builtins))', 'builtins': <module 'builtins' (built-in)>, '_i94': 'list1 = [\\'hi\\',\\'how\\',\\'are\\',\\'you\\',\\'2024\\']\\nprint(len(list1))\\nprint(\\'------------------------------------\\')\\n \\ntuple1 = (1,2,3,4)\\n# printing length of tuple1\\nprint(len(tuple1))\\nprint(max(tuple1))\\nprint(min(tuple1))\\n\\nprint(\\'------------------------------------\\')\\n \\nstring1 = \"pythonlearning\"\\n# printing length of string1\\nprint(len(string1))\\n\\nprint(\\'-----------------------------------\\')\\nprint(round(3.5673))', 'list1': ['hi', 'how', 'are', 'you', '2024'], 'tuple1': (1, 2, 3, 4), 'string1': 'pythonlearning', '_i95': '# Using various built-in functions\\nnumbers = [10, 5, 8, 20, 15]\\n\\n# Find the length of the list\\nlength = len(numbers)\\nprint(\"Length of the list:\", length)\\n\\n\\n# Find the maximum and minimum values in the list\\nmax_value = max(numbers)\\nmin_value = min(numbers)\\nprint(\"Maximum value in the list:\", max_value)\\nprint(\"Minimum value in the list:\", min_value)\\n\\n# Read input from the user\\nname = input(\"Enter your name: \")\\nprint(\"Hello,\", name)\\n\\n# Round a number to two decimal places\\npi = 3.14159\\nrounded_pi = round(pi, 2)\\nprint(\"Rounded pi:\", rounded_pi)\\n\\nfruits = [\\'apple\\', \\'banana\\', \\'cherry\\']\\nfor index, fruit in enumerate(fruits):\\n    print(index, fruit)  # Returns an enumerate object that yields pairs of index and value from an iterable.', 'length': 5, 'max_value': 20, 'min_value': 5, 'name': 'mona', 'pi': 3.14159, 'rounded_pi': 3.14, 'index': 2, 'fruit': 'cherry', '_i96': \"# Simple Function\\n\\ndef greet():\\n    print('Hello, Welcome to python learning')\\ngreet() # function call\", '_i97': '# Function with Arguments\\n\\ndef greet(name):\\n    print(f\\'Hello {name}, Welcome to python learning\\')\\n    \\ngreet(\\'Mona\\') # call the function and pass arguments\\nprint(\"Outside Function\")', '_i98': '# if we miss argument, it will show error\\n\\ndef greet(name):\\n    print(f\\'Hello {name}, Welcome to python learning\\')\\n    \\ngreet() # call the function and pass arguments\\nprint(\"Outside Function\")', '_i99': '# Function with two Arguments\\n\\ndef add(num1, num2):\\n    return num1+num2\\n\\nadd(5,6) # pass two arguments', '_99': 11, '_i100': 'def add(num1, num2):\\n    return num1+num2\\n\\nc=add(3,6)\\nprint(\"Addition:\",c)\\nprint(\"Addition:\",add(5,5))', 'c': 9, '_i101': '# Keyword argument\\n# skip arguments or place them out of order\\ndef printinfo( name, age ):\\n    \\n    \"This prints a passed info into this function\"\\n    \\n    print (\"Name: \", name)\\n    print (\"Age \", age)\\n    return;\\n\\n# Now you can call printinfo function\\nprintinfo( age=50, name=\"miki\" )\\nprintinfo(\\'mona\\',25)\\n\\n#printinfo(25, \\'mona\\')', '_i102': '#Function with Default Arguments\\n\\ndef greet(name=\"Guest\"):\\n    print(f\"Hello, {name}!\")\\n\\ngreet()        # Output: Hello, Guest!\\ngreet(\"Alice\") # Output: Hello, Alice!', '_i103': '# default arguments\\n\\ndef division(num, den):\\n    quotient = num/den\\n    print (\"num:{} den:{} quotient:{}\".format(num, den, quotient))\\n\\ndivision(10,5)\\ndivision(5,10)\\n\\ndivision(num=10, den=5)\\ndivision(den=5, num=10)\\n\\n# When using keyword arguments, it is not necessary to follow the order of formal arguments in function definition.\\n\\ndivision(10, den=5)\\n#division(num=5, 10) #positional arguments must be before the keyword arguments while using mixed calling.', '_i104': '# Positional-only arguments --> one or more arguments can not accept their value with keywords\\n\\ndef greet(name, /, message=\"Hello\"):\\n    print(f\"{message}, {name}!\")\\n\\ngreet(\"Alice\")          # Valid: positional argument for \\'name\\'\\n# greet(\"Bob\", \"Hi\")      # Error: \\'message\\' is positional-only\\n# greet(name=\"Charlie\")   # Error: \\'name\\' cannot be a keyword argument', '_i105': 'def find_squre():\\n    \\n    \"\"\"Do nothing, but document it.\\n\\n    No, really, it doesn\\'t do anything.\\n    \"\"\"\\n    pass\\n\\nfind_squre() # this will execute without any error or any action', '_i106': '\\ndef my_function():\\n    \"\"\"Do nothing, but document it.\\n\\n    No, really, it doesn\\'t do anything.\\n    \"\"\"\\n    pass\\n\\nprint(my_function.__doc__) # accesses the docstring of the my_function and prints it.', '_i107': \"def factorial(x):\\n    ''' This is recursive function to find the factorial of an integer''' # doc string\\n    if x==1:\\n        return 1\\n    else:\\n        return (x*factorial(x-1))\\nnum=3\\nprint('The factorial of', num, 'is', factorial(num))\", 'factorial': <function factorial at 0x0000016EFD396CA0>, '_i108': 'import math # built-in models\\n \\nsqure_root=math.sqrt(3)\\n\\nprint(f\\'Squre Root of 3 is {squre_root}\\')\\nprint(\"Squre Root of 3 is {:.2f}\".format(squre_root))\\n\\npower=math.pow(2,3)\\nprint(f\\'Power of 3 is:{power}\\')\\n\\nprint(f\\'Factorial of 5 is:{math.factorial(5)}\\')', 'math': <module 'math' (built-in)>, 'squre_root': 1.7320508075688772, 'power': 8.0, '_i109': 'print(dir(math))', '_i110': 'import random\\n\\n# Generate a random integer between 1 and 10\\nprint(random.randint(1, 10))\\n\\n# Shuffle a list\\nmy_list = [1, 2, 3, 4, 5]\\nrandom.shuffle(my_list)\\nprint(my_list)', 'random': <module 'random' from 'C:\\\\Users\\\\mohana\\\\anaconda3\\\\Lib\\\\random.py'>, 'my_list': [3, 2, 5, 4, 1], '_i111': 'print(dir(random))', '_i112': \"import os\\n\\n# Get current working directory\\nprint(os.getcwd())\\n\\n# List files in a directory\\nprint(os.listdir('.'))\\n\\nprint('------------------------------------------------------')\\n\\nprint(dir(os))\", 'os': <module 'os' (frozen)>, '_i113': '# math_operations.py\\ndef add(x, y):\\n    return x + y\\n\\ndef subtract(x, y):\\n    return x - y\\n\\ndef multiply(x, y):\\n    return x * y\\n\\ndef divide(x, y):\\n    if y != 0:\\n        return x / y\\n    else:\\n        return \"Error: Division by zero\"', 'subtract': <function subtract at 0x0000016EFE0ED080>, 'multiply': <function multiply at 0x0000016EFE0ED4E0>, 'divide': <function divide at 0x0000016EFE0ED620>, '_i114': '# Import the whole module\\nimport math_operations\\n\\nresult = math_operations.add(5, 3)\\nprint(result)  # Output: 8', 'math_operations': <module 'math_operations' from 'C:\\\\Users\\\\mohana\\\\Python Tutorial\\\\math_operations.py'>, '_i115': '# Import specific functions from the module\\nfrom math_operations import add, multiply\\n\\nresult_add = add(5, 3)\\nresult_multiply = multiply(4, 6)\\nprint(result_add, result_multiply)  # Output: 8 24', 'result_add': 6, 'result_multiply': 20, '_i116': 'print(dir(math_operations))', '_i117': 'from math_operations import *  #Possible to import all the names from a module into the current namespace\\n\\nresult_add = add(3, 3)\\nresult_multiply = multiply(4, 5)\\nprint(result_add, result_multiply)  # Output: 9 20', '_i118': 'from math_operations as x  #assign an alias name to the imported module\\n\\nprint (\"sum:\",x.add(10,20))\\nprint (\"average:\", x.subtract(10,20))\\nprint (\"power:\", x.multiply(10, 2))', '_i119': 'import math_operations as x  #assign an alias name to the imported module\\n\\nprint (\"sum:\",x.add(10,20))\\nprint (\"average:\", x.subtract(10,20))\\nprint (\"power:\", x.multiply(10, 2))', '_i120': 'add = lambda a,b:a+b\\nprint(add(2,3))', '_i121': 'data = [(3, 10), (1, 20), (2, 5)]\\nsorted_data = sorted(data, key=lambda x: x[1]) # Sorting a List of Tuples by Second Element:\\nprint(sorted_data) ', 'data': [(3, 10), (1, 20), (2, 5)], 'sorted_data': [(2, 5), (3, 10), (1, 20)], '_i122': 'numbers = [1, 2, 3, 4, 5, 6, 7, 8, 9, 10]\\neven_numbers = list(filter(lambda x: x % 2 == 0, numbers))\\nprint(even_numbers)  # Output: [2, 4, 6, 8, 10]', 'even_numbers': [2, 4, 6, 8, 10], '_i123': 'numbers = [1, 2, 3, 4, 5]\\nsquared_numbers = list(map(lambda x: x ** 2, numbers)) # Mapping a Function to a List, \\nprint(squared_numbers)  ', 'squared_numbers': [1, 4, 9, 16, 25], '_i124': 'check_age=lambda age: \"Adult\" if age >=18 else \"Minor\"\\nprint(check_age(25))\\nprint(check_age(12))', 'check_age': <function <lambda> at 0x0000016EFE00D080>, '_i125': 'def add(x: int, y: int) -> int:\\n    \"\"\"Add two integers and return the result.\"\"\"\\n    return x + y\\n\\nprint(3,4)', '_i126': 'from typing import List, Tuple\\n\\ndef process_data(data: List[str], index: int) -> Tuple[str, int]:\\n    \"\"\"Process data and return a tuple.\"\"\"\\n    result = data[index]\\n    return result, len(result)\\n\\n# Example usage:\\ndata_list = [\"apple\", \"banana\", \"cherry\"]\\nindex_value = 1\\n\\nresult_tuple = process_data(data_list, index_value)\\nprint(result_tuple)  # Output: (\\'banana\\', 6)', 'List': typing.List, 'Tuple': typing.Tuple, 'process_data': <function process_data at 0x0000016EFE0ED440>, 'data_list': ['apple', 'banana', 'cherry'], 'index_value': 1, 'result_tuple': ('banana', 6), '_i127': \"print(add.__annotations__)  # Output: {'x': <class 'int'>, 'y': <class 'int'>, 'return': <class 'int'>}\", '_i128': 'global_var = 10\\n\\ndef my_function():\\n    print(global_var)  # Accessible inside the function\\n\\nmy_function()  # Output: 10', 'global_var': 100, '_i129': \"def my_function():\\n    local_var = 20  # Local variable\\n\\nmy_function()\\nprint(local_var)  # Error: NameError: name 'local_var' is not defined\", '_i130': \"def my_function():\\n    local_var = 20  # Local variable\\n\\nmy_function()\\nprint(local_var)  # Error: NameError: name 'local_var' is not defined\", '_i131': 'def outer_function():\\n    outer_var = \"Hello\"\\n\\n    def inner_function():\\n        print(outer_var)  # Accessing variable from outer function\\n\\n    inner_function()  # Output: Hello\\n\\nouter_function()', 'outer_function': <function outer_function at 0x0000016EFD396980>, '_i132': 'print(\"Hello, world!\")  # Using built-in function', '_i133': 'def yourfunction():\\n   a = 5\\n   b = 6 \\n   # nested function\\n   def myfunction():\\n      # nonlocal function \\n      nonlocal a\\n      nonlocal b\\n      a = 10\\n      b = 20 \\n      print(\"variable a:\", a)\\n      print(\"variable b:\", b)\\n      return a+b\\n   print (myfunction())\\n return a+b\\nprint(yourfunction())', '_i135': 'def yourfunction():\\n   a = 5\\n   b = 6 \\n   # nested function\\n   def myfunction():\\n      # nonlocal function \\n      nonlocal a\\n      nonlocal b\\n      a = 10\\n      b = 20 \\n      print(\"variable a:\", a)\\n      print(\"variable b:\", b)\\n      return a+b\\n   print (myfunction())\\n\\nprint(yourfunction())', 'yourfunction': <function yourfunction at 0x0000016EFE0EEC00>, '_i136': 'def yourfunction():\\n   a = 5\\n   b = 6 \\n   # nested function\\n   def myfunction():\\n      # nonlocal function \\n      nonlocal a\\n      nonlocal b\\n      a = 10\\n      b = 20 \\n      print(\"variable a:\", a)\\n      print(\"variable b:\", b)\\n      return a+b\\n   print (myfunction())\\n\\n   return a+b \\n\\nprint(yourfunction())', '_i137': 'def yourfunction():\\n   a = 5\\n   b = 6 \\n   # nested function\\n   def myfunction():\\n      # nonlocal function \\n      nonlocal a\\n      nonlocal b\\n      a = 10\\n      b = 20 \\n      print(\"variable a:\", a)\\n      print(\"variable b:\", b)\\n      return a+b\\n   print (myfunction())\\n\\nyourfunction()', '_i138': '# Global variable\\nglobal_var = 10\\n\\ndef outer_function():\\n    # Enclosing (nonlocal) variable\\n    enclosing_var = 20\\n    \\n    def inner_function():\\n        # Local variable\\n        local_var = 30\\n        print(\"Local Variable:\", local_var)\\n        print(\"Enclosing Variable:\", enclosing_var)\\n        print(\"Global Variable:\", global_var)\\n    \\n    inner_function()\\n\\n# Accessing global variable outside functions\\nprint(\"Global Variable (Outside functions):\", global_var)\\n\\nouter_function()', '_i139': '# Global variable\\nglobal_var = 10\\n\\ndef outer_function():\\n    # Enclosing (nonlocal) variable\\n    enclosing_var = 20\\n    \\n    def inner_function():\\n        # Local variable\\n        local_var = 30\\n        print(\"Local Variable:\", local_var)\\n        print(\"Enclosing Variable:\", enclosing_var)\\n        print(\"Global Variable:\", global_var)\\n    \\n    inner_function()\\n\\n# Accessing global variable outside functions\\nprint(\"Global Variable (Outside functions):\", global_var)\\n\\nouter_function()', '_i140': '# Namespace Conflict in Python\\n\\nmarks = 50 # this is a global variable\\ndef myfunction():\\n    marks = 70 # this is a local variable\\n    print (marks)\\n   \\nmyfunction()\\nprint (marks) # prints global value', '_i141': 'marks = 50 # this is a global variable\\ndef myfunction():\\n   marks = marks + 20\\n   print (marks)\\n\\nmyfunction()\\nprint (marks) # prints global value', '_i142': 'var1 = 50 # this is a global variable\\nvar2 = 60 # this is a global variable\\n\\ndef myfunction():\\n    \\n   \"Change values of global variables\"\\n\\n   globals()[\\'var1\\'] = globals()[\\'var1\\']+10\\n   global var2\\n   var2 = var2 + 20\\n\\nmyfunction()\\nprint (\"var1:\",var1, \"var2:\",var2) #shows global variables with changed values', 'var1': 60, 'var2': 80, '_i143': 'def my_function():\\n    a = 10\\n    b = 20\\n    print(locals())\\n\\nmy_function()', '_i144': 'global_var = 100\\n\\ndef my_function():\\n    print(globals())\\n\\nmy_function()', '_i145': 'global_var = 100\\n\\ndef my_function1():\\n    print(globals())\\n\\nmy_function()', 'my_function1': <function my_function1 at 0x0000016EFE0EE0C0>, '_i146': 'global_var = 100\\n\\ndef my_fun():\\n    print(globals())\\n\\nmy_function()', 'my_fun': <function my_fun at 0x0000016EFE16C720>, '_i147': 'def my_function():\\n    a = 10\\n    b = 20\\n    print(locals())\\n\\nmy_function()', '_i148': 'global_var = 100\\n\\ndef my_fun():\\n    print(globals())\\n\\nmy_function()', '_i149': 'global_var = 100\\n\\ndef my_fun():\\n    print(globals())\\n\\nmy_fun()'}\n"
     ]
    }
   ],
   "source": [
    "global_var = 100\n",
    "\n",
    "def my_fun():\n",
    "    print(globals())\n",
    "\n",
    "my_fun()"
   ]
  },
  {
   "cell_type": "markdown",
   "id": "5224b022",
   "metadata": {},
   "source": [
    "Both locals() and globals() are mainly used for introspection and debugging purposes. "
   ]
  },
  {
   "cell_type": "code",
   "execution_count": 140,
   "id": "8e78f2e1",
   "metadata": {},
   "outputs": [
    {
     "name": "stdout",
     "output_type": "stream",
     "text": [
      "70\n",
      "50\n"
     ]
    }
   ],
   "source": [
    "# Namespace Conflict in Python\n",
    "\n",
    "marks = 50 # this is a global variable\n",
    "def myfunction():\n",
    "    marks = 70 # this is a local variable\n",
    "    print (marks)\n",
    "   \n",
    "myfunction()\n",
    "print (marks) # prints global value\n",
    "\n",
    "# If a variable of same name is present in global as well as local scope, \n",
    "# Python interpreter gives priority to the one in local namespace."
   ]
  },
  {
   "cell_type": "code",
   "execution_count": 141,
   "id": "8a926022",
   "metadata": {},
   "outputs": [
    {
     "ename": "UnboundLocalError",
     "evalue": "cannot access local variable 'marks' where it is not associated with a value",
     "output_type": "error",
     "traceback": [
      "\u001b[1;31m---------------------------------------------------------------------------\u001b[0m",
      "\u001b[1;31mUnboundLocalError\u001b[0m                         Traceback (most recent call last)",
      "Cell \u001b[1;32mIn[141], line 6\u001b[0m\n\u001b[0;32m      3\u001b[0m    marks \u001b[38;5;241m=\u001b[39m marks \u001b[38;5;241m+\u001b[39m \u001b[38;5;241m20\u001b[39m\n\u001b[0;32m      4\u001b[0m    \u001b[38;5;28mprint\u001b[39m (marks)\n\u001b[1;32m----> 6\u001b[0m myfunction()\n\u001b[0;32m      7\u001b[0m \u001b[38;5;28mprint\u001b[39m (marks)\n",
      "Cell \u001b[1;32mIn[141], line 3\u001b[0m, in \u001b[0;36mmyfunction\u001b[1;34m()\u001b[0m\n\u001b[0;32m      2\u001b[0m \u001b[38;5;28;01mdef\u001b[39;00m \u001b[38;5;21mmyfunction\u001b[39m():\n\u001b[1;32m----> 3\u001b[0m    marks \u001b[38;5;241m=\u001b[39m marks \u001b[38;5;241m+\u001b[39m \u001b[38;5;241m20\u001b[39m\n\u001b[0;32m      4\u001b[0m    \u001b[38;5;28mprint\u001b[39m (marks)\n",
      "\u001b[1;31mUnboundLocalError\u001b[0m: cannot access local variable 'marks' where it is not associated with a value"
     ]
    }
   ],
   "source": [
    "marks = 50 # this is a global variable\n",
    "def myfunction():\n",
    "   marks = marks + 20\n",
    "   print (marks)\n",
    "\n",
    "myfunction()\n",
    "print (marks) # prints global value"
   ]
  },
  {
   "cell_type": "markdown",
   "id": "b2acc186",
   "metadata": {},
   "source": [
    "To modify a global variable, you can either update it with a dictionary syntax, or use the global keyword to refer it before modifying."
   ]
  },
  {
   "cell_type": "code",
   "execution_count": 142,
   "id": "45767df1",
   "metadata": {},
   "outputs": [
    {
     "name": "stdout",
     "output_type": "stream",
     "text": [
      "var1: 60 var2: 80\n"
     ]
    }
   ],
   "source": [
    "var1 = 50 # this is a global variable\n",
    "var2 = 60 # this is a global variable\n",
    "\n",
    "def myfunction():\n",
    "    \n",
    "   \"Change values of global variables\"\n",
    "\n",
    "   globals()['var1'] = globals()['var1']+10\n",
    "   global var2\n",
    "   var2 = var2 + 20\n",
    "\n",
    "myfunction()\n",
    "print (\"var1:\",var1, \"var2:\",var2) #shows global variables with changed values"
   ]
  }
 ],
 "metadata": {
  "kernelspec": {
   "display_name": "Python 3 (ipykernel)",
   "language": "python",
   "name": "python3"
  },
  "language_info": {
   "codemirror_mode": {
    "name": "ipython",
    "version": 3
   },
   "file_extension": ".py",
   "mimetype": "text/x-python",
   "name": "python",
   "nbconvert_exporter": "python",
   "pygments_lexer": "ipython3",
   "version": "3.11.7"
  }
 },
 "nbformat": 4,
 "nbformat_minor": 5
}
