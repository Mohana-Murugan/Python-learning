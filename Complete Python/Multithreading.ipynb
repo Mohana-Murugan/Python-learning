{
 "cells": [
  {
   "cell_type": "markdown",
   "id": "4fe66c3f",
   "metadata": {},
   "source": [
    "## Multithreading\n",
    "- By default, a computer program executes the instructions in a sequential manner, from start to the end. \n",
    "- Multithreading refers to the mechanism of `dividing the main task in more than one sub-tasks` and executing them in an overlapping manner. \n",
    "- This makes the `execution faster` as compared to single thread.\n",
    "\n",
    "- In Python, multithreading is a technique used to `execute multiple threads concurrently within a single process`. \n",
    "- Threads are lightweight, independent units of execution that share the `same memory space`, allowing them to run concurrently and perform tasks in parallel. \n",
    "- However, Python's Global Interpreter Lock (GIL) restricts true parallelism for CPU-bound tasks, but it's still useful for I/O-bound tasks like network operations or file I/O."
   ]
  },
  {
   "cell_type": "markdown",
   "id": "d09f118a",
   "metadata": {},
   "source": [
    "### The Threading Module\n",
    "- threading.activeCount() − Returns the number of thread objects that are active.\n",
    "\n",
    "- threading.currentThread() − Returns the number of thread objects in the caller's thread control.\n",
    "\n",
    "- threading.enumerate() − Returns a list of all thread objects that are currently active.\n",
    "### The Threading Class\n",
    "- run() − The run() method is the entry point for a thread.\n",
    "\n",
    "- start() − The start() method starts a thread by calling the run method.\n",
    "\n",
    "- join([time]) − The join() waits for threads to terminate.\n",
    "\n",
    "- isAlive() − The isAlive() method checks whether a thread is still executing.\n",
    "\n",
    "- getName() − The getName() method returns the name of a thread.\n",
    "\n",
    "- setName() − The setName() method sets the name of a thread.\n",
    "\n",
    "\n",
    "### Multithreading in Python\n",
    "- Step 1: Import Module `import threading`\n",
    "- Step 2: Create a Thread \n",
    "    - `t1 = threading.Thread(target, args)`\n",
    "    - `t2 = threading.Thread(target, args)`\n",
    "- Step 3: Start a Thread\n",
    "    - `t1.start()`\n",
    "    - `t2.start()`\n",
    "- Step 4: End the thread Execution\n",
    "    - `t1.join()`\n",
    "    - `t2.join()`"
   ]
  },
  {
   "cell_type": "code",
   "execution_count": 2,
   "id": "d2a98ad8",
   "metadata": {},
   "outputs": [
    {
     "name": "stdout",
     "output_type": "stream",
     "text": [
      "Funcation A\n",
      "Funcation A\n",
      "Funcation A\n",
      "Funcation A\n",
      "Funcation A\n",
      "Function B\n",
      "Function B\n",
      "Function B\n",
      "Function B\n",
      "Function B\n"
     ]
    }
   ],
   "source": [
    "def a():\n",
    "    count=0\n",
    "    while count<5:\n",
    "        count+=1\n",
    "        print(\"Funcation A\")\n",
    "        \n",
    "def b():\n",
    "    count=0\n",
    "    while count<5:\n",
    "        count+=1\n",
    "        print(\"Function B\")\n",
    "a()\n",
    "b()\n",
    "\n",
    "# after running a only b function runs, we can not run concurrently"
   ]
  },
  {
   "cell_type": "markdown",
   "id": "8570ee66",
   "metadata": {},
   "source": [
    "### Types of Thread\n",
    "\n",
    "- Kernel Level thread - OS\n",
    "    - Managed by the operating system, can block individually, suitable for multiprocessor systems but slower due to system call overhead.\n",
    "- User Level thread - User-space libraries, not directly by the OS\n",
    "    - Managed by user-space libraries, faster to create and switch between, but blocking calls can affect the entire process, and they require additional libraries for efficient multiprocessor use."
   ]
  },
  {
   "cell_type": "code",
   "execution_count": null,
   "id": "fdb7ddc2",
   "metadata": {},
   "outputs": [
    {
     "name": "stdout",
     "output_type": "stream",
     "text": [
      "Thread1\n",
      "Thread2\n",
      "Thread1\n",
      "Thread1\n",
      "Thread2\n",
      "Thread1\n",
      "Thread2\n",
      "Thread1\n",
      "Thread2\n",
      "Thread2\n"
     ]
    }
   ],
   "source": [
    "import _thread\n",
    "import time\n",
    "\n",
    "def a(msg):\n",
    "    count=0\n",
    "    while count<5:\n",
    "        count+=1\n",
    "        time.sleep(3)\n",
    "        print(msg)\n",
    "        \n",
    "def b(msg):\n",
    "    count=0\n",
    "    while count<5:\n",
    "        count+=1\n",
    "        time.sleep(5)\n",
    "        print(msg)\n",
    "try:\n",
    "    _thread.start_new_thread(a,(\"Thread1\",))\n",
    "    _thread.start_new_thread(b,(\"Thread2\",))\n",
    "except:\n",
    "    print(\"Something is wrong\")\n",
    "\n",
    "while 1:\n",
    "    pass"
   ]
  },
  {
   "cell_type": "code",
   "execution_count": 3,
   "id": "1450d3ce",
   "metadata": {},
   "outputs": [
    {
     "name": "stdout",
     "output_type": "stream",
     "text": [
      "['Barrier', 'BoundedSemaphore', 'BrokenBarrierError', 'Condition', 'Event', 'ExceptHookArgs', 'Lock', 'RLock', 'Semaphore', 'TIMEOUT_MAX', 'Thread', 'ThreadError', 'Timer', 'WeakSet', '_CRLock', '_DummyThread', '_HAVE_THREAD_NATIVE_ID', '_MainThread', '_PyRLock', '_RLock', '_SHUTTING_DOWN', '__all__', '__builtins__', '__cached__', '__doc__', '__excepthook__', '__file__', '__loader__', '__name__', '__package__', '__spec__', '_active', '_active_limbo_lock', '_after_fork', '_allocate_lock', '_count', '_counter', '_dangling', '_deque', '_enumerate', '_islice', '_limbo', '_main_thread', '_maintain_shutdown_locks', '_make_invoke_excepthook', '_newname', '_os', '_profile_hook', '_register_atexit', '_set_sentinel', '_shutdown', '_shutdown_locks', '_shutdown_locks_lock', '_start_new_thread', '_sys', '_threading_atexits', '_time', '_trace_hook', 'activeCount', 'active_count', 'currentThread', 'current_thread', 'enumerate', 'excepthook', 'functools', 'get_ident', 'get_native_id', 'getprofile', 'gettrace', 'local', 'main_thread', 'setprofile', 'settrace', 'stack_size']\n"
     ]
    }
   ],
   "source": [
    "import threading\n",
    "\n",
    "print(dir(threading))"
   ]
  },
  {
   "cell_type": "code",
   "execution_count": 1,
   "id": "7519cf1f",
   "metadata": {},
   "outputs": [
    {
     "name": "stdout",
     "output_type": "stream",
     "text": [
      "Thread Started\n",
      "Thread Started\n",
      "Thread Started\n",
      "Thread Started\n",
      "Thread Started\n"
     ]
    }
   ],
   "source": [
    "import threading\n",
    "import time\n",
    "\n",
    "def display(x,t1):\n",
    "    for i in range(x):\n",
    "        time.sleep(t1)\n",
    "        print(\"Thread Started\")\n",
    "        \n",
    "t=threading.Thread(target=display,args=(5,2))\n",
    "\n",
    "t.start()"
   ]
  },
  {
   "cell_type": "code",
   "execution_count": 3,
   "id": "1e3e7af0",
   "metadata": {},
   "outputs": [
    {
     "name": "stdout",
     "output_type": "stream",
     "text": [
      "Thread1 ::Started\n",
      "Thread2Thread1 ::Started\n",
      " ::Started\n",
      "Thread1 ::Started\n",
      "Thread2 ::Started\n",
      "Thread1 ::Started\n",
      "Thread1 ::Started\n",
      "Thread2 ::Started\n",
      "Thread2 ::Started\n",
      "Thread2 ::Started\n"
     ]
    }
   ],
   "source": [
    "import threading\n",
    "import time\n",
    "\n",
    "def display(x,t1,name):\n",
    "    for i in range(x):\n",
    "        time.sleep(t1)\n",
    "        print(name,\"::Started\")\n",
    "        \n",
    "t=threading.Thread(target=display,args=(5,1,\"Thread1\",))\n",
    "\n",
    "t.start()\n",
    "\n",
    "t1=threading.Thread(target=display, args=(5,2,\"Thread2\",))\n",
    "t1.start()"
   ]
  },
  {
   "cell_type": "code",
   "execution_count": 12,
   "id": "665f4bd6",
   "metadata": {},
   "outputs": [
    {
     "name": "stdout",
     "output_type": "stream",
     "text": [
      "Thread #1\n",
      "Thread Started\n",
      "Thread #2\n",
      "Thread Started\n",
      "Thread #3\n",
      "Thread Started\n",
      "Thread #4\n",
      "Thread Started\n",
      "Thread #2\n",
      "Thread Started\n",
      "Thread #3\n",
      "Thread Started\n",
      "Thread #4\n",
      "Thread Started\n",
      "Thread #3\n",
      "Thread Started\n",
      "Thread #4\n",
      "Thread Started\n",
      "Thread #4\n",
      "Thread Started\n"
     ]
    }
   ],
   "source": [
    "# give name to thread\n",
    "\n",
    "import threading\n",
    "import time\n",
    "\n",
    "def display(x):\n",
    "    for i in range(x):\n",
    "        time.sleep(x+1.5)\n",
    "        print(threading.current_thread().name)\n",
    "        print(\"Thread Started\")\n",
    "        \n",
    "for p in range(5):\n",
    "    t=threading.Thread(target=display,args=(p,))\n",
    "    t.name=\"Thread #\" + str(p)\n",
    "    t.start()"
   ]
  },
  {
   "cell_type": "code",
   "execution_count": 5,
   "id": "0b9765ba",
   "metadata": {},
   "outputs": [
    {
     "name": "stdout",
     "output_type": "stream",
     "text": [
      "Square: 100\n",
      "Cube: 1000\n",
      "Done!\n"
     ]
    }
   ],
   "source": [
    "import threading\n",
    " \n",
    " \n",
    "def print_cube(num):\n",
    "    print(\"Cube: {}\" .format(num * num * num))\n",
    " \n",
    " \n",
    "def print_square(num):\n",
    "    print(\"Square: {}\" .format(num * num))\n",
    " \n",
    " \n",
    "if __name__ ==\"__main__\":\n",
    "    t1 = threading.Thread(target=print_square, args=(10,))\n",
    "    t2 = threading.Thread(target=print_cube, args=(10,))\n",
    " \n",
    "    t1.start()\n",
    "    t2.start()\n",
    " \n",
    "    t1.join()\n",
    "    t2.join()\n",
    " \n",
    "    print(\"Done!\")"
   ]
  },
  {
   "cell_type": "code",
   "execution_count": 4,
   "id": "dbe8b496",
   "metadata": {},
   "outputs": [
    {
     "name": "stdout",
     "output_type": "stream",
     "text": [
      "0\n",
      "a\n",
      "b1\n",
      "\n",
      "2\n",
      "c\n",
      "d3\n",
      "\n",
      "e\n",
      "4\n",
      "Done!\n"
     ]
    }
   ],
   "source": [
    "# Creating and Starting Threads \n",
    "\n",
    "import threading\n",
    "import time\n",
    "\n",
    "def print_numbers():\n",
    "    for i in range(5):\n",
    "        print(i)\n",
    "        time.sleep(1)\n",
    "\n",
    "def print_letters():\n",
    "    for letter in 'abcde':\n",
    "        print(letter)\n",
    "        time.sleep(1)\n",
    "\n",
    "# Create threads\n",
    "thread1 = threading.Thread(target=print_numbers)\n",
    "thread2 = threading.Thread(target=print_letters)\n",
    "\n",
    "# Start threads\n",
    "thread1.start()\n",
    "thread2.start()\n",
    "\n",
    "# Wait for both threads to complete\n",
    "thread1.join()\n",
    "thread2.join()\n",
    "\n",
    "print(\"Done!\")"
   ]
  },
  {
   "cell_type": "markdown",
   "id": "a15f72ff",
   "metadata": {},
   "source": [
    "- Key Points\n",
    "    - **Creating a Thread**: We create a Thread object by specifying the target function that the thread should execute.\n",
    "    - **Starting a Thread**: We start the thread by calling the start() method. This method tells Python to begin executing the target function in a separate thread.\n",
    "    - **Joining a Thread**: The join() method ensures that the main program waits for the thread to complete its execution before continuing."
   ]
  },
  {
   "cell_type": "code",
   "execution_count": 17,
   "id": "faa6bcc9",
   "metadata": {},
   "outputs": [
    {
     "name": "stdout",
     "output_type": "stream",
     "text": [
      "[ Mon May 27 11:18:06 2024 Thread1 True ]\n",
      "[ Mon May 27 11:18:06 2024 Thread2 True ]\n",
      "[ Mon May 27 11:18:08 2024 Thread1 True ]\n",
      "[ Mon May 27 11:18:08 2024 Thread2 True ]\n",
      "[ Mon May 27 11:18:10 2024 Thread1 True ]\n",
      "[ Mon May 27 11:18:10 2024 Thread2 False ]\n",
      "[ Mon May 27 11:18:14 2024 Thread1 True ]\n",
      "[ Mon May 27 11:18:14 2024 Thread2 False ]\n",
      "[ Mon May 27 11:18:18 2024 Thread1 True ]\n",
      "[ Mon May 27 11:18:18 2024 Thread2 False ]\n"
     ]
    }
   ],
   "source": [
    "import threading\n",
    "import time\n",
    "\n",
    "def display(i):\n",
    "        time.sleep(i)\n",
    "        return\n",
    "    \n",
    "t=threading.Thread(target=display, args=(60,),name=\"Thread1\")\n",
    "\n",
    "t.start()\n",
    "\n",
    "t1=threading.Thread(target=display, args=(3,),name=\"Thread2\")\n",
    "\n",
    "t1.start()\n",
    "\n",
    "for x in range(5):\n",
    "    time.sleep(x+0.5)\n",
    "    print('[',time.ctime(),t.name,t.is_alive(),']')\n",
    "    print('[',time.ctime(),t1.name,t1.is_alive(),']')"
   ]
  },
  {
   "cell_type": "markdown",
   "id": "f11fd608",
   "metadata": {},
   "source": [
    "### Deamon Thread \n",
    "- A daemon thread in Python is a thread that `runs in the background` and `does not block the program from exiting`. \n",
    "- When all non-daemon threads complete their execution, the program exits even if daemon threads are still running.\n",
    "- Daemon threads will automatically be terminated when all non-daemon threads have finished executing. \n",
    "- Note that using `t.join()` will wait for all the threads to complete, including daemon threads. \n",
    "- If we want the program to exit immediately without waiting for daemon threads, we can remove the `join()` loop"
   ]
  },
  {
   "cell_type": "code",
   "execution_count": 24,
   "id": "fed7379d",
   "metadata": {},
   "outputs": [
    {
     "name": "stdout",
     "output_type": "stream",
     "text": [
      "thread 1 startedthread 2 started\n",
      "thread 2 finished\n",
      "\n",
      "thread 1 finished\n"
     ]
    }
   ],
   "source": [
    "# Deamon Thread \n",
    "\n",
    "import threading\n",
    "import time\n",
    "\n",
    "def worker_a():\n",
    "    print(\"thread 1 started\")\n",
    "    time.sleep(10)\n",
    "    print(\"thread 1 finished\")\n",
    "    \n",
    "def worker_b():\n",
    "    print(\"thread 2 started\")\n",
    "    print(\"thread 2 finished\")\n",
    "    \n",
    "t1=threading.Thread(target=worker_a)\n",
    "t1.daemon = True\n",
    "\n",
    "t2=threading.Thread(target=worker_b)\n",
    "\n",
    "t1.start()\n",
    "t2.start()\n",
    "\n",
    "t1.join()\n",
    "t2.join()"
   ]
  },
  {
   "cell_type": "code",
   "execution_count": 5,
   "id": "cb9b2651",
   "metadata": {},
   "outputs": [
    {
     "name": "stdout",
     "output_type": "stream",
     "text": [
      "Worker B thread started\n",
      "<Thread(Thread-16 (worker_b), started daemon 14876)>\n",
      "Worker A thread started\n",
      "<Thread(Thread-17 (worker_a), started 18596)>\n",
      "Worker A thread started\n",
      "<Thread(Thread-18 (worker_a), started 15868)>\n",
      "Worker A thread started\n",
      "<Thread(Thread-19 (worker_a), started 3492)>\n",
      "Worker A thread started\n",
      "<Thread(Thread-20 (worker_a), started 9396)>\n",
      "Worker A thread started\n",
      "<Thread(Thread-21 (worker_a), started 8344)>\n",
      "Enumerate\n",
      "[<_MainThread(MainThread, started 9864)>, <Thread(Tornado selector, started daemon 4400)>, <Thread(Tornado selector, started daemon 3708)>, <Thread(IOPub, started daemon 7108)>, <Heartbeat(Heartbeat, started daemon 17472)>, <Thread(Tornado selector, started daemon 15888)>, <ControlThread(Control, started daemon 21428)>, <HistorySavingThread(IPythonHistorySavingThread, started 18868)>, <ParentPollerWindows(Thread-4, started daemon 808)>, <Thread(Thread-16 (worker_b), started daemon 14876)>, <Thread(Thread-18 (worker_a), started 15868)>, <Thread(Thread-19 (worker_a), started 3492)>, <Thread(Thread-20 (worker_a), started 9396)>, <Thread(Thread-21 (worker_a), started 8344)>]\n",
      "Total Thread count\n",
      "14\n",
      "Main thread finished\n"
     ]
    }
   ],
   "source": [
    "import time\n",
    "import threading\n",
    "\n",
    "def worker_a():\n",
    "    print(\"Worker A thread started\")\n",
    "    print(threading.current_thread())\n",
    "    time.sleep(5)\n",
    "\n",
    "def worker_b():\n",
    "    print(\"Worker B thread started\")\n",
    "    print(threading.current_thread())\n",
    "    time.sleep(10)\n",
    "    \n",
    "t2 = threading.Thread(target=worker_b)\n",
    "t2.daemon = True\n",
    "t2.start()\n",
    "\n",
    "for i in range(5):\n",
    "    t1 = threading.Thread(target=worker_a)\n",
    "    t1.start()\n",
    "    time.sleep(1)\n",
    "    \n",
    "print(\"Enumerate\")    \n",
    "print(threading.enumerate())  # List out all threads that are currently running\n",
    "\n",
    "print(\"Total Thread count\")\n",
    "print(threading.active_count())  # Total count of active threads\n",
    "\n",
    "# Join the non-daemon threads to wait for them to finish\n",
    "for thread in threading.enumerate():\n",
    "    if thread is not threading.main_thread() and not thread.daemon:\n",
    "        thread.join()\n",
    "\n",
    "print(\"Main thread finished\")"
   ]
  },
  {
   "cell_type": "markdown",
   "id": "6a26226b",
   "metadata": {},
   "source": [
    "- Here's a breakdown of what's happening in the code:\n",
    "\n",
    "    - worker_a: A function that prints a message, the current thread, and then sleeps for 5 seconds.\n",
    "    - worker_b: A function that prints a message, the current thread, and then sleeps for 10 seconds. This function is run as a daemon thread.\n",
    "    - Daemon Thread: t2 is created and set as a daemon thread with t2.daemon = True. It starts and runs worker_b.\n",
    "    - Non-daemon Threads: A loop creates and starts 5 threads, each running worker_a. Each of these threads sleeps for 1 second between starts.\n",
    "    - Thread Enumeration: threading.enumerate() is called to list all currently running threads.\n",
    "    - Active Thread Count: threading.active_count() is called to get the total count of active threads.\n",
    "    - Joining Non-daemon Threads: The code waits for all non-daemon threads to finish using join().\n",
    "    - Main Thread Finish: After all non-daemon threads finish, the main thread prints a finish message.\n",
    "- Note: Daemon threads will not prevent the program from exiting. Once all non-daemon threads finish, the program will exit, even if daemon threads are still running."
   ]
  },
  {
   "cell_type": "code",
   "execution_count": 9,
   "id": "f4d9fae1",
   "metadata": {},
   "outputs": [
    {
     "name": "stdout",
     "output_type": "stream",
     "text": [
      "HelloHello\n",
      "Welcome\n",
      "\n",
      "Welcome\n",
      "Hello\n",
      "Welcome\n",
      "Hello\n",
      "Welcome\n",
      "Hello\n",
      "Welcome\n"
     ]
    }
   ],
   "source": [
    "# Sub class thread\n",
    "\n",
    "import threading\n",
    "\n",
    "class ThreadDemo(threading.Thread):\n",
    "    def run(self):\n",
    "        print(\"Hello\")\n",
    "        self.new()\n",
    "        return\n",
    "    \n",
    "    def new(self):\n",
    "        print(\"Welcome\")\n",
    "    \n",
    "for i in range(5):\n",
    "        t=ThreadDemo()\n",
    "        t.start()"
   ]
  },
  {
   "cell_type": "code",
   "execution_count": 13,
   "id": "b1f35b12",
   "metadata": {},
   "outputs": [
    {
     "name": "stdout",
     "output_type": "stream",
     "text": [
      "Thread (0,) argument is Hello\n",
      "Thread (1,) argument is Hello\n",
      "Thread (2,) argument is Hello\n",
      "Thread (3,) argument is Hello\n",
      "Thread (4,) argument is Hello\n"
     ]
    }
   ],
   "source": [
    "# Sub thread\n",
    "\n",
    "import threading\n",
    "\n",
    "class ThreadDemo(threading.Thread):\n",
    "    \n",
    "    def __init__(self, args=(), kwargs=None):\n",
    "        threading.Thread.__init__(self)\n",
    "        self.args = args\n",
    "        self.kwargs = kwargs\n",
    "    \n",
    "    def run(self):\n",
    "        print(f\"Thread {self.args} argument is {self.kwargs}\")\n",
    "        return\n",
    "    \n",
    "for i in range(5):\n",
    "    t = ThreadDemo(args=(i,), kwargs=\"Hello\")\n",
    "    t.start()"
   ]
  },
  {
   "cell_type": "code",
   "execution_count": 18,
   "id": "b93828c4",
   "metadata": {},
   "outputs": [],
   "source": [
    "# Timer Thread in Python\n",
    "\n",
    "import threading\n",
    "import time\n",
    "\n",
    "def demo():\n",
    "    print(\"Welcome\")\n",
    "\n",
    "t=threading.Timer(3.0,demo)\n",
    "t.start()\n",
    "\n",
    "time.sleep(2)\n",
    "t.cancel() # it does not allow to print welcome because it will cancel thread "
   ]
  },
  {
   "cell_type": "code",
   "execution_count": 19,
   "id": "4c18a764",
   "metadata": {},
   "outputs": [
    {
     "name": "stdout",
     "output_type": "stream",
     "text": [
      "Event is Set\n",
      "Thread is waiting for signal\n",
      "Thread is waiting for signal\n",
      "Thread is waiting for signal\n",
      "Thread is waiting for signal\n",
      "Thread is waiting for signal\n",
      "Thread is waiting for signal\n",
      "Thread is waiting for signal\n",
      "Thread is waiting for signal\n",
      "Thread is waiting for signal\n",
      "Event is clear\n",
      "Thread is waiting for signal\n",
      "Thread received signals\n"
     ]
    }
   ],
   "source": [
    "# event object\n",
    "# set()\n",
    "# clear()\n",
    "# wait()\n",
    "# is_set()\n",
    "\n",
    "import threading\n",
    "import time\n",
    "\n",
    "def isSet():\n",
    "    event.set()\n",
    "    print(\"Event is Set\")\n",
    "    time.sleep(10)\n",
    "    event.clear()\n",
    "    print(\"Event is clear\")\n",
    "\n",
    "def eventOperation():\n",
    "    event.wait()\n",
    "    while event.is_set():\n",
    "        time.sleep(1)\n",
    "        print(\"Thread is waiting for signal\")\n",
    "    print(\"Thread received signals\")\n",
    "    \n",
    "event=threading.Event()\n",
    "t1=threading.Thread(target=isSet)\n",
    "t2=threading.Thread(target=eventOperation)\n",
    "\n",
    "t1.start()\n",
    "t2.start()\n",
    "\n",
    "t1.join()\n",
    "t2.join()"
   ]
  },
  {
   "cell_type": "code",
   "execution_count": 25,
   "id": "bc4b6baf",
   "metadata": {},
   "outputs": [
    {
     "name": "stdout",
     "output_type": "stream",
     "text": [
      "Thread:1 Excecute:Value of i is 0\n",
      "Thread:2 Excecute:Value of i is 0\n",
      "Thread:3 Excecute:Value of i is 0\n",
      "Thread:1 Excecute:Value of i is 1\n",
      "Thread:3 Excecute:Value of i is 1\n",
      "Thread:2 Excecute:Value of i is 1\n",
      "Thread:1 Excecute:Value of i is 2\n",
      "Thread:2 Excecute:Value of i is 2\n",
      "Thread:3 Excecute:Value of i is 2\n",
      "Thread:2 Excecute:Value of i is 3\n",
      "Thread:1 Excecute:Value of i is 3\n",
      "Thread:3 Excecute:Value of i is 3\n",
      "Thread:1 Excecute:Value of i is 4\n",
      "Thread:2 Excecute:Value of i is 4\n",
      "Thread:3 Excecute:Value of i is 4\n"
     ]
    }
   ],
   "source": [
    "# All threads are runing same time\n",
    "\n",
    "import threading\n",
    "import time\n",
    "\n",
    "def runThread(name):\n",
    "    time.sleep(1)\n",
    "    display(name)\n",
    "    \n",
    "def display(name):\n",
    "    for i in range(5):\n",
    "        time.sleep(2)\n",
    "        print(name,\"Excecute:Value of i is\",i)\n",
    "\n",
    "t1=threading.Thread(target=runThread,args=(\"Thread:1\",))\n",
    "t2=threading.Thread(target=runThread,args=(\"Thread:2\",))\n",
    "t3=threading.Thread(target=runThread,args=(\"Thread:3\",))\n",
    "\n",
    "t1.start()\n",
    "t2.start()\n",
    "t3.start()\n",
    "\n",
    "t1.join()\n",
    "t2.join()\n",
    "t3.join()"
   ]
  },
  {
   "cell_type": "code",
   "execution_count": 27,
   "id": "22508295",
   "metadata": {},
   "outputs": [
    {
     "name": "stdout",
     "output_type": "stream",
     "text": [
      "Thread:1 Excecute:Value of i is 0\n",
      "Thread:1 Excecute:Value of i is 1\n",
      "Thread:1 Excecute:Value of i is 2\n",
      "Thread:1 Excecute:Value of i is 3\n",
      "Thread:1 Excecute:Value of i is 4\n",
      "Thread:2 Excecute:Value of i is 0\n",
      "Thread:2 Excecute:Value of i is 1\n",
      "Thread:2 Excecute:Value of i is 2\n",
      "Thread:2 Excecute:Value of i is 3\n",
      "Thread:2 Excecute:Value of i is 4\n",
      "Thread:3 Excecute:Value of i is 0\n",
      "Thread:3 Excecute:Value of i is 1\n",
      "Thread:3 Excecute:Value of i is 2\n",
      "Thread:3 Excecute:Value of i is 3\n",
      "Thread:3 Excecute:Value of i is 4\n"
     ]
    }
   ],
   "source": [
    "# All threads are runing same time\n",
    "\n",
    "import threading\n",
    "import time\n",
    "\n",
    "lock=threading.Lock()\n",
    "\n",
    "def runThread(name):\n",
    "    time.sleep(1)\n",
    "    lock.acquire()\n",
    "    display(name)\n",
    "    lock.release()\n",
    "    \n",
    "def display(name):\n",
    "    for i in range(5):\n",
    "        time.sleep(2)\n",
    "        print(name,\"Excecute:Value of i is\",i)\n",
    "\n",
    "t1=threading.Thread(target=runThread,args=(\"Thread:1\",))\n",
    "t2=threading.Thread(target=runThread,args=(\"Thread:2\",))\n",
    "t3=threading.Thread(target=runThread,args=(\"Thread:3\",))\n",
    "\n",
    "t1.start()\n",
    "t2.start()\n",
    "t3.start()\n",
    "\n",
    "t1.join()\n",
    "t2.join()\n",
    "t3.join()"
   ]
  },
  {
   "cell_type": "code",
   "execution_count": 34,
   "id": "506ac816",
   "metadata": {},
   "outputs": [],
   "source": [
    "# Re-Entrant Locks\n",
    "# A re-entrant lock, also known as a recursive lock or RLock in Python, \n",
    "# is a synchronization primitive that can be acquired multiple times by the same thread without causing a deadlock.\n",
    "\n",
    "import threading as th\n",
    "lock=th.Lock()"
   ]
  },
  {
   "cell_type": "code",
   "execution_count": 35,
   "id": "de25fd5c",
   "metadata": {},
   "outputs": [
    {
     "data": {
      "text/plain": [
       "True"
      ]
     },
     "execution_count": 35,
     "metadata": {},
     "output_type": "execute_result"
    }
   ],
   "source": [
    "lock.acquire()"
   ]
  },
  {
   "cell_type": "code",
   "execution_count": 36,
   "id": "580666e7",
   "metadata": {},
   "outputs": [
    {
     "data": {
      "text/plain": [
       "True"
      ]
     },
     "execution_count": 36,
     "metadata": {},
     "output_type": "execute_result"
    }
   ],
   "source": [
    "lock.release()\n",
    "lock.acquire()"
   ]
  },
  {
   "cell_type": "code",
   "execution_count": null,
   "id": "7cec751d",
   "metadata": {},
   "outputs": [],
   "source": [
    "import threading as th\n",
    "lock.acquire()"
   ]
  },
  {
   "cell_type": "code",
   "execution_count": null,
   "id": "926da8d1",
   "metadata": {},
   "outputs": [],
   "source": []
  },
  {
   "cell_type": "code",
   "execution_count": 1,
   "id": "2e7fd5ef",
   "metadata": {},
   "outputs": [
    {
     "data": {
      "text/plain": [
       "True"
      ]
     },
     "execution_count": 1,
     "metadata": {},
     "output_type": "execute_result"
    }
   ],
   "source": [
    "import threading as th\n",
    "\n",
    "lock=th.RLock()\n",
    "lock.acquire()"
   ]
  },
  {
   "cell_type": "code",
   "execution_count": 2,
   "id": "45640e1a",
   "metadata": {},
   "outputs": [
    {
     "data": {
      "text/plain": [
       "True"
      ]
     },
     "execution_count": 2,
     "metadata": {},
     "output_type": "execute_result"
    }
   ],
   "source": [
    "lock.acquire()"
   ]
  },
  {
   "cell_type": "code",
   "execution_count": 2,
   "id": "9ba6dd2d",
   "metadata": {},
   "outputs": [
    {
     "name": "stdout",
     "output_type": "stream",
     "text": [
      "Entering into Main\n",
      "Entering into First\n",
      "Entering into second\n",
      "10 5\n"
     ]
    }
   ],
   "source": [
    "import threading as th\n",
    "\n",
    "class Thread:\n",
    "    def __init__(self):\n",
    "        self.a=5\n",
    "        self.b=10\n",
    "        self.Lock=th.RLock()\n",
    "    def first(self):\n",
    "        print(\"Entering into First\")\n",
    "        with self.Lock:\n",
    "            self.a+=5\n",
    "    def second(self):\n",
    "        print(\"Entering into second\")\n",
    "        with self.Lock:\n",
    "            self.b-=5\n",
    "    def main(self):\n",
    "        print(\"Entering into Main\")\n",
    "        with self.Lock:\n",
    "            self.first()\n",
    "            self.second()\n",
    "            print(self.a,self.b)\n",
    "obj=Thread()\n",
    "obj.main()"
   ]
  },
  {
   "cell_type": "code",
   "execution_count": null,
   "id": "a21a9adb",
   "metadata": {},
   "outputs": [],
   "source": []
  }
 ],
 "metadata": {
  "kernelspec": {
   "display_name": "Python 3 (ipykernel)",
   "language": "python",
   "name": "python3"
  },
  "language_info": {
   "codemirror_mode": {
    "name": "ipython",
    "version": 3
   },
   "file_extension": ".py",
   "mimetype": "text/x-python",
   "name": "python",
   "nbconvert_exporter": "python",
   "pygments_lexer": "ipython3",
   "version": "3.11.7"
  }
 },
 "nbformat": 4,
 "nbformat_minor": 5
}
