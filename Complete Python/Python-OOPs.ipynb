{
 "cells": [
  {
   "cell_type": "markdown",
   "id": "6291205e",
   "metadata": {},
   "source": [
    "## Procedural Oriented Approach\n",
    "- Procedural Programming approach focuses on writing code in a sequential manner, where the program is divided into procedures or functions that perform specific tasks. \n",
    "![Iamge](Image/m.PNG)\n",
    "\n",
    "### Drawbacks of Procedural Programming:\n",
    "\n",
    "- **Lack of Modularity:** Procedural code can become monolithic and difficult to break down into smaller, manageable modules.\n",
    "- **Limited Reusability:** Code reusability is limited compared to OOP, leading to potential code duplication and maintenance issues.\n",
    "- **Global State:** Relying heavily on global variables can lead to bugs and unexpected behavior due to shared state.\n",
    "- **Complexity:** Managing program complexity becomes more challenging as the program grows, making it harder to understand and debug.\n",
    "- **Poor Data Encapsulation:** Data may not be well-encapsulated, increasing the risk of accidental data modification and reducing code reliability.\n"
   ]
  },
  {
   "cell_type": "markdown",
   "id": "6aac79ab",
   "metadata": {},
   "source": [
    "## OOPS Concepts \n",
    "- Object-Oriented Programming (OOP) concepts in Python are fundamental for understanding how to structure and organize code.\n",
    "- OOP can make software development more modular, reusable, and maintainable, which can make it easier to upgrade and update the system.\n",
    "\n",
    "### Benefits of OOPs\n",
    "\n",
    "- **Modular Development:**\n",
    "    - OOP lets us build programs like putting together puzzle pieces that fit perfectly. We use pre-made modules (classes) that work together, saving time and making development faster.\n",
    "- **Problem Solving Made Easy:**\n",
    "    - OOP breaks big problems into smaller, manageable pieces. We solve each piece (object) one at a time, making the overall task less daunting.\n",
    "- **Higher Productivity and Quality:**\n",
    "    - OOP tools help programmers work faster and create better-quality software. This means less time spent fixing errors later on.\n",
    "- **Scalability:**\n",
    "    - OOP systems grow easily. We can start small and expand without major rewrites, which is like adding rooms to a house without tearing down walls.\n",
    "- **Isolated Instances:**\n",
    "    - OOP allows multiple instances of objects to exist without interfering with each other. It's like having separate cars that don't affect how others drive.\n",
    "- **Efficient Project Management:**\n",
    "    - OOP helps divide work in a project based on objects. It's like organizing a team where each person has a specific role.\n",
    "- **Mapping Real-World Problems:**\n",
    "    - OOP lets us map real-world problems directly to program solutions. For example, a car object in a program mirrors a real car in the world.\n",
    "- **Data Security:**\n",
    "    - OOP's data hiding feature keeps sensitive information secure. It's like having a locked box that only certain people can access.\n",
    "- **Code Reusability:**\n",
    "    - OOP's inheritance feature allows us to reuse code and extend existing classes easily. It's like using a blueprint for building multiple houses with slight variations.\n",
    "- **Simpler Communication:**\n",
    "    - OOP uses message passing between objects, making communication clear and interfaces with other systems straightforward. It's like speaking a common language that everyone understands.\n",
    "- **Detailed Model Implementation:**\n",
    "    - OOP's data-centered design captures more details of a model in a way that can be implemented directly. It's like having a detailed plan for building something, making the actual construction smoother.\n",
    "\n",
    "### Concepts\n",
    "- Class\n",
    "- Objects\n",
    "- Polymorphism\n",
    "- Encapsulation\n",
    "- Inheritance\n",
    "- Data Abstraction"
   ]
  },
  {
   "cell_type": "markdown",
   "id": "537dd40f",
   "metadata": {},
   "source": [
    "### Class\n",
    "\n",
    "- Class keyword is used create a class \n",
    "- Syntax: `class class_name:`\n",
    "- Variable inside a class are called attributes"
   ]
  },
  {
   "cell_type": "markdown",
   "id": "110a7365",
   "metadata": {},
   "source": [
    "### Object\n",
    "- An object is an entity/instance of a class that has attributes and behaviors.\n",
    "- Attributes : name, age, color\n",
    "- Behavior : dancing, singing, etc.\n",
    "- Class is a blueprint for that object\n",
    "- Syntax : `object_name = ClassName()`"
   ]
  },
  {
   "cell_type": "code",
   "execution_count": 8,
   "id": "393ee23b",
   "metadata": {},
   "outputs": [
    {
     "name": "stdout",
     "output_type": "stream",
     "text": [
      "Mona\n",
      "23\n"
     ]
    }
   ],
   "source": [
    "# create simple class with object\n",
    "\n",
    "class student:\n",
    "    sname=\"Mona\"\n",
    "    age=23\n",
    "\n",
    "stu=student()\n",
    "\n",
    "print(stu.sname)\n",
    "print(stu.age)"
   ]
  },
  {
   "cell_type": "code",
   "execution_count": 7,
   "id": "bf0690c0",
   "metadata": {},
   "outputs": [
    {
     "name": "stdout",
     "output_type": "stream",
     "text": [
      "Student Name: Mona\n",
      "Student Age: 23\n",
      "Student Name: Priya\n",
      "Student Age: 24\n"
     ]
    }
   ],
   "source": [
    "class student:\n",
    "    sname=\" \" # attributes\n",
    "    age=0\n",
    "\n",
    "stu=student() # create object to access class\n",
    "stu1=student()\n",
    "\n",
    "stu.sname=\"Mona\" # . notation used to access class attributes\n",
    "stu.age=23\n",
    "\n",
    "print(f\"Student Name: {stu.sname}\")\n",
    "print(f\"Student Age: {stu.age}\")\n",
    "\n",
    "stu1.sname=\"Priya\" # We can create more than one object for one class\n",
    "stu1.age=24\n",
    "\n",
    "print(f\"Student Name: {stu1.sname}\")\n",
    "print(f\"Student Age: {stu1.age}\")"
   ]
  },
  {
   "cell_type": "code",
   "execution_count": 12,
   "id": "85781c8d",
   "metadata": {},
   "outputs": [
    {
     "name": "stdout",
     "output_type": "stream",
     "text": [
      "Student Name: Mona\n",
      "Student Age: 23\n"
     ]
    }
   ],
   "source": [
    "class student:\n",
    "    sname =\"\"\n",
    "    age=0\n",
    "    def details(self):\n",
    "        print(f\"Student Name: {self.sname}\")\n",
    "        print(f\"Student Age: {self.age}\")\n",
    "\n",
    "stu=student()\n",
    "stu.sname=\"Mona\"\n",
    "stu.age=23\n",
    "stu.details()"
   ]
  },
  {
   "cell_type": "markdown",
   "id": "0a18cb58",
   "metadata": {},
   "source": [
    "### The self-parameter\n",
    "- In Python, the self parameter refers to the instance of the class itself. \n",
    "- It's a convention in Python to use self as the first parameter in instance methods (functions inside a class) to represent the object on which the method is being called. \n",
    "\n",
    "### _ _init_ _ method\n",
    "- __init__ method in Python is a special method used for initializing objects of a class. \n",
    "- It's also known as the constructor method because it gets called automatically when a new object of the class is created. "
   ]
  },
  {
   "cell_type": "code",
   "execution_count": 15,
   "id": "789c4fda",
   "metadata": {},
   "outputs": [
    {
     "name": "stdout",
     "output_type": "stream",
     "text": [
      "Student Name: Mona\n",
      "Student Age: 23\n"
     ]
    }
   ],
   "source": [
    "class student:\n",
    "    def details(self,a,b):\n",
    "        self.sname=a\n",
    "        self.age=b\n",
    "        print(f\"Student Name: {self.sname}\")\n",
    "        print(f\"Student Age: {self.age}\")\n",
    "\n",
    "stu=student()\n",
    "\n",
    "stu.details(\"Mona\",23)"
   ]
  },
  {
   "cell_type": "code",
   "execution_count": 18,
   "id": "071791b7",
   "metadata": {},
   "outputs": [
    {
     "name": "stdout",
     "output_type": "stream",
     "text": [
      "Student Name: Mona\n",
      "Student Age: 23\n"
     ]
    }
   ],
   "source": [
    "# Constructor --> __init__ is a constructor function that is called whenever a new object of that class is instantiated\n",
    "# It is commonly used to set initial values for object properties.\n",
    "\n",
    "class student:\n",
    "    def __init__(self,a,b):\n",
    "        self.sname=a\n",
    "        self.age=b\n",
    "        print(f\"Student Name: {self.sname}\")\n",
    "        print(f\"Student Age: {self.age}\")\n",
    "\n",
    "stu=student(\"Mona\",23)"
   ]
  },
  {
   "cell_type": "code",
   "execution_count": 20,
   "id": "7448e6e7",
   "metadata": {},
   "outputs": [
    {
     "name": "stdout",
     "output_type": "stream",
     "text": [
      "Honda 2024\n"
     ]
    }
   ],
   "source": [
    "class car:\n",
    "    def __init__(self, modelname, year):\n",
    "        self.modelname=modelname\n",
    "        self.year=year\n",
    "    def display(self):\n",
    "        print(self.modelname,self.year)\n",
    "        \n",
    "c1=car(\"Honda\",2024)\n",
    "c1.display()"
   ]
  },
  {
   "cell_type": "code",
   "execution_count": 1,
   "id": "a11f4739",
   "metadata": {},
   "outputs": [
    {
     "name": "stdout",
     "output_type": "stream",
     "text": [
      "Value: 30\n",
      "Value: 40\n"
     ]
    }
   ],
   "source": [
    "class MyClass:\n",
    "    \n",
    "    def __init__(self, value):\n",
    "        self.value = value\n",
    "\n",
    "    def display(self):\n",
    "        print(f\"Value: {self.value}\")\n",
    "\n",
    "    def update_value(self, new_value):\n",
    "        self.value = new_value\n",
    "\n",
    "obj = MyClass(30)\n",
    "obj.display()  # Output: Value: 30\n",
    "\n",
    "obj.update_value(40)\n",
    "obj.display() "
   ]
  },
  {
   "cell_type": "code",
   "execution_count": 3,
   "id": "d8b0d0ca",
   "metadata": {},
   "outputs": [
    {
     "name": "stdout",
     "output_type": "stream",
     "text": [
      "2\n"
     ]
    }
   ],
   "source": [
    "class Person:  \n",
    "    count = 0   # This is a class variable  \n",
    "  \n",
    "    def __init__(self, name, age):  \n",
    "        self.name = name    # This is an instance variable  \n",
    "        self.age = age  \n",
    "        Person.count += 1   # Accessing the class variable using the name of the class  \n",
    "        \n",
    "person1 = Person(\"Ayan\", 25)  \n",
    "person2 = Person(\"Bobby\", 30)  \n",
    "\n",
    "print(Person.count)  "
   ]
  },
  {
   "cell_type": "code",
   "execution_count": 15,
   "id": "9ae0026a",
   "metadata": {},
   "outputs": [
    {
     "name": "stdout",
     "output_type": "stream",
     "text": [
      "Name :  Zara , Salary:  2000\n",
      "Name :  Manni , Salary:  5000\n",
      "Total Employee 2\n"
     ]
    }
   ],
   "source": [
    "class Employee:\n",
    "   \"Common base class for all employees\"\n",
    "   empCount = 0\n",
    "\n",
    "   def __init__(self, name, salary):\n",
    "      self.name = name\n",
    "      self.salary = salary\n",
    "      Employee.empCount += 1\n",
    "   \n",
    "   def displayCount(self):\n",
    "     print (\"Total Employee %d\" % Employee.empCount)\n",
    "\n",
    "   def displayEmployee(self):\n",
    "      print (\"Name : \", self.name,  \", Salary: \", self.salary)\n",
    "\n",
    "# This would create first object of Employee class\n",
    "emp1 = Employee(\"Zara\", 2000)\n",
    "\n",
    "# This would create second object of Employee class\n",
    "emp2 = Employee(\"Manni\", 5000)\n",
    "\n",
    "emp1.displayEmployee()\n",
    "emp2.displayEmployee()\n",
    "\n",
    "print (\"Total Employee %d\" % Employee.empCount)  "
   ]
  },
  {
   "cell_type": "markdown",
   "id": "1f3e9b1f",
   "metadata": {},
   "source": [
    "### Python Constructor\n",
    "- In Python, a constructor is a special method used for initializing objects of a class. \n",
    "- The constructor method is called automatically when a new object is created. \n",
    "- It typically initializes instance variables (attributes) to specific values or performs any necessary setup for the object.\n",
    "\n",
    "#### Types of Constructor\n",
    "    - Parameterized Constructor\n",
    "    - Non-parameterized Constructor\n",
    "    - Default Constructor"
   ]
  },
  {
   "cell_type": "code",
   "execution_count": 6,
   "id": "54b127ed",
   "metadata": {},
   "outputs": [
    {
     "name": "stdout",
     "output_type": "stream",
     "text": [
      "ID: 101 \n",
      "Name: John\n",
      "ID: 102 \n",
      "Name: David\n"
     ]
    }
   ],
   "source": [
    "class Employee:  \n",
    "    \n",
    "    def __init__(self, name, id1):  \n",
    "        self.id1 = id1  \n",
    "        self.name = name  \n",
    "  \n",
    "    def display(self):  \n",
    "        print(\"ID: %d \\nName: %s\" % (self.id1, self.name))  \n",
    "  \n",
    "  \n",
    "emp1 = Employee(\"John\", 101)  \n",
    "emp2 = Employee(\"David\", 102)  \n",
    "  \n",
    "# accessing display() method to print employee 1 information  \n",
    "  \n",
    "emp1.display()  \n",
    "  \n",
    "# accessing display() method to print employee 2 information  \n",
    "emp2.display()  "
   ]
  },
  {
   "cell_type": "code",
   "execution_count": 7,
   "id": "9e13b722",
   "metadata": {},
   "outputs": [
    {
     "name": "stdout",
     "output_type": "stream",
     "text": [
      "This is non parametrized constructor\n",
      "Hello John\n"
     ]
    }
   ],
   "source": [
    "class Student:  \n",
    "    # Constructor - non parameterized  \n",
    "    \n",
    "    def __init__(self):  \n",
    "        print(\"This is non parametrized constructor\")  \n",
    "        \n",
    "    def show(self,name):  \n",
    "        print(\"Hello\",name)  \n",
    "        \n",
    "student = Student()  \n",
    "\n",
    "student.show(\"John\")      "
   ]
  },
  {
   "cell_type": "code",
   "execution_count": 9,
   "id": "e0bbd3f5",
   "metadata": {},
   "outputs": [
    {
     "name": "stdout",
     "output_type": "stream",
     "text": [
      "101 Joseph\n"
     ]
    }
   ],
   "source": [
    "# default constructor \n",
    "\n",
    "class Student:  \n",
    "    roll_num = 101  \n",
    "    name = \"Joseph\"  \n",
    "  \n",
    "    def display(self):  \n",
    "        print(self.roll_num,self.name)  \n",
    "  \n",
    "st = Student()  \n",
    "st.display()  "
   ]
  },
  {
   "cell_type": "markdown",
   "id": "db60cc06",
   "metadata": {},
   "source": [
    "When we do not include the constructor in the class or forget to declare it, then that becomes the default constructor. It does not perform any task but initializes the objects. "
   ]
  },
  {
   "cell_type": "code",
   "execution_count": 10,
   "id": "394f5ba3",
   "metadata": {},
   "outputs": [
    {
     "name": "stdout",
     "output_type": "stream",
     "text": [
      "The second contructor\n"
     ]
    }
   ],
   "source": [
    "# More than one constructor\n",
    "\n",
    "class Student:\n",
    "    \n",
    "    def __init__(self):  \n",
    "        print(\"The First Constructor\")  \n",
    "        \n",
    "    def __init__(self):  \n",
    "        print(\"The second contructor\")  \n",
    "  \n",
    "st = Student()  "
   ]
  },
  {
   "cell_type": "markdown",
   "id": "6d2938c2",
   "metadata": {},
   "source": [
    "- In the above code, the object `st` called the second constructor whereas both have the same configuration. \n",
    "- The first method is not accessible by the `st` object. \n",
    "- Internally, the object of the class will always call the last constructor if the class has multiple constructors."
   ]
  },
  {
   "cell_type": "code",
   "execution_count": 29,
   "id": "d8e432bc",
   "metadata": {},
   "outputs": [
    {
     "name": "stdout",
     "output_type": "stream",
     "text": [
      "Name :  Bhavana , age:  24\n",
      "Name :  Bharat , age:  25\n",
      "False\n",
      "Bhavana\n",
      "24\n"
     ]
    }
   ],
   "source": [
    "# Instance Methods\n",
    "\n",
    "class Employee:\n",
    "   def __init__(self, name=\"Bhavana\", age=24):\n",
    "    self.name = name\n",
    "    self.age = age\n",
    "    \n",
    "   def displayEmployee(self):\n",
    "      print (\"Name : \", self.name, \", age: \", self.age)\n",
    "\n",
    "e1 = Employee()\n",
    "e2 = Employee(\"Bharat\", 25)\n",
    "\n",
    "e1.displayEmployee()\n",
    "e2.displayEmployee()\n",
    "\n",
    "print (hasattr(e1, 'salary')) # Returns true if 'salary' attribute exists\n",
    "print (getattr(e1, 'name')) # Returns value of 'name' attribute\n",
    "print (getattr(e1, 'age')) \n",
    "setattr(e1, 'salary', 7000) # Set attribute 'salary' at 8\n",
    "delattr(e1, 'age') # Delete attribute 'age'\n",
    "# print (getattr(e1, 'age')) "
   ]
  },
  {
   "cell_type": "markdown",
   "id": "47c3c8dd",
   "metadata": {},
   "source": [
    "- The getattr(obj, name[, default]) − to access the attribute of object.\n",
    "\n",
    "- The hasattr(obj,name) − to check if an attribute exists or not.\n",
    "\n",
    "- The setattr(obj,name,value) − to set an attribute. If attribute does not exist, then it would be created.\n",
    "\n",
    "- The delattr(obj, name) − to delete an attribute."
   ]
  },
  {
   "cell_type": "markdown",
   "id": "74e763cb",
   "metadata": {},
   "source": [
    "### Python built-in class functions\n",
    "- Python provides several built-in class functions that are commonly used for object manipulation, introspection, and various other operations. \n",
    "\n",
    "- `__init__(self[, args...])`:\n",
    "    - Constructor method called automatically when a new instance of the class is created. It initializes the object's attributes.\n",
    "- `__del__(self)`:\n",
    "    - Destructor method called automatically when an object is about to be destroyed (e.g., when it goes out of scope). It can be used to perform cleanup tasks.\n",
    "- `__str__(self)`:\n",
    "    - Called when the str() function is used on an object or when the object is converted to a string implicitly (e.g., during printing). It returns a string representation of the object.\n",
    "- `__repr__(self)`:\n",
    "    - Called by the repr() function or when the object's representation is needed (e.g., in interactive sessions). It returns a string that represents a \"formal\" or unambiguous string representation of the object.\n",
    "- `__len__(self)`:\n",
    "    - Called when the len() function is used on the object. It returns the length of the object, such as the number of elements in a container object.\n",
    "- `__getitem__(self, key)`:\n",
    "    - Called to retrieve an item from the object using square brackets ([]) notation (e.g., obj[key]). It enables indexing and slicing operations on objects.\n",
    "- `__setitem__(self, key, value)`:\n",
    "    - Called when an item is assigned to an object using square brackets ([]) notation (e.g., obj[key] = value). It enables setting values for items in the object.\n",
    "- `__getattr__(self, name)`:\n",
    "    - Called when an attribute is accessed that is not directly defined in the object. It allows dynamic attribute handling and customization.\n",
    "- `__setattr__(self, name, value)`:\n",
    "    - Called when an attribute is set on the object. It enables customizing attribute assignment behavior.\n",
    "- `__iter__(self)`:\n",
    "    - Called when the object is iterated over using a loop (e.g., for item in obj:). It returns an iterator object for the object's elements.\n",
    "- `__next__(self)`:\n",
    "    - Called by the iterator object returned from __iter__() to retrieve the next element in the iteration. It raises StopIteration when the iteration is complete."
   ]
  },
  {
   "cell_type": "code",
   "execution_count": 17,
   "id": "ab0d4469",
   "metadata": {},
   "outputs": [],
   "source": [
    "# constructor method initializes an object when it is created\n",
    "\n",
    "class Person:\n",
    "    def __init__(self, name, age):\n",
    "        self.name = name\n",
    "        self.age = age\n",
    "\n",
    "person1 = Person(\"Alice\", 30)\n",
    "\n",
    "person2 = Person(\"Bob\", 25)"
   ]
  },
  {
   "cell_type": "code",
   "execution_count": 18,
   "id": "20cfd10c",
   "metadata": {},
   "outputs": [
    {
     "name": "stdout",
     "output_type": "stream",
     "text": [
      "Name: Alice, Age: 30\n"
     ]
    }
   ],
   "source": [
    "# returns a string representation of an object\n",
    "\n",
    "class Person:\n",
    "    def __init__(self, name, age):\n",
    "        self.name = name\n",
    "        self.age = age\n",
    "\n",
    "    def __str__(self):\n",
    "        return f\"Name: {self.name}, Age: {self.age}\"\n",
    "\n",
    "person = Person(\"Alice\", 30)\n",
    "\n",
    "print(person)  # Output: Name: Alice, Age: 30"
   ]
  },
  {
   "cell_type": "code",
   "execution_count": 19,
   "id": "dfe3990d",
   "metadata": {},
   "outputs": [
    {
     "name": "stdout",
     "output_type": "stream",
     "text": [
      "5\n"
     ]
    }
   ],
   "source": [
    "# returns the length of an object (e.g., number of elements in a container)\n",
    "\n",
    "class MyList:\n",
    "    def __init__(self, items):\n",
    "        self.items = items\n",
    "\n",
    "    def __len__(self):\n",
    "        return len(self.items)\n",
    "\n",
    "my_list = MyList([1, 2, 3, 4, 5])\n",
    "\n",
    "print(len(my_list))  # Output: 5"
   ]
  },
  {
   "cell_type": "code",
   "execution_count": 20,
   "id": "24820463",
   "metadata": {},
   "outputs": [
    {
     "name": "stdout",
     "output_type": "stream",
     "text": [
      "3\n"
     ]
    }
   ],
   "source": [
    "# enables indexing and retrieving items from an object\n",
    "\n",
    "class MyList:\n",
    "    def __init__(self, items):\n",
    "        self.items = items\n",
    "\n",
    "    def __getitem__(self, index):\n",
    "        return self.items[index]\n",
    "\n",
    "my_list = MyList([1, 2, 3, 4, 5])\n",
    "\n",
    "print(my_list[2])  # Output: 3"
   ]
  },
  {
   "cell_type": "code",
   "execution_count": 24,
   "id": "6d6d12b6",
   "metadata": {},
   "outputs": [
    {
     "name": "stdout",
     "output_type": "stream",
     "text": [
      "Attribute 'address' not found.\n"
     ]
    }
   ],
   "source": [
    "# called when an attribute is accessed that is not directly defined in the object\n",
    "\n",
    "class Person:\n",
    "    def __init__(self, name, age):\n",
    "        self.name = name\n",
    "        self.age = age\n",
    "\n",
    "    def __getattr__(self, attr):\n",
    "        return f\"Attribute '{attr}' not found.\"\n",
    "\n",
    "person = Person(\"Alice\", 30)\n",
    "\n",
    "print(person.address)  # Output: Attribute 'address' not found."
   ]
  },
  {
   "cell_type": "code",
   "execution_count": 23,
   "id": "0c69dad1",
   "metadata": {},
   "outputs": [
    {
     "name": "stdout",
     "output_type": "stream",
     "text": [
      "1\n",
      "2\n",
      "3\n",
      "4\n",
      "5\n"
     ]
    }
   ],
   "source": [
    "# returns an iterator object for iterating over the object's elements\n",
    "\n",
    "class MyList:\n",
    "    def __init__(self, items):\n",
    "        self.items = items\n",
    "\n",
    "    def __iter__(self):\n",
    "        return iter(self.items)\n",
    "\n",
    "my_list = MyList([1, 2, 3, 4, 5])\n",
    "\n",
    "for item in my_list:\n",
    "    print(item)"
   ]
  },
  {
   "cell_type": "code",
   "execution_count": 11,
   "id": "1cac0a31",
   "metadata": {},
   "outputs": [
    {
     "name": "stdout",
     "output_type": "stream",
     "text": [
      "John\n",
      "23\n",
      "True\n"
     ]
    },
    {
     "ename": "AttributeError",
     "evalue": "'Student' object has no attribute 'age'",
     "output_type": "error",
     "traceback": [
      "\u001b[1;31m---------------------------------------------------------------------------\u001b[0m",
      "\u001b[1;31mAttributeError\u001b[0m                            Traceback (most recent call last)",
      "Cell \u001b[1;32mIn[11], line 27\u001b[0m\n\u001b[0;32m     24\u001b[0m \u001b[38;5;28mdelattr\u001b[39m(s, \u001b[38;5;124m'\u001b[39m\u001b[38;5;124mage\u001b[39m\u001b[38;5;124m'\u001b[39m)  \n\u001b[0;32m     26\u001b[0m \u001b[38;5;66;03m# this will give an error since the attribute age has been deleted  \u001b[39;00m\n\u001b[1;32m---> 27\u001b[0m \u001b[38;5;28mprint\u001b[39m(s\u001b[38;5;241m.\u001b[39mage)\n",
      "\u001b[1;31mAttributeError\u001b[0m: 'Student' object has no attribute 'age'"
     ]
    }
   ],
   "source": [
    "class Student:  \n",
    "    def __init__(self, name, id, age):  \n",
    "        self.name = name  \n",
    "        self.id = id  \n",
    "        self.age = age  \n",
    "  \n",
    "    # creates the object of the class Student  \n",
    "s = Student(\"John\", 101, 22)  \n",
    "  \n",
    "# prints the attribute name of the object s  \n",
    "print(getattr(s, 'name'))  \n",
    "  \n",
    "# reset the value of attribute age to 23  \n",
    "setattr(s, \"age\", 23)  \n",
    "  \n",
    "# prints the modified value of age  \n",
    "print(getattr(s, 'age'))  \n",
    "  \n",
    "# prints true if the student contains the attribute with name id  \n",
    "  \n",
    "print(hasattr(s, 'id'))  \n",
    "\n",
    "# deletes the attribute age  \n",
    "delattr(s, 'age')  \n",
    "  \n",
    "# this will give an error since the attribute age has been deleted  \n",
    "print(s.age)  "
   ]
  },
  {
   "cell_type": "markdown",
   "id": "e8173a79",
   "metadata": {},
   "source": [
    "### Built-in class attributes\n",
    "- In Python, there are several built-in class attributes that provide useful information or functionality related to classes and objects. \n",
    "- These attributes are accessible directly from the class definition and can be used for various purposes. \n",
    "- `__dict__`:\n",
    "    - A dictionary containing the namespace of the class or object. It stores the attributes and methods of the class or object in key-value pairs.\n",
    "- `__doc__`:\n",
    "    - A string containing the documentation (docstring) of the class or object. It provides information about the class's purpose, usage, and functionality.\n",
    "- `__name__`:\n",
    "    - The name of the class. When accessed from within a class definition, it is set to __main__. When accessed from outside the class, it is the actual name of the class.\n",
    "- `__module__`:\n",
    "    - The name of the module in which the class is defined. When accessed from the class definition itself, it is set to __main__. When accessed from outside the class, it is the actual module name.\n",
    "- `__bases__`:\n",
    "    - A tuple containing the base classes (parent classes) of the class. It lists the immediate parent classes from which the class inherits.\n",
    "- `__class__`:\n",
    "    - The class type of an instance. It refers to the class from which an object is instantiated."
   ]
  },
  {
   "cell_type": "code",
   "execution_count": 12,
   "id": "eef4ef64",
   "metadata": {},
   "outputs": [
    {
     "name": "stdout",
     "output_type": "stream",
     "text": [
      "{'value': 10}\n"
     ]
    }
   ],
   "source": [
    "class MyClass:\n",
    "    def __init__(self, value):\n",
    "        self.value = value\n",
    "\n",
    "obj = MyClass(10)\n",
    "print(obj.__dict__)  # Output: {'value': 10}"
   ]
  },
  {
   "cell_type": "code",
   "execution_count": 13,
   "id": "19106bc5",
   "metadata": {},
   "outputs": [
    {
     "name": "stdout",
     "output_type": "stream",
     "text": [
      "This is a sample class.\n"
     ]
    }
   ],
   "source": [
    "class MyClass:\n",
    "    \n",
    "    \"\"\"This is a sample class.\"\"\"\n",
    "    \n",
    "    def __init__(self, value):\n",
    "        self.value = value\n",
    "\n",
    "print(MyClass.__doc__)  # Output: This is a sample class."
   ]
  },
  {
   "cell_type": "code",
   "execution_count": 14,
   "id": "67a71d50",
   "metadata": {},
   "outputs": [
    {
     "name": "stdout",
     "output_type": "stream",
     "text": [
      "MyClass\n",
      "__main__\n"
     ]
    }
   ],
   "source": [
    "class MyClass:\n",
    "    pass\n",
    "\n",
    "print(MyClass.__name__)    # Output: MyClass\n",
    "print(MyClass.__module__)  # Output: __main__"
   ]
  },
  {
   "cell_type": "code",
   "execution_count": 15,
   "id": "d0db31a1",
   "metadata": {},
   "outputs": [
    {
     "name": "stdout",
     "output_type": "stream",
     "text": [
      "(<class '__main__.ParentClass'>,)\n"
     ]
    }
   ],
   "source": [
    "class ParentClass:\n",
    "    pass\n",
    "\n",
    "class ChildClass(ParentClass):\n",
    "    pass\n",
    "\n",
    "print(ChildClass.__bases__)  # Output: (<class '__main__.ParentClass'>,)"
   ]
  },
  {
   "cell_type": "code",
   "execution_count": 16,
   "id": "43c75adb",
   "metadata": {},
   "outputs": [
    {
     "name": "stdout",
     "output_type": "stream",
     "text": [
      "<class '__main__.MyClass'>\n"
     ]
    }
   ],
   "source": [
    "class MyClass:\n",
    "    pass\n",
    "\n",
    "obj = MyClass()\n",
    "print(obj.__class__)  # Output: <class '__main__.MyClass'>"
   ]
  },
  {
   "cell_type": "code",
   "execution_count": 25,
   "id": "7e81f52e",
   "metadata": {},
   "outputs": [
    {
     "name": "stdout",
     "output_type": "stream",
     "text": [
      "None\n",
      "{'name': 'John', 'id': 101, 'age': 22}\n",
      "__main__\n"
     ]
    }
   ],
   "source": [
    "class Student:    \n",
    "    \n",
    "    def __init__(self,name,id,age):    \n",
    "        self.name = name;    \n",
    "        self.id = id;    \n",
    "        self.age = age   \n",
    "        \n",
    "    def display_details(self):    \n",
    "        print(\"Name:%s, ID:%d, age:%d\"%(self.name,self.id)) \n",
    "        \n",
    "s = Student(\"John\",101,22)    \n",
    "\n",
    "print(s.__doc__)    \n",
    "print(s.__dict__)    \n",
    "print(s.__module__)    "
   ]
  },
  {
   "cell_type": "code",
   "execution_count": 16,
   "id": "7cc119cc",
   "metadata": {},
   "outputs": [
    {
     "name": "stdout",
     "output_type": "stream",
     "text": [
      "Employee.__doc__: Common base class for all employees\n",
      "Employee.__name__: Employee\n",
      "Employee.__module__: __main__\n",
      "Employee.__bases__: (<class 'object'>,)\n",
      "Employee.__dict__: {'__module__': '__main__', '__doc__': 'Common base class for all employees', 'empCount': 0, '__init__': <function Employee.__init__ at 0x00000240315A7D80>, 'displayCount': <function Employee.displayCount at 0x00000240321EC680>, 'displayEmployee': <function Employee.displayEmployee at 0x00000240321EC9A0>, '__dict__': <attribute '__dict__' of 'Employee' objects>, '__weakref__': <attribute '__weakref__' of 'Employee' objects>}\n"
     ]
    }
   ],
   "source": [
    "class Employee:\n",
    "   'Common base class for all employees'\n",
    "   empCount = 0\n",
    "\n",
    "   def __init__(self, name, salary):\n",
    "      self.name = name\n",
    "      self.salary = salary\n",
    "      Employee.empCount += 1\n",
    "   \n",
    "   def displayCount(self):\n",
    "     print (\"Total Employee %d\" % Employee.empCount)\n",
    "\n",
    "   def displayEmployee(self):\n",
    "      print (\"Name : \", self.name,  \", Salary: \", self.salary)\n",
    "\n",
    "print (\"Employee.__doc__:\", Employee.__doc__)\n",
    "\n",
    "print (\"Employee.__name__:\", Employee.__name__)\n",
    "\n",
    "print (\"Employee.__module__:\", Employee.__module__)\n",
    "\n",
    "print (\"Employee.__bases__:\", Employee.__bases__)\n",
    "\n",
    "print (\"Employee.__dict__:\", Employee.__dict__)"
   ]
  },
  {
   "cell_type": "markdown",
   "id": "9473825f",
   "metadata": {},
   "source": [
    "### Access Modifiers\n",
    "- A class member is said to be public if it can be accessed from anywhere in the program.\n",
    "- Private members are allowed to be accessed from within the class only."
   ]
  },
  {
   "cell_type": "code",
   "execution_count": 33,
   "id": "d6939dad",
   "metadata": {},
   "outputs": [
    {
     "name": "stdout",
     "output_type": "stream",
     "text": [
      "Name: Bhavana\n",
      "age: 24\n",
      "Name: Bharat\n",
      "age: 25\n"
     ]
    }
   ],
   "source": [
    "class Employee:\n",
    "   'Common base class for all employees'\n",
    "\n",
    "   def __init__(self, name=\"Bhavana\", age=24):\n",
    "      self.name = name\n",
    "      self.age = age\n",
    "\n",
    "e1 = Employee()\n",
    "\n",
    "e2 = Employee(\"Bharat\", 25)\n",
    "\n",
    "print (\"Name: {}\".format(e1.name))\n",
    "print (\"age: {}\".format(e1.age))\n",
    "print (\"Name: {}\".format(e2.name))\n",
    "print (\"age: {}\".format(e2.age))"
   ]
  },
  {
   "cell_type": "code",
   "execution_count": 34,
   "id": "49cbedc6",
   "metadata": {},
   "outputs": [
    {
     "name": "stdout",
     "output_type": "stream",
     "text": [
      "Bhavana\n",
      "10000\n"
     ]
    },
    {
     "ename": "AttributeError",
     "evalue": "'Employee' object has no attribute '__age'",
     "output_type": "error",
     "traceback": [
      "\u001b[1;31m---------------------------------------------------------------------------\u001b[0m",
      "\u001b[1;31mAttributeError\u001b[0m                            Traceback (most recent call last)",
      "Cell \u001b[1;32mIn[34], line 16\u001b[0m\n\u001b[0;32m     14\u001b[0m \u001b[38;5;28mprint\u001b[39m (e1\u001b[38;5;241m.\u001b[39mname)\n\u001b[0;32m     15\u001b[0m \u001b[38;5;28mprint\u001b[39m (e1\u001b[38;5;241m.\u001b[39m_salary)\n\u001b[1;32m---> 16\u001b[0m \u001b[38;5;28mprint\u001b[39m (e1\u001b[38;5;241m.\u001b[39m__age)\n",
      "\u001b[1;31mAttributeError\u001b[0m: 'Employee' object has no attribute '__age'"
     ]
    }
   ],
   "source": [
    "class Employee:\n",
    "    \n",
    "   def __init__(self, name, age, salary):\n",
    "    \n",
    "      self.name = name # public variable\n",
    "      self.__age = age # private variable\n",
    "      self._salary = salary # protected variable\n",
    "        \n",
    "   def displayEmployee(self):\n",
    "      print (\"Name : \", self.name, \", age: \", self.__age, \", salary: \", self._salary)\n",
    "\n",
    "e1=Employee(\"Bhavana\", 24, 10000)\n",
    "\n",
    "print (e1.name)\n",
    "print (e1._salary)\n",
    "print (e1.__age)"
   ]
  },
  {
   "cell_type": "markdown",
   "id": "2771e5e4",
   "metadata": {},
   "source": [
    "### Name Mangling\n",
    "- Python doesn't block access to private data, it just leaves for the wisdom of the programmer, not to write any code that access it from outside the class. \n",
    "- We can still access the private members by Python's name mangling technique.\n",
    "- Name mangling is a technique in Python where identifiers prefixed with double underscores `(__)` are automatically modified by the interpreter to avoid naming conflicts in subclasses. \n",
    "- This process changes the name of the variable to include the class name, preventing accidental overriding or access from subclasses.\n",
    "- Name mangling is the process of changing name of a member with double underscore to the form `object._class__variable`. Ex: `e1._Employee__age`\n",
    "- If so required, it can still be accessed from outside the class, but the practice should be refrained.\n",
    "\n",
    "#### Here's how name mangling works:\n",
    "\n",
    "- **Variable Renaming:** When an identifier is prefixed with double underscores within a class definition, Python automatically renames it by adding _ClassName at the beginning of the identifier, where ClassName is the name of the class defining the variable.\n",
    "- **Access Modification:** Variables with name mangling are still accessible within the class where they are defined, but their names are altered to prevent direct access from outside the class or from subclasses.\n",
    "- **Preventing Name Clashes:** Name mangling helps in preventing accidental name clashes in subclasses, especially when subclasses define variables or methods with the same name as those in the superclass."
   ]
  },
  {
   "cell_type": "code",
   "execution_count": null,
   "id": "fd9357b7",
   "metadata": {},
   "outputs": [],
   "source": [
    "class MyClass:\n",
    "    def __init__(self):\n",
    "        self.__private_var = 10\n",
    "\n",
    "    def get_private_var(self):\n",
    "        return self.__private_var\n",
    "\n",
    "class MySubclass(MyClass):\n",
    "    def __init__(self):\n",
    "        super().__init__()\n",
    "        self.__private_var = 20  # This does not override the superclass's private variable due to name mangling\n",
    "\n",
    "    def get_private_var(self):\n",
    "        return self.__private_var\n",
    "\n",
    "# Creating instances\n",
    "obj1 = MyClass()\n",
    "obj2 = MySubclass()\n",
    "\n",
    "# Accessing private variables using methods\n",
    "print(obj1.get_private_var())  # Output: 10\n",
    "print(obj2.get_private_var())  # Output: 20"
   ]
  },
  {
   "cell_type": "code",
   "execution_count": 36,
   "id": "32f3b272",
   "metadata": {},
   "outputs": [
    {
     "name": "stdout",
     "output_type": "stream",
     "text": [
      "Bhavana\n",
      "10000\n",
      "24\n"
     ]
    }
   ],
   "source": [
    "class Employee:\n",
    "    \n",
    "   def __init__(self, name, age, salary):\n",
    "    \n",
    "      self.name = name # public variable\n",
    "      self.__age = age # private variable\n",
    "      self._salary = salary # protected variable\n",
    "        \n",
    "   def displayEmployee(self):\n",
    "      print (\"Name : \", self.name, \", age: \", self.__age, \", salary: \", self._salary)\n",
    "\n",
    "e1=Employee(\"Bhavana\", 24, 10000)\n",
    "\n",
    "print (e1.name)\n",
    "print (e1._salary)\n",
    "print (e1._Employee__age) # We can access private variable"
   ]
  },
  {
   "cell_type": "code",
   "execution_count": 21,
   "id": "b78b8a2b",
   "metadata": {},
   "outputs": [
    {
     "name": "stdout",
     "output_type": "stream",
     "text": [
      "Name:  Bhavana Age:  24\n",
      "Employee Number: 1\n",
      "Name:  Rajesh Age:  26\n",
      "Employee Number: 2\n",
      "Name:  John Age:  27\n",
      "Employee Number: 3\n"
     ]
    }
   ],
   "source": [
    "class Employee:\n",
    "   empCount = 0\n",
    "   def __init__(self, name, age):  # __name and __age are private to the Employee class.\n",
    "      self.__name = name\n",
    "      self.__age = age\n",
    "      Employee.empCount += 1\n",
    "    \n",
    "      print (\"Name: \", self.__name, \"Age: \", self.__age)\n",
    "      print (\"Employee Number:\", Employee.empCount)\n",
    "\n",
    "e1 = Employee(\"Bhavana\", 24)\n",
    "e2 = Employee(\"Rajesh\", 26)\n",
    "e3 = Employee(\"John\", 27)"
   ]
  },
  {
   "cell_type": "markdown",
   "id": "d43c6aa3",
   "metadata": {},
   "source": [
    "- To access the empCount class variable using the Employee class name, we simply use Employee.empCount. \n",
    "- Since empCount is a class variable, it belongs to the class itself rather than to instances of the class. Therefore, we access it directly through the class name."
   ]
  },
  {
   "cell_type": "code",
   "execution_count": 19,
   "id": "b69abfec",
   "metadata": {},
   "outputs": [
    {
     "name": "stdout",
     "output_type": "stream",
     "text": [
      "2474741919440 2474741919440 2474741919440\n",
      "Point destroyed\n"
     ]
    }
   ],
   "source": [
    "class Point:\n",
    "    \n",
    "   def __init__( self, x=0, y=0):\n",
    "      self.x = x\n",
    "      self.y = y\n",
    "    \n",
    "   def __del__(self):   # __del__ called a destructor\n",
    "      class_name = self.__class__.__name__\n",
    "      print (class_name, \"destroyed\")\n",
    "\n",
    "pt1 = Point()\n",
    "pt2 = pt1\n",
    "pt3 = pt1\n",
    "\n",
    "# prints the ids of the obejcts\n",
    "print (id(pt1), id(pt2), id(pt3))\n",
    "\n",
    "del pt1\n",
    "del pt2\n",
    "del pt3"
   ]
  },
  {
   "cell_type": "markdown",
   "id": "8fd9dc53",
   "metadata": {},
   "source": [
    "### Python - Class Methods\n",
    "- Python has a built-in function classmethod() which transforms an instance method to a class method which can be called with the reference to the class only and not the object. \n",
    "- Syntax : `classmethod(instance_method)`\n",
    "- Using the `@classmethod()` decorator is the prescribed way to define a class method as it is more convenient than first declaring an instance method and then transforming it into a class method."
   ]
  },
  {
   "cell_type": "code",
   "execution_count": 22,
   "id": "111722a0",
   "metadata": {},
   "outputs": [
    {
     "name": "stdout",
     "output_type": "stream",
     "text": [
      "3\n",
      "3\n"
     ]
    }
   ],
   "source": [
    "class Employee:\n",
    "    \n",
    "   empCount = 0\n",
    "\n",
    "   def __init__(self, name, age):\n",
    "      self.__name = name\n",
    "      self.__age = age\n",
    "      Employee.empCount += 1\n",
    "    \n",
    "   def showcount(self):\n",
    "         print (self.empCount)\n",
    "   counter=classmethod(showcount)\n",
    "\n",
    "e1 = Employee(\"Bhavana\", 24)\n",
    "e2 = Employee(\"Rajesh\", 26)\n",
    "e3 = Employee(\"John\", 27)\n",
    "\n",
    "e1.showcount()\n",
    "Employee.counter()"
   ]
  },
  {
   "cell_type": "markdown",
   "id": "cb9433c1",
   "metadata": {},
   "source": [
    "- In the Employee class, define a showcount() instance method with the \"self\" argument (reference to calling object). \n",
    "- It prints the value of empCount. Next, transform the method to class method counter() that can be accessed through the class reference."
   ]
  },
  {
   "cell_type": "markdown",
   "id": "4be66a3d",
   "metadata": {},
   "source": [
    "### Python Property Object\n",
    "- In Python, a property object is a built-in feature that allows us to define getter, setter, and deleter methods for class attributes. \n",
    "- It provides a way to encapsulate the access to attributes and customize the behavior of attribute access, modification, and deletion.\n",
    "- Syntax: `property(fget=None, fset=None, fdel=None, doc=None)`\n",
    "    - fget − an instance method that retrieves value of an instance variable.\n",
    "    - fset − an instance method that assigns value to an instance variable.\n",
    "    - fdel − an instance method that removes an instance variable\n",
    "    - fdoc − Documentation string for the property.\n",
    "   \n",
    "Here's a breakdown of the components of a property object:\n",
    "\n",
    "- **Getter:** A getter method is used to retrieve the value of an attribute. It is defined using the @property decorator and does not take any additional parameters except self.\n",
    "- **Setter:** A setter method is used to set the value of an attribute. It is defined using the @<attribute_name>.setter decorator and takes the new value as a parameter along with self.\n",
    "- **Deleter:** A deleter method is used to delete an attribute. It is defined using the @<attribute_name>.deleter decorator and takes only self as a parameter."
   ]
  },
  {
   "cell_type": "code",
   "execution_count": 39,
   "id": "01f19149",
   "metadata": {},
   "outputs": [
    {
     "name": "stdout",
     "output_type": "stream",
     "text": [
      "Name: Bhavana age: 24\n",
      "Name: Archana age: 21\n"
     ]
    }
   ],
   "source": [
    "class Employee:\n",
    "   def __init__(self, name, age):\n",
    "      self.__name = name\n",
    "      self.__age = age\n",
    "\n",
    "   def get_name(self):\n",
    "      return self.__name\n",
    "   def get_age(self):\n",
    "      return self.__age\n",
    "   def set_name(self, name):\n",
    "      self.__name = name\n",
    "      return\n",
    "   def set_age(self, age):\n",
    "      self.__age=age\n",
    "\n",
    "e1=Employee(\"Bhavana\", 24)\n",
    "print (\"Name:\", e1.get_name(), \"age:\", \n",
    "\n",
    "e1.get_age())\n",
    "e1.set_name(\"Archana\")\n",
    "e1.set_age(21)\n",
    "print (\"Name:\", e1.get_name(), \"age:\", e1.get_age())"
   ]
  },
  {
   "cell_type": "code",
   "execution_count": 38,
   "id": "ef0442a5",
   "metadata": {},
   "outputs": [
    {
     "name": "stdout",
     "output_type": "stream",
     "text": [
      "Name: Bhavana age: 24\n",
      "Name: Archana age: 23\n"
     ]
    }
   ],
   "source": [
    "class Employee:\n",
    "   def __init__(self, name, age):\n",
    "      self.__name = name\n",
    "      self.__age = age\n",
    "\n",
    "   def get_name(self):\n",
    "      return self.__name\n",
    "   def get_age(self):\n",
    "      return self.__age\n",
    "   def set_name(self, name):\n",
    "      self.__name = name\n",
    "      return\n",
    "   def set_age(self, age):\n",
    "      self.__age=age\n",
    "      return\n",
    "   name = property(get_name, set_name, \"name\")\n",
    "   age = property(get_age, set_age, \"age\")\n",
    "\n",
    "e1=Employee(\"Bhavana\", 24)\n",
    "print (\"Name:\", e1.name, \"age:\", e1.age)\n",
    "\n",
    "e1.name = \"Archana\"\n",
    "e1.age = 23\n",
    "print (\"Name:\", e1.name, \"age:\", e1.age)"
   ]
  },
  {
   "cell_type": "code",
   "execution_count": 37,
   "id": "03f07626",
   "metadata": {},
   "outputs": [
    {
     "name": "stdout",
     "output_type": "stream",
     "text": [
      "5\n",
      "10\n",
      "8\n"
     ]
    },
    {
     "ename": "AttributeError",
     "evalue": "'Rectangle' object has no attribute '_width'",
     "output_type": "error",
     "traceback": [
      "\u001b[1;31m---------------------------------------------------------------------------\u001b[0m",
      "\u001b[1;31mAttributeError\u001b[0m                            Traceback (most recent call last)",
      "Cell \u001b[1;32mIn[37], line 51\u001b[0m\n\u001b[0;32m     49\u001b[0m \u001b[38;5;66;03m# Deleting property\u001b[39;00m\n\u001b[0;32m     50\u001b[0m \u001b[38;5;28;01mdel\u001b[39;00m rect\u001b[38;5;241m.\u001b[39mwidth\n\u001b[1;32m---> 51\u001b[0m \u001b[38;5;28mprint\u001b[39m(rect\u001b[38;5;241m.\u001b[39mwidth)\n",
      "Cell \u001b[1;32mIn[37], line 8\u001b[0m, in \u001b[0;36mRectangle.width\u001b[1;34m(self)\u001b[0m\n\u001b[0;32m      6\u001b[0m \u001b[38;5;129m@property\u001b[39m\n\u001b[0;32m      7\u001b[0m \u001b[38;5;28;01mdef\u001b[39;00m \u001b[38;5;21mwidth\u001b[39m(\u001b[38;5;28mself\u001b[39m):\n\u001b[1;32m----> 8\u001b[0m     \u001b[38;5;28;01mreturn\u001b[39;00m \u001b[38;5;28mself\u001b[39m\u001b[38;5;241m.\u001b[39m_width\n",
      "\u001b[1;31mAttributeError\u001b[0m: 'Rectangle' object has no attribute '_width'"
     ]
    }
   ],
   "source": [
    "class Rectangle:\n",
    "    def __init__(self, width, height):\n",
    "        self._width = width  # Using single underscore for naming convention (private variable)\n",
    "        self._height = height\n",
    "\n",
    "    @property\n",
    "    def width(self):\n",
    "        return self._width\n",
    "\n",
    "    @width.setter\n",
    "    def width(self, value):\n",
    "        if value <= 0:\n",
    "            raise ValueError(\"Width must be positive\")\n",
    "        self._width = value\n",
    "\n",
    "    @property\n",
    "    def height(self):\n",
    "        return self._height\n",
    "\n",
    "    @height.setter\n",
    "    def height(self, value):\n",
    "        if value <= 0:\n",
    "            raise ValueError(\"Height must be positive\")\n",
    "        self._height = value\n",
    "\n",
    "    @property\n",
    "    def area(self):\n",
    "        return self._width * self._height\n",
    "\n",
    "    @property\n",
    "    def perimeter(self):\n",
    "        return 2 * (self._width + self._height)\n",
    "\n",
    "    @width.deleter\n",
    "    def width(self):\n",
    "        del self._width\n",
    "        \n",
    "# Creating a rectangle object\n",
    "rect = Rectangle(5, 10)\n",
    "\n",
    "# Accessing properties\n",
    "print(rect.width)  # Output: 5\n",
    "print(rect.height)  # Output: 10\n",
    "\n",
    "# Modifying properties\n",
    "rect.width = 8\n",
    "print(rect.width)  # Output: 8\n",
    "\n",
    "# Deleting property\n",
    "del rect.width\n",
    "print(rect.width)  # This will raise an AttributeError since width has been deleted\n"
   ]
  },
  {
   "cell_type": "markdown",
   "id": "97458877",
   "metadata": {},
   "source": [
    "In this example:\n",
    "\n",
    "- We have a Rectangle class with attributes width and height, both of which are managed using property objects.\n",
    "- The @property decorator is used for the getter methods (width, height, area, perimeter).\n",
    "- The @<attribute_name>.setter decorator is used for the setter methods (width, height).\n",
    "- The @<attribute_name>.deleter decorator is used for the deleter method (width)."
   ]
  },
  {
   "cell_type": "markdown",
   "id": "3c3c5e9f",
   "metadata": {},
   "source": [
    "### Static Method\n",
    "- In Python, a static method is a type of method that is bound to the class rather than an instance of the class. \n",
    "- This means that we can call a static method on the class itself, without needing to create an instance of the class."
   ]
  },
  {
   "cell_type": "code",
   "execution_count": 1,
   "id": "d183eb85",
   "metadata": {},
   "outputs": [
    {
     "name": "stdout",
     "output_type": "stream",
     "text": [
      "This is a static method.\n",
      "You can access class variables inside a static method: 10\n"
     ]
    }
   ],
   "source": [
    "class MyClass:\n",
    "    static_var = 10  # A class variable\n",
    "\n",
    "    def __init__(self, x):\n",
    "        self.x = x  # An instance variable\n",
    "\n",
    "    @staticmethod\n",
    "    def static_method():\n",
    "        print(\"This is a static method.\")\n",
    "        print(\"You can access class variables inside a static method:\", MyClass.static_var)\n",
    "\n",
    "# Calling a static method without creating an instance of MyClass\n",
    "MyClass.static_method()"
   ]
  },
  {
   "cell_type": "code",
   "execution_count": 2,
   "id": "82581496",
   "metadata": {},
   "outputs": [
    {
     "name": "stdout",
     "output_type": "stream",
     "text": [
      "3\n",
      "3\n"
     ]
    }
   ],
   "source": [
    "class Employee:\n",
    "   empCount = 0\n",
    "   def __init__(self, name, age):\n",
    "      self.__name = name\n",
    "      self.__age = age\n",
    "      Employee.empCount += 1\n",
    "   \n",
    "   #@staticmethod\n",
    "   def showcount():\n",
    "            print (Employee.empCount)\n",
    "            return\n",
    "   counter = staticmethod(showcount)\n",
    "\n",
    "e1 = Employee(\"Bhavana\", 24)\n",
    "e2 = Employee(\"Rajesh\", 26)\n",
    "e3 = Employee(\"John\", 27)\n",
    "\n",
    "e1.counter()\n",
    "Employee.counter()"
   ]
  },
  {
   "cell_type": "markdown",
   "id": "cd09c62d",
   "metadata": {},
   "source": [
    "### Inheritance\n",
    "- Inheritance in Python allows a class (child class) to inherit attributes and methods from another class (parent class). \n",
    "- This concept is fundamental in Object-Oriented Programming (OOP) as it promotes code reusability and supports the creation of hierarchical class structures.\n",
    "- In inheritance, the child class acquires the properties and can access all the data members and functions defined in the parent class. A child class can also provide its specific implementation to the functions of the parent class.\n",
    "- In python, a derived class can inherit base class by just mentioning the base in the bracket after the derived class name `class derived-class(base class) : <class>`\n",
    "![Image](Image/java-types-of-inheritance.jpg)"
   ]
  },
  {
   "cell_type": "markdown",
   "id": "7af87afb",
   "metadata": {},
   "source": [
    "### Single Inheritance"
   ]
  },
  {
   "cell_type": "code",
   "execution_count": 27,
   "id": "247b687e",
   "metadata": {},
   "outputs": [
    {
     "name": "stdout",
     "output_type": "stream",
     "text": [
      "dog barking\n",
      "Animal Speaking\n"
     ]
    }
   ],
   "source": [
    "class Animal:  \n",
    "    def speak(self):  \n",
    "        print(\"Animal Speaking\")  \n",
    "        \n",
    "#child class Dog inherits the base class Animal  \n",
    "class Dog(Animal):  \n",
    "    def bark(self):  \n",
    "        print(\"dog barking\")  \n",
    "        \n",
    "d = Dog()  \n",
    "d.bark()  \n",
    "d.speak()"
   ]
  },
  {
   "cell_type": "code",
   "execution_count": 26,
   "id": "de11c6d5",
   "metadata": {},
   "outputs": [
    {
     "name": "stdout",
     "output_type": "stream",
     "text": [
      "Buddy says woof!\n"
     ]
    }
   ],
   "source": [
    "# Parent class\n",
    "class Animal:\n",
    "    def __init__(self, name):\n",
    "        self.name = name\n",
    "\n",
    "    def speak(self):\n",
    "        raise NotImplementedError(\"Subclass must implement this method\")\n",
    "\n",
    "\n",
    "# Child class inheriting from Animal\n",
    "class Dog(Animal):\n",
    "    def speak(self):\n",
    "        return f\"{self.name} says woof!\"\n",
    "\n",
    "\n",
    "# Create an instance of the Dog class\n",
    "dog = Dog(\"Buddy\")\n",
    "\n",
    "print(dog.speak())  # Output: Buddy says woof!"
   ]
  },
  {
   "cell_type": "markdown",
   "id": "dd828897",
   "metadata": {},
   "source": [
    "In this example:\n",
    "\n",
    "- Animal is the parent class with an __init__ method to initialize the name attribute and a speak method that raises a NotImplementedError.\n",
    "- Dog is the child class that inherits from Animal using single inheritance. It implements the speak method to provide a specific behavior for dogs.\n",
    "- When an instance of Dog is created (dog = Dog(\"Buddy\")), it can call the speak method inherited from Animal but overridden in Dog."
   ]
  },
  {
   "cell_type": "markdown",
   "id": "e3fa20ec",
   "metadata": {},
   "source": [
    "### Multi-Level inheritance\n",
    "- Multi-Level inheritance is possible in python like other object-oriented languages. \n",
    "- Multi-level inheritance is archived when a derived class inherits another derived class. \n",
    "- There is no limit on the number of levels up to which, the multi-level inheritance is archived in python."
   ]
  },
  {
   "cell_type": "code",
   "execution_count": 28,
   "id": "8b52c102",
   "metadata": {},
   "outputs": [
    {
     "name": "stdout",
     "output_type": "stream",
     "text": [
      "dog barking\n",
      "Animal Speaking\n",
      "Eating bread...\n"
     ]
    }
   ],
   "source": [
    "class Animal:  \n",
    "    def speak(self):  \n",
    "        print(\"Animal Speaking\")  \n",
    "        \n",
    "#The child class Dog inherits the base class Animal  \n",
    "class Dog(Animal):  \n",
    "    def bark(self):  \n",
    "        print(\"dog barking\")  \n",
    "        \n",
    "#The child class Dogchild inherits another child class Dog  \n",
    "class DogChild(Dog):  \n",
    "    def eat(self):  \n",
    "        print(\"Eating bread...\")  \n",
    "        \n",
    "d = DogChild()  \n",
    "\n",
    "d.bark()  \n",
    "d.speak()  \n",
    "d.eat()  "
   ]
  },
  {
   "cell_type": "code",
   "execution_count": 29,
   "id": "8e25f13b",
   "metadata": {},
   "outputs": [
    {
     "name": "stdout",
     "output_type": "stream",
     "text": [
      "Unknown sound\n",
      "Buddy says woof!\n",
      "Max says woof!\n",
      "Max fetches the ball!\n"
     ]
    }
   ],
   "source": [
    "# Parent class\n",
    "class Animal:\n",
    "    def __init__(self, name):\n",
    "        self.name = name\n",
    "\n",
    "    def speak(self):\n",
    "        return \"Unknown sound\"\n",
    "\n",
    "\n",
    "# Intermediate subclass inheriting from Animal\n",
    "class Dog(Animal):\n",
    "    def speak(self):\n",
    "        return f\"{self.name} says woof!\"\n",
    "\n",
    "\n",
    "# Subclass inheriting from Dog\n",
    "class GoldenRetriever(Dog):\n",
    "    def fetch(self):\n",
    "        return f\"{self.name} fetches the ball!\"\n",
    "\n",
    "\n",
    "# Create instances of the classes\n",
    "animal = Animal(\"Generic Animal\")\n",
    "\n",
    "dog = Dog(\"Buddy\")\n",
    "\n",
    "golden = GoldenRetriever(\"Max\")\n",
    "\n",
    "# Test the speak and fetch methods\n",
    "print(animal.speak())          # Output: Unknown sound\n",
    "print(dog.speak())             # Output: Buddy says woof!\n",
    "print(golden.speak())          # Output: Max says woof! (Inherited from Dog)\n",
    "print(golden.fetch())          # Output: Max fetches the ball! (Specific to GoldenRetriever)"
   ]
  },
  {
   "cell_type": "markdown",
   "id": "47f53187",
   "metadata": {},
   "source": [
    "In this example:\n",
    "\n",
    "- Animal is the parent class with a generic speak method.\n",
    "- Dog is an intermediate subclass inheriting from Animal and overriding the speak method with a dog-specific sound.\n",
    "- GoldenRetriever is a subclass inheriting from Dog and adding a new method fetch specific to golden retrievers.\n",
    "- When an instance of GoldenRetriever is created (golden = GoldenRetriever(\"Max\")), it inherits the speak method from Dog and the fetch method from itself, demonstrating multi-level inheritance.\n",
    "\n",
    "- This pattern allows for organizing classes in a hierarchy where each subclass inherits behavior from its parent class and can also add its own unique behavior."
   ]
  },
  {
   "cell_type": "markdown",
   "id": "fad64ad8",
   "metadata": {},
   "source": [
    "### Multiple inheritance\n",
    "- Provides us the flexibility to inherit multiple base classes in the child class."
   ]
  },
  {
   "cell_type": "code",
   "execution_count": 30,
   "id": "82df8e3c",
   "metadata": {},
   "outputs": [
    {
     "name": "stdout",
     "output_type": "stream",
     "text": [
      "30\n",
      "200\n",
      "0.5\n"
     ]
    }
   ],
   "source": [
    "class Calculation1:  \n",
    "    def Summation(self,a,b):  \n",
    "        return a+b;  \n",
    "    \n",
    "class Calculation2:  \n",
    "    def Multiplication(self,a,b):  \n",
    "        return a*b;  \n",
    "    \n",
    "class Derived(Calculation1,Calculation2):  \n",
    "    def Divide(self,a,b):  \n",
    "        return a/b;  \n",
    "    \n",
    "d = Derived()  \n",
    "\n",
    "print(d.Summation(10,20))  \n",
    "\n",
    "print(d.Multiplication(10,20))  \n",
    "\n",
    "print(d.Divide(10,20))  "
   ]
  },
  {
   "cell_type": "code",
   "execution_count": 31,
   "id": "481fa0ea",
   "metadata": {},
   "outputs": [
    {
     "name": "stdout",
     "output_type": "stream",
     "text": [
      "Buddy says woof!\n",
      "Feeding milk\n",
      "Buddy is a Golden Retriever Canine\n"
     ]
    }
   ],
   "source": [
    "# Parent class 1\n",
    "\n",
    "class Animal:\n",
    "    def __init__(self, name):\n",
    "        self.name = name\n",
    "\n",
    "    def speak(self):\n",
    "        return \"Unknown sound\"\n",
    "\n",
    "\n",
    "# Parent class 2\n",
    "class Mammal:\n",
    "    def __init__(self, species):\n",
    "        self.species = species\n",
    "\n",
    "    def feed_milk(self):\n",
    "        return \"Feeding milk\"\n",
    "\n",
    "\n",
    "# Child class inheriting from both Animal and Mammal\n",
    "class Dog(Animal, Mammal):\n",
    "    def __init__(self, name, breed):\n",
    "        # Call the __init__ methods of both parent classes\n",
    "        Animal.__init__(self, name)\n",
    "        Mammal.__init__(self, \"Canine\")\n",
    "        self.breed = breed\n",
    "\n",
    "    def speak(self):\n",
    "        return f\"{self.name} says woof!\"\n",
    "\n",
    "    def describe(self):\n",
    "        return f\"{self.name} is a {self.breed} {self.species}\"\n",
    "\n",
    "\n",
    "# Create an instance of the Dog class\n",
    "dog = Dog(\"Buddy\", \"Golden Retriever\")\n",
    "\n",
    "# Test methods from both parent classes and the child class\n",
    "print(dog.speak())          # Output: Buddy says woof!\n",
    "print(dog.feed_milk())      # Output: Feeding milk\n",
    "print(dog.describe())       # Output: Buddy is a Golden Retriever Canine\n"
   ]
  },
  {
   "cell_type": "markdown",
   "id": "f71d82f5",
   "metadata": {},
   "source": [
    "In this example:\n",
    "\n",
    "- Animal and Mammal are parent classes with their own attributes and methods.\n",
    "- Dog is a child class that inherits from both Animal and Mammal, using multiple inheritance.\n",
    "- When an instance of Dog is created (dog = Dog(\"Buddy\", \"Golden Retriever\")), it can access methods from both parent classes (speak from Animal, feed_milk from Mammal) as well as its own methods (describe from Dog).\n",
    "- Multiple inheritance can be powerful but requires careful design to avoid method name conflicts and ensure clarity in class hierarchy."
   ]
  },
  {
   "cell_type": "code",
   "execution_count": 33,
   "id": "e1ac59a5",
   "metadata": {},
   "outputs": [
    {
     "name": "stdout",
     "output_type": "stream",
     "text": [
      "True\n",
      "False\n"
     ]
    }
   ],
   "source": [
    "class Calculation1:  \n",
    "    \n",
    "    def Summation(self,a,b):  \n",
    "        return a+b;  \n",
    "    \n",
    "class Calculation2:  \n",
    "    def Multiplication(self,a,b):  \n",
    "        return a*b;  \n",
    "    \n",
    "class Derived(Calculation1,Calculation2):  \n",
    "    def Divide(self,a,b):  \n",
    "        return a/b;  \n",
    "    \n",
    "d = Derived()  \n",
    "\n",
    "print(issubclass(Derived,Calculation2))  \n",
    "print(issubclass(Calculation1,Calculation2))  "
   ]
  },
  {
   "cell_type": "code",
   "execution_count": 32,
   "id": "1dbf4d66",
   "metadata": {},
   "outputs": [
    {
     "name": "stdout",
     "output_type": "stream",
     "text": [
      "True\n",
      "False\n"
     ]
    }
   ],
   "source": [
    "class Vehicle:\n",
    "    pass\n",
    "\n",
    "class Car(Vehicle):\n",
    "    pass\n",
    "\n",
    "class Bicycle:\n",
    "    pass\n",
    "\n",
    "# Check if Car is a subclass of Vehicle\n",
    "print(issubclass(Car, Vehicle))  # Output: True\n",
    "\n",
    "# Check if Bicycle is a subclass of Vehicle\n",
    "print(issubclass(Bicycle, Vehicle))  # Output: False"
   ]
  },
  {
   "cell_type": "markdown",
   "id": "4021e0d9",
   "metadata": {},
   "source": [
    "- The `issubclass(sub, sup)` method in Python is used to check if a given class sub is a subclass of another class sup. It returns True if sub is indeed a subclass of sup, and False otherwise. \n",
    "\n",
    "In this example:\n",
    "\n",
    "- Car is a subclass of Vehicle, so issubclass(Car, Vehicle) returns True.\n",
    "- Bicycle is not a subclass of Vehicle, so issubclass(Bicycle, Vehicle) returns False.\n",
    "- We can use the issubclass() function to dynamically check class relationships in our code, which can be helpful for conditional logic or ensuring proper class hierarchies."
   ]
  },
  {
   "cell_type": "code",
   "execution_count": 34,
   "id": "dc84aa43",
   "metadata": {},
   "outputs": [
    {
     "name": "stdout",
     "output_type": "stream",
     "text": [
      "True\n"
     ]
    }
   ],
   "source": [
    "class Calculation1:  \n",
    "    \n",
    "    def Summation(self,a,b):  \n",
    "        return a+b;  \n",
    "    \n",
    "class Calculation2:  \n",
    "    def Multiplication(self,a,b):  \n",
    "        return a*b;  \n",
    "    \n",
    "class Derived(Calculation1,Calculation2):  \n",
    "    def Divide(self,a,b):  \n",
    "        return a/b;  \n",
    "    \n",
    "d = Derived()  \n",
    "\n",
    "print(isinstance(d,Derived))"
   ]
  },
  {
   "cell_type": "code",
   "execution_count": null,
   "id": "632e2130",
   "metadata": {},
   "outputs": [],
   "source": [
    "class Vehicle:\n",
    "    pass\n",
    "\n",
    "class Car(Vehicle):\n",
    "    pass\n",
    "\n",
    "class Bicycle:\n",
    "    pass\n",
    "\n",
    "# Create instances of the classes\n",
    "car = Car()\n",
    "bicycle = Bicycle()\n",
    "\n",
    "# Check if car is an instance of Car\n",
    "print(isinstance(car, Car))  # Output: True\n",
    "\n",
    "# Check if car is an instance of Vehicle (or its subclass)\n",
    "print(isinstance(car, Vehicle))  # Output: True\n",
    "\n",
    "# Check if bicycle is an instance of Car\n",
    "print(isinstance(bicycle, Car))  # Output: False\n",
    "\n",
    "# Check if bicycle is an instance of Bicycle\n",
    "print(isinstance(bicycle, Bicycle))  # Output: True"
   ]
  },
  {
   "cell_type": "markdown",
   "id": "c1ecd913",
   "metadata": {},
   "source": [
    "- The `isinstance(obj, class)` method in Python is used to check if an object obj is an instance of a specified class class. It returns True if obj is an instance of class or any of its subclasses, and False otherwise.\n",
    "\n",
    "In this example:\n",
    "\n",
    "- car is an instance of Car, so isinstance(car, Car) returns True.\n",
    "- car is also an instance of Vehicle because Car is a subclass of Vehicle, so isinstance(car, Vehicle) also returns True.\n",
    "- bicycle is not an instance of Car, so isinstance(bicycle, Car) returns False.\n",
    "- bicycle is an instance of Bicycle, so isinstance(bicycle, Bicycle) returns True.\n",
    "- The isinstance() function is commonly used for type checking in Python, allowing us to perform conditional operations based on the type of objects in our code."
   ]
  },
  {
   "cell_type": "markdown",
   "id": "95076b09",
   "metadata": {},
   "source": [
    "### Hierarchical inheritance \n",
    "- In Python, hierarchical inheritance refers to a class inheritance structure where multiple derived classes inherit from the same base class. \n",
    "- This creates a hierarchy of classes, where each derived class inherits attributes and methods from the base class and can also have its own additional attributes and methods."
   ]
  },
  {
   "cell_type": "code",
   "execution_count": 1,
   "id": "6aaf59a8",
   "metadata": {},
   "outputs": [
    {
     "name": "stdout",
     "output_type": "stream",
     "text": [
      "Buddy says Woof!\n",
      "Whiskers says Meow!\n"
     ]
    }
   ],
   "source": [
    "# Base class\n",
    "class Animal:\n",
    "    def __init__(self, name):\n",
    "        self.name = name\n",
    "\n",
    "    def speak(self):\n",
    "        pass  # Placeholder method, to be overridden by subclasses\n",
    "\n",
    "\n",
    "# Derived classes\n",
    "class Dog(Animal):\n",
    "    def speak(self):\n",
    "        return f\"{self.name} says Woof!\"\n",
    "\n",
    "\n",
    "class Cat(Animal):\n",
    "    def speak(self):\n",
    "        return f\"{self.name} says Meow!\"\n",
    "\n",
    "\n",
    "# Create instances of derived classes\n",
    "dog = Dog(\"Buddy\")\n",
    "cat = Cat(\"Whiskers\")\n",
    "\n",
    "# Call the speak method for each instance\n",
    "print(dog.speak())  # Output: Buddy says Woof!\n",
    "print(cat.speak())  # Output: Whiskers says Meow!"
   ]
  },
  {
   "cell_type": "markdown",
   "id": "a1565a84",
   "metadata": {},
   "source": [
    "In this example:\n",
    "\n",
    "- Animal is the base class with an `__init__` method to initialize the name attribute and a speak method, which is a placeholder method to be overridden by subclasses.\n",
    "- Dog and Cat are derived classes that inherit from Animal. They override the speak method inherited from Animal with their own implementations to represent the sounds they make.\n",
    "- Instances of Dog and Cat classes (dog and cat) can call the speak method, and each instance uses its subclass's implementation of the method.\n",
    "- This hierarchical inheritance allows you to create a structured class hierarchy, where common behaviors and attributes are defined in the base class, and specific behaviors and attributes are implemented in derived classes."
   ]
  },
  {
   "cell_type": "markdown",
   "id": "7237352d",
   "metadata": {},
   "source": [
    "### Hybrid inheritance \n",
    "- Hybrid inheritance in Python refers to a combination of different types of inheritance, such as multiple inheritance and hierarchical inheritance. \n",
    "- It allows a class to inherit from more than one base class and can include both single and multiple levels of inheritance.\n",
    "- This approach provides flexibility in designing class hierarchies but requires careful management to avoid potential issues like the diamond problem."
   ]
  },
  {
   "cell_type": "code",
   "execution_count": 2,
   "id": "9aabd2d9",
   "metadata": {},
   "outputs": [
    {
     "name": "stdout",
     "output_type": "stream",
     "text": [
      "Buddy says Woof!\n",
      "Whiskers says Meow!\n",
      "Batty says Squeak!\n",
      "Batty is running\n"
     ]
    }
   ],
   "source": [
    "# Base classes\n",
    "class Animal:\n",
    "    def __init__(self, name):\n",
    "        self.name = name\n",
    "\n",
    "    def speak(self):\n",
    "        pass  # Placeholder method, to be overridden by subclasses\n",
    "\n",
    "\n",
    "class Mammal(Animal):\n",
    "    def run(self):\n",
    "        return f\"{self.name} is running\"\n",
    "\n",
    "\n",
    "# Derived classes using multiple inheritance\n",
    "class Dog(Mammal):\n",
    "    def speak(self):\n",
    "        return f\"{self.name} says Woof!\"\n",
    "\n",
    "\n",
    "class Cat(Mammal):\n",
    "    def speak(self):\n",
    "        return f\"{self.name} says Meow!\"\n",
    "\n",
    "\n",
    "class Bat(Mammal, Animal):\n",
    "    def speak(self):\n",
    "        return f\"{self.name} says Squeak!\"\n",
    "\n",
    "\n",
    "# Create instances of derived classes\n",
    "dog = Dog(\"Buddy\")\n",
    "cat = Cat(\"Whiskers\")\n",
    "bat = Bat(\"Batty\")\n",
    "\n",
    "# Call methods for each instance\n",
    "print(dog.speak())  # Output: Buddy says Woof!\n",
    "print(cat.speak())  # Output: Whiskers says Meow!\n",
    "print(bat.speak())  # Output: Batty says Squeak!\n",
    "print(bat.run())    # Output: Batty is running"
   ]
  },
  {
   "cell_type": "markdown",
   "id": "23e0e3d7",
   "metadata": {},
   "source": [
    "In this example:\n",
    "\n",
    "- Animal and Mammal are base classes, where Animal has a name attribute and a speak method (placeholder) and Mammal has a run method.\n",
    "- Dog and Cat are derived from Mammal and override the speak method.\n",
    "- Bat is an example of hybrid inheritance, inheriting from both Mammal and Animal. It overrides the speak method as well.\n",
    "- Instances of Dog, Cat, and Bat demonstrate different behaviors based on their class hierarchy and method implementations.\n",
    "- Hybrid inheritance can be powerful but requires careful consideration to avoid ambiguity and potential conflicts, especially when dealing with multiple inheritance paths and method overriding."
   ]
  },
  {
   "cell_type": "markdown",
   "id": "a5033182",
   "metadata": {},
   "source": [
    "### Polymorphism\n",
    "- Polymorphism is a Greek word meaning having multiple forms.\n",
    "- Polymorphism allows methods to perform different actions based on the object's type or class.\n",
    "- It enables flexibility in implementing methods that can work with different types of objects."
   ]
  },
  {
   "cell_type": "code",
   "execution_count": 3,
   "id": "283fbb3c",
   "metadata": {},
   "outputs": [
    {
     "name": "stdout",
     "output_type": "stream",
     "text": [
      "Woof!\n",
      "Meow!\n"
     ]
    }
   ],
   "source": [
    "class Animal:\n",
    "    def speak(self):\n",
    "        return \"Generic animal sound\"\n",
    "\n",
    "class Dog(Animal):\n",
    "    def speak(self):\n",
    "        return \"Woof!\"\n",
    "\n",
    "class Cat(Animal):\n",
    "    def speak(self):\n",
    "        return \"Meow!\"\n",
    "\n",
    "# Polymorphism in action\n",
    "dog = Dog()\n",
    "cat = Cat()\n",
    "\n",
    "print(dog.speak())  # Output: Woof!\n",
    "print(cat.speak())  # Output: Meow!"
   ]
  },
  {
   "cell_type": "code",
   "execution_count": 20,
   "id": "71a9c2ec",
   "metadata": {},
   "outputs": [
    {
     "name": "stdout",
     "output_type": "stream",
     "text": [
      "Vector (7, 8)\n"
     ]
    }
   ],
   "source": [
    "class Vector:\n",
    "   def __init__(self, a, b):\n",
    "      self.a = a\n",
    "      self.b = b\n",
    "\n",
    "   def __str__(self):\n",
    "      return 'Vector (%d, %d)' % (self.a, self.b)\n",
    "   \n",
    "   def __add__(self,other):\n",
    "      return Vector(self.a + other.a, self.b + other.b)\n",
    "\n",
    "v1 = Vector(2,10)\n",
    "v2 = Vector(5,-2)\n",
    "print (v1 + v2)"
   ]
  },
  {
   "cell_type": "code",
   "execution_count": 4,
   "id": "2a995218",
   "metadata": {},
   "outputs": [
    {
     "name": "stdout",
     "output_type": "stream",
     "text": [
      "4 6\n",
      "6 7\n"
     ]
    }
   ],
   "source": [
    "# operator Overloading\n",
    "class Point:\n",
    "    \n",
    "    def __init__(self, x, y):\n",
    "        self.x = x\n",
    "        self.y = y\n",
    "\n",
    "    def __add__(self, other):\n",
    "        \n",
    "        if isinstance(other, Point):  # Type Checking\n",
    "            return Point(self.x + other.x, self.y + other.y)\n",
    "        \n",
    "        elif isinstance(other, int):\n",
    "            return Point(self.x + other, self.y + other)\n",
    "        \n",
    "        else:\n",
    "            raise TypeError(\"Unsupported operand type\")\n",
    "\n",
    "# Operator overloading in action\n",
    "point1 = Point(1, 2)\n",
    "point2 = Point(3, 4)\n",
    "point3 = point1 + point2  # Adding two Point objects\n",
    "point4 = point1 + 5       # Adding an integer to a Point object\n",
    "\n",
    "print(point3.x, point3.y)  # Output: 4 6\n",
    "print(point4.x, point4.y)  # Output: 6 7"
   ]
  },
  {
   "cell_type": "markdown",
   "id": "d1bb9fcd",
   "metadata": {},
   "source": [
    "- In the context of the code example provided, `__add__` is a special method in Python used for operator overloading.\n",
    "- Specifically, it is used to define the behavior of the addition operator + for instances of a class. When you use the + operator between objects of a class that defines the `__add__` method, Python automatically calls this method to perform the addition operation."
   ]
  },
  {
   "cell_type": "markdown",
   "id": "923c61f0",
   "metadata": {},
   "source": [
    "### Method Overriding\n",
    "- Method overriding in Python allows a subclass to provide a specific implementation for a method that is already defined in its superclass. \n",
    "- This allows the subclass to customize or extend the behavior of the inherited method."
   ]
  },
  {
   "cell_type": "code",
   "execution_count": 35,
   "id": "cc8d979d",
   "metadata": {},
   "outputs": [
    {
     "name": "stdout",
     "output_type": "stream",
     "text": [
      "Unknown sound\n",
      "Woof!\n"
     ]
    }
   ],
   "source": [
    "# Parent class\n",
    "class Animal:\n",
    "    def speak(self):\n",
    "        return \"Unknown sound\"\n",
    "\n",
    "\n",
    "# Child class overriding the speak method\n",
    "class Dog(Animal):\n",
    "    def speak(self):\n",
    "        return \"Woof!\"\n",
    "\n",
    "\n",
    "# Create instances of the classes\n",
    "animal = Animal()\n",
    "dog = Dog()\n",
    "\n",
    "# Test the speak method of both classes\n",
    "print(animal.speak())  # Output: Unknown sound (from Animal class)\n",
    "print(dog.speak())     # Output: Woof! (from Dog class, overriding Animal's speak method)\n"
   ]
  },
  {
   "cell_type": "markdown",
   "id": "98aa2626",
   "metadata": {},
   "source": [
    "In this example:\n",
    "\n",
    "- Animal is the parent class with a generic speak method that returns \"Unknown sound\".\n",
    "- Dog is a subclass of Animal and provides its own implementation of the speak method, overriding the behavior of Animal.\n",
    "- When an instance of Dog calls the speak method (dog.speak()), it executes the overridden version defined in the Dog class."
   ]
  },
  {
   "cell_type": "code",
   "execution_count": 37,
   "id": "134cf8be",
   "metadata": {},
   "outputs": [
    {
     "name": "stdout",
     "output_type": "stream",
     "text": [
      "Bank Rate of interest: 10\n",
      "SBI Rate of interest: 7\n",
      "ICICI Rate of interest: 8\n"
     ]
    }
   ],
   "source": [
    "class Bank:  \n",
    "    def getroi(self):  \n",
    "        return 10\n",
    "    \n",
    "class SBI(Bank):  \n",
    "    def getroi(self):  \n",
    "        return 7\n",
    "\n",
    "class ICICI(Bank):  \n",
    "    def getroi(self):  \n",
    "        return 8\n",
    "    \n",
    "b1 = Bank()  \n",
    "b2 = SBI()  \n",
    "b3 = ICICI()  \n",
    "\n",
    "print(\"Bank Rate of interest:\",b1.getroi());  \n",
    "print(\"SBI Rate of interest:\",b2.getroi());  \n",
    "print(\"ICICI Rate of interest:\",b3.getroi());  "
   ]
  },
  {
   "cell_type": "code",
   "execution_count": 12,
   "id": "80ffbd11",
   "metadata": {},
   "outputs": [
    {
     "name": "stdout",
     "output_type": "stream",
     "text": [
      "Generic animal sound\n",
      "Woof!\n"
     ]
    }
   ],
   "source": [
    "class Animal:\n",
    "    def __init__(self, species):\n",
    "        self.species = species\n",
    "\n",
    "    def make_sound(self):\n",
    "        print(\"Generic animal sound\")\n",
    "\n",
    "class Dog(Animal):\n",
    "    def __init__(self, species, breed):\n",
    "        super().__init__(species)  # Call superclass's __init__ method\n",
    "        self.breed = breed\n",
    "\n",
    "    def make_sound(self):\n",
    "        super().make_sound()  # Call superclass's make_sound method\n",
    "        print(\"Woof!\")\n",
    "\n",
    "# Create instances\n",
    "animal = Animal(\"Mammal\")\n",
    "dog = Dog(\"Mammal\", \"Labrador\")\n",
    "\n",
    "# Access methods using super()\n",
    "dog.make_sound()  # Output: Generic animal sound\\nWoof!"
   ]
  },
  {
   "cell_type": "markdown",
   "id": "2f1367e1",
   "metadata": {},
   "source": [
    "- The `super() keyword` in Python is used to access methods and properties from a superclass (parent class) within a subclass (child class). \n",
    "- It allows us to call methods of the superclass and access its attributes without explicitly naming the superclass, which can be especially useful in cases of inheritance and method overriding.\n",
    "\n",
    "In this example:\n",
    "\n",
    "- Animal is the superclass with an __init__ method and a make_sound method.\n",
    "- Dog is a subclass of Animal that overrides the make_sound method and calls the superclass's __init__ method using super() in its own __init__ method.\n",
    "- When dog.make_sound() is called, it first calls the make_sound method of the superclass (Animal) using super().make_sound(), -which prints \"Generic animal sound\". Then, it prints \"Woof!\" to indicate the specific sound of a dog.\n",
    "- Using super() helps maintain code clarity, promotes code reuse in inheritance hierarchies, and ensures correct method resolution according to the class hierarchy."
   ]
  },
  {
   "cell_type": "markdown",
   "id": "a75a9eb8",
   "metadata": {},
   "source": [
    "### Data Abstraction\n",
    "\n",
    "- Abstraction is used to **hide internal details and show only functionalities**. User is familiar with that \"what function does\" but they don't know \"how it does.\"\n",
    "\n",
    "- Example : When we use the TV remote to increase the volume. We don't know how pressing a key increases the volume of the TV. We only know to press the \"+\" button to increase the volume.\n",
    "\n",
    "\n",
    "- Data abstraction in Python refers to the concept of hiding the complex implementation details of a class while exposing only the necessary interfaces or functionalities to the outside world. \n",
    "- It allows us to focus on using objects without worrying about how they are implemented internally. \n",
    "- Python supports data abstraction through various mechanisms such as abstract classes, interfaces, and encapsulation.\n",
    "- In python, we can also perform data hiding by adding the double underscore `(___)` as a prefix to the attribute which is to be hidden. After this, the attribute will not be visible outside of the class through the object."
   ]
  },
  {
   "cell_type": "code",
   "execution_count": 5,
   "id": "0a6c6e03",
   "metadata": {},
   "outputs": [
    {
     "name": "stdout",
     "output_type": "stream",
     "text": [
      "The number of employees 2\n"
     ]
    },
    {
     "ename": "AttributeError",
     "evalue": "'Employee' object has no attribute '__count'",
     "output_type": "error",
     "traceback": [
      "\u001b[1;31m---------------------------------------------------------------------------\u001b[0m",
      "\u001b[1;31mAttributeError\u001b[0m                            Traceback (most recent call last)",
      "Cell \u001b[1;32mIn[5], line 15\u001b[0m\n\u001b[0;32m     12\u001b[0m emp2 \u001b[38;5;241m=\u001b[39m Employee()  \n\u001b[0;32m     14\u001b[0m \u001b[38;5;28;01mtry\u001b[39;00m:  \n\u001b[1;32m---> 15\u001b[0m     \u001b[38;5;28mprint\u001b[39m(emp\u001b[38;5;241m.\u001b[39m__count)  \n\u001b[0;32m     16\u001b[0m \u001b[38;5;28;01mfinally\u001b[39;00m:  \n\u001b[0;32m     17\u001b[0m     emp\u001b[38;5;241m.\u001b[39mdisplay()\n",
      "\u001b[1;31mAttributeError\u001b[0m: 'Employee' object has no attribute '__count'"
     ]
    }
   ],
   "source": [
    "class Employee:  \n",
    "    \n",
    "    __count = 0\n",
    "    \n",
    "    def __init__(self):  \n",
    "        Employee.__count = Employee.__count+1  \n",
    "        \n",
    "    def display(self):  \n",
    "        print(\"The number of employees\",Employee.__count) \n",
    "        \n",
    "emp = Employee()  \n",
    "emp2 = Employee()  \n",
    "\n",
    "try:  \n",
    "    print(emp.__count)  \n",
    "finally:  \n",
    "    emp.display()  "
   ]
  },
  {
   "cell_type": "markdown",
   "id": "89b69c2e",
   "metadata": {},
   "source": [
    "### Abstract Classes and Interfaces:\n",
    "- Abstract classes are classes that cannot be instantiated directly and may contain abstract methods, which are methods without implementations.\n",
    "- Interfaces are similar to abstract classes but may only contain method signatures without any implementation details.\n",
    "\n",
    "- A class that consists of one or more abstract method is called the **abstract class**. Abstract methods do not contain their implementation. \n",
    "- Abstract class can be inherited by the subclass and abstract method gets its definition in the subclass. Abstraction classes are meant to be the blueprint of the other class. \n",
    "- An abstract class can be useful when we are designing large functions. An abstract class is also helpful to provide the standard interface for different implementations of components.\n",
    "- Syntax : `from abc import ABC  \n",
    "class ClassName(ABC):  `\n",
    "- Unlike the other high-level language, Python doesn't provide the abstract class itself. We need to import the abc module, which provides the base for defining Abstract Base classes (ABC). \n",
    "- The ABC works by decorating methods of the base class as abstract. It registers concrete classes as the implementation of the abstract base. \n",
    "- We use the `@abstractmethod` decorator to define an abstract method or if we don't provide the definition to the method, it automatically becomes the abstract method."
   ]
  },
  {
   "cell_type": "code",
   "execution_count": 6,
   "id": "453a879a",
   "metadata": {},
   "outputs": [
    {
     "name": "stdout",
     "output_type": "stream",
     "text": [
      "The mileage is 30kmph\n",
      "The mileage is 27kmph \n",
      "The mileage is 25kmph \n",
      "The mileage is 24kmph \n"
     ]
    }
   ],
   "source": [
    "# Python program demonstrate  \n",
    "# abstract base class work   \n",
    "\n",
    "from abc import ABC, abstractmethod   \n",
    "\n",
    "class Car(ABC):   \n",
    "    def mileage(self):   \n",
    "        pass  \n",
    "  \n",
    "class Tesla(Car):   \n",
    "    def mileage(self):   \n",
    "        print(\"The mileage is 30kmph\") \n",
    "        \n",
    "class Suzuki(Car):   \n",
    "    def mileage(self):   \n",
    "        print(\"The mileage is 25kmph \")  \n",
    "        \n",
    "class Duster(Car):   \n",
    "     def mileage(self):   \n",
    "          print(\"The mileage is 24kmph \")   \n",
    "  \n",
    "class Renault(Car):   \n",
    "    def mileage(self):   \n",
    "            print(\"The mileage is 27kmph \")   \n",
    "          \n",
    "# Driver code   \n",
    "t= Tesla ()   \n",
    "t.mileage()   \n",
    "  \n",
    "r = Renault()   \n",
    "r.mileage()   \n",
    "  \n",
    "s = Suzuki()   \n",
    "s.mileage()   \n",
    "d = Duster()   \n",
    "d.mileage()  "
   ]
  },
  {
   "cell_type": "markdown",
   "id": "8fe4b881",
   "metadata": {},
   "source": [
    "- In the above code, we have imported the abc module to create the abstract base class. We created the Car class that inherited the ABC class and defined an abstract method named mileage(). \n",
    "- We have then inherited the base class from the three different subclasses and implemented the abstract method differently. \n",
    "- We created the objects to call the abstract method."
   ]
  },
  {
   "cell_type": "code",
   "execution_count": 7,
   "id": "b2223760",
   "metadata": {},
   "outputs": [
    {
     "name": "stdout",
     "output_type": "stream",
     "text": [
      "Area: 78.5\n",
      "Perimeter: 31.400000000000002\n"
     ]
    }
   ],
   "source": [
    "from abc import ABC, abstractmethod\n",
    "\n",
    "# Abstract base class defining the interface\n",
    "class Shape(ABC):\n",
    "    \n",
    "    @abstractmethod\n",
    "    def area(self):\n",
    "        pass\n",
    "\n",
    "    @abstractmethod\n",
    "    def perimeter(self):\n",
    "        pass\n",
    "\n",
    "# Concrete class implementing Shape interface\n",
    "class Circle(Shape):\n",
    "    \n",
    "    def __init__(self, radius):\n",
    "        self.radius = radius\n",
    "\n",
    "    def area(self):\n",
    "        return 3.14 * self.radius * self.radius\n",
    "\n",
    "    def perimeter(self):\n",
    "        return 2 * 3.14 * self.radius\n",
    "\n",
    "# Creating objects and using abstraction\n",
    "circle = Circle(5)\n",
    "\n",
    "print(\"Area:\", circle.area())  # Output: Area: 78.5\n",
    "print(\"Perimeter:\", circle.perimeter())  # Output: Perimeter: 31.400000000000002"
   ]
  },
  {
   "cell_type": "markdown",
   "id": "56978319",
   "metadata": {},
   "source": [
    "In this example:\n",
    "\n",
    "- Shape is an abstract base class (interface) with abstract methods area and perimeter.\n",
    "- Circle is a concrete class that implements the Shape interface by providing concrete implementations of the abstract methods.\n",
    "- Users interact with the Circle object through the Shape interface, using methods like area and perimeter, without needing to know the internal details of how these calculations are done."
   ]
  },
  {
   "cell_type": "code",
   "execution_count": 8,
   "id": "ce4490c4",
   "metadata": {},
   "outputs": [
    {
     "name": "stdout",
     "output_type": "stream",
     "text": [
      "abstract method\n",
      "concrete method\n"
     ]
    }
   ],
   "source": [
    "# Abstaction Method Overriding\n",
    "\n",
    "from abc import ABC, abstractmethod\n",
    "\n",
    "class democlass(ABC):\n",
    "    \n",
    "   @abstractmethod\n",
    "   def method1(self):\n",
    "      print (\"abstract method\")\n",
    "      return\n",
    "    \n",
    "   def method2(self):\n",
    "      print (\"concrete method\")\n",
    "\n",
    "class concreteclass(democlass):\n",
    "   def method1(self):\n",
    "      super().method1()\n",
    "      return\n",
    "      \n",
    "obj = concreteclass()\n",
    "obj.method1()\n",
    "obj.method2()"
   ]
  },
  {
   "cell_type": "markdown",
   "id": "8e964e3e",
   "metadata": {},
   "source": [
    "### Encapsulation\n",
    "- Encapsulation is the bundling of data (attributes) and methods that operate on the data within a class. It restricts direct access to the data from outside the class.\n",
    "- Access to data is typically controlled using getter and setter methods.\n",
    "- Encapsulation is the practice of bundling the data (attributes) and methods that operate on the data together within a class, and controlling access to that data by using access specifiers like public, private, and protected."
   ]
  },
  {
   "cell_type": "code",
   "execution_count": 9,
   "id": "3d5937b3",
   "metadata": {},
   "outputs": [
    {
     "name": "stdout",
     "output_type": "stream",
     "text": [
      "Name: Rajaram marks: 25\n",
      "Name: Bharat marks: 25\n"
     ]
    }
   ],
   "source": [
    "class Student:\n",
    "   def __init__(self, name=\"Rajaram\", marks=50):\n",
    "      self.name = name\n",
    "      self.marks = marks\n",
    "\n",
    "s1 = Student()\n",
    "s2 = Student(\"Bharat\", 25)\n",
    "\n",
    "print (\"Name: {} marks: {}\".format(s1.name, s2.marks))\n",
    "print (\"Name: {} marks: {}\".format(s2.name, s2.marks))"
   ]
  },
  {
   "cell_type": "code",
   "execution_count": 12,
   "id": "12851342",
   "metadata": {},
   "outputs": [
    {
     "name": "stdout",
     "output_type": "stream",
     "text": [
      "Name: Rajaram marks: 50\n",
      "Name: Bharat marks: 25\n"
     ]
    },
    {
     "ename": "AttributeError",
     "evalue": "'Student' object has no attribute '__name'",
     "output_type": "error",
     "traceback": [
      "\u001b[1;31m---------------------------------------------------------------------------\u001b[0m",
      "\u001b[1;31mAttributeError\u001b[0m                            Traceback (most recent call last)",
      "Cell \u001b[1;32mIn[12], line 15\u001b[0m\n\u001b[0;32m     12\u001b[0m s1\u001b[38;5;241m.\u001b[39mstudentdata()\n\u001b[0;32m     13\u001b[0m s2\u001b[38;5;241m.\u001b[39mstudentdata()\n\u001b[1;32m---> 15\u001b[0m \u001b[38;5;28mprint\u001b[39m (\u001b[38;5;124m\"\u001b[39m\u001b[38;5;124mName: \u001b[39m\u001b[38;5;132;01m{}\u001b[39;00m\u001b[38;5;124m marks: \u001b[39m\u001b[38;5;132;01m{}\u001b[39;00m\u001b[38;5;124m\"\u001b[39m\u001b[38;5;241m.\u001b[39mformat(s1\u001b[38;5;241m.\u001b[39m__name, s2\u001b[38;5;241m.\u001b[39m__marks))\n\u001b[0;32m     16\u001b[0m \u001b[38;5;28mprint\u001b[39m (\u001b[38;5;124m\"\u001b[39m\u001b[38;5;124mName: \u001b[39m\u001b[38;5;132;01m{}\u001b[39;00m\u001b[38;5;124m marks: \u001b[39m\u001b[38;5;132;01m{}\u001b[39;00m\u001b[38;5;124m\"\u001b[39m\u001b[38;5;241m.\u001b[39mformat(s2\u001b[38;5;241m.\u001b[39m__name, __s2\u001b[38;5;241m.\u001b[39mmarks))\n",
      "\u001b[1;31mAttributeError\u001b[0m: 'Student' object has no attribute '__name'"
     ]
    }
   ],
   "source": [
    "class Student:\n",
    "   def __init__(self, name=\"Rajaram\", marks=50):\n",
    "      self.__name = name\n",
    "      self.__marks = marks  # private by prefixing double underscores\n",
    "    \n",
    "   def studentdata(self):\n",
    "      print (\"Name: {} marks: {}\".format(self.__name, self.__marks))\n",
    "      \n",
    "s1 = Student()\n",
    "s2 = Student(\"Bharat\", 25)\n",
    "\n",
    "s1.studentdata()\n",
    "s2.studentdata()\n",
    "\n",
    "print (\"Name: {} marks: {}\".format(s1.__name, s2.__marks))\n",
    "print (\"Name: {} marks: {}\".format(s2.__name, __s2.marks))"
   ]
  },
  {
   "cell_type": "code",
   "execution_count": 38,
   "id": "e94e5a46",
   "metadata": {},
   "outputs": [
    {
     "name": "stdout",
     "output_type": "stream",
     "text": [
      "Alice\n",
      "50000\n",
      "60000\n"
     ]
    }
   ],
   "source": [
    "class Employee:\n",
    "    def __init__(self, name, salary):\n",
    "        self._name = name  # Protected attribute\n",
    "        self.__salary = salary  # Private attribute\n",
    "\n",
    "    def get_name(self):\n",
    "        return self._name\n",
    "\n",
    "    def get_salary(self):\n",
    "        return self.__salary\n",
    "\n",
    "    def set_salary(self, new_salary):\n",
    "        if new_salary > 0:\n",
    "            self.__salary = new_salary\n",
    "\n",
    "# Create an instance of Employee\n",
    "employee = Employee(\"Alice\", 50000)\n",
    "\n",
    "# Access the attributes using getter methods\n",
    "print(employee.get_name())        # Output: Alice\n",
    "print(employee.get_salary())      # Output: 50000\n",
    "\n",
    "# Try to directly access private attribute (won't work)\n",
    "# print(employee.__salary)  # This will raise an AttributeError\n",
    "\n",
    "# Update the salary using setter method\n",
    "employee.set_salary(60000)\n",
    "print(employee.get_salary())     # Output: 60000"
   ]
  },
  {
   "cell_type": "markdown",
   "id": "db967375",
   "metadata": {},
   "source": [
    "In this example:\n",
    "\n",
    "- Employee class encapsulates the attributes name and salary, making salary private `(__salary)` to prevent direct access from outside the class.\n",
    "- Getter and setter methods (get_salary and set_salary) are used to access and modify the private attribute `__salary` in a controlled manner.\n",
    "- These examples demonstrate how data abstraction, achieved through abstract classes, interfaces, and encapsulation, helps in creating more maintainable, reusable, and scalable code by hiding implementation details and exposing only essential interfaces to users."
   ]
  },
  {
   "cell_type": "markdown",
   "id": "d58426f0",
   "metadata": {},
   "source": [
    "### Python Interfaces\n",
    "- In Python, interfaces are not explicitly defined as they are in some other languages like Java or C#. Instead, Python uses a concept called \"duck typing\" and abstract base classes (ABCs) to achieve similar functionality to interfaces.\n",
    "\n",
    "- **Duck Typing:** \n",
    "    - Python follows the principle of \"duck typing,\" which means that an object's suitability is determined by whether it behaves like the required interface, not by its actual type. \n",
    "    - For example, if an object has methods method1() and method2(), and another part of the code expects an object with these methods, Python will accept any object that provides these methods, regardless of its class.\n",
    "- **Abstract Base Classes (ABCs):** \n",
    "    - Python's abc module provides support for defining abstract base classes. \n",
    "    - An abstract base class in Python is a class that cannot be instantiated directly but provides a blueprint for other classes to inherit from and implement certain methods. \n",
    "    - This is similar to interfaces in other languages."
   ]
  },
  {
   "cell_type": "code",
   "execution_count": 13,
   "id": "1e5a798c",
   "metadata": {},
   "outputs": [
    {
     "name": "stdout",
     "output_type": "stream",
     "text": [
      "Area: 15\n",
      "Perimeter: 16\n"
     ]
    }
   ],
   "source": [
    "from abc import ABC, abstractmethod\n",
    "\n",
    "class Shape(ABC):\n",
    "    @abstractmethod\n",
    "    def area(self):\n",
    "        pass\n",
    "\n",
    "    @abstractmethod\n",
    "    def perimeter(self):\n",
    "        pass\n",
    "\n",
    "class Rectangle(Shape):\n",
    "    def __init__(self, length, width):\n",
    "        self.length = length\n",
    "        self.width = width\n",
    "\n",
    "    def area(self):\n",
    "        return self.length * self.width\n",
    "\n",
    "    def perimeter(self):\n",
    "        return 2 * (self.length + self.width)\n",
    "\n",
    "# Creating instances of Rectangle\n",
    "rectangle = Rectangle(5, 3)\n",
    "\n",
    "# Using the methods from the \"interface\" Shape\n",
    "print(\"Area:\", rectangle.area())  # Output: Area: 15\n",
    "print(\"Perimeter:\", rectangle.perimeter())  # Output: Perimeter: 16"
   ]
  },
  {
   "cell_type": "markdown",
   "id": "af1db673",
   "metadata": {},
   "source": [
    "In this example, \n",
    "- Shape is an abstract base class with abstract methods area() and perimeter(). \n",
    "- The Rectangle class inherits from Shape and provides implementations for these abstract methods. \n",
    "- Any class that inherits from Shape must implement these methods, effectively defining an interface-like contract."
   ]
  },
  {
   "cell_type": "markdown",
   "id": "4c751a7a",
   "metadata": {},
   "source": [
    "### Dynamic Binding\n",
    "- Dynamic binding in Python refers to the process of determining the method or function to call at runtime, based on the type of object involved. \n",
    "- This is also known as late binding or runtime polymorphism. \n",
    "- Dynamic binding is a characteristic of dynamically-typed languages like Python, where the actual method or function to be executed is decided during program execution, not during compilation."
   ]
  },
  {
   "cell_type": "code",
   "execution_count": 5,
   "id": "47fc860e",
   "metadata": {},
   "outputs": [
    {
     "name": "stdout",
     "output_type": "stream",
     "text": [
      "Dog barks\n",
      "Cat meows\n"
     ]
    }
   ],
   "source": [
    "class Animal:\n",
    "    def speak(self):\n",
    "        print(\"Animal speaks\")\n",
    "\n",
    "class Dog(Animal):\n",
    "    def speak(self):\n",
    "        print(\"Dog barks\")\n",
    "\n",
    "class Cat(Animal):\n",
    "    def speak(self):\n",
    "        print(\"Cat meows\")\n",
    "\n",
    "# Function using dynamic binding\n",
    "def make_sound(x):\n",
    "    x.speak()  # Dynamic binding here\n",
    "\n",
    "# Creating instances of Dog and Cat\n",
    "dog = Dog()\n",
    "cat = Cat()\n",
    "\n",
    "# Calling make_sound with different objects\n",
    "make_sound(dog)  # Output: Dog barks\n",
    "make_sound(cat)  # Output: Cat meows"
   ]
  },
  {
   "cell_type": "markdown",
   "id": "efca644a",
   "metadata": {},
   "source": [
    "### Dynamic typing"
   ]
  },
  {
   "cell_type": "markdown",
   "id": "eb73cd1e",
   "metadata": {},
   "source": [
    "- Dynamic typing in programming languages like Python refers to the ability to change the data type of a variable during runtime. \n",
    "- Unlike statically-typed languages where variable types are fixed at compile time, dynamic typing allows for more flexibility but requires careful handling to avoid unexpected behavior."
   ]
  },
  {
   "cell_type": "code",
   "execution_count": 6,
   "id": "4565fba8",
   "metadata": {},
   "outputs": [
    {
     "name": "stdout",
     "output_type": "stream",
     "text": [
      "x is an integer: 10\n",
      "x is a string: Hello\n",
      "x is a list: [1, 2, 3]\n"
     ]
    }
   ],
   "source": [
    "# Dynamic typing example\n",
    "x = 10  # x is an integer\n",
    "print(\"x is an integer:\", x)\n",
    "\n",
    "x = \"Hello\"  # x is now a string\n",
    "print(\"x is a string:\", x)\n",
    "\n",
    "x = [1, 2, 3]  # x is now a list\n",
    "print(\"x is a list:\", x)"
   ]
  },
  {
   "cell_type": "markdown",
   "id": "d28c5903",
   "metadata": {},
   "source": [
    "- If we want to install a specific version of a package or update a package to the latest version, \n",
    "- We can use `pip install package_name==version` or `pip install --upgrade package_name`."
   ]
  },
  {
   "cell_type": "markdown",
   "id": "d2982f43",
   "metadata": {},
   "source": [
    "### Inner Class\n",
    "- An inner class, also known as a nested class, is a class defined within another class. \n",
    "- In Python, inner classes are useful for grouping related classes together, organizing code more effectively, and controlling access to class members. "
   ]
  },
  {
   "cell_type": "code",
   "execution_count": 1,
   "id": "0c87faa7",
   "metadata": {},
   "outputs": [
    {
     "name": "stdout",
     "output_type": "stream",
     "text": [
      "Outer Value: Outer Object\n",
      "Inner Value: Inner Object\n"
     ]
    }
   ],
   "source": [
    "class OuterClass:\n",
    "    def __init__(self, outer_value):\n",
    "        self.outer_value = outer_value\n",
    "\n",
    "    def display_outer(self):\n",
    "        print(\"Outer Value:\", self.outer_value)\n",
    "\n",
    "    class InnerClass:\n",
    "        def __init__(self, inner_value):\n",
    "            self.inner_value = inner_value\n",
    "\n",
    "        def display_inner(self):\n",
    "            print(\"Inner Value:\", self.inner_value)\n",
    "\n",
    "\n",
    "# Create an instance of the outer class\n",
    "outer_obj = OuterClass(\"Outer Object\")\n",
    "\n",
    "# Create an instance of the inner class using the outer class instance\n",
    "inner_obj = outer_obj.InnerClass(\"Inner Object\")\n",
    "\n",
    "# Access and display values from both outer and inner classes\n",
    "outer_obj.display_outer()  # Output: Outer Value: Outer Object\n",
    "inner_obj.display_inner()  # Output: Inner Value: Inner Object"
   ]
  },
  {
   "cell_type": "markdown",
   "id": "b01d9d32",
   "metadata": {},
   "source": [
    "In this example:\n",
    "\n",
    "- OuterClass is the outer class that contains an inner class InnerClass.\n",
    "- InnerClass is defined within OuterClass and can access members of OuterClass.\n",
    "- Instances of the inner class are created using an instance of the outer class. This is because the inner class is bound to the outer class instance that it was created from.\n",
    "- The InnerClass instance inner_obj can access both its own attributes (inner_value) and attributes of the outer class (outer_value)."
   ]
  },
  {
   "cell_type": "code",
   "execution_count": 3,
   "id": "97812a37",
   "metadata": {},
   "outputs": [
    {
     "name": "stdout",
     "output_type": "stream",
     "text": [
      "Name: Ashish\n",
      "Subjects: Phy Che\n",
      "Subjects: Phy Che\n"
     ]
    }
   ],
   "source": [
    "class student:\n",
    "   def __init__(self):\n",
    "      self.name = \"Ashish\"\n",
    "      self.subs = self.subjects()\n",
    "      return\n",
    "   def show(self):\n",
    "      print (\"Name:\", self.name)\n",
    "      self.subs.display()\n",
    "   class subjects:\n",
    "      def __init__(self):\n",
    "         self.sub1 = \"Phy\"\n",
    "         self.sub2 = \"Che\"\n",
    "         return\n",
    "      def display(self):\n",
    "         print (\"Subjects:\",self.sub1, self.sub2)\n",
    "         \n",
    "s1 = student()\n",
    "s1.show()\n",
    "\n",
    "sub = student().subjects().display()"
   ]
  },
  {
   "cell_type": "markdown",
   "id": "3dc84c94",
   "metadata": {},
   "source": [
    "## Anonymous Class and Objects\n",
    "- In Python, there's no direct concept of an \"anonymous class\" like we might find in some other programming languages. \n",
    "- However, Python does support the creation of anonymous objects using dictionaries or `types.SimpleNamespace`. \n",
    "- These objects can serve a similar purpose to anonymous classes in other languages by allowing us to create objects dynamically without defining a formal class."
   ]
  },
  {
   "cell_type": "code",
   "execution_count": 4,
   "id": "091c687b",
   "metadata": {},
   "outputs": [
    {
     "name": "stdout",
     "output_type": "stream",
     "text": [
      "John\n",
      "30\n",
      "New York\n"
     ]
    }
   ],
   "source": [
    "# Creating an anonymous object using a dictionary\n",
    "anon_obj = {'name': 'John', 'age': 30, 'city': 'New York'}\n",
    "\n",
    "# Accessing attributes of the anonymous object\n",
    "print(anon_obj['name'])  # Output: John\n",
    "print(anon_obj['age'])   # Output: 30\n",
    "print(anon_obj['city'])  # Output: New York"
   ]
  },
  {
   "cell_type": "code",
   "execution_count": 5,
   "id": "e2e06506",
   "metadata": {},
   "outputs": [
    {
     "name": "stdout",
     "output_type": "stream",
     "text": [
      "John\n",
      "30\n",
      "New York\n"
     ]
    }
   ],
   "source": [
    "from types import SimpleNamespace\n",
    "\n",
    "# Creating an anonymous object using SimpleNamespace\n",
    "anon_obj = SimpleNamespace(name='John', age=30, city='New York')\n",
    "\n",
    "# Accessing attributes of the anonymous object\n",
    "print(anon_obj.name)  # Output: John\n",
    "print(anon_obj.age)   # Output: 30\n",
    "print(anon_obj.city)  # Output: New York"
   ]
  },
  {
   "cell_type": "markdown",
   "id": "5e07cc82",
   "metadata": {},
   "source": [
    "### Singleton Class\n",
    "- A Singleton class in Python is a class that restricts the instantiation of the class to only one object. This pattern ensures that a class has only one instance and provides a global point of access to that instance."
   ]
  },
  {
   "cell_type": "code",
   "execution_count": 6,
   "id": "bff3d537",
   "metadata": {},
   "outputs": [
    {
     "name": "stdout",
     "output_type": "stream",
     "text": [
      "Singleton instance value: 1\n",
      "Singleton instance value: 1\n",
      "True\n"
     ]
    }
   ],
   "source": [
    "def singleton(cls):\n",
    "    instances = {}\n",
    "\n",
    "    def get_instance(*args, **kwargs):\n",
    "        if cls not in instances:\n",
    "            instances[cls] = cls(*args, **kwargs)\n",
    "        return instances[cls]\n",
    "\n",
    "    return get_instance\n",
    "\n",
    "\n",
    "@singleton\n",
    "class SingletonClass:\n",
    "    def __init__(self, value):\n",
    "        self.value = value\n",
    "\n",
    "    def display_value(self):\n",
    "        print(f\"Singleton instance value: {self.value}\")\n",
    "\n",
    "\n",
    "# Creating instances of the SingletonClass\n",
    "singleton_instance1 = SingletonClass(1)\n",
    "singleton_instance2 = SingletonClass(2)\n",
    "\n",
    "# Both instances refer to the same object\n",
    "singleton_instance1.display_value()  # Output: Singleton instance value: 1\n",
    "singleton_instance2.display_value()  # Output: Singleton instance value: 1\n",
    "print(singleton_instance1 is singleton_instance2)  # Output: True"
   ]
  },
  {
   "cell_type": "markdown",
   "id": "5e22e91f",
   "metadata": {},
   "source": [
    "In this example:\n",
    "\n",
    "- The singleton decorator is defined to wrap a class and ensure that only one instance of that class exists.\n",
    "- When we decorate a class with `@singleton`, the class becomes a Singleton class, and any attempts to create new instances return the same instance.\n",
    "- The instances dictionary inside the decorator maintains references to the Singleton instances created, ensuring that only one instance of each class exists."
   ]
  },
  {
   "cell_type": "markdown",
   "id": "a5443e7e",
   "metadata": {},
   "source": [
    "### Wrapper classes\n",
    "- Wrapper classes, also known as wrapper objects or proxy classes, are classes that \"wrap\" or \"encapsulate\" another class or object to provide additional functionality or modify behavior without altering the original class's code. \n",
    "- Wrapper classes are commonly used in software design patterns such as the Decorator pattern or the Adapter pattern.\n",
    "- A function in Python is a first-order object. A function can have another function as its argument and wrap another function definition inside it. \n",
    "- This helps in modifying a function without actually changing it. Such functions are called decorators."
   ]
  },
  {
   "cell_type": "code",
   "execution_count": 7,
   "id": "5b7ec8db",
   "metadata": {},
   "outputs": [
    {
     "name": "stdout",
     "output_type": "stream",
     "text": [
      "Wrapper: Before calling wrapped object's method\n",
      "OriginalClass: Display method called\n",
      "Wrapper: After calling wrapped object's method\n"
     ]
    }
   ],
   "source": [
    "class Wrapper:\n",
    "    def __init__(self, obj):\n",
    "        self.obj = obj\n",
    "\n",
    "    def display(self):\n",
    "        print(\"Wrapper: Before calling wrapped object's method\")\n",
    "        self.obj.display()\n",
    "        print(\"Wrapper: After calling wrapped object's method\")\n",
    "\n",
    "\n",
    "class OriginalClass:\n",
    "    def display(self):\n",
    "        print(\"OriginalClass: Display method called\")\n",
    "\n",
    "\n",
    "# Create an instance of the OriginalClass\n",
    "original_obj = OriginalClass()\n",
    "\n",
    "# Wrap the OriginalClass instance using the Wrapper class\n",
    "wrapper_obj = Wrapper(original_obj)\n",
    "\n",
    "# Call the display method on the wrapper object\n",
    "wrapper_obj.display()"
   ]
  },
  {
   "cell_type": "markdown",
   "id": "c8c0eba9",
   "metadata": {},
   "source": [
    "In this example:\n",
    "\n",
    "- Wrapper is a wrapper class that takes an object as an argument during initialization `(__init__)` and stores it as an attribute (self.obj).\n",
    "- The Wrapper class defines a display method that adds behavior before and after calling the wrapped object's display method.\n",
    "- OriginalClass is the original class that we want to wrap.\n",
    "- We create an instance of OriginalClass and then wrap it using the Wrapper class to create wrapper_obj.\n",
    "- When we call `wrapper_obj.display()`, the wrapper object's display method is invoked, which in turn calls the display method of the wrapped OriginalClass object, adding the extra behavior specified in the wrapper."
   ]
  },
  {
   "cell_type": "markdown",
   "id": "850efa52",
   "metadata": {},
   "source": [
    "### Enums\n",
    "- The term `enumeration` refers to the process of assigning fixed constant values to a set of strings, so that each string can be identified by the value bound to it. \n",
    "- Python's standard library offers the enum module. \n",
    "- The `Enum class` included in the enum module is used as the parent class to define the enumeration of a set of identifiers − conventionally written in upper case.\n",
    "- Enums, short for enumerations, are a way to define a set of named constants in Python. They provide a more readable and maintainable way to work with fixed sets of values, especially when those values have semantic meaning."
   ]
  },
  {
   "cell_type": "code",
   "execution_count": 8,
   "id": "8ef265a4",
   "metadata": {},
   "outputs": [
    {
     "name": "stdout",
     "output_type": "stream",
     "text": [
      "Weekday.MONDAY\n",
      "1\n",
      "Weekday.MONDAY\n",
      "Weekday.TUESDAY\n",
      "Weekday.WEDNESDAY\n",
      "Weekday.THURSDAY\n",
      "Weekday.FRIDAY\n",
      "Weekday.SATURDAY\n",
      "Weekday.SUNDAY\n",
      "Pending\n",
      "Approved\n"
     ]
    }
   ],
   "source": [
    "from enum import Enum, auto\n",
    "\n",
    "# Define an Enum class for days of the week\n",
    "class Weekday(Enum):\n",
    "    MONDAY = auto()\n",
    "    TUESDAY = auto()\n",
    "    WEDNESDAY = auto()\n",
    "    THURSDAY = auto()\n",
    "    FRIDAY = auto()\n",
    "    SATURDAY = auto()\n",
    "    SUNDAY = auto()\n",
    "\n",
    "# Accessing enum values\n",
    "print(Weekday.MONDAY)  # Output: Weekday.MONDAY\n",
    "print(Weekday.MONDAY.value)  # Output: 1\n",
    "\n",
    "# Iterating over enum members\n",
    "for day in Weekday:\n",
    "    print(day)\n",
    "\n",
    "# Enum with custom values\n",
    "class Status(Enum):\n",
    "    PENDING = 'Pending'\n",
    "    APPROVED = 'Approved'\n",
    "    REJECTED = 'Rejected'\n",
    "\n",
    "print(Status.PENDING.value)  # Output: Pending\n",
    "print(Status.APPROVED.value)  # Output: Approved"
   ]
  },
  {
   "cell_type": "markdown",
   "id": "a5676914",
   "metadata": {},
   "source": [
    "In this example:\n",
    "\n",
    "- We define an Enum class Weekday with constants representing days of the week. `auto()` is used to automatically assign unique values to each constant.\n",
    "- Enums provide semantic meaning to the values, making the code more readable and self-explanatory.\n",
    "- Enum members can be accessed using their names (Weekday.MONDAY) or their values (Weekday.MONDAY.value).\n",
    "- Enum members can be iterated over, and their names or values can be used in logic.\n",
    "- We also define an Enum class Status with custom string values."
   ]
  },
  {
   "cell_type": "code",
   "execution_count": 10,
   "id": "edf4bef9",
   "metadata": {},
   "outputs": [
    {
     "name": "stdout",
     "output_type": "stream",
     "text": [
      "<enum 'subjects'> 2\n"
     ]
    }
   ],
   "source": [
    "from enum import Enum\n",
    "\n",
    "class subjects(Enum):\n",
    "   ENGLISH = 1\n",
    "   MATHS = 2\n",
    "   SCIENCE = 3\n",
    "   SANSKRIT = 4\n",
    "    \n",
    "obj = subjects.MATHS\n",
    "print (type(obj), obj.value)"
   ]
  },
  {
   "cell_type": "code",
   "execution_count": 9,
   "id": "5206232a",
   "metadata": {},
   "outputs": [
    {
     "name": "stdout",
     "output_type": "stream",
     "text": [
      "<enum 'subjects'> SANSKRIT S\n"
     ]
    }
   ],
   "source": [
    "from enum import Enum\n",
    "\n",
    "class subjects(Enum):\n",
    "   ENGLISH = \"E\"\n",
    "   MATHS = \"M\"\n",
    "   GEOGRAPHY = \"G\"\n",
    "   SANSKRIT = \"S\"\n",
    "   \n",
    "obj = subjects.SANSKRIT\n",
    "print (type(obj), obj.name, obj.value)"
   ]
  },
  {
   "cell_type": "markdown",
   "id": "7fe97fa5",
   "metadata": {},
   "source": [
    "- In the above code, \"subjects\" is the enumeration. It has different enumeration members, e.g., subjects.SANSKRIT. Each member is assigned a value.\n",
    "- Each member is ab object of the enumeration class subjects, and has name and value attributes."
   ]
  },
  {
   "cell_type": "markdown",
   "id": "663686fc",
   "metadata": {},
   "source": [
    "### Reflection in Python \n",
    "- Reflection in Python refers to the ability of a program to examine, introspect, and modify its own structure and behavior at runtime. \n",
    "- Python provides several built-in functions and modules that enable reflection, allowing us to inspect objects, classes, modules, and functions dynamically."
   ]
  },
  {
   "cell_type": "code",
   "execution_count": 17,
   "id": "f0fdc93d",
   "metadata": {},
   "outputs": [
    {
     "name": "stdout",
     "output_type": "stream",
     "text": [
      "True\n",
      "True\n",
      "True\n",
      "True\n",
      "False\n",
      "False\n"
     ]
    }
   ],
   "source": [
    "print (isinstance(10, int))\n",
    "print (isinstance(2.56, float))\n",
    "print (isinstance(2+3j, complex))\n",
    "print (isinstance(\"Hello World\", str))\n",
    "\n",
    "print (isinstance([1,2,3], tuple))\n",
    "print (isinstance({1:'one', 2:'two'}, set))"
   ]
  },
  {
   "cell_type": "code",
   "execution_count": 18,
   "id": "3deda272",
   "metadata": {},
   "outputs": [
    {
     "name": "stdout",
     "output_type": "stream",
     "text": [
      "True\n"
     ]
    }
   ],
   "source": [
    "# also perform check with a user defined class\n",
    "\n",
    "class test:\n",
    "    pass\n",
    "   \n",
    "obj = test()\n",
    "print (isinstance(obj, test))"
   ]
  },
  {
   "cell_type": "code",
   "execution_count": 11,
   "id": "e6149417",
   "metadata": {},
   "outputs": [
    {
     "name": "stdout",
     "output_type": "stream",
     "text": [
      "['__class__', '__delattr__', '__dict__', '__dir__', '__doc__', '__eq__', '__format__', '__ge__', '__getattribute__', '__getstate__', '__gt__', '__hash__', '__init__', '__init_subclass__', '__le__', '__lt__', '__module__', '__ne__', '__new__', '__reduce__', '__reduce_ex__', '__repr__', '__setattr__', '__sizeof__', '__str__', '__subclasshook__', '__weakref__', 'x', 'y']\n"
     ]
    }
   ],
   "source": [
    "# dir function\n",
    "\n",
    "class MyClass:\n",
    "    def __init__(self):\n",
    "        self.x = 10\n",
    "        self.y = 20\n",
    "\n",
    "obj = MyClass()\n",
    "print(dir(obj))"
   ]
  },
  {
   "cell_type": "markdown",
   "id": "c6eba137",
   "metadata": {},
   "source": [
    "- The dir() function returns a list of attributes and methods of an object. \n",
    "- It can be used to introspect objects and classes to see what properties and methods they have."
   ]
  },
  {
   "cell_type": "code",
   "execution_count": 12,
   "id": "bbf0ed14",
   "metadata": {},
   "outputs": [
    {
     "name": "stdout",
     "output_type": "stream",
     "text": [
      "10\n",
      "30\n"
     ]
    }
   ],
   "source": [
    "# getattr() and setattr() Functions\n",
    "\n",
    "class MyClass:\n",
    "    def __init__(self):\n",
    "        self.x = 10\n",
    "        self.y = 20\n",
    "\n",
    "obj = MyClass()\n",
    "print(getattr(obj, 'x'))  # Output: 10\n",
    "setattr(obj, 'y', 30)\n",
    "print(obj.y)  # Output: 30"
   ]
  },
  {
   "cell_type": "markdown",
   "id": "02df29b7",
   "metadata": {},
   "source": [
    "- The getattr() function allows you to get the value of an attribute of an object dynamically, while setattr() allows us to set the value of an attribute dynamically."
   ]
  },
  {
   "cell_type": "code",
   "execution_count": 13,
   "id": "edeebe88",
   "metadata": {},
   "outputs": [
    {
     "name": "stdout",
     "output_type": "stream",
     "text": [
      "['__doc__', '__loader__', '__name__', '__package__', '__spec__', 'acos', 'acosh', 'asin', 'asinh', 'atan', 'atan2', 'atanh', 'cbrt', 'ceil', 'comb', 'copysign', 'cos', 'cosh', 'degrees', 'dist', 'e', 'erf', 'erfc', 'exp', 'exp2', 'expm1', 'fabs', 'factorial', 'floor', 'fmod', 'frexp', 'fsum', 'gamma', 'gcd', 'hypot', 'inf', 'isclose', 'isfinite', 'isinf', 'isnan', 'isqrt', 'lcm', 'ldexp', 'lgamma', 'log', 'log10', 'log1p', 'log2', 'modf', 'nan', 'nextafter', 'perm', 'pi', 'pow', 'prod', 'radians', 'remainder', 'sin', 'sinh', 'sqrt', 'tan', 'tanh', 'tau', 'trunc', 'ulp']\n"
     ]
    }
   ],
   "source": [
    "# Introspecting Classes and Modules\n",
    "\n",
    "import math\n",
    "\n",
    "print(dir(math))  # List attributes and functions in the math module"
   ]
  },
  {
   "cell_type": "markdown",
   "id": "2422e290",
   "metadata": {},
   "source": [
    "- We can use reflection to introspect classes and modules to access their attributes, methods, and docstrings dynamically."
   ]
  },
  {
   "cell_type": "code",
   "execution_count": 14,
   "id": "642c25ed",
   "metadata": {},
   "outputs": [
    {
     "name": "stdout",
     "output_type": "stream",
     "text": [
      "(x, y=10)\n",
      "This is a sample function.\n"
     ]
    }
   ],
   "source": [
    "# Function and Class Inspection\n",
    "\n",
    "import inspect\n",
    "\n",
    "def my_func(x, y=10):\n",
    "    \"\"\"This is a sample function.\"\"\"\n",
    "    return x + y\n",
    "\n",
    "print(inspect.signature(my_func))\n",
    "print(inspect.getdoc(my_func))"
   ]
  },
  {
   "cell_type": "markdown",
   "id": "75cacbff",
   "metadata": {},
   "source": [
    "- Python's inspect module provides functions for inspecting functions, methods, classes, and modules. \n",
    "- For example, we can use `inspect.getmembers()` to get members of an object, `inspect.signature()` to get the signature of a function, and `inspect.getdoc()` to get the docstring of an object."
   ]
  },
  {
   "cell_type": "code",
   "execution_count": null,
   "id": "250a1312",
   "metadata": {},
   "outputs": [],
   "source": [
    "# Metaclasses\n",
    "\n",
    "class Meta(type):\n",
    "    def __new__(cls, name, bases, dct):\n",
    "        # Custom class creation logic\n",
    "        return super().__new__(cls, name, bases, dct)\n",
    "\n",
    "class MyClass(metaclass=Meta):\n",
    "    pass"
   ]
  },
  {
   "cell_type": "markdown",
   "id": "2759802f",
   "metadata": {},
   "source": [
    "- Metaclasses are used to create classes dynamically at runtime. \n",
    "- They allow you to customize the behavior of class creation and can be used for advanced reflection and metaprogramming."
   ]
  }
 ],
 "metadata": {
  "kernelspec": {
   "display_name": "Python 3 (ipykernel)",
   "language": "python",
   "name": "python3"
  },
  "language_info": {
   "codemirror_mode": {
    "name": "ipython",
    "version": 3
   },
   "file_extension": ".py",
   "mimetype": "text/x-python",
   "name": "python",
   "nbconvert_exporter": "python",
   "pygments_lexer": "ipython3",
   "version": "3.11.7"
  }
 },
 "nbformat": 4,
 "nbformat_minor": 5
}
