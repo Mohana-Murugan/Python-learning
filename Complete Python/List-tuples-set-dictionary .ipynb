{
 "cells": [
  {
   "cell_type": "markdown",
   "id": "50e9ecae",
   "metadata": {},
   "source": [
    "## Python List\n",
    "\n",
    "- A Python list is a *versatile and mutable collection of elements*. \n",
    "- It can hold items of different data types (e.g., integers, strings, other lists) and allows for easy modification, appending, slicing, and other operations.\n",
    "- List is an *ordered collection of items*. Each item in a list has a unique position index, starting from 0.\n",
    "- A Python list is a sequence of comma separated items, enclosed in square brackets [ ]. \n",
    "- The items in a Python list need not be of the same data type.\n",
    "\n",
    "### Important to Note\n",
    "- A Python list is *mutable*. \n",
    "- Any item from the list can be accessed using its index, and can be modified. \n",
    "- One or more objects from the list can be removed or added. \n",
    "- A list may have same item at more than one index positions."
   ]
  },
  {
   "cell_type": "code",
   "execution_count": 1,
   "id": "bcc92feb",
   "metadata": {},
   "outputs": [
    {
     "name": "stdout",
     "output_type": "stream",
     "text": [
      "[1, 2, 3, 'hello', True]\n"
     ]
    }
   ],
   "source": [
    "my_list = [1, 2, 3, 'hello', True]\n",
    "\n",
    "print(my_list)"
   ]
  },
  {
   "cell_type": "code",
   "execution_count": 2,
   "id": "466f6637",
   "metadata": {},
   "outputs": [
    {
     "name": "stdout",
     "output_type": "stream",
     "text": [
      "['Rohan', 'Physics', 21, 69.75]\n",
      "[1, 2, 3, 4, 5]\n",
      "['a', 'b', 'c', 'd']\n",
      "[25.5, True, -55, (1+2j)]\n"
     ]
    }
   ],
   "source": [
    "list1 = [\"Rohan\", \"Physics\", 21, 69.75]\n",
    "list2 = [1, 2, 3, 4, 5]\n",
    "list3 = [\"a\", \"b\", \"c\", \"d\"]\n",
    "list4 = [25.50, True, -55, 1+2j]\n",
    "\n",
    "print(list1)\n",
    "print(list2)\n",
    "print(list3)\n",
    "print(list4)"
   ]
  },
  {
   "cell_type": "markdown",
   "id": "b2465ca5",
   "metadata": {},
   "source": [
    "### Basic Operations\n",
    "- **Accessing Elements :** access elements of a list using indexing\n",
    "- **Slicing :** extract a subset of elements from the list\n",
    "- **Modifying Elements :** Lists are mutable, meaning we can change their elements\n",
    "- **Appending Elements :** add new elements to the end of the list using the `append()` method\n",
    "- **Length :** Determine the length of a list using the `len()` function\n",
    "- **Concatenation :** Combine lists using the `+` operator or the `extend()` method\n",
    "- **Removing Elements :** Remove elements by value using `remove()` or by index using del or `pop()`\n",
    "- **Iterating Over Lists**\n",
    "- **List Comprehensions**"
   ]
  },
  {
   "cell_type": "code",
   "execution_count": 3,
   "id": "91fe8994",
   "metadata": {},
   "outputs": [
    {
     "name": "stdout",
     "output_type": "stream",
     "text": [
      "list1[0]:  physics\n",
      "list2[1:5]:  [2, 3, 4, 5]\n",
      "Access Item from right:  chemistry\n",
      "Access all item:  ['physics', 'chemistry', 1997, 2000]\n",
      "Access Item 1997 using negative index:  [1997]\n",
      "Access Item alternatively [2, 4, 6]\n",
      "Length: 4\n",
      "Maximun:7\n",
      "Minumun 1\n"
     ]
    }
   ],
   "source": [
    "# access elements \n",
    "\n",
    "list1 = ['physics', 'chemistry', 1997, 2000]\n",
    "list2 = [1, 2, 3, 4, 5, 6, 7 ]\n",
    "\n",
    "print (\"list1[0]: \", list1[0])\n",
    "\n",
    "print (\"list2[1:5]: \", list2[1:5]) # access sublist\n",
    "\n",
    "print (\"Access Item from right: \", list1[-3])\n",
    "\n",
    "print (\"Access all item: \", list1[:])\n",
    "\n",
    "print (\"Access Item 1997 using negative index: \", list1[2:-1])\n",
    "\n",
    "print('Access Item alternatively', list2[1:6:2])\n",
    "\n",
    "print(f'Length: {len(list1)}')\n",
    "\n",
    "#print(max(list1)) # show errors\n",
    "\n",
    "print(f'Maximun:{max(list2)}')\n",
    "\n",
    "print(f'Minumun {min(list2)}')"
   ]
  },
  {
   "cell_type": "code",
   "execution_count": 28,
   "id": "599730e5",
   "metadata": {},
   "outputs": [
    {
     "name": "stdout",
     "output_type": "stream",
     "text": [
      "List elements :  [123, 'xyz', 'zara', 'abc']\n"
     ]
    }
   ],
   "source": [
    "aTuple = (123, 'xyz', 'zara', 'abc')\n",
    "aList = list(aTuple)\n",
    "print(\"List elements : \", aList)"
   ]
  },
  {
   "cell_type": "code",
   "execution_count": 4,
   "id": "4d921cdc",
   "metadata": {},
   "outputs": [
    {
     "name": "stdout",
     "output_type": "stream",
     "text": [
      "Value available at index 2 :  1997\n",
      "New value available at index 2 :  ['physics', 'chemistry', 2001, 2000]\n",
      "New List: ['physics', 'chemistry', 1800, 2001]\n"
     ]
    }
   ],
   "source": [
    "# update list values \n",
    "\n",
    "list1 = ['physics', 'chemistry', 1997, 2000]\n",
    "\n",
    "print (\"Value available at index 2 : \", list1[2])\n",
    "\n",
    "list1[2] = 2001\n",
    "print (\"New value available at index 2 : \", list1)\n",
    "\n",
    "list3=[1800,2001]\n",
    "list1[2:]=list3  # Change Consecutive List Items\n",
    "\n",
    "print(\"New List:\",list1)"
   ]
  },
  {
   "cell_type": "code",
   "execution_count": 8,
   "id": "e4378720",
   "metadata": {},
   "outputs": [
    {
     "name": "stdout",
     "output_type": "stream",
     "text": [
      "List elements: [123, 'xyz', 'zara', 'abc']\n",
      "List elements :  ['h', 'e', 'l', 'l', 'o']\n",
      "List elements :  [1, 2, 3, 4, 5]\n",
      "List elements :  [1, 2, 3, 4, 5]\n"
     ]
    }
   ],
   "source": [
    "# convert other datatype into list item\n",
    "\n",
    "aTuple = (123, 'xyz', 'zara', 'abc')\n",
    "aList = list(aTuple)\n",
    "\n",
    "print(\"List elements:\", aList)\n",
    "\n",
    "aString = \"hello\"\n",
    "aList = list(aString)\n",
    "print(\"List elements : \", aList)\n",
    "\n",
    "aSet = {1, 2, 3, 4, 5}\n",
    "aList = list(aSet)\n",
    "print(\"List elements : \", aList)\n",
    "\n",
    "aDict = {1: \"a\", 2: \"b\", 3: \"c\", 4: \"d\", 5: \"e\"}\n",
    "aList = list(aDict)\n",
    "print(\"List elements : \", aList)"
   ]
  },
  {
   "cell_type": "code",
   "execution_count": 30,
   "id": "20441986",
   "metadata": {},
   "outputs": [
    {
     "name": "stdout",
     "output_type": "stream",
     "text": [
      "['physics', 'chemistry', 1997, 2000]\n",
      "After deleting value at index 2 :  ['physics', 'chemistry', 2000]\n"
     ]
    }
   ],
   "source": [
    "# Delete list values\n",
    "\n",
    "list1 = ['physics', 'chemistry', 1997, 2000]\n",
    "print (list1)\n",
    "\n",
    "del list1[2]\n",
    "print (\"After deleting value at index 2 : \", list1)"
   ]
  },
  {
   "cell_type": "code",
   "execution_count": 7,
   "id": "0716f6a9",
   "metadata": {},
   "outputs": [
    {
     "name": "stdout",
     "output_type": "stream",
     "text": [
      "[1, 2, 3, 4, 5, 4, 5, 6, 7, 8]\n",
      "[1, 2, 3, 4, 5, 1, 2, 3, 4, 5]\n",
      "True\n",
      "False\n"
     ]
    }
   ],
   "source": [
    "# list operation\n",
    "\n",
    "l1=[1,2,3,4,5]\n",
    "l2=[4,5,6,7,8]\n",
    "\n",
    "print(l1+l2) # concatenation \n",
    "\n",
    "print(l1*2) # Repetition\n",
    "\n",
    "print(3 in l1) # Membership\n",
    "\n",
    "print(3 not in l1) # Membership"
   ]
  },
  {
   "cell_type": "markdown",
   "id": "dcf3648a",
   "metadata": {},
   "source": [
    "### Built-in List methods"
   ]
  },
  {
   "cell_type": "code",
   "execution_count": 31,
   "id": "d4906ca0",
   "metadata": {},
   "outputs": [
    {
     "name": "stdout",
     "output_type": "stream",
     "text": [
      "['apple', 'banana', 'cherry', 'orange']\n",
      "Original list  ['Rohan', 'Physics', 21, 69.75]\n",
      "List after appending:  ['Rohan', 'Physics', 'Chemistry', 21, 69.75]\n",
      "List after appending:  ['Rohan', 'Physics', 'Chemistry', 21, 'Pass', 69.75]\n"
     ]
    }
   ],
   "source": [
    "# Adds an element to the end of the list\n",
    "\n",
    "fruits = ['apple', 'banana', 'cherry']\n",
    "fruits.append('orange')\n",
    "\n",
    "print(fruits)  # Output: ['apple', 'banana', 'cherry', 'orange']"
   ]
  },
  {
   "cell_type": "code",
   "execution_count": 33,
   "id": "690c7d62",
   "metadata": {},
   "outputs": [
    {
     "name": "stdout",
     "output_type": "stream",
     "text": [
      "['apple', 'orange', 'banana', 'cherry']\n",
      "---------------------------------------\n",
      "Original list  ['Rohan', 'Physics', 21, 69.75]\n",
      "List after appending:  ['Rohan', 'Physics', 'Chemistry', 21, 69.75]\n",
      "List after appending:  ['Rohan', 'Physics', 'Chemistry', 21, 'Pass', 69.75]\n"
     ]
    }
   ],
   "source": [
    "# Inserts an element at a specified position\n",
    "\n",
    "fruits = ['apple', 'banana', 'cherry']\n",
    "fruits.insert(1, 'orange')\n",
    "\n",
    "print(fruits)  # Output: ['apple', 'orange', 'banana', 'cherry']\n",
    "\n",
    "print('---------------------------------------')\n",
    "\n",
    "list1 = [\"Rohan\", \"Physics\", 21, 69.75]\n",
    "print (\"Original list \", list1)\n",
    "\n",
    "list1.insert(2, 'Chemistry')\n",
    "print (\"List after appending: \", list1)\n",
    "\n",
    "list1.insert(-1, 'Pass')\n",
    "print (\"List after appending: \", list1)"
   ]
  },
  {
   "cell_type": "code",
   "execution_count": 20,
   "id": "d4745a4a",
   "metadata": {},
   "outputs": [
    {
     "name": "stdout",
     "output_type": "stream",
     "text": [
      "['apple', 'cherry']\n"
     ]
    }
   ],
   "source": [
    "# Removes the first occurrence of a specified element\n",
    "\n",
    "fruits = ['apple', 'banana', 'cherry']\n",
    "fruits.remove('banana')\n",
    "\n",
    "print(fruits)  # Output: ['apple', 'cherry']"
   ]
  },
  {
   "cell_type": "code",
   "execution_count": 35,
   "id": "3623ef90",
   "metadata": {},
   "outputs": [
    {
     "name": "stdout",
     "output_type": "stream",
     "text": [
      "['apple', 'cherry']\n",
      "banana\n",
      "cherry\n",
      "['apple']\n",
      "------------------------------------------\n",
      "Original list:  ['a', 'b', 'c', 'd']\n",
      "List after deleting:  ['a', 'b', 'd']\n",
      "-----------------------------------------\n",
      "List before deleting:  [25.5, True, -55, (1+2j)]\n",
      "List after deleting:  [-55, (1+2j)]\n"
     ]
    }
   ],
   "source": [
    "# Removes and returns the element at the specified index. If no index is specified, removes and returns the last element\n",
    "\n",
    "fruits = ['apple', 'banana', 'cherry']\n",
    "removed = fruits.pop(1)\n",
    "\n",
    "print(fruits)  # Output: ['apple', 'cherry']\n",
    "print(removed)  # Output: banana\n",
    "\n",
    "removed = fruits.pop()\n",
    "print(removed)\n",
    "print(fruits)\n",
    "\n",
    "print('------------------------------------------')\n",
    "\n",
    "list1 = [\"a\", \"b\", \"c\", \"d\"]\n",
    "print (\"Original list: \", list1)\n",
    "\n",
    "del list1[2]\n",
    "\n",
    "print (\"List after deleting: \", list1)\n",
    "\n",
    "print('-----------------------------------------')\n",
    "\n",
    "list2 = [25.50, True, -55, 1+2j]\n",
    "print (\"List before deleting: \", list2)\n",
    "\n",
    "del list2[0:2]\n",
    "print (\"List after deleting: \", list2)"
   ]
  },
  {
   "cell_type": "code",
   "execution_count": 22,
   "id": "308a47af",
   "metadata": {},
   "outputs": [
    {
     "name": "stdout",
     "output_type": "stream",
     "text": [
      "[]\n"
     ]
    }
   ],
   "source": [
    "# Removes all elements from the list\n",
    "\n",
    "fruits = ['apple', 'banana', 'cherry']\n",
    "fruits.clear()\n",
    "print(fruits)  # Output: []"
   ]
  },
  {
   "cell_type": "code",
   "execution_count": 23,
   "id": "14ccc017",
   "metadata": {},
   "outputs": [
    {
     "name": "stdout",
     "output_type": "stream",
     "text": [
      "1\n"
     ]
    }
   ],
   "source": [
    "# Returns the index of the first occurrence of a specified element\n",
    "\n",
    "fruits = ['apple', 'banana', 'cherry', 'banana']\n",
    "index = fruits.index('banana')\n",
    "print(index)  # Output: 1"
   ]
  },
  {
   "cell_type": "code",
   "execution_count": 24,
   "id": "6cd18bdf",
   "metadata": {},
   "outputs": [
    {
     "name": "stdout",
     "output_type": "stream",
     "text": [
      "2\n"
     ]
    }
   ],
   "source": [
    "#  Returns the number of occurrences of a specified element in the list\n",
    "\n",
    "fruits = ['apple', 'banana', 'cherry', 'banana']\n",
    "count = fruits.count('banana')\n",
    "print(count)  # Output: 2"
   ]
  },
  {
   "cell_type": "code",
   "execution_count": 56,
   "id": "485377f6",
   "metadata": {},
   "outputs": [
    {
     "name": "stdout",
     "output_type": "stream",
     "text": [
      "[1, 1, 2, 3, 4, 5, 5, 6, 9]\n",
      "-----------------------------------------------------\n",
      "list before sort ['physics', 'Biology', 'chemistry', 'maths']\n",
      "list after sort :  ['Biology', 'chemistry', 'maths', 'physics']\n",
      "list before sort [10, 16, 9, 24, 5]\n",
      "list after sort :  [5, 9, 10, 16, 24]\n",
      "------------------------------------------------------\n",
      "list before sort ['Physics', 'biology', 'Biomechanics', 'psychology']\n",
      "list after sort :  ['biology', 'Biomechanics', 'Physics', 'psychology']\n"
     ]
    }
   ],
   "source": [
    "# Sorts the list in ascending order\n",
    "\n",
    "numbers = [3, 1, 4, 1, 5, 9, 2, 6, 5]\n",
    "numbers.sort()\n",
    "print(numbers)  # Output: [1, 1, 2, 3, 4, 5, 5, 6, 9]\n",
    "\n",
    "print('-----------------------------------------------------')\n",
    "\n",
    "list1 = ['physics', 'Biology', 'chemistry', 'maths']\n",
    "print (\"list before sort\", list1)\n",
    "list1.sort()\n",
    "print (\"list after sort : \", list1)\n",
    "\n",
    "list2 = [10,16, 9, 24, 5]\n",
    "print (\"list before sort\", list2)\n",
    "list2.sort()\n",
    "print (\"list after sort : \", list2)\n",
    "\n",
    "print('------------------------------------------------------')\n",
    "\n",
    "list1 = ['Physics', 'biology', 'Biomechanics', 'psychology']\n",
    "print (\"list before sort\", list1)\n",
    "\n",
    "list1.sort(key=str.lower)\n",
    "print (\"list after sort : \", list1)"
   ]
  },
  {
   "cell_type": "code",
   "execution_count": 57,
   "id": "f58b6933",
   "metadata": {},
   "outputs": [
    {
     "name": "stdout",
     "output_type": "stream",
     "text": [
      "list before sort [17, 23, 46, 51, 90]\n",
      "list after sort :  [90, 51, 23, 46, 17]\n"
     ]
    }
   ],
   "source": [
    "# sort using functions\n",
    "\n",
    "def myfunction(x):\n",
    "    return x%10\n",
    "\n",
    "list1 = [17, 23, 46, 51, 90]\n",
    "print (\"list before sort\", list1)\n",
    "\n",
    "list1.sort(key=myfunction)\n",
    "print (\"list after sort : \", list1)"
   ]
  },
  {
   "cell_type": "code",
   "execution_count": 26,
   "id": "6d64acce",
   "metadata": {},
   "outputs": [
    {
     "name": "stdout",
     "output_type": "stream",
     "text": [
      "[5, 4, 3, 2, 1]\n"
     ]
    }
   ],
   "source": [
    "# Reverses the order of elements in the list\n",
    "\n",
    "numbers = [1, 2, 3, 4, 5]\n",
    "numbers.reverse()\n",
    "print(numbers)  # Output: [5, 4, 3, 2, 1]"
   ]
  },
  {
   "cell_type": "code",
   "execution_count": 60,
   "id": "48141314",
   "metadata": {},
   "outputs": [
    {
     "name": "stdout",
     "output_type": "stream",
     "text": [
      "['apple', 'banana', 'cherry']\n",
      "-----------------------------------------------------\n",
      "lst: [10, 20] id(lst): 2410819850688\n",
      "lst1: [10, 20] id(lst1): 2410819850688\n",
      "-----------------------------------------------------\n",
      "lst: [100, 20] id(lst): 2410819850688\n",
      "lst1: [100, 20] id(lst1): 2410819850688\n",
      "-----------------------------------------------------\n",
      "lst: [10, 20] id(lst): 2410819654528\n",
      "lst1: [10, 20] id(lst1): 2410819851648\n"
     ]
    }
   ],
   "source": [
    "# Returns a shallow copy of the list\n",
    "\n",
    "fruits = ['apple', 'banana', 'cherry']\n",
    "fruits_copy = fruits.copy()\n",
    "print(fruits_copy)  # Output: ['apple', 'banana', 'cherry']\n",
    "\n",
    "print('-----------------------------------------------------')\n",
    "\n",
    "lst = [10, 20]\n",
    "print (\"lst:\", lst, \"id(lst):\",id(lst))\n",
    "lst1 = lst\n",
    "print (\"lst1:\", lst1, \"id(lst1):\",id(lst1))\n",
    "\n",
    "# In Python, a variable is just a label or reference to the object in the memory. \n",
    "# Hence, the assignment \"lst1 = lst\" refers to the same list object in the memory.\n",
    "\n",
    "print('-----------------------------------------------------')\n",
    "\n",
    "lst[0]=100\n",
    "print (\"lst:\", lst, \"id(lst):\",id(lst))\n",
    "print (\"lst1:\", lst1, \"id(lst1):\",id(lst1))  # can say that \"lst1\" is not the physical copy of \"lst\".\n",
    "\n",
    "print('-----------------------------------------------------')\n",
    "\n",
    "lst = [10, 20]\n",
    "lst1 = lst.copy()\n",
    "print (\"lst:\", lst, \"id(lst):\",id(lst))\n",
    "print (\"lst1:\", lst1, \"id(lst1):\",id(lst1))"
   ]
  },
  {
   "cell_type": "markdown",
   "id": "f74a17b5",
   "metadata": {},
   "source": [
    "- Even if the two lists have same data, they have different id() value, hence they are two different objects and \"lst1\" is a copy of \"lst\".\n",
    "- If we try to modify \"lst\", it will not reflect in \"lst1\"."
   ]
  },
  {
   "cell_type": "code",
   "execution_count": 61,
   "id": "e10fbaf4",
   "metadata": {},
   "outputs": [
    {
     "name": "stdout",
     "output_type": "stream",
     "text": [
      "lst: [100, 20] id(lst): 2410819654528\n",
      "lst1: [10, 20] id(lst1): 2410819851648\n"
     ]
    }
   ],
   "source": [
    "lst[0]=100\n",
    "print (\"lst:\", lst, \"id(lst):\",id(lst))\n",
    "print (\"lst1:\", lst1, \"id(lst1):\",id(lst1))"
   ]
  },
  {
   "cell_type": "code",
   "execution_count": 63,
   "id": "65db646b",
   "metadata": {},
   "outputs": [
    {
     "name": "stdout",
     "output_type": "stream",
     "text": [
      "['apple', 'banana', 'cherry', 'orange', 'grape']\n"
     ]
    }
   ],
   "source": [
    "# extend a list by appending elements from another iterable\n",
    "\n",
    "# Initial list\n",
    "fruits = ['apple', 'banana', 'cherry']\n",
    "\n",
    "# Another list to extend 'fruits'\n",
    "more_fruits = ['orange', 'grape']\n",
    "\n",
    "# Extend 'fruits' with elements from 'more_fruits'\n",
    "fruits.extend(more_fruits)\n",
    "\n",
    "print(fruits)"
   ]
  },
  {
   "cell_type": "code",
   "execution_count": 65,
   "id": "50efb756",
   "metadata": {},
   "outputs": [
    {
     "name": "stdout",
     "output_type": "stream",
     "text": [
      "['apple', 'banana', 'cherry', 'orange', 'grape']\n"
     ]
    }
   ],
   "source": [
    "# extend and list Concatenation Operator provides same output\n",
    "\n",
    "# Initial list\n",
    "fruits1 = ['apple', 'banana', 'cherry']\n",
    "\n",
    "# Another list to extend 'fruits'\n",
    "more_fruits1 = ['orange', 'grape']\n",
    "\n",
    "# Extend 'fruits' with elements from 'more_fruits'\n",
    "fruits1+=more_fruits\n",
    "\n",
    "print(fruits1)"
   ]
  },
  {
   "cell_type": "code",
   "execution_count": 67,
   "id": "c1ac26c9",
   "metadata": {},
   "outputs": [
    {
     "name": "stdout",
     "output_type": "stream",
     "text": [
      "Joined list: [10, 20, 30, 40, 'one', 'two', 'three', 'four']\n"
     ]
    }
   ],
   "source": [
    "L1 = [10,20,30,40]\n",
    "L2 = ['one', 'two', 'three', 'four']\n",
    "\n",
    "for x in L2:\n",
    "    L1.append(x)\n",
    "\n",
    "print (\"Joined list:\", L1)"
   ]
  },
  {
   "cell_type": "markdown",
   "id": "99fee10e",
   "metadata": {},
   "source": [
    "### Loop Through List Items"
   ]
  },
  {
   "cell_type": "code",
   "execution_count": 36,
   "id": "76d35f2e",
   "metadata": {},
   "outputs": [
    {
     "name": "stdout",
     "output_type": "stream",
     "text": [
      "25 12 10 -21 10 100 "
     ]
    }
   ],
   "source": [
    "# Loop Through List Items\n",
    "\n",
    "lst = [25, 12, 10, -21, 10, 100]\n",
    "for num in lst:\n",
    "    print (num, end = ' ')"
   ]
  },
  {
   "cell_type": "code",
   "execution_count": 38,
   "id": "6efb866d",
   "metadata": {},
   "outputs": [
    {
     "name": "stdout",
     "output_type": "stream",
     "text": [
      "lst[0]:  25\n",
      "lst[1]:  12\n",
      "lst[2]:  10\n",
      "lst[3]:  -21\n",
      "lst[4]:  10\n",
      "lst[5]:  100\n",
      "-------------------------\n",
      "0\n",
      "1\n",
      "2\n",
      "3\n",
      "4\n",
      "5\n"
     ]
    }
   ],
   "source": [
    "lst = [25, 12, 10, -21, 10, 100]\n",
    "\n",
    "indices = range(len(lst))\n",
    "\n",
    "for i in indices:\n",
    "    print (\"lst[{}]: \".format(i), lst[i])\n",
    "    \n",
    "print('-------------------------')\n",
    "\n",
    "for i in range(len(lst)):\n",
    "    print(i)"
   ]
  },
  {
   "cell_type": "markdown",
   "id": "5c515cee",
   "metadata": {},
   "source": [
    "### List Comprehension \n",
    "- Concise way to create new list by performing some kind of process on each item on existing list. \n",
    "- List comprehension is considerably faster than processing a list by for loop.\n",
    "- `listObj = [x for x in iterable]`"
   ]
  },
  {
   "cell_type": "code",
   "execution_count": 40,
   "id": "2f1efdc9",
   "metadata": {},
   "outputs": [
    {
     "name": "stdout",
     "output_type": "stream",
     "text": [
      "['P', 'y', 't', 'h', 'n', ' ', 'L', 'r', 'n', 'n', 'g']\n"
     ]
    }
   ],
   "source": [
    "# Common approach \n",
    "\n",
    "chars=[]\n",
    "for ch in 'Python Learning':\n",
    "    if ch not in 'aeiou':\n",
    "        chars.append(ch)\n",
    "print (chars)"
   ]
  },
  {
   "cell_type": "code",
   "execution_count": 50,
   "id": "9e28b6d6",
   "metadata": {},
   "outputs": [
    {
     "name": "stdout",
     "output_type": "stream",
     "text": [
      "[1, 2, 3, 4, 5, 6, 7, 8, 9]\n",
      "[1, 4, 9, 16, 25, 36, 49, 64, 81, 100]\n"
     ]
    }
   ],
   "source": [
    "# list comprehension\n",
    "\n",
    "list1=[i for i in range(1,10)]\n",
    "\n",
    "print(list1)\n",
    "\n",
    "squares = [x*x for x in range(1,11)]\n",
    "print (squares)"
   ]
  },
  {
   "cell_type": "code",
   "execution_count": 49,
   "id": "68ead683",
   "metadata": {},
   "outputs": [
    {
     "name": "stdout",
     "output_type": "stream",
     "text": [
      "['P', 'y', 't', 'h', 'n', ' ', 'L', 'r', 'n', 'n', 'g']\n"
     ]
    }
   ],
   "source": [
    "chars = [ char for char in 'Python Learning' if char not in 'aeiou']\n",
    "print (chars)"
   ]
  },
  {
   "cell_type": "code",
   "execution_count": 51,
   "id": "d9bac318",
   "metadata": {},
   "outputs": [
    {
     "name": "stdout",
     "output_type": "stream",
     "text": [
      "[(1, 4), (1, 5), (1, 6), (2, 4), (2, 5), (2, 6), (3, 4), (3, 5), (3, 6)]\n"
     ]
    }
   ],
   "source": [
    "# Nested loop\n",
    "\n",
    "list1=[1,2,3]\n",
    "list2=[4,5,6]\n",
    "\n",
    "CombLst=[(x,y) for x in list1 for y in list2]\n",
    "\n",
    "print (CombLst)"
   ]
  },
  {
   "cell_type": "code",
   "execution_count": 53,
   "id": "46107d25",
   "metadata": {},
   "outputs": [
    {
     "name": "stdout",
     "output_type": "stream",
     "text": [
      "[2, 4, 6, 8, 10, 12, 14, 16, 18, 20]\n"
     ]
    }
   ],
   "source": [
    "# Condition in Python List Comprehension\n",
    "\n",
    "list1=[x for x in range(1,21) if x%2==0]\n",
    "\n",
    "print (list1)"
   ]
  },
  {
   "cell_type": "markdown",
   "id": "98b1470e",
   "metadata": {},
   "source": [
    "## Python Tuples\n",
    "\n",
    "- A tuple in Python is an *ordered collection of elements*, similar to a list, but it's *immutable*, meaning we can't modify its elements once it's created. \n",
    "\n",
    "### Basic Operation \n",
    "- Creation\n",
    "- Accessing Elements\n",
    "- Immutable Nature\n",
    "- Tuple Slicing\n",
    "- Tuple Concatenation and Repetition\n",
    "- Tuple Methods"
   ]
  },
  {
   "cell_type": "code",
   "execution_count": 68,
   "id": "3582ee08",
   "metadata": {},
   "outputs": [
    {
     "name": "stdout",
     "output_type": "stream",
     "text": [
      "(1, 2, 3, 'hello', 'world')\n"
     ]
    }
   ],
   "source": [
    "# Create Tuple\n",
    "\n",
    "my_tuple = (1, 2, 3, 'hello', 'world')\n",
    "\n",
    "print(my_tuple)"
   ]
  },
  {
   "cell_type": "code",
   "execution_count": 78,
   "id": "9291bfe3",
   "metadata": {},
   "outputs": [
    {
     "name": "stdout",
     "output_type": "stream",
     "text": [
      "('Rohan', 'Physics', 21, 69.75)\n",
      "(1, 2, 3, 4, 5)\n",
      "('a', 'b', 'c', 'd')\n",
      "(25.5, True, -55, (1+2j))\n",
      "<class 'tuple'>\n",
      "()\n"
     ]
    }
   ],
   "source": [
    "tup1 = (\"Rohan\", \"Physics\", 21, 69.75)\n",
    "tup2 = (1, 2, 3, 4, 5)\n",
    "tup3 = (\"a\", \"b\", \"c\", \"d\")\n",
    "tup4 = (25.50, True, -55, 1+2j)\n",
    "\n",
    "print(tup1)\n",
    "print(tup2)\n",
    "print(tup3)\n",
    "print(tup4)\n",
    "\n",
    "print(type(tup1))\n",
    "\n",
    "tup5=() # empty tuples\n",
    "print(tup5)"
   ]
  },
  {
   "cell_type": "markdown",
   "id": "4bd5a4e0",
   "metadata": {},
   "source": [
    "- To write a tuple containing a single value you have to include a `comma`, even though there is only one value `tup1=(5,)`\n",
    "- In Python, tuple is a sequence data type. \n",
    "- It is an ordered collection of items. \n",
    "- Each item in the tuple has a unique position index, starting from 0.\n",
    "- One major difference between the two is, Python `list is mutable, whereas tuple is immutable`. \n",
    "- Although any item from the tuple `can be accessed using its index`, and `cannot be modified, removed or added`."
   ]
  },
  {
   "cell_type": "code",
   "execution_count": 81,
   "id": "e99daff2",
   "metadata": {},
   "outputs": [
    {
     "name": "stdout",
     "output_type": "stream",
     "text": [
      "a\n",
      "d\n",
      "---------------------------------------\n",
      "tup1[0]:  physics\n",
      "tup2[1:5]:  (2, 3, 4, 5)\n"
     ]
    }
   ],
   "source": [
    "# Access Elements\n",
    "my_tuple = (1, 2, 3, 'hello', 'world')\n",
    "\n",
    "print(my_tuple[0])  # Output: 1\n",
    "print(my_tuple[3])  # Output: 'hello'\n",
    "\n",
    "print('---------------------------------------')\n",
    "\n",
    "tup1 = ('physics', 'chemistry', 1997, 2000)\n",
    "tup2 = (1, 2, 3, 4, 5, 6, 7 )\n",
    "print (\"tup1[0]: \", tup1[0])\n",
    "print (\"tup2[1:5]: \", tup2[1:5])"
   ]
  },
  {
   "cell_type": "code",
   "execution_count": 85,
   "id": "df486241",
   "metadata": {},
   "outputs": [
    {
     "ename": "TypeError",
     "evalue": "'tuple' object does not support item assignment",
     "output_type": "error",
     "traceback": [
      "\u001b[1;31m---------------------------------------------------------------------------\u001b[0m",
      "\u001b[1;31mTypeError\u001b[0m                                 Traceback (most recent call last)",
      "Cell \u001b[1;32mIn[85], line 4\u001b[0m\n\u001b[0;32m      1\u001b[0m \u001b[38;5;66;03m# Immutable Nature\u001b[39;00m\n\u001b[0;32m      2\u001b[0m my_tuple \u001b[38;5;241m=\u001b[39m (\u001b[38;5;241m1\u001b[39m, \u001b[38;5;241m2\u001b[39m, \u001b[38;5;241m3\u001b[39m, \u001b[38;5;124m'\u001b[39m\u001b[38;5;124mhello\u001b[39m\u001b[38;5;124m'\u001b[39m, \u001b[38;5;124m'\u001b[39m\u001b[38;5;124mworld\u001b[39m\u001b[38;5;124m'\u001b[39m)\n\u001b[1;32m----> 4\u001b[0m my_tuple[\u001b[38;5;241m0\u001b[39m] \u001b[38;5;241m=\u001b[39m \u001b[38;5;241m10\u001b[39m  \u001b[38;5;66;03m# This will raise an error since tuples are immutable\u001b[39;00m\n\u001b[0;32m      6\u001b[0m \u001b[38;5;28mprint\u001b[39m(\u001b[38;5;124m'\u001b[39m\u001b[38;5;124m---------------------------------------------\u001b[39m\u001b[38;5;124m'\u001b[39m)\n\u001b[0;32m      8\u001b[0m tup1 \u001b[38;5;241m=\u001b[39m (\u001b[38;5;241m12\u001b[39m, \u001b[38;5;241m34.56\u001b[39m)\n",
      "\u001b[1;31mTypeError\u001b[0m: 'tuple' object does not support item assignment"
     ]
    }
   ],
   "source": [
    "# Immutable Nature\n",
    "my_tuple = (1, 2, 3, 'hello', 'world')\n",
    "\n",
    "my_tuple[0] = 10  # This will raise an error since tuples are immutable\n",
    "\n",
    "print('---------------------------------------------')\n",
    "\n",
    "tup1 = (12, 34.56)\n",
    "tup2 = ('abc', 'xyz')\n",
    "\n",
    "# So let's create a new tuple as follows\n",
    "tup3 = tup1 + tup2\n",
    "print (tup3)"
   ]
  },
  {
   "cell_type": "code",
   "execution_count": 86,
   "id": "c1df4ad2",
   "metadata": {},
   "outputs": [
    {
     "name": "stdout",
     "output_type": "stream",
     "text": [
      "('physics', 'chemistry', 1997, 2000)\n"
     ]
    },
    {
     "ename": "NameError",
     "evalue": "name 'tup' is not defined",
     "output_type": "error",
     "traceback": [
      "\u001b[1;31m---------------------------------------------------------------------------\u001b[0m",
      "\u001b[1;31mNameError\u001b[0m                                 Traceback (most recent call last)",
      "Cell \u001b[1;32mIn[86], line 7\u001b[0m\n\u001b[0;32m      4\u001b[0m \u001b[38;5;28mprint\u001b[39m (tup)\n\u001b[0;32m      6\u001b[0m \u001b[38;5;28;01mdel\u001b[39;00m tup\n\u001b[1;32m----> 7\u001b[0m \u001b[38;5;28mprint\u001b[39m (\u001b[38;5;124m\"\u001b[39m\u001b[38;5;124mAfter deleting tup : \u001b[39m\u001b[38;5;124m\"\u001b[39m, tup)\n",
      "\u001b[1;31mNameError\u001b[0m: name 'tup' is not defined"
     ]
    }
   ],
   "source": [
    "# Tuple deleting\n",
    "\n",
    "tup = ('physics', 'chemistry', 1997, 2000)\n",
    "print (tup)\n",
    "\n",
    "del tup\n",
    "print (\"After deleting tup : \", tup)"
   ]
  },
  {
   "cell_type": "code",
   "execution_count": 71,
   "id": "b61cbf41",
   "metadata": {},
   "outputs": [
    {
     "name": "stdout",
     "output_type": "stream",
     "text": [
      "(2, 3, 'hello')\n"
     ]
    }
   ],
   "source": [
    "# Tuple Slicing\n",
    "my_tuple = (1, 2, 3, 'hello', 'world')\n",
    "\n",
    "print(my_tuple[1:4])  # Output: (2, 3, 'hello')"
   ]
  },
  {
   "cell_type": "code",
   "execution_count": 87,
   "id": "4f1d12a2",
   "metadata": {},
   "outputs": [
    {
     "name": "stdout",
     "output_type": "stream",
     "text": [
      "(1, 2, 3, 'a', 'b', 'c')\n",
      "(1, 2, 3, 1, 2, 3)\n",
      "True\n"
     ]
    }
   ],
   "source": [
    "# Tuple Concatenation and Repetition\n",
    "\n",
    "tuple1 = (1, 2, 3)\n",
    "tuple2 = ('a', 'b', 'c')\n",
    "concatenated_tuple = tuple1 + tuple2  # Output: (1, 2, 3, 'a', 'b', 'c')\n",
    "repeated_tuple = tuple1 * 2  # Output: (1, 2, 3, 1, 2, 3)\n",
    "membership= 3 in tuple1\n",
    "\n",
    "print(concatenated_tuple)\n",
    "print(repeated_tuple)\n",
    "print(membership)"
   ]
  },
  {
   "cell_type": "code",
   "execution_count": 75,
   "id": "a6bd9685",
   "metadata": {},
   "outputs": [
    {
     "name": "stdout",
     "output_type": "stream",
     "text": [
      "2\n",
      "4\n"
     ]
    }
   ],
   "source": [
    "# Tuple Methods\n",
    "\n",
    "my_tuple = ('a', 'b', 'c', 'd', 'e', 'f', 'e')\n",
    "\n",
    "print(my_tuple.count('e'))  # Output: 3 (count occurrences of 2)\n",
    "print(my_tuple.index('e'))  # Output: 4 (index of the first occurrence of 4)"
   ]
  },
  {
   "cell_type": "code",
   "execution_count": 97,
   "id": "414266d3",
   "metadata": {},
   "outputs": [
    {
     "name": "stdout",
     "output_type": "stream",
     "text": [
      "Tuple before update ('a', 'b', 'c', 'd') id():  2410834080240\n",
      "updated list ['F', 'Z', 'a', 'b', 'd']\n",
      "Tuple after update ('F', 'Z', 'a', 'b', 'd') id():  2410834079680\n"
     ]
    }
   ],
   "source": [
    "tup1 = (\"a\", \"b\", \"c\", \"d\")\n",
    "print (\"Tuple before update\", tup1, \"id(): \", id(tup1))\n",
    "\n",
    "list1 = list(tup1)\n",
    "list1[2]='F'\n",
    "list1.append('Z')\n",
    "list1.sort()\n",
    "print (\"updated list\", list1)\n",
    "\n",
    "tup1 = tuple(list1)\n",
    "print (\"Tuple after update\", tup1, \"id(): \", id(tup1))"
   ]
  },
  {
   "cell_type": "markdown",
   "id": "2a4e8e5c",
   "metadata": {},
   "source": [
    "- However, note that the id() of tup1 before update and after update are different. \n",
    "- It means that a new tuple object is created and the original tuple object is not modified in-place."
   ]
  },
  {
   "cell_type": "code",
   "execution_count": 96,
   "id": "16394cec",
   "metadata": {},
   "outputs": [
    {
     "name": "stdout",
     "output_type": "stream",
     "text": [
      "apple\n",
      "orange\n",
      "3\n",
      "('apple', 'orange', 'mango')\n"
     ]
    }
   ],
   "source": [
    "fruits =('apple','orange','mango')\n",
    "\n",
    "fruits_1 =['apple','orange','mango']\n",
    "\n",
    "print(min(fruits))\n",
    "print(max(fruits))\n",
    "print(len(fruits))\n",
    "\n",
    "print(tuple(fruits_1)) # type conversion"
   ]
  },
  {
   "cell_type": "markdown",
   "id": "df56878c",
   "metadata": {},
   "source": [
    "### Unpack Tuple Items\n",
    "- \"unpacking\" refers to the process of parsing tuple items in individual variables. \n",
    "- In Python, the parentheses are the default delimiters for a literal representation of sequence object."
   ]
  },
  {
   "cell_type": "code",
   "execution_count": 118,
   "id": "1df9c054",
   "metadata": {},
   "outputs": [
    {
     "name": "stdout",
     "output_type": "stream",
     "text": [
      "x:  10 y:  z:  30\n"
     ]
    }
   ],
   "source": [
    "tup1 = (10,20,30)\n",
    "x, y1, z = tup1\n",
    "print (\"x: \", x, \"y: \", \"z: \",z)\n",
    "\n",
    "\n",
    "# If the number of variables is more or less than the length of tuple, Python raises a ValueError\n",
    "tup1 = (10,20,30)\n",
    "# x, y = tup1"
   ]
  },
  {
   "cell_type": "code",
   "execution_count": 119,
   "id": "9f23ff83",
   "metadata": {},
   "outputs": [
    {
     "name": "stdout",
     "output_type": "stream",
     "text": [
      "x:  y:  [20, 30]\n"
     ]
    }
   ],
   "source": [
    "# Unpack Tuple Items Using Asterisk (*)\n",
    "\n",
    "tup1 = (10,20,30)\n",
    "x, *y = tup1\n",
    "print (\"x: \", \"y: \", y)"
   ]
  },
  {
   "cell_type": "markdown",
   "id": "3d5b4fd8",
   "metadata": {},
   "source": [
    "- The first value in tuple is assigned to \"x\", and rest of items to \"y\" which becomes a list."
   ]
  },
  {
   "cell_type": "code",
   "execution_count": 120,
   "id": "f3a79179",
   "metadata": {},
   "outputs": [
    {
     "name": "stdout",
     "output_type": "stream",
     "text": [
      "x:  10 y:  [20, 30, 40, 50] z:  60\n"
     ]
    }
   ],
   "source": [
    "tup1 = (10,20,30, 40, 50, 60)\n",
    "x, *y1, z = tup1\n",
    "print (\"x: \",x, \"y: \", y1, \"z: \", z)"
   ]
  },
  {
   "cell_type": "markdown",
   "id": "9db543a0",
   "metadata": {},
   "source": [
    "- Here, values are unpacked in \"x\" and \"z\" first, and then the rest of values are assigned to \"y\" as a list."
   ]
  },
  {
   "cell_type": "code",
   "execution_count": 104,
   "id": "7fac1548",
   "metadata": {},
   "outputs": [
    {
     "name": "stdout",
     "output_type": "stream",
     "text": [
      "x:  [10, 20, 30, 40] y:  50 z:  60\n"
     ]
    }
   ],
   "source": [
    "tup1 = (10,20,30, 40, 50, 60)\n",
    "*x, y1, z = tup1\n",
    "print (\"x: \",x, \"y: \", y1, \"z: \", z)"
   ]
  },
  {
   "cell_type": "markdown",
   "id": "422bcbae",
   "metadata": {},
   "source": [
    "### Loop Through Tuple Items\n",
    "\n",
    "- Can traverse the items in a tuple with Python's for loop construct. \n",
    "- The traversal can be done, using tuple as an iterator or with the help of index."
   ]
  },
  {
   "cell_type": "code",
   "execution_count": 107,
   "id": "ac807da4",
   "metadata": {},
   "outputs": [
    {
     "name": "stdout",
     "output_type": "stream",
     "text": [
      "25 12 10 -21 10 100 ------------------------------\n",
      "tup1[0]:  25\n",
      "tup1[1]:  12\n",
      "tup1[2]:  10\n",
      "tup1[3]:  -21\n",
      "tup1[4]:  10\n",
      "tup1[5]:  100\n"
     ]
    }
   ],
   "source": [
    "tup1 = (25, 12, 10, -21, 10, 100)\n",
    "for num in tup1:\n",
    "    print (num, end = ' ')"
   ]
  },
  {
   "cell_type": "code",
   "execution_count": 108,
   "id": "250d1c49",
   "metadata": {},
   "outputs": [
    {
     "name": "stdout",
     "output_type": "stream",
     "text": [
      "tup1[0]:  25\n",
      "tup1[1]:  12\n",
      "tup1[2]:  10\n",
      "tup1[3]:  -21\n",
      "tup1[4]:  10\n",
      "tup1[5]:  100\n"
     ]
    }
   ],
   "source": [
    "tup1 = (25, 12, 10, -21, 10, 100)\n",
    "indices = range(len(tup1))\n",
    "\n",
    "for i in indices:\n",
    "    print (\"tup1[{}]: \".format(i), tup1[i])"
   ]
  },
  {
   "cell_type": "markdown",
   "id": "1671df04",
   "metadata": {},
   "source": [
    "### Join Python Tuples"
   ]
  },
  {
   "cell_type": "code",
   "execution_count": 109,
   "id": "70b5ecb2",
   "metadata": {},
   "outputs": [
    {
     "name": "stdout",
     "output_type": "stream",
     "text": [
      "Joined Tuple: (10, 20, 30, 40, 'one', 'two', 'three', 'four')\n"
     ]
    }
   ],
   "source": [
    "T1 = (10,20,30,40)\n",
    "T2 = ('one', 'two', 'three', 'four')\n",
    "T1+=T2\n",
    "print (\"Joined Tuple:\", T1)"
   ]
  },
  {
   "cell_type": "code",
   "execution_count": 110,
   "id": "cdd59c6a",
   "metadata": {},
   "outputs": [
    {
     "name": "stdout",
     "output_type": "stream",
     "text": [
      "Joined Tuple: (10, 20, 30, 40, 'one', 'two', 'three', 'four')\n"
     ]
    }
   ],
   "source": [
    "# Convert as list before do this because tuple is immutable \n",
    "\n",
    "T1 = (10,20,30,40)\n",
    "T2 = ('one', 'two', 'three', 'four')\n",
    "L1 = list(T1)\n",
    "L2 = list(T2)\n",
    "\n",
    "L1.extend(L2)\n",
    "\n",
    "T1 = tuple(L1)\n",
    "print (\"Joined Tuple:\", T1)"
   ]
  },
  {
   "cell_type": "code",
   "execution_count": 111,
   "id": "c25274de",
   "metadata": {},
   "outputs": [
    {
     "name": "stdout",
     "output_type": "stream",
     "text": [
      "Joined Tuple: (10, 20, 30, 40, 'one', 'two', 'three', 'four')\n"
     ]
    }
   ],
   "source": [
    "# Python's built-in sum() function also helps in concatenating tuples. sum((t1, t2), ())\n",
    "\n",
    "T1 = (10,20,30,40)\n",
    "T2 = ('one', 'two', 'three', 'four')\n",
    "T3 = sum((T1, T2), ())\n",
    "print (\"Joined Tuple:\", T3)"
   ]
  },
  {
   "cell_type": "markdown",
   "id": "15aa1bca",
   "metadata": {},
   "source": [
    "- The elements of the first tuple are appended to an empty tuple first, and then elements from second tuple are appended and returns a new tuple that is concatenation of the two."
   ]
  },
  {
   "cell_type": "markdown",
   "id": "e7f96b23",
   "metadata": {},
   "source": [
    "### Tuples using List Comprehension"
   ]
  },
  {
   "cell_type": "code",
   "execution_count": 127,
   "id": "5a676587",
   "metadata": {},
   "outputs": [
    {
     "name": "stdout",
     "output_type": "stream",
     "text": [
      "[10, 20, 30, 40]\n",
      "['one', 'two', 'three', 'four']\n",
      "Joined Tuple: (10, 20, 30, 40, 'one', 'two', 'three', 'four')\n"
     ]
    }
   ],
   "source": [
    "# A slightly complex approach for merging two tuples is using list comprehension\n",
    "\n",
    "T1 = (10,20,30,40)\n",
    "T2 = ('one', 'two', 'three', 'four')\n",
    "\n",
    "L1, L2 = list(T1), list(T2)\n",
    "\n",
    "print(L1)\n",
    "print(L2)\n",
    "\n",
    "L3 = [y for x in [L1, L2] for y in x]\n",
    "\n",
    "T3 = tuple(L3)\n",
    "print (\"Joined Tuple:\", T3)"
   ]
  },
  {
   "cell_type": "code",
   "execution_count": 129,
   "id": "ffb545e1",
   "metadata": {},
   "outputs": [
    {
     "name": "stdout",
     "output_type": "stream",
     "text": [
      "(10, 20, 30, 40, 'one', 'two', 'three', 'four')\n"
     ]
    }
   ],
   "source": [
    "T1 = (10,20,30,40)\n",
    "T2 = ('one', 'two', 'three', 'four')\n",
    "\n",
    "for t in T2:\n",
    "    T1+=(t,)\n",
    "    \n",
    "print (T1)"
   ]
  },
  {
   "cell_type": "markdown",
   "id": "1818f5c8",
   "metadata": {},
   "source": [
    "- We can run a for loop on the items in second loop, convert each item in a single item tuple and concatenate it to first tuple with the \"+=\" operator"
   ]
  },
  {
   "cell_type": "markdown",
   "id": "a99a5af3",
   "metadata": {},
   "source": [
    "### No Enclosing Delimiters\n",
    "- Any set of multiple objects, comma-separated, written without identifying symbols, i.e., brackets for lists, parentheses for tuples, etc., default to tuples"
   ]
  },
  {
   "cell_type": "code",
   "execution_count": 90,
   "id": "8a9b6dc1",
   "metadata": {},
   "outputs": [
    {
     "name": "stdout",
     "output_type": "stream",
     "text": [
      "abc -4.24e+93 (18+6.6j) xyz\n",
      "Value of x , y :  1 2\n"
     ]
    }
   ],
   "source": [
    "print ('abc', -4.24e93, 18+6.6j, 'xyz')\n",
    "x, y = 1, 2\n",
    "\n",
    "print (\"Value of x , y : \", x,y)"
   ]
  },
  {
   "cell_type": "markdown",
   "id": "a90f80e3",
   "metadata": {},
   "source": [
    "## Python Sets\n",
    "\n",
    "- Sets in Python are unordered collections of **unique elements**. \n",
    "- Set in Python also a collection data type such as *list or tuple*. \n",
    "- However, it is *not an ordered collection*, i.e., items in a set or not accessible by its positional index. \n",
    "- A set object is a collection of one or more immutable objects enclosed within curly brackets {}.\n",
    "\n",
    "\n",
    "### Overview \n",
    "- *Uniqueness:* Sets only contain unique elements. If we try to add a duplicate element, it won't be included in the set.\n",
    "- *Unordered:* Elements in a set are not stored in any particular order. This means sets don't support indexing or slicing like lists.\n",
    "- *Mutable:* Sets are mutable, meaning we can add or remove elements from them.\n",
    "- *Hashable Elements:* Elements in a set must be hashable, which typically means they should be immutable types (like numbers, strings, or tuples of immutable elements).\n",
    "- *Operations:* Sets support various operations like union, intersection, difference, and symmetric difference, which make them useful for tasks like finding unique elements in collections, set operations in mathematics, and more.\n",
    "- *Creation:* We can create a set using curly braces {}, or by using the set() constructor with an iterable (like a list or a tuple) as an argument.\n",
    "\n",
    "### Common Methods \n",
    "- *add(element):* Adds an element to the set.\n",
    "- *remove(element):* Removes an element from the set. Raises an error if the element is not present.\n",
    "- *discard(element):* Removes an element from the set if it is present, without raising an error if the element is not found.\n",
    "- *clear():* Removes all elements from the set.\n",
    "- *union(other_set):* Returns a new set containing elements from both sets.\n",
    "- *intersection(other_set):* Returns a new set containing elements common to both sets.\n",
    "- *difference(other_set):* Returns a new set containing elements that are in the first set but not in the second.\n",
    "- *symmetric_difference(other_set):* Returns a new set containing elements that are in either of the sets, but not common to both.\n",
    "- *issubset(other_set):* Checks if all elements of the set are present in another set.\n",
    "- *issuperset(other_set):* Checks if all elements of another set are present in the set."
   ]
  },
  {
   "cell_type": "code",
   "execution_count": 130,
   "id": "ffb6ae55",
   "metadata": {},
   "outputs": [
    {
     "name": "stdout",
     "output_type": "stream",
     "text": [
      "{'Rohan', 21, 69.75, 'Physics'}\n",
      "{1, 2, 3, 4, 5}\n",
      "{'b', 'a', 'c', 'd'}\n",
      "{25.5, -55, True, (1+2j)}\n"
     ]
    }
   ],
   "source": [
    "s1 = {\"Rohan\", \"Physics\", 21, 69.75}\n",
    "s2 = {1, 2, 3, 4, 5}\n",
    "s3 = {\"a\", \"b\", \"c\", \"d\"}\n",
    "s4 = {25.50, True, -55, 1+2j}\n",
    "\n",
    "print (s1)\n",
    "print (s2)\n",
    "print (s3)\n",
    "print (s4)"
   ]
  },
  {
   "cell_type": "code",
   "execution_count": 134,
   "id": "cf760ae1",
   "metadata": {},
   "outputs": [
    {
     "name": "stdout",
     "output_type": "stream",
     "text": [
      "{'Physics', 21, 69.75, 'Rohan'}\n",
      "{1, 2, 3, 4, 5}\n",
      "{'o', 'g', 'n', 'l', 't', 'y', 'P', 'h', ' ', 'e', 'a', 'i', 'r'}\n"
     ]
    }
   ],
   "source": [
    "# The set() function returns a set object from the sequence, discarding the repeated elements in it\n",
    "# set() is one of the built-in functions. \n",
    "# It takes any sequence object (list, tuple or string) as argument and returns a set object\n",
    "\n",
    "L1 = [\"Rohan\", \"Physics\", 21, 69.75]\n",
    "s1 = set(L1)\n",
    "\n",
    "T1 = (1, 2, 3, 4, 5)\n",
    "s2 = set(T1)\n",
    "\n",
    "string = \"Python learning\"\n",
    "s3 = set(string)\n",
    "\n",
    "print (s1)\n",
    "print (s2)\n",
    "print (s3)"
   ]
  },
  {
   "cell_type": "code",
   "execution_count": 132,
   "id": "f4458cfb",
   "metadata": {},
   "outputs": [
    {
     "name": "stdout",
     "output_type": "stream",
     "text": [
      "{0, 1, 2, 3, 4, 5, 9}\n",
      "{'a', 'e', 'd', 'b', 'c'}\n"
     ]
    }
   ],
   "source": [
    "s2 = {1, 2, 3, 4, 5, 3, 0, 1, 9}\n",
    "s3 = {\"a\", \"b\", \"c\", \"d\", \"b\", \"e\", \"a\"}\n",
    "\n",
    "print (s2)\n",
    "print (s3)"
   ]
  },
  {
   "cell_type": "markdown",
   "id": "33385b8a",
   "metadata": {},
   "source": [
    "- Set is a collection of distinct objects. \n",
    "- Even if we repeat an object in the collection, only one copy is retained in it."
   ]
  },
  {
   "cell_type": "code",
   "execution_count": 137,
   "id": "db4418a1",
   "metadata": {},
   "outputs": [
    {
     "ename": "TypeError",
     "evalue": "unhashable type: 'list'",
     "output_type": "error",
     "traceback": [
      "\u001b[1;31m---------------------------------------------------------------------------\u001b[0m",
      "\u001b[1;31mTypeError\u001b[0m                                 Traceback (most recent call last)",
      "Cell \u001b[1;32mIn[137], line 1\u001b[0m\n\u001b[1;32m----> 1\u001b[0m s1 \u001b[38;5;241m=\u001b[39m {\u001b[38;5;241m1\u001b[39m, \u001b[38;5;241m2\u001b[39m, [\u001b[38;5;241m3\u001b[39m, \u001b[38;5;241m4\u001b[39m, \u001b[38;5;241m5\u001b[39m], \u001b[38;5;241m3\u001b[39m,\u001b[38;5;241m0\u001b[39m, \u001b[38;5;241m1\u001b[39m, \u001b[38;5;241m9\u001b[39m}\n\u001b[0;32m      2\u001b[0m \u001b[38;5;28mprint\u001b[39m (s1)\n\u001b[0;32m      4\u001b[0m s2 \u001b[38;5;241m=\u001b[39m {\u001b[38;5;124m\"\u001b[39m\u001b[38;5;124mRohan\u001b[39m\u001b[38;5;124m\"\u001b[39m, {\u001b[38;5;124m\"\u001b[39m\u001b[38;5;124mphy\u001b[39m\u001b[38;5;124m\"\u001b[39m:\u001b[38;5;241m50\u001b[39m}}\n",
      "\u001b[1;31mTypeError\u001b[0m: unhashable type: 'list'"
     ]
    }
   ],
   "source": [
    "s1 = {1, 2, [3, 4, 5], 3,0, 1, 9}\n",
    "print (s1)\n",
    "\n",
    "s2 = {\"Rohan\", {\"phy\":50}}\n",
    "print (s2)"
   ]
  },
  {
   "cell_type": "markdown",
   "id": "11f1a502",
   "metadata": {},
   "source": [
    "- Only immutable objects can be used to form a set object. \n",
    "- Any number type, string and tuple is allowed, but we cannot put a list or a dictionary in a set.\n",
    "- Python raises TypeError with a message unhashable types 'list' or 'dict'. Hashing generates a unique number for an immutable item that enables quick search inside computer's memory. \n",
    "- Python has built-in hash() function. This function is not supported by list or dictionary."
   ]
  },
  {
   "cell_type": "code",
   "execution_count": 139,
   "id": "52d793f2",
   "metadata": {},
   "outputs": [
    {
     "name": "stdout",
     "output_type": "stream",
     "text": [
      "Java\n",
      "Python\n",
      "C++\n",
      "C\n"
     ]
    }
   ],
   "source": [
    "# Access elements\n",
    "\n",
    "langs = {\"C\", \"C++\", \"Java\", \"Python\"}\n",
    "for lang in langs:\n",
    "    print (lang)"
   ]
  },
  {
   "cell_type": "code",
   "execution_count": 18,
   "id": "22fa9d3e",
   "metadata": {},
   "outputs": [
    {
     "name": "stdout",
     "output_type": "stream",
     "text": [
      "{1, 2, 3, 4, 5, 6, 7, 8}\n"
     ]
    }
   ],
   "source": [
    "s1={1,2,3,4,5}\n",
    "s2={4,5,6,7,8}\n",
    "\n",
    "for x in s2:\n",
    "    s1.add(x)\n",
    "    \n",
    "print (s1)"
   ]
  },
  {
   "cell_type": "code",
   "execution_count": 140,
   "id": "4e689537",
   "metadata": {},
   "outputs": [
    {
     "name": "stdout",
     "output_type": "stream",
     "text": [
      "False\n",
      "True\n"
     ]
    }
   ],
   "source": [
    "# check if a certain item is available in the set\n",
    "\n",
    "langs = {\"C\", \"C++\", \"Java\", \"Python\"}\n",
    "\n",
    "print (\"PHP\" in langs)\n",
    "print (\"Java\" in langs)"
   ]
  },
  {
   "cell_type": "code",
   "execution_count": 142,
   "id": "4de6b856",
   "metadata": {},
   "outputs": [
    {
     "name": "stdout",
     "output_type": "stream",
     "text": [
      "{'Java', 'C++', 'Golang', 'Python', 'C'}\n",
      "{'Java', 'C++', 'Golang', 'Python', 'C'}\n"
     ]
    }
   ],
   "source": [
    "# add() method in set class adds a new element\n",
    "\n",
    "lang1 = {\"C\", \"C++\", \"Java\", \"Python\"}\n",
    "\n",
    "lang1.add(\"Golang\")\n",
    "\n",
    "print (lang1)\n",
    "\n",
    "# If the element is already present in the set, there is no change in the set.\n",
    "\n",
    "lang1.add(\"C\")\n",
    "\n",
    "print (lang1)"
   ]
  },
  {
   "cell_type": "code",
   "execution_count": 143,
   "id": "e4703074",
   "metadata": {},
   "outputs": [
    {
     "name": "stdout",
     "output_type": "stream",
     "text": [
      "{'Java', 'Perl', 'Python', 'PHP', 'C#', 'C++', 'C'}\n"
     ]
    }
   ],
   "source": [
    "# update() method of set class includes the items of the set given as argument.\n",
    "\n",
    "lang1 = {\"C\", \"C++\", \"Java\", \"Python\"}\n",
    "lang2 = {\"PHP\", \"C#\", \"Perl\"}\n",
    "\n",
    "lang1.update(lang2)\n",
    "print (lang1)"
   ]
  },
  {
   "cell_type": "code",
   "execution_count": 144,
   "id": "6c1482c4",
   "metadata": {},
   "outputs": [
    {
     "name": "stdout",
     "output_type": "stream",
     "text": [
      "{'o', 'l', 'd', 'W', 'e', 'r', 'H'}\n"
     ]
    }
   ],
   "source": [
    "\n",
    "set1 = set(\"Hello\")\n",
    "set1.update(\"World\")\n",
    "\n",
    "print (set1)"
   ]
  },
  {
   "cell_type": "code",
   "execution_count": 146,
   "id": "7425a833",
   "metadata": {},
   "outputs": [
    {
     "name": "stdout",
     "output_type": "stream",
     "text": [
      "{'Java', 'Perl', 'Python', 'PHP', 'C#', 'C++', 'C'}\n"
     ]
    }
   ],
   "source": [
    "# union() method of set class also combines the unique items from two sets\n",
    "\n",
    "lang1 = {\"C\", \"C++\", \"Java\", \"Python\"}\n",
    "lang2 = {\"PHP\", \"C#\", \"Perl\"}\n",
    "\n",
    "lang3 = lang1.union(lang2)\n",
    "print (lang3)"
   ]
  },
  {
   "cell_type": "code",
   "execution_count": 145,
   "id": "79b663f9",
   "metadata": {},
   "outputs": [
    {
     "name": "stdout",
     "output_type": "stream",
     "text": [
      "{'Java', 'Perl', 'C#', 'C++', 'Python', 'PHP', 'C'}\n"
     ]
    }
   ],
   "source": [
    "# automatically converts it to a set first and then performs union\n",
    "\n",
    "lang1 = {\"C\", \"C++\", \"Java\", \"Python\"}\n",
    "lang2 = [\"PHP\", \"C#\", \"Perl\"]\n",
    "\n",
    "lang3 = lang1.union(lang2)\n",
    "print (lang3)"
   ]
  },
  {
   "cell_type": "code",
   "execution_count": 147,
   "id": "f35b151c",
   "metadata": {},
   "outputs": [
    {
     "name": "stdout",
     "output_type": "stream",
     "text": [
      "{'o', 'l', 'd', 'W', 'e', 'r', 'H'}\n"
     ]
    }
   ],
   "source": [
    "set1 = set(\"Hello\")\n",
    "set2 = set1.union(\"World\")\n",
    "\n",
    "print (set2)"
   ]
  },
  {
   "cell_type": "code",
   "execution_count": 3,
   "id": "31768277",
   "metadata": {},
   "outputs": [
    {
     "name": "stdout",
     "output_type": "stream",
     "text": [
      "Set before removing:  {'Python', 'C', 'Java', 'C++'}\n",
      "Set after removing:  {'Python', 'C', 'C++'}\n"
     ]
    }
   ],
   "source": [
    "# Remove method removes the given item from the set collection, if it is present in it otherwise shows error\n",
    "\n",
    "lang1 = {\"C\", \"C++\", \"Java\", \"Python\"}\n",
    "print (\"Set before removing: \", lang1)\n",
    "\n",
    "lang1.remove(\"Java\")\n",
    "print (\"Set after removing: \", lang1)\n",
    "\n",
    "# lang1.remove(\"PHP\")"
   ]
  },
  {
   "cell_type": "code",
   "execution_count": 149,
   "id": "d043af29",
   "metadata": {},
   "outputs": [
    {
     "name": "stdout",
     "output_type": "stream",
     "text": [
      "Set before discarding C++:  {'Java', 'Python', 'C++', 'C'}\n",
      "Set after discarding C++:  {'Java', 'Python', 'C'}\n",
      "Set before discarding PHP:  {'Java', 'Python', 'C'}\n",
      "Set after discarding PHP:  {'Java', 'Python', 'C'}\n"
     ]
    }
   ],
   "source": [
    "# discard() method in set class is similar to remove() method. \n",
    "# The only difference is, it doesn't raise error even if the object to be removed is not already present in the set collection\n",
    "\n",
    "lang1 = {\"C\", \"C++\", \"Java\", \"Python\"}\n",
    "print (\"Set before discarding C++: \", lang1)\n",
    "\n",
    "lang1.discard(\"C++\")\n",
    "\n",
    "print (\"Set after discarding C++: \", lang1)\n",
    "\n",
    "print (\"Set before discarding PHP: \", lang1)\n",
    "lang1.discard(\"PHP\")\n",
    "\n",
    "print (\"Set after discarding PHP: \", lang1)"
   ]
  },
  {
   "cell_type": "code",
   "execution_count": 153,
   "id": "e58a6563",
   "metadata": {},
   "outputs": [
    {
     "name": "stdout",
     "output_type": "stream",
     "text": [
      "Set before popping:  {'C++', 'C'}\n",
      "object popped:  C++\n",
      "Set after popping:  {'C'}\n",
      "object popped:  C\n"
     ]
    }
   ],
   "source": [
    "# pop() method returns the object removed from set\n",
    "\n",
    "lang1 = {\"C\", \"C++\"}\n",
    "print (\"Set before popping: \", lang1)\n",
    "obj = lang1.pop()\n",
    "\n",
    "print (\"object popped: \", obj)\n",
    "\n",
    "print (\"Set after popping: \", lang1)\n",
    "obj = lang1.pop()\n",
    "\n",
    "print (\"object popped: \", obj)\n",
    "\n",
    "#obj = lang1.pop()"
   ]
  },
  {
   "cell_type": "code",
   "execution_count": 155,
   "id": "7526d634",
   "metadata": {},
   "outputs": [
    {
     "name": "stdout",
     "output_type": "stream",
     "text": [
      "{'Java', 'Python', 'C++', 'C'}\n",
      "After clear() method\n",
      "set()\n"
     ]
    }
   ],
   "source": [
    "# clear() method in set class removes all the items in a set object, leaving an empty set\n",
    "\n",
    "lang1 = {\"C\", \"C++\", \"Java\", \"Python\"}\n",
    "print (lang1)\n",
    "\n",
    "print (\"After clear() method\")\n",
    "lang1.clear()\n",
    "\n",
    "print (lang1)"
   ]
  },
  {
   "cell_type": "markdown",
   "id": "8d8e9831",
   "metadata": {},
   "source": [
    "### Set Operations\n",
    "\n",
    "- Union : union of two sets is a set containing all elements that are in A or in B or both\n",
    "- Intersection : intersection of two sets AA and BB, denoted by A∩B, consists of all elements that are both in A and B\n",
    "- Difference (subtraction) : set A−B consists of elements that are in A but not in B\n",
    "- symmetric difference : `A Δ B = (A − B) ⋃ (B − A)`\n",
    "- Intersection_update :  update a set by keeping only the elements that are common with another set (or any iterable object). It modifies the set in place by removing elements that are not present in both sets.\n",
    "- Symmetric_difference_update : used to update a set by keeping only the elements that are unique to each set and removing the common elements.\n",
    "- Difference_update : used to update a set by removing elements that are common with another set (or any iterable object)\n",
    "- isdisjoint() : Return True if two sets have a null intersection.\n",
    "- issubset() : Return True if another set contains this set.\n",
    "- issuperset() : Return True this set contains another set.\n",
    "- s.copy() : new set with shallow copy of s"
   ]
  },
  {
   "cell_type": "code",
   "execution_count": 27,
   "id": "c6418f13",
   "metadata": {},
   "outputs": [
    {
     "name": "stdout",
     "output_type": "stream",
     "text": [
      "{1, 2, 3, 4, 5, 6, 7, 8}\n",
      "{1, 2, 3, 4, 5, 6, 7, 8}\n",
      "--------------------------------\n",
      "{4, 5}\n",
      "{4, 5}\n",
      "--------------------------------\n",
      "{1, 2, 3}\n",
      "{1, 2, 3}\n",
      "--------------------------------\n",
      "{1, 2, 3, 6, 7, 8}\n",
      "{1, 2, 3, 6, 7, 8}\n",
      "--------------------------------\n",
      "False\n",
      "False\n",
      "False\n"
     ]
    }
   ],
   "source": [
    "set1 = {1, 2, 3, 4, 5}\n",
    "set2 = {4, 5, 6, 7, 8}\n",
    "\n",
    "union_set = set1.union(set2)\n",
    "print(union_set)\n",
    "\n",
    "union_set = set1 |set2\n",
    "print(union_set)\n",
    "\n",
    "print('--------------------------------')\n",
    "\n",
    "intersection_set = set1.intersection(set2)\n",
    "print(intersection_set)\n",
    "\n",
    "intersection_set = set1 & set2\n",
    "print(intersection_set)\n",
    "\n",
    "print('--------------------------------')\n",
    "\n",
    "difference_set = set1.difference(set2)\n",
    "print(difference_set)\n",
    "\n",
    "difference_set = set1 - set2\n",
    "print(difference_set)\n",
    "\n",
    "print('--------------------------------')\n",
    "\n",
    "symmetric_difference = set1.symmetric_difference(set2)\n",
    "print(symmetric_difference)\n",
    "\n",
    "symmetric_difference = set1 ^ set2\n",
    "print(symmetric_difference)\n",
    "\n",
    "print('--------------------------------')\n",
    "\n",
    "is_subset = set1.issubset(set2)\n",
    "print(is_subset)\n",
    "\n",
    "is_superset = set1.issuperset(set2)\n",
    "print(is_superset)\n",
    "\n",
    "is_disjoint = set1.isdisjoint(set2)\n",
    "print(is_disjoint)\n"
   ]
  },
  {
   "cell_type": "code",
   "execution_count": 28,
   "id": "f0ac9f70",
   "metadata": {},
   "outputs": [
    {
     "name": "stdout",
     "output_type": "stream",
     "text": [
      "{1, 2, 3}\n"
     ]
    }
   ],
   "source": [
    "set1 = {1, 2, 3, 4, 5}\n",
    "set2 = {4, 5, 6, 7, 8}\n",
    "\n",
    "set1.difference_update(set2)\n",
    "print(set1)"
   ]
  },
  {
   "cell_type": "code",
   "execution_count": 15,
   "id": "fa70ccd1",
   "metadata": {},
   "outputs": [
    {
     "name": "stdout",
     "output_type": "stream",
     "text": [
      "{4, 5}\n"
     ]
    }
   ],
   "source": [
    "set1 = {1, 2, 3, 4, 5}\n",
    "set2 = {4, 5, 6, 7, 8}\n",
    "\n",
    "set1.intersection_update(set2)\n",
    "print(set1)"
   ]
  },
  {
   "cell_type": "code",
   "execution_count": 17,
   "id": "9df8bf65",
   "metadata": {},
   "outputs": [
    {
     "name": "stdout",
     "output_type": "stream",
     "text": [
      "{1, 2, 3, 6, 7, 8}\n"
     ]
    }
   ],
   "source": [
    "set1 = {1, 2, 3, 4, 5}\n",
    "set2 = {4, 5, 6, 7, 8}\n",
    "\n",
    "set1.symmetric_difference_update(set2)\n",
    "\n",
    "print(set1)"
   ]
  },
  {
   "cell_type": "markdown",
   "id": "ca2b2dbd",
   "metadata": {},
   "source": [
    "### Join Python Sets Using Unpacking Operator"
   ]
  },
  {
   "cell_type": "code",
   "execution_count": 22,
   "id": "8a204aa0",
   "metadata": {},
   "outputs": [
    {
     "name": "stdout",
     "output_type": "stream",
     "text": [
      "{1, 2, 3, 4, 5, 6, 7, 8}\n"
     ]
    }
   ],
   "source": [
    "s1={1,2,3,4,5}\n",
    "s2={4,5,6,7,8}\n",
    "\n",
    "s3 = {*s1, *s2}\n",
    "\n",
    "print (s3)"
   ]
  },
  {
   "cell_type": "markdown",
   "id": "b4044462",
   "metadata": {},
   "source": [
    "### Python Copy set"
   ]
  },
  {
   "cell_type": "code",
   "execution_count": 23,
   "id": "bc6f4ca2",
   "metadata": {},
   "outputs": [
    {
     "name": "stdout",
     "output_type": "stream",
     "text": [
      "lang1:  {'Python', 'C', 'Java', 'C++'} id(lang1):  2404105747392\n",
      "lang2:  {'Python', 'C', 'Java', 'C++'} id(lang2):  2404105746944\n",
      "After updating lang1\n",
      "lang1:  {'C', 'Java', 'Python', 'PHP', 'C++'} id(lang1):  2404105747392\n",
      "lang2:  {'Python', 'C', 'Java', 'C++'} id(lang2):  2404105746944\n"
     ]
    }
   ],
   "source": [
    "lang1 = {\"C\", \"C++\", \"Java\", \"Python\"}\n",
    "print (\"lang1: \", lang1, \"id(lang1): \", id(lang1))\n",
    "\n",
    "lang2 = lang1.copy()\n",
    "print (\"lang2: \", lang2, \"id(lang2): \", id(lang2))\n",
    "\n",
    "lang1.add(\"PHP\")\n",
    "\n",
    "print (\"After updating lang1\")\n",
    "\n",
    "print (\"lang1: \", lang1, \"id(lang1): \", id(lang1))\n",
    "print (\"lang2: \", lang2, \"id(lang2): \", id(lang2))"
   ]
  },
  {
   "cell_type": "markdown",
   "id": "71df38eb",
   "metadata": {},
   "source": [
    "## Python Dictionaries\n",
    "\n",
    "- A Python dictionary is a data structure that stores *key-value pairs*. \n",
    "- Each key in a dictionary must be unique, and it is used to access its corresponding value. "
   ]
  },
  {
   "cell_type": "code",
   "execution_count": 29,
   "id": "157777aa",
   "metadata": {},
   "outputs": [
    {
     "name": "stdout",
     "output_type": "stream",
     "text": [
      "{'Maharashtra': 'Mumbai', 'Gujarat': 'Gandhinagar', 'Telangana': 'Hyderabad', 'Karnataka': 'Bengaluru'}\n",
      "{10: 'Ten', 20: 'Twenty', 30: 'Thirty', 40: 'Forty'}\n",
      "{'Savita': 67, 'Imtiaz': 88, 'Laxman': 91, 'David': 49}\n"
     ]
    }
   ],
   "source": [
    "capitals = {\"Maharashtra\":\"Mumbai\", \"Gujarat\":\"Gandhinagar\", \"Telangana\":\"Hyderabad\", \"Karnataka\":\"Bengaluru\"}\n",
    "\n",
    "numbers = {10:\"Ten\", 20:\"Twenty\", 30:\"Thirty\",40:\"Forty\"}\n",
    "\n",
    "marks = {\"Savita\":67, \"Imtiaz\":88, \"Laxman\":91, \"David\":49}\n",
    "\n",
    "print(capitals)\n",
    "\n",
    "print(numbers)\n",
    "\n",
    "print(marks)"
   ]
  },
  {
   "cell_type": "code",
   "execution_count": 31,
   "id": "ec759b55",
   "metadata": {},
   "outputs": [
    {
     "name": "stdout",
     "output_type": "stream",
     "text": [
      "{'Fruit': ['Mango', 'Banana'], 'Flower': ['Rose', 'Lotus']}\n",
      "{'India, USA': 'Countries', ('New Delhi', 'New York'): 'Capitals'}\n"
     ]
    }
   ],
   "source": [
    "d1 = {\"Fruit\":[\"Mango\",\"Banana\"], \"Flower\":[\"Rose\", \"Lotus\"]}\n",
    "\n",
    "d2 = {('India, USA'):'Countries', ('New Delhi', 'New York'):'Capitals'}\n",
    "\n",
    "print (d1)\n",
    "print (d2)"
   ]
  },
  {
   "cell_type": "code",
   "execution_count": 32,
   "id": "749eccbd",
   "metadata": {},
   "outputs": [
    {
     "ename": "TypeError",
     "evalue": "unhashable type: 'list'",
     "output_type": "error",
     "traceback": [
      "\u001b[1;31m---------------------------------------------------------------------------\u001b[0m",
      "\u001b[1;31mTypeError\u001b[0m                                 Traceback (most recent call last)",
      "Cell \u001b[1;32mIn[32], line 1\u001b[0m\n\u001b[1;32m----> 1\u001b[0m d1 \u001b[38;5;241m=\u001b[39m {[\u001b[38;5;124m\"\u001b[39m\u001b[38;5;124mMango\u001b[39m\u001b[38;5;124m\"\u001b[39m,\u001b[38;5;124m\"\u001b[39m\u001b[38;5;124mBanana\u001b[39m\u001b[38;5;124m\"\u001b[39m]:\u001b[38;5;124m\"\u001b[39m\u001b[38;5;124mFruit\u001b[39m\u001b[38;5;124m\"\u001b[39m, \u001b[38;5;124m\"\u001b[39m\u001b[38;5;124mFlower\u001b[39m\u001b[38;5;124m\"\u001b[39m:[\u001b[38;5;124m\"\u001b[39m\u001b[38;5;124mRose\u001b[39m\u001b[38;5;124m\"\u001b[39m, \u001b[38;5;124m\"\u001b[39m\u001b[38;5;124mLotus\u001b[39m\u001b[38;5;124m\"\u001b[39m]}\n\u001b[0;32m      2\u001b[0m \u001b[38;5;28mprint\u001b[39m (d1)\n",
      "\u001b[1;31mTypeError\u001b[0m: unhashable type: 'list'"
     ]
    }
   ],
   "source": [
    "d1 = {[\"Mango\",\"Banana\"]:\"Fruit\", \"Flower\":[\"Rose\", \"Lotus\"]}\n",
    "\n",
    "print (d1)"
   ]
  },
  {
   "cell_type": "markdown",
   "id": "ee804269",
   "metadata": {},
   "source": [
    "Only a number, string or tuple can be used as key. All of them are immutable."
   ]
  },
  {
   "cell_type": "code",
   "execution_count": 33,
   "id": "9bd899de",
   "metadata": {},
   "outputs": [
    {
     "name": "stdout",
     "output_type": "stream",
     "text": [
      "{'Banana': 'Fruit', 'Rose': 'Flower', 'Lotus': 'Flower', 'Mango': 'Fruit'}\n",
      "{'Fruit': 'Mango', 'Flower': 'Lotus'}\n"
     ]
    }
   ],
   "source": [
    "d1 = {\"Banana\":\"Fruit\", \"Rose\":\"Flower\", \"Lotus\":\"Flower\", \"Mango\":\"Fruit\"}\n",
    "\n",
    "d2 = {\"Fruit\":\"Banana\",\"Flower\":\"Rose\", \"Fruit\":\"Mango\", \"Flower\":\"Lotus\"}\n",
    "\n",
    "print (d1)\n",
    "\n",
    "print (d2)"
   ]
  },
  {
   "cell_type": "markdown",
   "id": "00ebc5a4",
   "metadata": {},
   "source": [
    "We can assign a value to more than one keys in a dictionary, but a key cannot appear more than once in a dictionary."
   ]
  },
  {
   "cell_type": "markdown",
   "id": "f19c908a",
   "metadata": {},
   "source": [
    "### Python Dictionary Operators\n",
    "\n",
    "- In Python, dictionaries support several operators and methods for efficient manipulation.\n",
    "\n",
    "- **Accessing Values :** To access the value associated with a key: `dict_name[key]`\n",
    "    - Example: `my_dict['name']` accesses the value associated with the key 'name' in the dictionary my_dict.\n",
    "- **Adding or Modifying Items :** Adding or modifying a key-value pair: `dict_name[key] = value`\n",
    "    - Example: `my_dict['age'] = 30` adds a new key 'age' with the value 30 to my_dict or modifies the value if 'age' already exists.\n",
    "- **Deleting Items :** Deleting a key-value pair: `del dict_name[key]`\n",
    "    - Example: `del my_dict['city']` removes the key 'city' and its corresponding value from my_dict.\n",
    "- **Checking Membership :** Checking if a key exists in the dictionary: `key in dict_name`\n",
    "    - Example: 'age' in my_dict returns True if 'age' is a key in my_dict, otherwise False.\n",
    "- **Length :** Getting the number of key-value pairs in a dictionary: `len(dict_name)`\n",
    "    - Example: `len(my_dict)` returns the number of items in my_dict.\n",
    "- **Dictionary Concatenation :** Combining two dictionaries: `dict1.update(dict2)`\n",
    "    - Example: `my_dict.update({'gender': 'Male'})` merges the dictionary {'gender': 'Male'} into my_dict.\n",
    "- **Dictionary Copy :** Creating a copy of a dictionary: `new_dict = dict_name.copy()`\n",
    "    - Example: `new_dict = my_dict.copy()` creates a shallow copy of my_dict in new_dict.\n",
    "- **Clearing a Dictionary:** Removing all items from a dictionary: `dict_name.clear()` \n",
    "    - Example: `my_dict.clear()` removes all items from my_dict, leaving it empty."
   ]
  },
  {
   "cell_type": "code",
   "execution_count": 50,
   "id": "0c6f2b21",
   "metadata": {},
   "outputs": [
    {
     "name": "stdout",
     "output_type": "stream",
     "text": [
      "John\n",
      "30\n",
      "{'name': 'John', 'age': 30, 'city': 'New York', 'job': 'Engineer'}\n",
      "{'name': 'John', 'age': 35, 'city': 'New York', 'job': 'Engineer'}\n",
      "Age is present in the dictionary.\n",
      "4\n",
      "Updated Dictionaries {'name': 'John', 'age': 35, 'city': 'New York', 'job': 'Doctor'}\n",
      "{'name': 'John', 'age': 35, 'city': 'New York', 'job': 'Doctor'}\n",
      "After City Delete {'name': 'John', 'age': 35, 'job': 'Doctor'}\n",
      "Age is present in the dictionary.\n",
      "{}\n"
     ]
    }
   ],
   "source": [
    "# Creating a dictionary\n",
    "my_dict = {'name': 'John', 'age': 30, 'city': 'New York'}\n",
    "\n",
    "# Accessing values using keys\n",
    "print(my_dict['name'])  \n",
    "print(my_dict.get('age'))  # we use get method also to access elements\n",
    "\n",
    "# Adding a new key-value pair\n",
    "my_dict['job'] = 'Engineer'\n",
    "print(my_dict)  # Output: {'name': 'John', 'age': 30, 'city': 'New York', 'job': 'Engineer'}\n",
    "\n",
    "# Modifying a value\n",
    "my_dict['age'] = 35\n",
    "print(my_dict)  # Output: {'name': 'John', 'age': 35, 'city': 'New York', 'job': 'Engineer'}\n",
    "\n",
    "if 'age' in my_dict:\n",
    "    print(\"Age is present in the dictionary.\")  # Output: Age is present in the dictionary.\n",
    "else:\n",
    "    print('Sorry..! This element is not present')\n",
    "    \n",
    "print(len(my_dict))  # Output: 3\n",
    "\n",
    "\n",
    "new_dict = {'city': 'New York', 'job': 'Doctor'}\n",
    "\n",
    "# Combining dictionaries\n",
    "my_dict.update(new_dict)\n",
    "print(f'Updated Dictionaries', my_dict)\n",
    "\n",
    "# Creating a copy\n",
    "new_dict = my_dict.copy()\n",
    "print(new_dict)  \n",
    "    \n",
    "# Removing a key-value pair\n",
    "del my_dict['city']\n",
    "print(\"After City Delete\", my_dict)  # Output: {'name': 'John', 'age': 35, 'job': 'Engineer'}\n",
    "\n",
    "# Checking if a key exists\n",
    "if 'age' in my_dict:\n",
    "    print(\"Age is present in the dictionary.\")\n",
    "else:\n",
    "    print(\"Age is not present in the dictionary.\")\n",
    "    \n",
    "my_dict.clear()\n",
    "\n",
    "print(my_dict)"
   ]
  },
  {
   "cell_type": "code",
   "execution_count": 53,
   "id": "28942acc",
   "metadata": {},
   "outputs": [
    {
     "name": "stdout",
     "output_type": "stream",
     "text": [
      "John\n",
      "30\n",
      "None\n",
      "Employee Phone Number:  Not found\n"
     ]
    }
   ],
   "source": [
    "# Creating a dictionary\n",
    "Employee = {'name': 'John', 'age': 30, 'city': 'New York'}\n",
    "\n",
    "# Accessing values using keys\n",
    "print(Employee['name'])  \n",
    "print(Employee.get('age'))  # we use get method also to access elements\n",
    "\n",
    "\n",
    "# print(my_dict['Phone'])  # Raises a KeyError if the key given inside the square brackets is not present in the dictionary\n",
    "print(my_dict.get('phone')) # doesn't raise error if the key is not found; it return None\n",
    "\n",
    "print (\"Employee Phone Number: \", Employee.get('phone', 'Not found'))"
   ]
  },
  {
   "cell_type": "markdown",
   "id": "c9f155f3",
   "metadata": {},
   "source": [
    "### Dictionary from List of Tuples\n",
    "\n",
    "- The dict() function constructs a dictionary from a list or tuple of two-item tuples.\n",
    "- Using dict() function without any arguments creates an empty dictionary object. \n",
    "- It is equivalent to putting nothing between curly brackets."
   ]
  },
  {
   "cell_type": "code",
   "execution_count": 55,
   "id": "b02e1548",
   "metadata": {},
   "outputs": [
    {
     "name": "stdout",
     "output_type": "stream",
     "text": [
      "d1:  {'a': 100, 'b': 200}\n",
      "d2:  {'a': 'one', 'b': 'two'}\n"
     ]
    }
   ],
   "source": [
    "d1=dict([('a', 100), ('b', 200)])\n",
    "\n",
    "d2 = dict((('a', 'one'), ('b', 'two')))\n",
    "\n",
    "print ('d1: ', d1)\n",
    "print ('d2: ', d2)"
   ]
  },
  {
   "cell_type": "markdown",
   "id": "cf814e78",
   "metadata": {},
   "source": [
    "### Dictionary from Keyword Arguments\n",
    "\n",
    "- The dict() function can take any number of keyword arguments with name=value pairs. \n",
    "- It returns a dictionary object with the name as key and associates it to the value."
   ]
  },
  {
   "cell_type": "code",
   "execution_count": 56,
   "id": "97ee655e",
   "metadata": {},
   "outputs": [
    {
     "name": "stdout",
     "output_type": "stream",
     "text": [
      "d1:  {'a': 100, 'b': 200}\n",
      "d2:  {'a': 'one', 'b': 'two'}\n"
     ]
    }
   ],
   "source": [
    "d1=dict(a= 100, b=200)\n",
    "d2 = dict(a='one', b='two')\n",
    "print ('d1: ', d1)\n",
    "print ('d2: ', d2)"
   ]
  },
  {
   "cell_type": "code",
   "execution_count": 68,
   "id": "c758532b",
   "metadata": {},
   "outputs": [
    {
     "name": "stdout",
     "output_type": "stream",
     "text": [
      "marks dictionary before update:  {'Savita': 67, 'Imtiaz': 88, 'Laxman': 91, 'David': 49}\n",
      "marks dictionary after update:  {'Savita': 67, 'Imtiaz': 88, 'Laxman': 95, 'David': 49}\n",
      "marks dictionary after update:  {'Savita': 67, 'Imtiaz': 88, 'Laxman': 95, 'David': 49}\n",
      "marks dictionary after update:  {'Savita': 67, 'Imtiaz': 88, 'Laxman': 95, 'David': 49, 'Mona': 98}\n",
      "marks dictionary after update: \n",
      " {'Savita': 67, 'Imtiaz': 88, 'Laxman': 92, 'David': 49, 'Mona': 98, 'Riya': 78, 'Priya': 56}\n",
      "marks dictionary after update: \n",
      " {'Savita': 67, 'Imtiaz': 88, 'Laxman': 89, 'David': 49, 'Mona': 98, 'Riya': 78, 'Priya': 56, 'Sharad': 51, 'Mushtaq': 61}\n",
      "marks dictionary after update: \n",
      " {'Savita': 67, 'Imtiaz': 88, 'Laxman': 89, 'David': 49, 'Mona': 98, 'Riya': 78, 'Priya': 56, 'Sharad': 51, 'Mushtaq': 61}\n",
      "marks dictionary after update: \n",
      " {'Savita': 67, 'Imtiaz': 88, 'Laxman': 89, 'David': 49, 'Mona': 98, 'Riya': 78, 'Priya': 56, 'Sharad': 50, 'Mushtaq': 61}\n",
      "marks dictionary after update: \n",
      " {'Savita': 67, 'Imtiaz': 88, 'Laxman': 89, 'David': 49, 'Mona': 98, 'Riya': 78, 'Priya': 56, 'Sharad': 50, 'Mushtaq': 61}\n",
      "marks dictionary after update: \n",
      " {'Savita': 67, 'Imtiaz': 88, 'Laxman': 89, 'David': 49, 'Mona': 98, 'Riya': 78, 'Priya': 56, 'Sharad': 51, 'Mushtaq': 60}\n"
     ]
    }
   ],
   "source": [
    "marks = {\"Savita\":67, \"Imtiaz\":88, \"Laxman\":91, \"David\":49}\n",
    "print (\"marks dictionary before update: \", marks)\n",
    "\n",
    "marks['Laxman'] = 95\n",
    "print (\"marks dictionary after update: \", marks)\n",
    "\n",
    "marks['David'] = 49\n",
    "print (\"marks dictionary after update: \", marks) # does not create new if it is already present\n",
    "\n",
    "marks['Mona'] = 98\n",
    "print (\"marks dictionary after update: \", marks) # does create new if not present\n",
    "\n",
    "marks1={\"Riya\" : 78, \"Priya\":56, \"Laxman\":92}\n",
    "marks.update(marks1)\n",
    "\n",
    "print (\"marks dictionary after update: \\n\", marks)\n",
    "\n",
    "marks1 = [(\"Sharad\", 51), (\"Mushtaq\", 61), (\"Laxman\", 89)] # Update with Iterable\n",
    "marks.update(marks1)\n",
    "\n",
    "print (\"marks dictionary after update: \\n\", marks)\n",
    "\n",
    "marks.update(Sharad = 51, Mushtaq = 61, Laxman = 89) # Update with Keyword Arguments\n",
    "\n",
    "print (\"marks dictionary after update: \\n\", marks)\n",
    "\n",
    "marks1 = {\"Sharad\": 50, \"Mushtaq\": 61, \"Laxman\": 89}\n",
    "newmarks = {**marks, **marks1}\n",
    "\n",
    "print (\"marks dictionary after update: \\n\", newmarks)\n",
    "\n",
    "newmarks = marks | marks1 # use union operator\n",
    "print (\"marks dictionary after update: \\n\", newmarks)\n",
    "\n",
    "marks1 = {\"Sharad\": 51, \"Mushtaq\": 60, \"Laxman\": 89}\n",
    "marks |= marks1 # augmented Union operator. It performs in-place update\n",
    "print (\"marks dictionary after update: \\n\", marks)"
   ]
  },
  {
   "cell_type": "markdown",
   "id": "1fdb08bb",
   "metadata": {},
   "source": [
    "If the key is already present in the dictionary object, its value will be updated to val. If the key is not present in the dictionary, a new key-value pair will be added."
   ]
  },
  {
   "cell_type": "markdown",
   "id": "5f0e0071",
   "metadata": {},
   "source": [
    "### Remove Dictionary Items"
   ]
  },
  {
   "cell_type": "code",
   "execution_count": 69,
   "id": "5d48ce61",
   "metadata": {},
   "outputs": [
    {
     "name": "stdout",
     "output_type": "stream",
     "text": [
      "numbers dictionary before delete operation: \n",
      " {10: 'Ten', 20: 'Twenty', 30: 'Thirty', 40: 'Forty'}\n",
      "numbers dictionary before delete operation: \n",
      " {10: 'Ten', 30: 'Thirty', 40: 'Forty'}\n"
     ]
    }
   ],
   "source": [
    "numbers = {10:\"Ten\", 20:\"Twenty\", 30:\"Thirty\",40:\"Forty\"}\n",
    "print (\"numbers dictionary before delete operation: \\n\", numbers)\n",
    "\n",
    "del numbers[20]\n",
    "print (\"numbers dictionary before delete operation: \\n\", numbers)"
   ]
  },
  {
   "cell_type": "code",
   "execution_count": 70,
   "id": "690a1858",
   "metadata": {},
   "outputs": [
    {
     "name": "stdout",
     "output_type": "stream",
     "text": [
      "numbers dictionary before delete operation: \n",
      " {10: 'Ten', 20: 'Twenty', 30: 'Thirty', 40: 'Forty'}\n"
     ]
    },
    {
     "ename": "NameError",
     "evalue": "name 'numbers' is not defined",
     "output_type": "error",
     "traceback": [
      "\u001b[1;31m---------------------------------------------------------------------------\u001b[0m",
      "\u001b[1;31mNameError\u001b[0m                                 Traceback (most recent call last)",
      "Cell \u001b[1;32mIn[70], line 4\u001b[0m\n\u001b[0;32m      2\u001b[0m \u001b[38;5;28mprint\u001b[39m (\u001b[38;5;124m\"\u001b[39m\u001b[38;5;124mnumbers dictionary before delete operation: \u001b[39m\u001b[38;5;130;01m\\n\u001b[39;00m\u001b[38;5;124m\"\u001b[39m, numbers)\n\u001b[0;32m      3\u001b[0m \u001b[38;5;28;01mdel\u001b[39;00m numbers\n\u001b[1;32m----> 4\u001b[0m \u001b[38;5;28mprint\u001b[39m (\u001b[38;5;124m\"\u001b[39m\u001b[38;5;124mnumbers dictionary before delete operation: \u001b[39m\u001b[38;5;130;01m\\n\u001b[39;00m\u001b[38;5;124m\"\u001b[39m, numbers)\n",
      "\u001b[1;31mNameError\u001b[0m: name 'numbers' is not defined"
     ]
    }
   ],
   "source": [
    "numbers = {10:\"Ten\", 20:\"Twenty\", 30:\"Thirty\",40:\"Forty\"}\n",
    "\n",
    "print (\"numbers dictionary before delete operation: \\n\", numbers)\n",
    "\n",
    "del numbers\n",
    "print (\"numbers dictionary before delete operation: \\n\", numbers)\n",
    "\n",
    "# The del keyword with the dict object itself removes it from memory."
   ]
  },
  {
   "cell_type": "code",
   "execution_count": 73,
   "id": "e31f2a3d",
   "metadata": {},
   "outputs": [
    {
     "name": "stdout",
     "output_type": "stream",
     "text": [
      "numbers dictionary before clear method: \n",
      " {10: 'Ten', 20: 'Twenty', 30: 'Thirty', 40: 'Forty'}\n",
      "numbers dictionary after clear method: \n",
      " {}\n"
     ]
    }
   ],
   "source": [
    "numbers = {10:\"Ten\", 20:\"Twenty\", 30:\"Thirty\",40:\"Forty\"}\n",
    "print (\"numbers dictionary before clear method: \\n\", numbers)\n",
    "\n",
    "numbers.clear()\n",
    "print (\"numbers dictionary after clear method: \\n\", numbers)"
   ]
  },
  {
   "cell_type": "code",
   "execution_count": 71,
   "id": "9f122a00",
   "metadata": {},
   "outputs": [
    {
     "name": "stdout",
     "output_type": "stream",
     "text": [
      "numbers dictionary before pop operation: \n",
      " {10: 'Ten', 20: 'Twenty', 30: 'Thirty', 40: 'Forty'}\n",
      "nubvers dictionary after pop operation: \n",
      " {10: 'Ten', 30: 'Thirty', 40: 'Forty'}\n",
      "Value popped:  Twenty\n"
     ]
    }
   ],
   "source": [
    "# pop() method returns the value of the specified key after removing the key-value pair\n",
    "\n",
    "numbers = {10:\"Ten\", 20:\"Twenty\", 30:\"Thirty\",40:\"Forty\"}\n",
    "print (\"numbers dictionary before pop operation: \\n\", numbers)\n",
    "val = numbers.pop(20)\n",
    "\n",
    "print (\"nubvers dictionary after pop operation: \\n\", numbers)\n",
    "print (\"Value popped: \", val)"
   ]
  },
  {
   "cell_type": "code",
   "execution_count": 72,
   "id": "fe4568db",
   "metadata": {},
   "outputs": [
    {
     "name": "stdout",
     "output_type": "stream",
     "text": [
      "numbers dictionary before pop operation: \n",
      " {10: 'Ten', 20: 'Twenty', 30: 'Thirty', 40: 'Forty'}\n",
      "numbers dictionary after pop operation: \n",
      " {10: 'Ten', 20: 'Twenty', 30: 'Thirty'}\n",
      "Value popped:  (40, 'Forty')\n"
     ]
    }
   ],
   "source": [
    "# popitem() method in dict class doesn't take any argument. \n",
    "# It pops out the last inserted key-value pair, and returns the same as a tuple\n",
    "\n",
    "numbers = {10:\"Ten\", 20:\"Twenty\", 30:\"Thirty\",40:\"Forty\"}\n",
    "print (\"numbers dictionary before pop operation: \\n\", numbers)\n",
    "\n",
    "val = numbers.popitem()\n",
    "print (\"numbers dictionary after pop operation: \\n\", numbers)\n",
    "print (\"Value popped: \", val)"
   ]
  },
  {
   "cell_type": "markdown",
   "id": "94446a14",
   "metadata": {},
   "source": [
    "### Dictionary View Objects\n",
    "\n",
    "- The items(), keys(), and values() methods of dict class return view objects. \n",
    "- These views are refreshed dynamically whenever any change occurs in the contents of their source dictionary object.\n",
    "- `items()` Method : This method returns a view object that displays a list of a dictionary's key-value tuple pairs.\n",
    "- `keys()` Method : This method returns a view object that displays a list of all keys in the dictionary.\n",
    "- `values()` Method: This method returns a view object that displays a list of all values in the dictionary."
   ]
  },
  {
   "cell_type": "code",
   "execution_count": 78,
   "id": "8cf65701",
   "metadata": {},
   "outputs": [
    {
     "name": "stdout",
     "output_type": "stream",
     "text": [
      "dict_items([('name', 'John'), ('age', 30), ('city', 'New York')])\n",
      "View automatically updated\n",
      "{'name': 'John', 'age': 30, 'city': 'New York', 'Phone': 98768}\n"
     ]
    }
   ],
   "source": [
    "my_dict = {'name': 'John', 'age': 30, 'city': 'New York'}\n",
    "\n",
    "items = my_dict.items()\n",
    "print(items)  # Output: dict_items([('name', 'John'), ('age', 30), ('city', 'New York')])\n",
    "\n",
    "my_dict.update({'Phone':98768})\n",
    "\n",
    "print (\"View automatically updated\")\n",
    "print (my_dict)"
   ]
  },
  {
   "cell_type": "code",
   "execution_count": 81,
   "id": "1b6cf792",
   "metadata": {},
   "outputs": [
    {
     "name": "stdout",
     "output_type": "stream",
     "text": [
      "dict_keys(['name', 'age', 'city'])\n",
      "View automatically updated\n",
      "{'name': 'John', 'age': 30, 'city': 'New York', 'Phone': 98768}\n"
     ]
    }
   ],
   "source": [
    "my_dict = {'name': 'John', 'age': 30, 'city': 'New York'}\n",
    "keys = my_dict.keys()\n",
    "\n",
    "print(keys)  # Output: dict_keys(['name', 'age', 'city'])\n",
    "\n",
    "my_dict.update({'Phone':98768})\n",
    "\n",
    "print (\"View automatically updated\")\n",
    "print (my_dict)"
   ]
  },
  {
   "cell_type": "code",
   "execution_count": 80,
   "id": "62b79d80",
   "metadata": {},
   "outputs": [
    {
     "name": "stdout",
     "output_type": "stream",
     "text": [
      "dict_values(['John', 30, 'New York'])\n",
      "View automatically updated\n",
      "{'name': 'John', 'age': 30, 'city': 'New York', 'Phone': 98768}\n"
     ]
    }
   ],
   "source": [
    "my_dict = {'name': 'John', 'age': 30, 'city': 'New York'}\n",
    "values = my_dict.values()\n",
    "\n",
    "print(values)  # Output: dict_values(['John', 30, 'New York'])\n",
    "\n",
    "my_dict.update({'Phone':98768})\n",
    "\n",
    "print (\"View automatically updated\")\n",
    "print (my_dict)"
   ]
  },
  {
   "cell_type": "markdown",
   "id": "457b56a0",
   "metadata": {},
   "source": [
    "### Looping through Dictionary Keys using For Loop"
   ]
  },
  {
   "cell_type": "code",
   "execution_count": 91,
   "id": "ae7ceabf",
   "metadata": {},
   "outputs": [
    {
     "name": "stdout",
     "output_type": "stream",
     "text": [
      "10\n",
      "20\n",
      "30\n",
      "40\n",
      "10 Ten\n",
      "20 Twenty\n",
      "30 Thirty\n",
      "40 Forty\n"
     ]
    }
   ],
   "source": [
    "numbers = {10:\"Ten\", 20:\"Twenty\", 30:\"Thirty\",40:\"Forty\"}\n",
    "for x in numbers:\n",
    "    print (x)\n",
    "    \n",
    "numbers = {10:\"Ten\", 20:\"Twenty\", 30:\"Thirty\",40:\"Forty\"}\n",
    "for x in numbers:\n",
    "    print (x, numbers[x])"
   ]
  },
  {
   "cell_type": "code",
   "execution_count": 94,
   "id": "52ed397c",
   "metadata": {},
   "outputs": [
    {
     "name": "stdout",
     "output_type": "stream",
     "text": [
      "(10, 'Ten')\n",
      "(20, 'Twenty')\n",
      "(30, 'Thirty')\n",
      "(40, 'Forty')\n",
      "--------------------------\n",
      "10 : Ten\n",
      "20 : Twenty\n",
      "30 : Thirty\n",
      "40 : Forty\n"
     ]
    }
   ],
   "source": [
    "numbers = {10:\"Ten\", 20:\"Twenty\", 30:\"Thirty\",40:\"Forty\"}\n",
    "for x in numbers.items():\n",
    "    print (x)\n",
    "    \n",
    "print('--------------------------')\n",
    "\n",
    "for x,y in numbers.items():\n",
    "    print (x, \":\" ,y)"
   ]
  },
  {
   "cell_type": "code",
   "execution_count": 96,
   "id": "aa20d0db",
   "metadata": {},
   "outputs": [
    {
     "name": "stdout",
     "output_type": "stream",
     "text": [
      "10 : Ten\n",
      "20 : Twenty\n",
      "30 : Thirty\n",
      "40 : Forty\n"
     ]
    }
   ],
   "source": [
    "numbers = {10:\"Ten\", 20:\"Twenty\", 30:\"Thirty\",40:\"Forty\"}\n",
    "for x in numbers.keys():\n",
    "    print (x, \":\", numbers[x])"
   ]
  },
  {
   "cell_type": "code",
   "execution_count": 87,
   "id": "f7294ee0",
   "metadata": {},
   "outputs": [
    {
     "name": "stdout",
     "output_type": "stream",
     "text": [
      "Ten\n",
      "Twenty\n",
      "Thirty\n",
      "Forty\n"
     ]
    }
   ],
   "source": [
    "numbers = {10:\"Ten\", 20:\"Twenty\", 30:\"Thirty\",40:\"Forty\"}\n",
    "for x in numbers.values():\n",
    "    print (x)"
   ]
  },
  {
   "cell_type": "code",
   "execution_count": 98,
   "id": "482cd2ff",
   "metadata": {},
   "outputs": [
    {
     "name": "stdout",
     "output_type": "stream",
     "text": [
      "10 : Ten\n",
      "20 : Twenty\n",
      "30 : Thirty\n",
      "40 : Forty\n"
     ]
    }
   ],
   "source": [
    "# Loop Through Dictionary Using keys() and values()\n",
    "\n",
    "numbers = {10:\"Ten\", 20:\"Twenty\", 30:\"Thirty\",40:\"Forty\"}\n",
    "l = len(numbers)\n",
    "\n",
    "for x in range(l):\n",
    "    print (list(numbers.keys())[x], \":\", list(numbers.values())[x])"
   ]
  },
  {
   "cell_type": "code",
   "execution_count": 99,
   "id": "12d1d786",
   "metadata": {},
   "outputs": [
    {
     "name": "stdout",
     "output_type": "stream",
     "text": [
      "dict1 : {'name': 'Krishna', 'age': '27', 'doy': 1992}\n",
      "dict2 : {'name': 'Krishna', 'age': '27', 'doy': 1992}\n"
     ]
    }
   ],
   "source": [
    "# Creating a dictionary, to create a shallow copy of a dictionary.\n",
    "\n",
    "dict1 = {\"name\": \"Krishna\", \"age\": \"27\", \"doy\": 1992}\n",
    "\n",
    "# Copying the dictionary\n",
    "dict2 = dict1.copy()\n",
    "\n",
    "# Printing both of the dictionaries\n",
    "print(\"dict1 :\", dict1)\n",
    "print(\"dict2 :\", dict2)\n",
    "\n",
    "dict2 = dict(dict1) # creates a new dictionary using the contents of an existing dictionary.\n",
    "\n",
    "# Printing both of the dictionaries\n",
    "print(\"dict1 :\", dict1)\n",
    "print(\"dict2 :\", dict2)"
   ]
  },
  {
   "cell_type": "markdown",
   "id": "eafb0840",
   "metadata": {},
   "source": [
    "### Nested Dictionaries"
   ]
  },
  {
   "cell_type": "code",
   "execution_count": 102,
   "id": "53ee8c21",
   "metadata": {},
   "outputs": [
    {
     "name": "stdout",
     "output_type": "stream",
     "text": [
      "Mahesh : {'Phy': 60, 'maths': 70}\n",
      "Madhavi : {'phy': 75, 'maths': 68}\n",
      "Mitchell : {'phy': 67, 'maths': 71}\n",
      "68\n",
      "60\n",
      "71\n"
     ]
    }
   ],
   "source": [
    "# nested structure if value of one or more keys is another dictionary. \n",
    "# A nested dictionary is usually employed to store a complex data structure\n",
    "\n",
    "marklist = {\n",
    "   \"Mahesh\" : {\"Phy\" : 60, \"maths\" : 70},\n",
    "   \"Madhavi\" : {\"phy\" : 75, \"maths\" : 68},\n",
    "   \"Mitchell\" : {\"phy\" : 67, \"maths\" : 71}\n",
    "}\n",
    "\n",
    "for k,v in marklist.items():\n",
    "    print (k, \":\", v)\n",
    "    \n",
    "print (marklist.get(\"Madhavi\")['maths'])\n",
    "\n",
    "obj=marklist['Mahesh']\n",
    "print (obj.get('Phy')) \n",
    "\n",
    "print (marklist['Mitchell'].get('maths'))"
   ]
  },
  {
   "cell_type": "markdown",
   "id": "aed2e833",
   "metadata": {},
   "source": [
    "It is possible to access value from an inner dictionary with [] notation or get() method."
   ]
  },
  {
   "cell_type": "code",
   "execution_count": 103,
   "id": "0e9506ab",
   "metadata": {},
   "outputs": [
    {
     "name": "stdout",
     "output_type": "stream",
     "text": [
      "{'name': 'Unknown', 'age': 'Unknown', 'city': 'Unknown'}\n"
     ]
    }
   ],
   "source": [
    "keys = ['name', 'age', 'city']\n",
    "default_value = 'Unknown'\n",
    "\n",
    "my_dict = dict.fromkeys(keys, default_value)\n",
    "print(my_dict)\n",
    "\n",
    "# Output: {'name': 'Unknown', 'age': 'Unknown', 'city': 'Unknown'}"
   ]
  },
  {
   "cell_type": "markdown",
   "id": "b87afb44",
   "metadata": {},
   "source": [
    "The fromkeys() method in Python is used to create a new dictionary with keys from a specified iterable (such as a list, tuple, or range) and optional values set to a default or specified value. "
   ]
  },
  {
   "cell_type": "code",
   "execution_count": 104,
   "id": "86f533f0",
   "metadata": {},
   "outputs": [
    {
     "name": "stdout",
     "output_type": "stream",
     "text": [
      "{'a': 100, 'b': 100, 'c': 100}\n"
     ]
    }
   ],
   "source": [
    "keys = ('a', 'b', 'c')\n",
    "specific_value = 100\n",
    "\n",
    "my_dict = dict.fromkeys(keys, specific_value)\n",
    "print(my_dict)\n",
    "# Output: {'a': 100, 'b': 100, 'c': 100}"
   ]
  },
  {
   "cell_type": "code",
   "execution_count": 105,
   "id": "35d99e5a",
   "metadata": {},
   "outputs": [
    {
     "name": "stdout",
     "output_type": "stream",
     "text": [
      "The string value is:  King\n",
      "The dictionary is:  {'L': 'King', 'i': 'King', 'o': 'King', 'n': 'King'}\n"
     ]
    }
   ],
   "source": [
    "Animal = 'Lion'\n",
    "value = 'King'\n",
    "print('The string value is: ', value)\n",
    "\n",
    "d = dict.fromkeys(Animal, value)\n",
    "print('The dictionary is: ', d)"
   ]
  },
  {
   "cell_type": "code",
   "execution_count": 110,
   "id": "a3e3a7c2",
   "metadata": {},
   "outputs": [
    {
     "name": "stdout",
     "output_type": "stream",
     "text": [
      "The key 'age' exists in the dictionary.\n",
      "The key 'gender' does not exist in the dictionary.\n"
     ]
    }
   ],
   "source": [
    "my_dict = {'name': 'John', 'age': 30, 'city': 'New York'}\n",
    "\n",
    "# Using 'in' operator to check for a key\n",
    "if 'age' in my_dict:\n",
    "    print(\"The key 'age' exists in the dictionary.\")  # Output: The key 'age' exists in the dictionary.\n",
    "\n",
    "if 'gender' in my_dict:\n",
    "    print(\"The key 'gender' exists in the dictionary.\")\n",
    "else:\n",
    "    print(\"The key 'gender' does not exist in the dictionary.\")  # Output: The key 'gender' does not exist in the dictionary."
   ]
  },
  {
   "cell_type": "markdown",
   "id": "49caee65",
   "metadata": {},
   "source": [
    "- The Python dictionary has_key() method is used to verify if a dictionary consists of the specified key or not. This function returns True if a given key is available in the dictionary, otherwise it returns False.\n",
    "- The has_key() has been deprecated in Python 3. Therefore, in operator is used to check whether the specified key is present in the dictionary or not."
   ]
  },
  {
   "cell_type": "code",
   "execution_count": 111,
   "id": "b1146f25",
   "metadata": {},
   "outputs": [
    {
     "name": "stdout",
     "output_type": "stream",
     "text": [
      "{'name': 'John', 'age': 30, 'city': 'New York'}\n",
      "{'name': 'John', 'age': 30, 'city': 'New York'}\n"
     ]
    }
   ],
   "source": [
    "my_dict = {'name': 'John', 'age': 30}\n",
    "\n",
    "# Adding a new key-value pair using setdefault()\n",
    "my_dict.setdefault('city', 'New York')\n",
    "print(my_dict)\n",
    "# Output: {'name': 'John', 'age': 30, 'city': 'New York'}\n",
    "\n",
    "# 'city' key already exists, setdefault() does not modify the dictionary\n",
    "my_dict.setdefault('city', 'Los Angeles')\n",
    "print(my_dict)\n",
    "# Output: {'name': 'John', 'age': 30, 'city': 'New York'}"
   ]
  },
  {
   "cell_type": "code",
   "execution_count": 112,
   "id": "ee705aed",
   "metadata": {},
   "outputs": [
    {
     "name": "stdout",
     "output_type": "stream",
     "text": [
      "USA\n",
      "{'name': 'John', 'age': 30, 'country': 'USA'}\n"
     ]
    }
   ],
   "source": [
    "my_dict = {'name': 'John', 'age': 30}\n",
    "\n",
    "# Using setdefault() with default value\n",
    "country = my_dict.setdefault('country', 'USA')\n",
    "print(country)  # Output: USA\n",
    "\n",
    "print(my_dict)\n",
    "# Output: {'name': 'John', 'age': 30, 'country': 'USA'}"
   ]
  },
  {
   "cell_type": "markdown",
   "id": "d884daf5",
   "metadata": {},
   "source": [
    "- `setdefault()` method in Python dictionaries is used to insert a key-value pair into a dictionary if the specified key does not exist. \n",
    "- If the key already exists, it returns the corresponding value without modifying the dictionary. This method is useful when we want to ensure that a key exists in a dictionary and provide a default value if it does not."
   ]
  },
  {
   "cell_type": "markdown",
   "id": "f7098754",
   "metadata": {},
   "source": [
    "## Python Arrays\n",
    "\n",
    "- Array is a container which can hold a fix number of items and these items should be of the same type.\n",
    "For Instance:\n",
    "- `int array [10]`-- 35, 33, 42, 20, 45, 78, 9, 78, 90, 89\n",
    "- Index starts with 0.\n",
    "- Array length is 10 which means it can store 10 elements.\n",
    "- Each element can be accessed via its index. For example, we can fetch an element at index 6 as 9.\n",
    "\n",
    "### Basic Operations\n",
    "- **Traverse** − Print all the array elements one by one.\n",
    "- **Insertion** − Adds an element at the given index.\n",
    "- **Deletion** − Deletes an element at the given index.\n",
    "- **Search** − Searches an element using the given index or by the value.\n",
    "- **Update** − Updates an element at the given index.\n",
    "\n",
    "## Important to Note\n",
    "\n",
    "- Python's standard data types list, tuple and string are sequences. \n",
    "- A sequence object is an ordered collection of items. \n",
    "- Each item is characterized by incrementing index starting with zero. \n",
    "- Moreover, items in a *sequence need not be of same type*. \n",
    "- In other words, a list or tuple may consist of items of different data type.\n",
    "\n",
    "### Syntax\n",
    "- `import array;\n",
    "obj = array.array(typecode[, initializer])`\n",
    "\n",
    "- typecode : typecode character used to create the array.\n",
    "- initializer :array initialized from the optional value, which must be a list, a bytes-like object, or iterable over elements of the appropriate type."
   ]
  },
  {
   "cell_type": "code",
   "execution_count": 113,
   "id": "b36309d4",
   "metadata": {},
   "outputs": [
    {
     "name": "stdout",
     "output_type": "stream",
     "text": [
      "<class 'array.array'> array('i', [1, 2, 3])\n",
      "<class 'array.array'> array('u', 'BAT')\n",
      "<class 'array.array'> array('d', [1.1, 2.2, 3.3])\n"
     ]
    }
   ],
   "source": [
    "import array as arr\n",
    "\n",
    "# creating an array with integer type\n",
    "a = arr.array('i', [1, 2, 3])\n",
    "print (type(a), a)\n",
    "\n",
    "# creating an array with char type\n",
    "a = arr.array('u', 'BAT')\n",
    "print (type(a), a)\n",
    "\n",
    "# creating an array with float type\n",
    "a = arr.array('d', [1.1, 2.2, 3.3])\n",
    "print (type(a), a)"
   ]
  },
  {
   "cell_type": "code",
   "execution_count": 121,
   "id": "b7ac05b8",
   "metadata": {},
   "outputs": [
    {
     "name": "stdout",
     "output_type": "stream",
     "text": [
      "10\n",
      "20\n",
      "30\n",
      "40\n",
      "50\n",
      "['__add__', '__class__', '__contains__', '__copy__', '__deepcopy__', '__delattr__', '__delitem__', '__dir__', '__doc__', '__eq__', '__format__', '__ge__', '__getattribute__', '__getitem__', '__getstate__', '__gt__', '__hash__', '__iadd__', '__imul__', '__init__', '__init_subclass__', '__iter__', '__le__', '__len__', '__lt__', '__module__', '__mul__', '__ne__', '__new__', '__reduce__', '__reduce_ex__', '__repr__', '__rmul__', '__setattr__', '__setitem__', '__sizeof__', '__str__', '__subclasshook__', 'append', 'buffer_info', 'byteswap', 'count', 'extend', 'frombytes', 'fromfile', 'fromlist', 'fromunicode', 'index', 'insert', 'itemsize', 'pop', 'remove', 'reverse', 'tobytes', 'tofile', 'tolist', 'tounicode', 'typecode']\n"
     ]
    }
   ],
   "source": [
    "from array import *\n",
    "\n",
    "array1 = array('i', [10,20,30,40,50])\n",
    "for x in array1:\n",
    "    print(x)\n",
    "    \n",
    "    \n",
    "print(dir(array))"
   ]
  },
  {
   "cell_type": "code",
   "execution_count": 137,
   "id": "5b4eacf8",
   "metadata": {},
   "outputs": [
    {
     "name": "stdout",
     "output_type": "stream",
     "text": [
      "10\n",
      "30\n",
      "array('i', [20, 30, 40, 50])\n",
      "20\n"
     ]
    }
   ],
   "source": [
    "# Access elements\n",
    "\n",
    "from array import *\n",
    "\n",
    "array1 = array('i', [10,20,30,40,50])\n",
    "\n",
    "print (array1[0])\n",
    "print (array1[2])\n",
    "#slicing\n",
    "print (array1[1:])\n",
    "\n",
    "\n",
    "a = array('i', [10,20,30,40,50])\n",
    "a[1] = 20\n",
    "print (a[1])\n",
    "\n",
    "# a[1] = 'A'\n",
    "# print (a[1])"
   ]
  },
  {
   "cell_type": "code",
   "execution_count": 136,
   "id": "39fcd086",
   "metadata": {},
   "outputs": [
    {
     "name": "stdout",
     "output_type": "stream",
     "text": [
      "10\n",
      "60\n",
      "20\n",
      "30\n",
      "40\n",
      "50\n",
      "array('i', [10, 20, 30, 40, 50, 10])\n"
     ]
    }
   ],
   "source": [
    "# Insert element\n",
    "\n",
    "from array import *\n",
    "\n",
    "array1 = array('i', [10,20,30,40,50])\n",
    "array1.insert(1,60)\n",
    "\n",
    "for x in array1:\n",
    "    print(x)\n",
    "\n",
    "a = array('i', [10,20,30,40,50])    \n",
    "a.append(10)\n",
    "print (a)"
   ]
  },
  {
   "cell_type": "code",
   "execution_count": 3,
   "id": "03059e24",
   "metadata": {},
   "outputs": [
    {
     "name": "stdout",
     "output_type": "stream",
     "text": [
      "array('i', [1, 2, 3, 4, 5, 6, 7, 8, 9, 10])\n"
     ]
    }
   ],
   "source": [
    "import array as arr\n",
    "\n",
    "a= arr.array('i',[1,2,3,4,5])\n",
    "b= arr.array('i',[6,7,8,9,10])\n",
    "a.extend(b)\n",
    "\n",
    "print(a)"
   ]
  },
  {
   "cell_type": "code",
   "execution_count": 7,
   "id": "ffde47fd",
   "metadata": {},
   "outputs": [
    {
     "name": "stdout",
     "output_type": "stream",
     "text": [
      "10\n",
      "20\n",
      "30\n",
      "50\n",
      "40\n",
      "Using Pop operation 50\n",
      "10\n",
      "20\n",
      "30\n",
      "40\n"
     ]
    }
   ],
   "source": [
    "# Delete element\n",
    "\n",
    "from array import *\n",
    "\n",
    "array1 = array('i', [10,20,30,40,50,40]) # remove first occurrence of a given value from the array\n",
    "array1.remove(40)\n",
    "\n",
    "for x in array1:\n",
    "    print(x)\n",
    "    \n",
    "\n",
    "c= array1.pop(3)\n",
    "print('Using Pop operation', c)\n",
    "\n",
    "for x in array1:\n",
    "    print(x)"
   ]
  },
  {
   "cell_type": "code",
   "execution_count": 129,
   "id": "f5e32707",
   "metadata": {},
   "outputs": [
    {
     "name": "stdout",
     "output_type": "stream",
     "text": [
      "10\n",
      "20\n",
      "80\n",
      "40\n",
      "50\n"
     ]
    }
   ],
   "source": [
    "# Update element \n",
    "\n",
    "from array import *\n",
    "\n",
    "array1 = array('i', [10,20,30,40,50])\n",
    "array1[2] = 80\n",
    "\n",
    "for x in array1:\n",
    "    print(x)"
   ]
  },
  {
   "cell_type": "code",
   "execution_count": 2,
   "id": "8fe34fc2",
   "metadata": {},
   "outputs": [
    {
     "name": "stdout",
     "output_type": "stream",
     "text": [
      "2\n"
     ]
    }
   ],
   "source": [
    "# Search elements\n",
    "\n",
    "from array import *\n",
    "\n",
    "array1=array('i',[10,20,30,40,50])\n",
    "\n",
    "print(array1.index(30)) # return index value\n"
   ]
  },
  {
   "cell_type": "code",
   "execution_count": 6,
   "id": "dc963f98",
   "metadata": {},
   "outputs": [
    {
     "name": "stdout",
     "output_type": "stream",
     "text": [
      "1.0\n",
      "2.0\n",
      "3.0\n",
      "----------------------\n",
      "1.0\n",
      "2.0\n",
      "3.0\n",
      "----------------------\n",
      "1.0\n",
      "2.0\n",
      "3.0\n"
     ]
    }
   ],
   "source": [
    "# 'For' Loop with array\n",
    "\n",
    "import array as arr\n",
    "\n",
    "a=arr.array('d',[1,2,3])\n",
    "\n",
    "for x in a:\n",
    "    print(x)\n",
    "\n",
    "print('----------------------')\n",
    "    \n",
    "l=len(a)\n",
    "for x in range(l):\n",
    "    print(a[x])\n",
    "\n",
    "print('----------------------')\n",
    "    \n",
    "i=0\n",
    "while i<l:\n",
    "    print(a[i])\n",
    "    i+=1"
   ]
  },
  {
   "cell_type": "code",
   "execution_count": 18,
   "id": "3ae11dd0",
   "metadata": {},
   "outputs": [
    {
     "name": "stdout",
     "output_type": "stream",
     "text": [
      "1\n",
      "2\n",
      "3\n",
      "4\n",
      "5\n",
      "1889770536800\n",
      "1889770536800\n"
     ]
    }
   ],
   "source": [
    "# array copy\n",
    "\n",
    "import array as arr\n",
    "\n",
    "a=arr.array('i',[1,2,3,4,5])\n",
    "b=a\n",
    "\n",
    "for i in range(len(b)):\n",
    "    print(b[i])\n",
    "    \n",
    "print(id(a))\n",
    "print(id(b))"
   ]
  },
  {
   "cell_type": "code",
   "execution_count": 14,
   "id": "01c04efc",
   "metadata": {},
   "outputs": [
    {
     "name": "stdout",
     "output_type": "stream",
     "text": [
      "1\n",
      "2\n",
      "3\n",
      "4\n",
      "5\n",
      "1889770361920\n",
      "1889770360480\n",
      "array('i', [1, 2, 30, 4, 5]) array('i', [1, 2, 3, 4, 5])\n"
     ]
    }
   ],
   "source": [
    "import array,copy\n",
    "\n",
    "a=arr.array('i',[1,2,3,4,5])\n",
    "\n",
    "b=copy.deepcopy(a)\n",
    "\n",
    "for i in range(len(b)):\n",
    "    print(b[i])\n",
    "    \n",
    "print(id(a))\n",
    "print(id(b))\n",
    "\n",
    "a[2]=30\n",
    "\n",
    "print(a,b)"
   ]
  },
  {
   "cell_type": "markdown",
   "id": "f313c269",
   "metadata": {},
   "source": [
    "This proves that a new object \"b\" is created which is an actual copy of \"a\". If we change an element in \"a\", it is not reflected in \"b\""
   ]
  },
  {
   "cell_type": "code",
   "execution_count": 20,
   "id": "9accf84c",
   "metadata": {},
   "outputs": [
    {
     "name": "stdout",
     "output_type": "stream",
     "text": [
      "array('i', [10, 4, 5, 6, 7, 8, 20]) array('i', [20, 8, 7, 6, 5, 4, 10])\n"
     ]
    }
   ],
   "source": [
    "# Reverse Array - rearrange the given array in the reverse order of the index\n",
    "\n",
    "import array as arr\n",
    "\n",
    "a=arr.array('i', [10,4,5,6,7,8,20])\n",
    "b=arr.array('i')\n",
    "\n",
    "for i in range(len(a)-1,-1,-1):\n",
    "    b.append(a[i])\n",
    "    \n",
    "print(a,b)"
   ]
  },
  {
   "cell_type": "code",
   "execution_count": 43,
   "id": "39127f7d",
   "metadata": {},
   "outputs": [
    {
     "name": "stdout",
     "output_type": "stream",
     "text": [
      "array('i', [78, 34, 56, 67, 5, 6, 7, 3, 4])\n"
     ]
    }
   ],
   "source": [
    "# array from list\n",
    "\n",
    "import array as arr\n",
    "\n",
    "a=arr.array('i',[78,34,56,67])\n",
    "\n",
    "lst=[5,6,7,3,4]\n",
    "c=a.fromlist(lst)\n",
    "print(a)"
   ]
  },
  {
   "cell_type": "code",
   "execution_count": 23,
   "id": "dea17c7a",
   "metadata": {},
   "outputs": [
    {
     "name": "stdout",
     "output_type": "stream",
     "text": [
      "array('i', [70, 6, 5, 4, 20, 10])\n"
     ]
    }
   ],
   "source": [
    "import array as arr\n",
    "\n",
    "a= arr.array('i',[10,20,4,5,6,70])\n",
    "\n",
    "b=a.tolist() # file transfer array to list\n",
    "b.reverse()\n",
    "\n",
    "a=arr.array('i')\n",
    "\n",
    "a.fromlist(b) # convert list back to array\n",
    "\n",
    "print(a)"
   ]
  },
  {
   "cell_type": "code",
   "execution_count": 26,
   "id": "a0d1db3b",
   "metadata": {},
   "outputs": [
    {
     "name": "stdout",
     "output_type": "stream",
     "text": [
      "array('i', [7, 6, 5, 4, 3, 2])\n"
     ]
    }
   ],
   "source": [
    "# Sorting\n",
    "\n",
    "import array as arr\n",
    "\n",
    "a=arr.array('i',[2,3,4,5,6,7])\n",
    "\n",
    "for i in range(0, len(a)):\n",
    "    for j in range(i+1, len(a)):\n",
    "        if(a[i]<a[j]):\n",
    "            temp = a[i]\n",
    "            a[i]=a[j]\n",
    "            a[j]=temp\n",
    "print(a)\n",
    "    "
   ]
  },
  {
   "cell_type": "code",
   "execution_count": 29,
   "id": "f2d4eb4f",
   "metadata": {},
   "outputs": [
    {
     "name": "stdout",
     "output_type": "stream",
     "text": [
      "array('i', [3, 5, 6, 7, 8, 45])\n"
     ]
    }
   ],
   "source": [
    "# Using sort method\n",
    "\n",
    "import array as arr\n",
    "\n",
    "a=arr.array('i',[45,3,5,6,7,8])\n",
    "b=a.tolist()\n",
    "b.sort()\n",
    "\n",
    "a=arr.array('i')\n",
    "a.fromlist(b)\n",
    "print(a)"
   ]
  },
  {
   "cell_type": "code",
   "execution_count": 35,
   "id": "d9f4bd0f",
   "metadata": {},
   "outputs": [
    {
     "name": "stdout",
     "output_type": "stream",
     "text": [
      "array('i', [4, 5, 6, 3, 6, 4])\n"
     ]
    }
   ],
   "source": [
    "# Using sorted method\n",
    "\n",
    "import array as arr\n",
    "\n",
    "a=arr.array('i', [4,5,6,3,6,4])\n",
    "sorted(a)\n",
    "print(a)"
   ]
  },
  {
   "cell_type": "code",
   "execution_count": 36,
   "id": "d326439a",
   "metadata": {},
   "outputs": [
    {
     "name": "stdout",
     "output_type": "stream",
     "text": [
      "array('i', [12, 34, 56, 78, 90, 34, 67, 89, 20, 56]) array('i', [34, 67, 89, 20, 56])\n"
     ]
    }
   ],
   "source": [
    "# join arrays\n",
    "\n",
    "import array as arr\n",
    "\n",
    "a=arr.array('i', [12,34,56,78,90])\n",
    "b=arr.array('i', [34,67,89,20,56])\n",
    "\n",
    "for i in range(len(b)):\n",
    "    a.append(b[i])\n",
    "    \n",
    "print(a,b)"
   ]
  },
  {
   "cell_type": "code",
   "execution_count": 37,
   "id": "13c96f33",
   "metadata": {},
   "outputs": [
    {
     "name": "stdout",
     "output_type": "stream",
     "text": [
      "array('i', [12, 34, 56, 78, 90, 34, 67, 89, 20, 56])\n"
     ]
    }
   ],
   "source": [
    "\n",
    "import array as arr\n",
    "\n",
    "a=arr.array('i', [12,34,56,78,90])\n",
    "b=arr.array('i', [34,67,89,20,56])\n",
    "\n",
    "a.extend(b)\n",
    "    \n",
    "print(a)"
   ]
  },
  {
   "cell_type": "code",
   "execution_count": 38,
   "id": "4d6be262",
   "metadata": {},
   "outputs": [
    {
     "name": "stdout",
     "output_type": "stream",
     "text": [
      "array('i', [5, 4, 3, 2, 1])\n"
     ]
    }
   ],
   "source": [
    "# Reverse array\n",
    "\n",
    "import array as arr\n",
    "\n",
    "a=arr.array('i',[1,2,3,4,5])\n",
    "a.reverse()\n",
    "print(a)"
   ]
  },
  {
   "cell_type": "code",
   "execution_count": 41,
   "id": "7773e657",
   "metadata": {},
   "outputs": [
    {
     "name": "stdout",
     "output_type": "stream",
     "text": [
      "2\n",
      "2\n"
     ]
    }
   ],
   "source": [
    "# Count\n",
    "\n",
    "# Reverse array\n",
    "\n",
    "import array as arr\n",
    "\n",
    "a=arr.array('i',[1,2,3,4,5,1])\n",
    "c=a.count(1)\n",
    "d=a.index(3)\n",
    "print(c)\n",
    "print(d)"
   ]
  }
 ],
 "metadata": {
  "kernelspec": {
   "display_name": "Python 3 (ipykernel)",
   "language": "python",
   "name": "python3"
  },
  "language_info": {
   "codemirror_mode": {
    "name": "ipython",
    "version": 3
   },
   "file_extension": ".py",
   "mimetype": "text/x-python",
   "name": "python",
   "nbconvert_exporter": "python",
   "pygments_lexer": "ipython3",
   "version": "3.11.7"
  }
 },
 "nbformat": 4,
 "nbformat_minor": 5
}
