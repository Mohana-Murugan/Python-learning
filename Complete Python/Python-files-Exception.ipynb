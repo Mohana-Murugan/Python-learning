{
 "cells": [
  {
   "cell_type": "markdown",
   "id": "06e6d586",
   "metadata": {},
   "source": [
    "## Python Files\n",
    "\n",
    "- Python files are typically used to store Python code and are saved with a `.py` extension.\n",
    "\n",
    "- **Script Files:** These are the most common type of Python files. They contain Python code that can be executed directly. We run them using the Python interpreter or an integrated development environment (IDE) like PyCharm or VS Code.\n",
    "- **Module Files:** These are Python files containing `reusable code`, such as functions, classes, or variables. They are meant to be imported into other Python files using the import statement.\n",
    "- **Package Files:** Packages in Python are directories containing Python module files and an __init__.py file. The __init__.py file can be empty or contain initialization code for the package. Packages allow us to organize and distribute our Python code more effectively.\n",
    "- **Configuration Files:** These are files used to store configuration settings for our Python applications. Common formats for configuration files include `JSON`, `YAML`, and `INI`. Python provides modules like `json`, `yaml`, and configparser for reading and writing configuration files.\n",
    "- **Test Files:** In Python, test files are often named with a prefix like test_ or test followed by the module or script name they are testing. They contain test cases written using testing frameworks like `unittest` or `pytest` to ensure the correctness of our code.\n",
    "- **Documentation Files:** These files, such as `README.md` or docstrings within Python files, provide documentation for your code. They explain how to use our code, its purpose, dependencies, and other relevant information for developers or users.\n",
    "- **Data Files:** Python files can also be used to store data in various formats such as `CSV`, `JSON`, `XML`, or `text files`. We can read and write data to these files using Python's built-in file handling capabilities or third-party libraries like pandas for CSV files or json for JSON files."
   ]
  },
  {
   "cell_type": "markdown",
   "id": "94926ced",
   "metadata": {},
   "source": [
    "### Python - File Handling\n",
    "\n",
    "- Python uses built-in input() and print() functions to perform standard input/output operations.\n",
    "- `file object = open(file_name [, access_mode][, buffering])`\n",
    "- Where, \n",
    "    - *file_name* − The file_name argument is a string value that contains the name of the file that we want to access.\n",
    "    - *access_mode* − The access_mode determines the mode in which the file has to be opened, i.e., read, write, append, etc. \n",
    "    - *buffering* − If the buffering value is set to 0, no buffering takes place. If the buffering value is 1, line buffering is performed while accessing a file. If you specify the buffering value as an integer greater than 1, then buffering action is performed with the indicated buffer size. If negative, the buffer size is the system default (default behavior).\n",
    "    \n",
    "#### File Handling Modes\n",
    "- `r` - Opens a file for reading only. The file pointer is placed at the beginning of the file. This is the default mode.\n",
    "- `rb` - Opens a file for reading only in binary format. The file pointer is placed at the beginning of the file. This is the default mode.\n",
    "- `r+` - Opens a file for both reading and writing. The file pointer placed at the beginning of the file.\n",
    "- `rb+` - Opens a file for both reading and writing in binary format. The file pointer placed at the beginning of the file.\n",
    "- `w` - Opens a file for writing only. Overwrites the file if the file exists. If the file does not exist, creates a new file for writing.\n",
    "- `b` - Opens the file in binary mode\n",
    "- `t` - Opens the file in text mode (default)\n",
    "- `+` - Open file for updating (reading and writing)\n",
    "- `wb` - Opens a file for writing only in binary format. Overwrites the file if the file exists. If the file does not exist, creates a new file for writing.\n",
    "- `w+` - Opens a file for both writing and reading. Overwrites the existing file if the file exists. If the file does not exist, creates a new file for reading and writing.\n",
    "- `a` - Opens a file for appending. The file pointer is at the end of the file if the file exists. That is, the file is in the append mode. If the file does not exist, it creates a new file for writing.\n",
    "- `ab` - Opens a file for appending in binary format. The file pointer is at the end of the file if the file exists. That is, the file is in the append mode. If the file does not exist, it creates a new file for writing.\n",
    "- `a+` - Opens a file for both appending and reading. The file pointer is at the end of the file if the file exists. The file opens in the append mode. If the file does not exist, it creates a new file for reading and writing.\n",
    "- `ab+` - Opens a file for both appending and reading in binary format. The file pointer is at the end of the file if the file exists. The file opens in the append mode. If the file does not exist, it creates a new file for reading and writing.\n",
    "- `x` - Open for exclusive creation, failing if the file already exists"
   ]
  },
  {
   "cell_type": "code",
   "execution_count": null,
   "id": "6292a0b3",
   "metadata": {},
   "outputs": [],
   "source": [
    "# Open a file\n",
    "fo = open(\"foo.txt\", \"wb\")\n",
    "\n",
    "print (\"Name of the file: \", fo.name)\n",
    "\n",
    "print (\"Closed or not: \", fo.closed)\n",
    "\n",
    "print (\"Opening mode: \", fo.mode)\n",
    "\n",
    "fo.close()"
   ]
  },
  {
   "cell_type": "code",
   "execution_count": null,
   "id": "a8d2321f",
   "metadata": {},
   "outputs": [],
   "source": [
    "# write into file\n",
    "\n",
    "# Open a file\n",
    "fo = open(\"foo.txt\", \"w\")\n",
    "\n",
    "fo.write( \"Python is a great language.\\nYeah its great!!\\n\")\n",
    "\n",
    "# Close opened file\n",
    "fo.close()\n",
    "\n",
    "# The write() method does not add a newline character ('\\n') to the end of the string."
   ]
  },
  {
   "cell_type": "code",
   "execution_count": null,
   "id": "9a8685cf",
   "metadata": {},
   "outputs": [],
   "source": [
    "# Open a file\n",
    "fo = open(\"foo.txt\", \"r\")\n",
    "\n",
    "text = fo.read()\n",
    "\n",
    "print (text)\n",
    "\n",
    "# Close the opened file\n",
    "fo.close()"
   ]
  },
  {
   "cell_type": "code",
   "execution_count": null,
   "id": "9d61cd39",
   "metadata": {},
   "outputs": [],
   "source": [
    "# binary data\n",
    "\n",
    "f=open('test.bin', 'wb')\n",
    "\n",
    "data=b\"Hello World\"\n",
    "\n",
    "f.write(data)\n",
    "\n",
    "f.close()"
   ]
  },
  {
   "cell_type": "code",
   "execution_count": null,
   "id": "5f164cae",
   "metadata": {},
   "outputs": [],
   "source": [
    "f=open('test.bin', 'rb')\n",
    "\n",
    "data=f.read()\n",
    "\n",
    "print (data.decode(encoding='utf-8'))"
   ]
  },
  {
   "cell_type": "markdown",
   "id": "6a73a21e",
   "metadata": {},
   "source": [
    "By default, read/write operation on a file object are performed on text string data. If we want to handle files of different other types such as media (mp3), executables (exe), pictures (jpg) etc., we need to add 'b' prefix to read/write mode."
   ]
  },
  {
   "cell_type": "code",
   "execution_count": null,
   "id": "35704761",
   "metadata": {},
   "outputs": [],
   "source": [
    "# Writing to an Existing File\n",
    "\n",
    "# Open a file in append mode\n",
    "fo = open(\"foo.txt\", \"a\")\n",
    "\n",
    "text = \"TutorialsPoint has a fabulous Python tutorial\"\n",
    "\n",
    "fo.write(text)\n",
    "\n",
    "# Close opened file\n",
    "fo.close()"
   ]
  },
  {
   "cell_type": "markdown",
   "id": "a1b65d81",
   "metadata": {},
   "source": [
    "### Writing to a File in Reading and Writing Modes\n",
    "\n",
    "- When a file is opened for writing (with 'w' or 'a'), it is not possible to perform write operation at any earlier byte position in the file. \n",
    "- The 'w+' mode enables using write() as well as read() methods without closing a file. \n",
    "- The File object supports seek() unction to rewind the stream to any desired byte position.\n",
    "- `fileObject.seek(offset[, whence])`\n",
    "- Where,\n",
    "    - offset − This is the position of the read/write pointer within the file. The number of bytes to move. A positive value moves the position forward, while a negative value moves backward.\n",
    "    - whence (optional): Specifies the reference point for the offset. It can take one of three values:\n",
    "        - 0 (default): The offset is from the beginning of the file.\n",
    "        - 1: The offset is relative to the current position.\n",
    "        - 2: The offset is from the end of the file."
   ]
  },
  {
   "cell_type": "code",
   "execution_count": null,
   "id": "b47beb21",
   "metadata": {},
   "outputs": [],
   "source": [
    "# Read and write in a file \n",
    "\n",
    "# Open a file in read-write mode\n",
    "fo=open(\"foo.txt\",\"w+\")\n",
    "fo.write(\"This is a rat race\")\n",
    "\n",
    "fo.seek(10,0)\n",
    "\n",
    "data=fo.read(3) # it will read rat\n",
    "\n",
    "print (data)\n",
    "\n",
    "fo.seek(10,0) # Cursor will be at rat and overwite rat as cat\n",
    "\n",
    "fo.write('cat')\n",
    "\n",
    "data=fo.read()\n",
    "\n",
    "print (data)\n",
    "\n",
    "fo.close()"
   ]
  },
  {
   "cell_type": "markdown",
   "id": "1a21f133",
   "metadata": {},
   "source": [
    "### Rename a file "
   ]
  },
  {
   "cell_type": "code",
   "execution_count": null,
   "id": "2df4239a",
   "metadata": {},
   "outputs": [],
   "source": [
    "import os\n",
    "\n",
    "# Rename a file from test1.txt to test2.txt\n",
    "\n",
    "os.rename(\"foo.txt\", \"test2.txt\" )   # os.rename(current_file_name, new_file_name)"
   ]
  },
  {
   "cell_type": "markdown",
   "id": "ac393e57",
   "metadata": {},
   "source": [
    "### Remove file "
   ]
  },
  {
   "cell_type": "code",
   "execution_count": null,
   "id": "8f8c6587",
   "metadata": {},
   "outputs": [],
   "source": [
    "import os\n",
    "\n",
    "# Delete file test2.txt\n",
    "\n",
    "os.remove(\"test2.txt\")  # os.remove(file_name)"
   ]
  },
  {
   "cell_type": "markdown",
   "id": "ff5ec2f5",
   "metadata": {},
   "source": [
    "### With statement\n",
    "- The with statement is useful in the case of manipulating the files. \n",
    "- It is used in the scenario where a pair of statements is to be executed with a block of code in between.\n",
    "- `with open(<file name>, <access mode>) as <file-pointer>:`"
   ]
  },
  {
   "cell_type": "code",
   "execution_count": 3,
   "id": "51cd162b",
   "metadata": {},
   "outputs": [
    {
     "name": "stdout",
     "output_type": "stream",
     "text": [
      "This is a cat race\n"
     ]
    }
   ],
   "source": [
    "with open(\"new_file.txt\",'r') as f:   \n",
    "    \n",
    "    content = f.read()\n",
    "    \n",
    "    print(content)    "
   ]
  },
  {
   "cell_type": "code",
   "execution_count": 8,
   "id": "4689b9f6",
   "metadata": {},
   "outputs": [],
   "source": [
    "with open (\"new_file.txt\", 'w') as f:\n",
    "    \n",
    "    a=f.write('Hi, Welcome to python Learning')"
   ]
  },
  {
   "cell_type": "code",
   "execution_count": 9,
   "id": "9bf33871",
   "metadata": {},
   "outputs": [
    {
     "name": "stdout",
     "output_type": "stream",
     "text": [
      "Hi, Welcome to python Learning\n"
     ]
    }
   ],
   "source": [
    "with open (\"new_file.txt\", 'r') as f:\n",
    "    \n",
    "    content = f.readline()\n",
    "    \n",
    "    print(content)"
   ]
  },
  {
   "cell_type": "code",
   "execution_count": 12,
   "id": "302569b8",
   "metadata": {},
   "outputs": [],
   "source": [
    "try:  \n",
    "    with open('file1.txt', 'w') as f:  \n",
    "        f.write('Here we create a new file')  \n",
    "except FileNotFoundError:  \n",
    "    print(\"The file is does not exist\") "
   ]
  },
  {
   "cell_type": "code",
   "execution_count": null,
   "id": "93893f62",
   "metadata": {},
   "outputs": [],
   "source": [
    "#"
   ]
  },
  {
   "cell_type": "markdown",
   "id": "42a05523",
   "metadata": {},
   "source": [
    "## Python Directories"
   ]
  },
  {
   "cell_type": "code",
   "execution_count": null,
   "id": "a1edd7fa",
   "metadata": {},
   "outputs": [],
   "source": [
    "import os\n",
    "\n",
    "os.mkdir(\"learning\")"
   ]
  },
  {
   "cell_type": "code",
   "execution_count": null,
   "id": "62e31b78",
   "metadata": {},
   "outputs": [],
   "source": [
    "import os\n",
    "\n",
    "print(os.getcwd()) # returns the current directory in the form of a string"
   ]
  },
  {
   "cell_type": "markdown",
   "id": "7d278a3e",
   "metadata": {},
   "source": [
    "###  Common file methods in Python along with brief descriptions\n",
    "\n",
    "- **open():** Used to open a file and return a file object. `file = open('filename.txt', 'r')`\n",
    "- **close():** Closes the file. It's good practice to close files when done with them to free up system resources. `file.close()`\n",
    "- **read(size):** Reads and returns the specified number of bytes from the file. If no size is given, it reads the entire file. `content = file.read(100)`\n",
    "- **readline(size):** Reads and returns the next line from the file. If size is specified, it reads at most size characters. `line = file.readline()`\n",
    "- **readlines():** Reads all lines from the file and returns them as a list of strings. `lines = file.readlines()'\n",
    "- **write(string):** Writes the specified string to the file. `file.write(\"Hello, world!\")`\n",
    "- **seek(offset, whence):** Moves the file pointer to a specified position within the file. `file.seek(0)`\n",
    "- **tell():** Returns the current file position. `position = file.tell() `\n",
    "- **flush():** Flushes the internal buffer, ensuring that all data is written to the file. `file.flush()`\n",
    "- **truncate(size):** Truncates the file to the specified size. If size is not specified, truncates the file at the current position. `Ex: file.truncate(100)`"
   ]
  },
  {
   "cell_type": "code",
   "execution_count": null,
   "id": "c3810c5f",
   "metadata": {},
   "outputs": [],
   "source": [
    "file = open('example.txt', 'w')\n",
    "\n",
    "file.write(\"Python is wonderful language \\n\")\n",
    "\n",
    "file.write(\"Python is wonderful language \\n\")\n",
    "\n",
    "file.write(\"Python is wonderful language \\n\")\n",
    "\n",
    "file.close()"
   ]
  },
  {
   "cell_type": "code",
   "execution_count": null,
   "id": "b3e5d539",
   "metadata": {},
   "outputs": [],
   "source": [
    "lines = [\"Python 1\\n\", \"C programming 2\\n\", \"JAVA 3\\n\"]\n",
    "\n",
    "# Open a file in write mode ('w')\n",
    "with open('example.txt', 'w') as file:\n",
    "    # Write the list of strings to the file\n",
    "    file.writelines(lines)\n",
    "\n",
    "print(\"Content written to file.\")"
   ]
  },
  {
   "cell_type": "code",
   "execution_count": null,
   "id": "ee6161e2",
   "metadata": {},
   "outputs": [],
   "source": [
    "file = open('example.txt', 'r')\n",
    "\n",
    "content = file.read(100)  # Reads the first 100 characters\n",
    "\n",
    "file.close()\n",
    "\n",
    "print(content)"
   ]
  },
  {
   "cell_type": "code",
   "execution_count": null,
   "id": "acaea28e",
   "metadata": {},
   "outputs": [],
   "source": [
    "file = open('example.txt', 'r')\n",
    "\n",
    "line = file.readline()  # Reads the first line\n",
    "\n",
    "file.close()\n",
    "print(line)"
   ]
  },
  {
   "cell_type": "code",
   "execution_count": null,
   "id": "8afd22b0",
   "metadata": {},
   "outputs": [],
   "source": [
    "file = open('example.txt', 'r')\n",
    "\n",
    "lines = file.readlines()  # Reads all lines into a list\n",
    "\n",
    "file.close()\n",
    "\n",
    "print(lines)"
   ]
  },
  {
   "cell_type": "code",
   "execution_count": null,
   "id": "a6285fc7",
   "metadata": {},
   "outputs": [],
   "source": [
    "file = open('example.txt', 'r')\n",
    "\n",
    "file.seek(0)  # Moves to the beginning of the file\n",
    "\n",
    "content = file.read(10)\n",
    "\n",
    "print(content)\n",
    "\n",
    "position = file.tell()  # Returns the current position\n",
    "\n",
    "print(position)\n",
    "\n",
    "file.close()"
   ]
  },
  {
   "cell_type": "code",
   "execution_count": null,
   "id": "975c5a17",
   "metadata": {},
   "outputs": [],
   "source": [
    "file = open('example.txt', 'w')\n",
    "\n",
    "file.write(\"Hello, world!\")\n",
    "\n",
    "file.flush()  # Flushes the buffer\n",
    "\n",
    "file.close()"
   ]
  },
  {
   "cell_type": "code",
   "execution_count": null,
   "id": "24aab2f1",
   "metadata": {},
   "outputs": [],
   "source": [
    "file = open('example.txt', 'r+')\n",
    "\n",
    "file.truncate(10)  # Truncates the file to 10 bytes\n",
    "\n",
    "content = file.read()\n",
    "\n",
    "print(content)\n",
    "\n",
    "file.close()"
   ]
  },
  {
   "cell_type": "markdown",
   "id": "44fda977",
   "metadata": {},
   "source": [
    "### Python OS File/Directory Methods\n",
    "\n",
    "- Python's os module provides various methods for interacting with files and directories at the operating system level.\n",
    "\n",
    "### File Methods\n",
    "- `os.rename(src, dst)`: Renames the file or directory from src to dst.\n",
    "- `os.remove(path)`: Deletes the file specified by path.\n",
    "- `os.path.exists(path)`: Checks if the file or directory exists at the specified path.\n",
    "- `os.path.isfile(path)`: Checks if the given path is a file. Returns True or False.\n",
    "- `os.path.isdir(path)`: Checks if the given path is a directory. Returns True or False.\n",
    "### Directory Methods\n",
    "- `os.mkdir(path)`: Creates a new directory at the specified path\n",
    "- `os.rmdir(path)`: Removes the directory specified by path.\n",
    "- `os.listdir(path)`: Returns a list of files and directories in the specified path\n",
    "- `os.chdir(path)`: Changes the current working directory to the specified path"
   ]
  },
  {
   "cell_type": "code",
   "execution_count": null,
   "id": "8844289b",
   "metadata": {},
   "outputs": [],
   "source": [
    "import os\n",
    "\n",
    "os.rename('foo.txt', 'new_file.txt')"
   ]
  },
  {
   "cell_type": "code",
   "execution_count": null,
   "id": "9aeacf68",
   "metadata": {},
   "outputs": [],
   "source": [
    "import os\n",
    "\n",
    "os.remove('test.bin')"
   ]
  },
  {
   "cell_type": "code",
   "execution_count": null,
   "id": "0d9d2dd9",
   "metadata": {},
   "outputs": [],
   "source": [
    "import os\n",
    "\n",
    "if os.path.exists('new_file.txt'):\n",
    "    print(\"File exists.\")\n",
    "else:\n",
    "    print(\"File does not exist.\")"
   ]
  },
  {
   "cell_type": "code",
   "execution_count": null,
   "id": "149bbbd7",
   "metadata": {},
   "outputs": [],
   "source": [
    "import os\n",
    "\n",
    "if os.path.isfile('new_file.txt'):\n",
    "    \n",
    "    print(\"It is a file.\")\n",
    "else:\n",
    "    print(\"It is not a file.\")"
   ]
  },
  {
   "cell_type": "code",
   "execution_count": 22,
   "id": "34997b7f",
   "metadata": {},
   "outputs": [
    {
     "name": "stdout",
     "output_type": "stream",
     "text": [
      "C:\\Users\\mohana\\Python_Tutorial\\Complete Python\n"
     ]
    }
   ],
   "source": [
    "import os\n",
    "\n",
    "print(os.getcwd())"
   ]
  },
  {
   "cell_type": "code",
   "execution_count": null,
   "id": "cf67037b",
   "metadata": {},
   "outputs": [],
   "source": [
    "import os\n",
    "\n",
    "if os.path.isdir('new_directory'):\n",
    "    print(\"It is a directory.\")\n",
    "else:\n",
    "    print(\"It is not a directory.\")"
   ]
  },
  {
   "cell_type": "code",
   "execution_count": 26,
   "id": "9e9a2d15",
   "metadata": {},
   "outputs": [],
   "source": [
    "import os\n",
    "\n",
    "os.mkdir('new_directory')"
   ]
  },
  {
   "cell_type": "code",
   "execution_count": 18,
   "id": "736421e4",
   "metadata": {},
   "outputs": [],
   "source": [
    "import os\n",
    "os.rmdir('new_directory')"
   ]
  },
  {
   "cell_type": "code",
   "execution_count": 29,
   "id": "ea52639c",
   "metadata": {},
   "outputs": [
    {
     "name": "stdout",
     "output_type": "stream",
     "text": [
      "['sample-1', 'sample-2']\n"
     ]
    }
   ],
   "source": [
    "import os\n",
    "contents = os.listdir('new_directory')\n",
    "print(contents)"
   ]
  },
  {
   "cell_type": "code",
   "execution_count": 32,
   "id": "aff3994a",
   "metadata": {},
   "outputs": [],
   "source": [
    "import os\n",
    "os.chdir('new_directory')"
   ]
  },
  {
   "cell_type": "code",
   "execution_count": 33,
   "id": "4735d034",
   "metadata": {},
   "outputs": [
    {
     "name": "stdout",
     "output_type": "stream",
     "text": [
      "C:\\Users\\mohana\\Python_Tutorial\\Complete Python\\new_directory\n"
     ]
    }
   ],
   "source": [
    "import os\n",
    "\n",
    "print(os.getcwd())"
   ]
  },
  {
   "cell_type": "code",
   "execution_count": 37,
   "id": "3bd8013f",
   "metadata": {},
   "outputs": [
    {
     "ename": "FileNotFoundError",
     "evalue": "[WinError 2] The system cannot find the file specified: 'sample-1'",
     "output_type": "error",
     "traceback": [
      "\u001b[1;31m---------------------------------------------------------------------------\u001b[0m",
      "\u001b[1;31mFileNotFoundError\u001b[0m                         Traceback (most recent call last)",
      "Cell \u001b[1;32mIn[37], line 2\u001b[0m\n\u001b[0;32m      1\u001b[0m \u001b[38;5;28;01mimport\u001b[39;00m \u001b[38;5;21;01mos\u001b[39;00m\n\u001b[1;32m----> 2\u001b[0m os\u001b[38;5;241m.\u001b[39mchdir(\u001b[38;5;124m'\u001b[39m\u001b[38;5;124msample-1\u001b[39m\u001b[38;5;124m'\u001b[39m)\n\u001b[0;32m      4\u001b[0m \u001b[38;5;28mprint\u001b[39m(os\u001b[38;5;241m.\u001b[39mgetcwd())\n",
      "\u001b[1;31mFileNotFoundError\u001b[0m: [WinError 2] The system cannot find the file specified: 'sample-1'"
     ]
    }
   ],
   "source": [
    "import os\n",
    "os.chdir('sample-1')\n",
    "\n",
    "print(os.getcwd())"
   ]
  },
  {
   "cell_type": "code",
   "execution_count": 38,
   "id": "edee9977",
   "metadata": {},
   "outputs": [
    {
     "name": "stdout",
     "output_type": "stream",
     "text": [
      "C:\\Users\\mohana\\Python_Tutorial\\Complete Python\\new_directory\\sample-1\n"
     ]
    }
   ],
   "source": [
    "import os\n",
    "\n",
    "print(os.getcwd())"
   ]
  },
  {
   "cell_type": "code",
   "execution_count": 40,
   "id": "ee228fa4",
   "metadata": {},
   "outputs": [],
   "source": [
    "import os\n",
    "\n",
    "# Define the full path to the current directory\n",
    "current_dir_path = r'C:\\Users\\mohana\\Python_Tutorial\\Complete Python\\new_directory\\sample-1'\n",
    "\n",
    "# Change the current working directory to the parent directory\n",
    "os.chdir(os.path.dirname(current_dir_path))"
   ]
  },
  {
   "cell_type": "code",
   "execution_count": 41,
   "id": "9e7d3bda",
   "metadata": {},
   "outputs": [
    {
     "name": "stdout",
     "output_type": "stream",
     "text": [
      "C:\\Users\\mohana\\Python_Tutorial\\Complete Python\\new_directory\n"
     ]
    }
   ],
   "source": [
    "import os\n",
    "\n",
    "print(os.getcwd())"
   ]
  },
  {
   "cell_type": "markdown",
   "id": "6f8a1247",
   "metadata": {},
   "source": [
    "## Errors and Exception handling\n",
    "\n",
    "- Generally, three types of errors appear in a computer program: Syntax errors, logical errors and runtime errors.\n",
    "- Exception handling in Python allows us to gracefully handle errors and exceptions that may occur during program execution.\n",
    "- It helps prevent our program from crashing and allows us to respond to unexpected situations. \n",
    "- Here's an overview of Python's exception handling mechanism using `try`, `except`, `else`, and `finally` blocks\n",
    "\n",
    "- The `try...except` block is used to handle exceptions in Python. "
   ]
  },
  {
   "cell_type": "code",
   "execution_count": 56,
   "id": "a8b8fd8e",
   "metadata": {},
   "outputs": [
    {
     "ename": "SyntaxError",
     "evalue": "unterminated string literal (detected at line 1) (3666153484.py, line 1)",
     "output_type": "error",
     "traceback": [
      "\u001b[1;36m  Cell \u001b[1;32mIn[56], line 1\u001b[1;36m\u001b[0m\n\u001b[1;33m    name=\"Python\u001b[0m\n\u001b[1;37m         ^\u001b[0m\n\u001b[1;31mSyntaxError\u001b[0m\u001b[1;31m:\u001b[0m unterminated string literal (detected at line 1)\n"
     ]
    }
   ],
   "source": [
    "name=\"Python\n",
    "\n",
    "print(name)"
   ]
  },
  {
   "cell_type": "markdown",
   "id": "fb0d8dc2",
   "metadata": {},
   "source": [
    "- Python interpreter displays syntax error along with a certain explanatory message. \n",
    "- In the above example, because the quotation symbol is not closed, the Syntax error occurs."
   ]
  },
  {
   "cell_type": "code",
   "execution_count": 57,
   "id": "ef2ec38e",
   "metadata": {},
   "outputs": [
    {
     "ename": "SyntaxError",
     "evalue": "Missing parentheses in call to 'print'. Did you mean print(...)? (1704434696.py, line 2)",
     "output_type": "error",
     "traceback": [
      "\u001b[1;36m  Cell \u001b[1;32mIn[57], line 2\u001b[1;36m\u001b[0m\n\u001b[1;33m    print name\u001b[0m\n\u001b[1;37m    ^\u001b[0m\n\u001b[1;31mSyntaxError\u001b[0m\u001b[1;31m:\u001b[0m Missing parentheses in call to 'print'. Did you mean print(...)?\n"
     ]
    }
   ],
   "source": [
    "name =\"python\"\n",
    "print name"
   ]
  },
  {
   "cell_type": "markdown",
   "id": "b714d0a6",
   "metadata": {},
   "source": [
    "### Commonly used Built-in exception classes\n",
    "\n",
    "- **Exception:** The base class for all non-system-exiting exceptions.\n",
    "    - **ArithmeticError:** Base class for arithmetic errors.\n",
    "        - **FloatingPointError:** Raised when a floating-point operation fails.\n",
    "        - **OverflowError:** Raised when an arithmetic operation exceeds the limit for a numerical type.\n",
    "        - **ZeroDivisionError:** Raised when division or modulo by zero occurs.\n",
    "    - **AssertionError:** Raised when an assert statement fails.\n",
    "    - **AttributeError:** Raised when an attribute reference or assignment fails.\n",
    "    - **BufferError:** Raised when a buffer-related operation fails.\n",
    "    - **EOFError:** Raised when the input() function hits end-of-file condition without reading any data.\n",
    "    - **ImportError:** Base class for import-related errors.\n",
    "        - **ModuleNotFoundError:** Raised when a module could not be found.\n",
    "    - **LookupError:** Base class for lookup errors.\n",
    "        - **IndexError:** Raised when a sequence index is out of range.\n",
    "        - **KeyError:** Raised when a dictionary key is not found.\n",
    "    - **MemoryError:** Raised when an operation runs out of memory.\n",
    "    - **NameError:** Raised when a local or global name is not found.\n",
    "    - **OSError:** Base class for operating system-related errors.\n",
    "    - **ReferenceError:** Raised when a weak reference proxy is used to access an object that has been garbage-collected.\n",
    "    - **RuntimeError:** Raised when an error doesn't fall under any other category.\n",
    "    - **StopAsyncIteration:** Raised by asynchronous iterators to signal the end of an iteration.\n",
    "    - **StopIteration:** Raised by iterators to signal the end of an iteration.\n",
    "    - **SyntaxError:** Raised when a syntax error occurs in Python code."
   ]
  },
  {
   "cell_type": "code",
   "execution_count": 42,
   "id": "8953443e",
   "metadata": {},
   "outputs": [
    {
     "name": "stdout",
     "output_type": "stream",
     "text": [
      "Division by zero error occurred.\n"
     ]
    }
   ],
   "source": [
    "# try and except Blocks\n",
    "try:\n",
    "    # Code that may raise an exception\n",
    "    result = 10 / 0  # ZeroDivisionError: division by zero\n",
    "    \n",
    "except ZeroDivisionError:\n",
    "    # Handle the specific exception\n",
    "    print(\"Division by zero error occurred.\")"
   ]
  },
  {
   "cell_type": "code",
   "execution_count": 59,
   "id": "d8b301bb",
   "metadata": {},
   "outputs": [
    {
     "name": "stdout",
     "output_type": "stream",
     "text": [
      "Division by zero error occurred.\n"
     ]
    }
   ],
   "source": [
    "# Handling Multiple Exceptions\n",
    "\n",
    "try:\n",
    "    # Code that may raise exceptions\n",
    "    result = 5 / 0\n",
    "    \n",
    "except ZeroDivisionError:\n",
    "    print(\"Division by zero error occurred.\")\n",
    "except ValueError:\n",
    "    print(\"Value error occurred.\")"
   ]
  },
  {
   "cell_type": "code",
   "execution_count": 55,
   "id": "dde7331c",
   "metadata": {},
   "outputs": [
    {
     "name": "stdout",
     "output_type": "stream",
     "text": [
      "Index Out of Bound.\n"
     ]
    }
   ],
   "source": [
    "try:\n",
    "    \n",
    "    even_numbers = [2,4,6,8]\n",
    "    print(even_numbers[5])\n",
    "\n",
    "except ZeroDivisionError:\n",
    "    print(\"Denominator cannot be 0.\")\n",
    "    \n",
    "except IndexError:\n",
    "    print(\"Index Out of Bound.\")"
   ]
  },
  {
   "cell_type": "code",
   "execution_count": 68,
   "id": "fd260bd0",
   "metadata": {},
   "outputs": [
    {
     "name": "stdout",
     "output_type": "stream",
     "text": [
      "Written content in the file successfully\n"
     ]
    }
   ],
   "source": [
    "try:\n",
    "    fh = open(\"testfile\", \"w\")\n",
    "    fh.write(\"This is my test file for exception handling!!\")\n",
    "    \n",
    "except IOError:\n",
    "    print (\"Error: can\\'t find file or read data\")\n",
    "    \n",
    "else:\n",
    "    print (\"Written content in the file successfully\")\n",
    "    \n",
    "    fh.close()"
   ]
  },
  {
   "cell_type": "code",
   "execution_count": 51,
   "id": "13a169d9",
   "metadata": {},
   "outputs": [
    {
     "name": "stdout",
     "output_type": "stream",
     "text": [
      "Result: 5.0\n"
     ]
    }
   ],
   "source": [
    "try:\n",
    "    # Code that may raise an exception\n",
    "    result = 10 / 2\n",
    "    \n",
    "except ZeroDivisionError:\n",
    "    print(\"Division by zero error occurred.\")\n",
    "else:\n",
    "    # Executed if no exception occurs in the try block\n",
    "    print(\"Result:\", result)"
   ]
  },
  {
   "cell_type": "code",
   "execution_count": 52,
   "id": "3f9c3445",
   "metadata": {},
   "outputs": [
    {
     "name": "stdout",
     "output_type": "stream",
     "text": [
      "Result: 5.0\n",
      "Execution completed.\n"
     ]
    }
   ],
   "source": [
    "try:\n",
    "    # Code that may raise an exception\n",
    "    result = 10 / 2\n",
    "except ZeroDivisionError:\n",
    "    print(\"Division by zero error occurred.\")\n",
    "else:\n",
    "    print(\"Result:\", result)\n",
    "finally:\n",
    "    # Executed whether an exception occurs or not\n",
    "    print(\"Execution completed.\")"
   ]
  },
  {
   "cell_type": "markdown",
   "id": "3887d571",
   "metadata": {},
   "source": [
    "### Assertions in Python\n",
    "\n",
    "- In Python, assertions are used to check if a condition holds true during the execution of a program. They are typically used for debugging and testing purposes to ensure that certain conditions are met. \n",
    "- Syntax : `assert Expression[, Arguments]`\n",
    "- Assertions are commonly used at the beginning of a function to inspect for valid input and at the end of calling the function to inspect for valid output."
   ]
  },
  {
   "cell_type": "code",
   "execution_count": 64,
   "id": "dc89b302",
   "metadata": {},
   "outputs": [
    {
     "name": "stdout",
     "output_type": "stream",
     "text": [
      "1.7320508075688772\n"
     ]
    },
    {
     "ename": "AssertionError",
     "evalue": "Input must be non-negative",
     "output_type": "error",
     "traceback": [
      "\u001b[1;31m---------------------------------------------------------------------------\u001b[0m",
      "\u001b[1;31mAssertionError\u001b[0m                            Traceback (most recent call last)",
      "Cell \u001b[1;32mIn[64], line 5\u001b[0m\n\u001b[0;32m      3\u001b[0m     \u001b[38;5;28;01mreturn\u001b[39;00m x \u001b[38;5;241m*\u001b[39m\u001b[38;5;241m*\u001b[39m \u001b[38;5;241m0.5\u001b[39m\n\u001b[0;32m      4\u001b[0m \u001b[38;5;28mprint\u001b[39m(calculate_sqrt(\u001b[38;5;241m3\u001b[39m))\n\u001b[1;32m----> 5\u001b[0m \u001b[38;5;28mprint\u001b[39m(calculate_sqrt(\u001b[38;5;241m-\u001b[39m\u001b[38;5;241m3\u001b[39m))\n",
      "Cell \u001b[1;32mIn[64], line 2\u001b[0m, in \u001b[0;36mcalculate_sqrt\u001b[1;34m(x)\u001b[0m\n\u001b[0;32m      1\u001b[0m \u001b[38;5;28;01mdef\u001b[39;00m \u001b[38;5;21mcalculate_sqrt\u001b[39m(x):\n\u001b[1;32m----> 2\u001b[0m     \u001b[38;5;28;01massert\u001b[39;00m x \u001b[38;5;241m>\u001b[39m\u001b[38;5;241m=\u001b[39m \u001b[38;5;241m0\u001b[39m, \u001b[38;5;124m\"\u001b[39m\u001b[38;5;124mInput must be non-negative\u001b[39m\u001b[38;5;124m\"\u001b[39m\n\u001b[0;32m      3\u001b[0m     \u001b[38;5;28;01mreturn\u001b[39;00m x \u001b[38;5;241m*\u001b[39m\u001b[38;5;241m*\u001b[39m \u001b[38;5;241m0.5\u001b[39m\n",
      "\u001b[1;31mAssertionError\u001b[0m: Input must be non-negative"
     ]
    }
   ],
   "source": [
    "def calculate_sqrt(x):\n",
    "    assert x >= 0, \"Input must be non-negative\"\n",
    "    return x ** 0.5\n",
    "\n",
    "print(calculate_sqrt(3))\n",
    "print(calculate_sqrt(-3))"
   ]
  },
  {
   "cell_type": "code",
   "execution_count": 63,
   "id": "51889648",
   "metadata": {},
   "outputs": [
    {
     "name": "stdout",
     "output_type": "stream",
     "text": [
      "32.0\n",
      "451\n"
     ]
    },
    {
     "ename": "AssertionError",
     "evalue": "Colder than absolute zero!",
     "output_type": "error",
     "traceback": [
      "\u001b[1;31m---------------------------------------------------------------------------\u001b[0m",
      "\u001b[1;31mAssertionError\u001b[0m                            Traceback (most recent call last)",
      "Cell \u001b[1;32mIn[63], line 7\u001b[0m\n\u001b[0;32m      5\u001b[0m \u001b[38;5;28mprint\u001b[39m (KelvinToFahrenheit(\u001b[38;5;241m273\u001b[39m))\n\u001b[0;32m      6\u001b[0m \u001b[38;5;28mprint\u001b[39m (\u001b[38;5;28mint\u001b[39m(KelvinToFahrenheit(\u001b[38;5;241m505.78\u001b[39m)))\n\u001b[1;32m----> 7\u001b[0m \u001b[38;5;28mprint\u001b[39m (KelvinToFahrenheit(\u001b[38;5;241m-\u001b[39m\u001b[38;5;241m5\u001b[39m))\n",
      "Cell \u001b[1;32mIn[63], line 2\u001b[0m, in \u001b[0;36mKelvinToFahrenheit\u001b[1;34m(Temperature)\u001b[0m\n\u001b[0;32m      1\u001b[0m \u001b[38;5;28;01mdef\u001b[39;00m \u001b[38;5;21mKelvinToFahrenheit\u001b[39m(Temperature):\n\u001b[1;32m----> 2\u001b[0m     \u001b[38;5;28;01massert\u001b[39;00m (Temperature \u001b[38;5;241m>\u001b[39m\u001b[38;5;241m=\u001b[39m \u001b[38;5;241m0\u001b[39m),\u001b[38;5;124m\"\u001b[39m\u001b[38;5;124mColder than absolute zero!\u001b[39m\u001b[38;5;124m\"\u001b[39m\n\u001b[0;32m      3\u001b[0m     \u001b[38;5;28;01mreturn\u001b[39;00m ((Temperature\u001b[38;5;241m-\u001b[39m\u001b[38;5;241m273\u001b[39m)\u001b[38;5;241m*\u001b[39m\u001b[38;5;241m1.8\u001b[39m)\u001b[38;5;241m+\u001b[39m\u001b[38;5;241m32\u001b[39m\n",
      "\u001b[1;31mAssertionError\u001b[0m: Colder than absolute zero!"
     ]
    }
   ],
   "source": [
    "def KelvinToFahrenheit(Temperature):\n",
    "    assert (Temperature >= 0),\"Colder than absolute zero!\"\n",
    "    return ((Temperature-273)*1.8)+32\n",
    "\n",
    "print (KelvinToFahrenheit(273))\n",
    "print (int(KelvinToFahrenheit(505.78)))\n",
    "print (KelvinToFahrenheit(-5))"
   ]
  },
  {
   "cell_type": "code",
   "execution_count": 65,
   "id": "1452b1bd",
   "metadata": {},
   "outputs": [
    {
     "name": "stdout",
     "output_type": "stream",
     "text": [
      "5.0\n"
     ]
    },
    {
     "ename": "AssertionError",
     "evalue": "Division by zero",
     "output_type": "error",
     "traceback": [
      "\u001b[1;31m---------------------------------------------------------------------------\u001b[0m",
      "\u001b[1;31mAssertionError\u001b[0m                            Traceback (most recent call last)",
      "Cell \u001b[1;32mIn[65], line 8\u001b[0m\n\u001b[0;32m      5\u001b[0m result \u001b[38;5;241m=\u001b[39m divide(\u001b[38;5;241m10\u001b[39m, \u001b[38;5;241m2\u001b[39m)\n\u001b[0;32m      6\u001b[0m \u001b[38;5;28mprint\u001b[39m(result)  \u001b[38;5;66;03m# Output: 5.0\u001b[39;00m\n\u001b[1;32m----> 8\u001b[0m result \u001b[38;5;241m=\u001b[39m divide(\u001b[38;5;241m10\u001b[39m, \u001b[38;5;241m0\u001b[39m)\n",
      "Cell \u001b[1;32mIn[65], line 2\u001b[0m, in \u001b[0;36mdivide\u001b[1;34m(a, b)\u001b[0m\n\u001b[0;32m      1\u001b[0m \u001b[38;5;28;01mdef\u001b[39;00m \u001b[38;5;21mdivide\u001b[39m(a, b):\n\u001b[1;32m----> 2\u001b[0m     \u001b[38;5;28;01massert\u001b[39;00m b \u001b[38;5;241m!=\u001b[39m \u001b[38;5;241m0\u001b[39m, \u001b[38;5;124m\"\u001b[39m\u001b[38;5;124mDivision by zero\u001b[39m\u001b[38;5;124m\"\u001b[39m\n\u001b[0;32m      3\u001b[0m     \u001b[38;5;28;01mreturn\u001b[39;00m a \u001b[38;5;241m/\u001b[39m b\n",
      "\u001b[1;31mAssertionError\u001b[0m: Division by zero"
     ]
    }
   ],
   "source": [
    "def divide(a, b):\n",
    "    assert b != 0, \"Division by zero\"\n",
    "    return a / b\n",
    "\n",
    "result = divide(10, 2)\n",
    "print(result)  # Output: 5.0\n",
    "\n",
    "result = divide(10, 0)  # This will raise an AssertionError with the message \"Division by zero\""
   ]
  },
  {
   "cell_type": "code",
   "execution_count": 70,
   "id": "6aa44cdc",
   "metadata": {},
   "outputs": [
    {
     "name": "stdout",
     "output_type": "stream",
     "text": [
      "Going to close the file\n",
      "Error: can't find file or read data\n"
     ]
    }
   ],
   "source": [
    "# nested blocks\n",
    "\n",
    "try:\n",
    "    fh = open(\"testfile\", \"r\")\n",
    "    try:\n",
    "        fh.write(\"This is my test file for exception handling!!\")\n",
    "    finally:\n",
    "        print (\"Going to close the file\")\n",
    "        fh.close()\n",
    "except IOError:\n",
    "    print (\"Error: can\\'t find file or read data\")"
   ]
  },
  {
   "cell_type": "markdown",
   "id": "a4b040af",
   "metadata": {},
   "source": [
    "### Exception with Arguments\n",
    "\n",
    "- An exception can have an argument, which is a value that gives additional information about the problem. \n",
    "- The contents of the argument vary by exception."
   ]
  },
  {
   "cell_type": "code",
   "execution_count": 77,
   "id": "22d8580c",
   "metadata": {},
   "outputs": [
    {
     "name": "stdout",
     "output_type": "stream",
     "text": [
      "The argument does not contain numbers\n",
      " invalid literal for int() with base 10: 'xyz'\n"
     ]
    }
   ],
   "source": [
    "# Define a function here.\n",
    "def temp_convert(var):\n",
    "    try:\n",
    "        return int(var)\n",
    "    except ValueError as Argument:\n",
    "        print(\"The argument does not contain numbers\\n\",Argument)\n",
    "# Call above function here.\n",
    "temp_convert(\"xyz\")"
   ]
  },
  {
   "cell_type": "markdown",
   "id": "11171bf7",
   "metadata": {},
   "source": [
    "### Argument of an Exception\n",
    "\n",
    "- We can raise exceptions in several ways by using the `raise` statement. \n",
    "- The general syntax for the raise statement is as follows : ` raise [Exception [, args [, traceback]]]`"
   ]
  },
  {
   "cell_type": "code",
   "execution_count": 54,
   "id": "1f2a5af5",
   "metadata": {},
   "outputs": [
    {
     "name": "stdout",
     "output_type": "stream",
     "text": [
      "Enter your age: -4\n",
      "Error: Age cannot be negative.\n"
     ]
    }
   ],
   "source": [
    "try:\n",
    "    # Code that may raise an exception\n",
    "    age = int(input(\"Enter your age: \"))\n",
    "    if age < 0:\n",
    "        raise ValueError(\"Age cannot be negative.\")\n",
    "        \n",
    "except ValueError as e:\n",
    "    print(\"Error:\", e)"
   ]
  },
  {
   "cell_type": "markdown",
   "id": "02744175",
   "metadata": {},
   "source": [
    "### User-Defined Exceptions\n",
    "\n",
    "- User-defined exceptions in Python allow us to create custom exception classes tailored to our application's needs. \n",
    "- Python also allows you to create your own exceptions by deriving classes from the standard built-in exceptions.\n",
    "- This is particularly useful when we encounter situations that aren't adequately represented by built-in exception types."
   ]
  },
  {
   "cell_type": "code",
   "execution_count": 14,
   "id": "f27faf8f",
   "metadata": {},
   "outputs": [
    {
     "name": "stdout",
     "output_type": "stream",
     "text": [
      "Invalid marks: -9\n"
     ]
    }
   ],
   "source": [
    "class MyException(Exception):\n",
    "    \"Invalid marks\"\n",
    "    pass\n",
    "   \n",
    "num = -9\n",
    "try:\n",
    "    if num <0 or num>100:\n",
    "        raise MyException\n",
    "except MyException as e:\n",
    "    print (\"Invalid marks:\", num)\n",
    "else:\n",
    "    print (\"Marks obtained:\", num)"
   ]
  },
  {
   "cell_type": "code",
   "execution_count": 76,
   "id": "814ea43b",
   "metadata": {},
   "outputs": [],
   "source": [
    "class CustomError(Exception):\n",
    "    def __init__(self, message):\n",
    "        self.message = message\n",
    "        super().__init__(self.message)\n",
    "\n",
    "def validate_input(value):\n",
    "    if not isinstance(value, int):\n",
    "        raise CustomError(\"Input must be an integer\")\n",
    "    if value <= 0:\n",
    "        raise CustomError(\"Input must be a positive integer\")\n",
    "# Usage\n",
    "try:\n",
    "    validate_input(10)\n",
    "except CustomError as e:\n",
    "    print(f\"Error: {e.message}, Code: {e.code}\")"
   ]
  },
  {
   "cell_type": "markdown",
   "id": "66cbe43f",
   "metadata": {},
   "source": [
    "### Logging in Python \n",
    "- Powerful tool for tracking and understanding the flow of your program, especially during development and debugging. \n",
    "- It allows us to record important information, warnings, errors, and debug messages that can be helpful for troubleshooting issues.\n",
    "- `logging.basicConfig(level=logging.DEBUG, format='%(asctime)s - %(levelname)s - %(message)s')`\n",
    "    - level=logging.DEBUG sets the logging level to debug, which logs all messages (debug, info, warning, error, critical).\n",
    "    - format='%(asctime)s - %(levelname)s - %(message)s' specifies the format of the log messages, including the timestamp, log level, and message.\n",
    "- Logging Messages: We can log messages at different levels using various logging methods such as debug(), info(), warning(), error(), and critical().\n",
    "     - logging.debug(\"This is a debug message\")\n",
    "     - logging.info(\"This is an info message\")\n",
    "     - logging.warning(\"This is a warning message\")\n",
    "     - logging.error(\"This is an error message\")\n",
    "     - logging.critical(\"This is a critical message\")"
   ]
  },
  {
   "cell_type": "code",
   "execution_count": 87,
   "id": "dbb8e700",
   "metadata": {},
   "outputs": [
    {
     "name": "stderr",
     "output_type": "stream",
     "text": [
      "ERROR:root:Invalid marks:120 Marks must be between 0 to 100\n",
      "WARNING:root:Number of subjects: 2. Should be at least three\n"
     ]
    }
   ],
   "source": [
    "import logging\n",
    "\n",
    "logging.basicConfig(level=logging.DEBUG)\n",
    "\n",
    "marks = 120\n",
    "\n",
    "logging.error(\"Invalid marks:{} Marks must be between 0 to 100\".format(marks))\n",
    "\n",
    "subjects = [\"Phy\", \"Maths\"]\n",
    "\n",
    "logging.warning(\"Number of subjects: {}. Should be at least three\".format(len(subjects)))"
   ]
  },
  {
   "cell_type": "markdown",
   "id": "3f132782",
   "metadata": {},
   "source": [
    "### Python - Exception Chaining\n",
    "\n",
    "- Exception chaining in Python allows us to associate multiple exceptions together, providing a more detailed context about what went wrong in your code. \n",
    "- This feature is particularly useful when we catch an exception and want to raise another exception while preserving information about the original error. \n",
    "- We can raise a chained exception by using the from keyword in the raise statement. \n",
    "- Exception chaining helps in maintaining a clear error hierarchy and providing developers with a complete picture of what led to an error. "
   ]
  },
  {
   "cell_type": "code",
   "execution_count": 78,
   "id": "209f47ca",
   "metadata": {},
   "outputs": [
    {
     "ename": "ValueError",
     "evalue": "Invalid division",
     "output_type": "error",
     "traceback": [
      "\u001b[1;31m---------------------------------------------------------------------------\u001b[0m",
      "\u001b[1;31mZeroDivisionError\u001b[0m                         Traceback (most recent call last)",
      "Cell \u001b[1;32mIn[78], line 3\u001b[0m\n\u001b[0;32m      1\u001b[0m \u001b[38;5;28;01mtry\u001b[39;00m:\n\u001b[0;32m      2\u001b[0m     \u001b[38;5;66;03m# Code that may raise an exception\u001b[39;00m\n\u001b[1;32m----> 3\u001b[0m     result \u001b[38;5;241m=\u001b[39m \u001b[38;5;241m10\u001b[39m \u001b[38;5;241m/\u001b[39m \u001b[38;5;241m0\u001b[39m\n\u001b[0;32m      4\u001b[0m \u001b[38;5;28;01mexcept\u001b[39;00m \u001b[38;5;167;01mZeroDivisionError\u001b[39;00m \u001b[38;5;28;01mas\u001b[39;00m e:\n",
      "\u001b[1;31mZeroDivisionError\u001b[0m: division by zero",
      "\nThe above exception was the direct cause of the following exception:\n",
      "\u001b[1;31mValueError\u001b[0m                                Traceback (most recent call last)",
      "Cell \u001b[1;32mIn[78], line 5\u001b[0m\n\u001b[0;32m      3\u001b[0m     result \u001b[38;5;241m=\u001b[39m \u001b[38;5;241m10\u001b[39m \u001b[38;5;241m/\u001b[39m \u001b[38;5;241m0\u001b[39m\n\u001b[0;32m      4\u001b[0m \u001b[38;5;28;01mexcept\u001b[39;00m \u001b[38;5;167;01mZeroDivisionError\u001b[39;00m \u001b[38;5;28;01mas\u001b[39;00m e:\n\u001b[1;32m----> 5\u001b[0m     \u001b[38;5;28;01mraise\u001b[39;00m \u001b[38;5;167;01mValueError\u001b[39;00m(\u001b[38;5;124m\"\u001b[39m\u001b[38;5;124mInvalid division\u001b[39m\u001b[38;5;124m\"\u001b[39m) \u001b[38;5;28;01mfrom\u001b[39;00m \u001b[38;5;21;01me\u001b[39;00m\n",
      "\u001b[1;31mValueError\u001b[0m: Invalid division"
     ]
    }
   ],
   "source": [
    "try:\n",
    "    # Code that may raise an exception\n",
    "    result = 10 / 0\n",
    "except ZeroDivisionError as e:\n",
    "    raise ValueError(\"Invalid division\") from e"
   ]
  },
  {
   "cell_type": "markdown",
   "id": "b363b9a5",
   "metadata": {},
   "source": [
    "In this example, a ZeroDivisionError occurs during the division operation. Instead of just raising a ValueError, we can raise it with from e to chain it with the original ZeroDivisionError."
   ]
  },
  {
   "cell_type": "markdown",
   "id": "e593bc46",
   "metadata": {},
   "source": [
    "### Accessing Chained Exceptions\n",
    "- When we catch a chained exception, we can access the original exception using the cause attribute."
   ]
  },
  {
   "cell_type": "code",
   "execution_count": 79,
   "id": "fd114082",
   "metadata": {},
   "outputs": [
    {
     "ename": "ZeroDivisionError",
     "evalue": "division by zero",
     "output_type": "error",
     "traceback": [
      "\u001b[1;31m---------------------------------------------------------------------------\u001b[0m",
      "\u001b[1;31mZeroDivisionError\u001b[0m                         Traceback (most recent call last)",
      "Cell \u001b[1;32mIn[79], line 3\u001b[0m\n\u001b[0;32m      1\u001b[0m \u001b[38;5;28;01mtry\u001b[39;00m:\n\u001b[0;32m      2\u001b[0m     \u001b[38;5;66;03m# Code that may raise an exception\u001b[39;00m\n\u001b[1;32m----> 3\u001b[0m     result \u001b[38;5;241m=\u001b[39m \u001b[38;5;241m10\u001b[39m \u001b[38;5;241m/\u001b[39m \u001b[38;5;241m0\u001b[39m\n\u001b[0;32m      4\u001b[0m \u001b[38;5;28;01mexcept\u001b[39;00m \u001b[38;5;167;01mValueError\u001b[39;00m \u001b[38;5;28;01mas\u001b[39;00m ve:\n\u001b[0;32m      5\u001b[0m     original_exception \u001b[38;5;241m=\u001b[39m ve\u001b[38;5;241m.\u001b[39m__cause__\n",
      "\u001b[1;31mZeroDivisionError\u001b[0m: division by zero"
     ]
    }
   ],
   "source": [
    "try:\n",
    "    # Code that may raise an exception\n",
    "    result = 10 / 0\n",
    "except ValueError as ve:\n",
    "    original_exception = ve.__cause__\n",
    "    print(f\"Original Exception: {type(original_exception).__name__}: {original_exception}\")"
   ]
  },
  {
   "cell_type": "markdown",
   "id": "caa1aa13",
   "metadata": {},
   "source": [
    "- Here, ve.__cause__ gives us access to the original ZeroDivisionError that caused the ValueError to be raised."
   ]
  },
  {
   "cell_type": "markdown",
   "id": "b03a2dd2",
   "metadata": {},
   "source": [
    "###  Logging Chained Exceptions\n",
    "- Exception chaining is valuable for logging purposes, as it provides a trace of what happened leading up to the final exception."
   ]
  },
  {
   "cell_type": "code",
   "execution_count": 80,
   "id": "bc64e764",
   "metadata": {},
   "outputs": [
    {
     "ename": "ZeroDivisionError",
     "evalue": "division by zero",
     "output_type": "error",
     "traceback": [
      "\u001b[1;31m---------------------------------------------------------------------------\u001b[0m",
      "\u001b[1;31mZeroDivisionError\u001b[0m                         Traceback (most recent call last)",
      "Cell \u001b[1;32mIn[80], line 5\u001b[0m\n\u001b[0;32m      1\u001b[0m \u001b[38;5;28;01mimport\u001b[39;00m \u001b[38;5;21;01mlogging\u001b[39;00m\n\u001b[0;32m      3\u001b[0m \u001b[38;5;28;01mtry\u001b[39;00m:\n\u001b[0;32m      4\u001b[0m     \u001b[38;5;66;03m# Code that may raise an exception\u001b[39;00m\n\u001b[1;32m----> 5\u001b[0m     result \u001b[38;5;241m=\u001b[39m \u001b[38;5;241m10\u001b[39m \u001b[38;5;241m/\u001b[39m \u001b[38;5;241m0\u001b[39m\n\u001b[0;32m      6\u001b[0m \u001b[38;5;28;01mexcept\u001b[39;00m \u001b[38;5;167;01mValueError\u001b[39;00m \u001b[38;5;28;01mas\u001b[39;00m ve:\n\u001b[0;32m      7\u001b[0m     logging\u001b[38;5;241m.\u001b[39mexception(\u001b[38;5;124m\"\u001b[39m\u001b[38;5;124mAn error occurred\u001b[39m\u001b[38;5;124m\"\u001b[39m)\n",
      "\u001b[1;31mZeroDivisionError\u001b[0m: division by zero"
     ]
    }
   ],
   "source": [
    "import logging\n",
    "\n",
    "try:\n",
    "    # Code that may raise an exception\n",
    "    result = 10 / 0\n",
    "except ValueError as ve:\n",
    "    logging.exception(\"An error occurred\")"
   ]
  },
  {
   "cell_type": "markdown",
   "id": "a51f5825",
   "metadata": {},
   "source": [
    "- Using the logging.exception method automatically logs the chained exception traceback along with the main exception message."
   ]
  },
  {
   "cell_type": "markdown",
   "id": "d2284c4a",
   "metadata": {},
   "source": [
    "###  Custom Chained Exceptions\n",
    "- We can also create custom exceptions that chain with other exceptions for more specific error handling."
   ]
  },
  {
   "cell_type": "code",
   "execution_count": 81,
   "id": "b66a0c18",
   "metadata": {},
   "outputs": [
    {
     "ename": "CustomError",
     "evalue": "Custom error occurred",
     "output_type": "error",
     "traceback": [
      "\u001b[1;31m---------------------------------------------------------------------------\u001b[0m",
      "\u001b[1;31mZeroDivisionError\u001b[0m                         Traceback (most recent call last)",
      "Cell \u001b[1;32mIn[81], line 8\u001b[0m\n\u001b[0;32m      6\u001b[0m \u001b[38;5;28;01mtry\u001b[39;00m:\n\u001b[0;32m      7\u001b[0m     \u001b[38;5;66;03m# Code that may raise an exception\u001b[39;00m\n\u001b[1;32m----> 8\u001b[0m     result \u001b[38;5;241m=\u001b[39m \u001b[38;5;241m10\u001b[39m \u001b[38;5;241m/\u001b[39m \u001b[38;5;241m0\u001b[39m\n\u001b[0;32m      9\u001b[0m \u001b[38;5;28;01mexcept\u001b[39;00m \u001b[38;5;167;01mZeroDivisionError\u001b[39;00m \u001b[38;5;28;01mas\u001b[39;00m e:\n",
      "\u001b[1;31mZeroDivisionError\u001b[0m: division by zero",
      "\nThe above exception was the direct cause of the following exception:\n",
      "\u001b[1;31mCustomError\u001b[0m                               Traceback (most recent call last)",
      "Cell \u001b[1;32mIn[81], line 10\u001b[0m\n\u001b[0;32m      8\u001b[0m     result \u001b[38;5;241m=\u001b[39m \u001b[38;5;241m10\u001b[39m \u001b[38;5;241m/\u001b[39m \u001b[38;5;241m0\u001b[39m\n\u001b[0;32m      9\u001b[0m \u001b[38;5;28;01mexcept\u001b[39;00m \u001b[38;5;167;01mZeroDivisionError\u001b[39;00m \u001b[38;5;28;01mas\u001b[39;00m e:\n\u001b[1;32m---> 10\u001b[0m     \u001b[38;5;28;01mraise\u001b[39;00m CustomError(\u001b[38;5;124m\"\u001b[39m\u001b[38;5;124mCustom error occurred\u001b[39m\u001b[38;5;124m\"\u001b[39m) \u001b[38;5;28;01mfrom\u001b[39;00m \u001b[38;5;21;01me\u001b[39;00m\n",
      "\u001b[1;31mCustomError\u001b[0m: Custom error occurred"
     ]
    }
   ],
   "source": [
    "class CustomError(Exception):\n",
    "    def __init__(self, message, cause=None):\n",
    "        super().__init__(message)\n",
    "        self.__cause__ = cause\n",
    "\n",
    "try:\n",
    "    # Code that may raise an exception\n",
    "    result = 10 / 0\n",
    "except ZeroDivisionError as e:\n",
    "    raise CustomError(\"Custom error occurred\") from e"
   ]
  }
 ],
 "metadata": {
  "kernelspec": {
   "display_name": "Python 3 (ipykernel)",
   "language": "python",
   "name": "python3"
  },
  "language_info": {
   "codemirror_mode": {
    "name": "ipython",
    "version": 3
   },
   "file_extension": ".py",
   "mimetype": "text/x-python",
   "name": "python",
   "nbconvert_exporter": "python",
   "pygments_lexer": "ipython3",
   "version": "3.11.7"
  }
 },
 "nbformat": 4,
 "nbformat_minor": 5
}
