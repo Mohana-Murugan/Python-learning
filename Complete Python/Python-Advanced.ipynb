{
 "cells": [
  {
   "cell_type": "markdown",
   "id": "56dbd58d",
   "metadata": {},
   "source": [
    "## List Comprehension\n",
    "- List comprehensions in Python provide a concise way to create lists. \n",
    "- They consist of brackets containing an expression followed by a `for` clause, and then zero or more `for` or `if clauses`. \n",
    "- The expression can be any valid Python expression, and the result will be a new list resulting from evaluating the expression in the context of the `for` and `if clauses` that follow it."
   ]
  },
  {
   "cell_type": "code",
   "execution_count": 1,
   "id": "7d651c6a",
   "metadata": {},
   "outputs": [
    {
     "name": "stdout",
     "output_type": "stream",
     "text": [
      "[0, 1, 4, 9, 16, 25, 36, 49, 64, 81]\n"
     ]
    }
   ],
   "source": [
    "squares = [x**2 for x in range(10)]\n",
    "\n",
    "print(squares)\n",
    "\n",
    "# Output: [0, 1, 4, 9, 16, 25, 36, 49, 64, 81]"
   ]
  },
  {
   "cell_type": "code",
   "execution_count": 2,
   "id": "140c93e4",
   "metadata": {},
   "outputs": [
    {
     "name": "stdout",
     "output_type": "stream",
     "text": [
      "[0, 2, 4, 6, 8]\n"
     ]
    }
   ],
   "source": [
    "evens = [x for x in range(10) if x % 2 == 0]\n",
    "\n",
    "print(evens)\n",
    "\n",
    "# Output: [0, 2, 4, 6, 8]"
   ]
  },
  {
   "cell_type": "code",
   "execution_count": 3,
   "id": "a82e2e2d",
   "metadata": {},
   "outputs": [
    {
     "name": "stdout",
     "output_type": "stream",
     "text": [
      "[(1, 4), (1, 5), (1, 6), (2, 4), (2, 5), (2, 6), (3, 4), (3, 5), (3, 6)]\n"
     ]
    }
   ],
   "source": [
    "pairs = [(x, y) for x in [1, 2, 3] for y in [4, 5, 6]]\n",
    "\n",
    "print(pairs)\n",
    "\n",
    "# Output: [(1, 4), (1, 5), (1, 6), (2, 4), (2, 5), (2, 6), (3, 4), (3, 5), (3, 6)]"
   ]
  },
  {
   "cell_type": "code",
   "execution_count": 4,
   "id": "973c4d45",
   "metadata": {},
   "outputs": [
    {
     "name": "stdout",
     "output_type": "stream",
     "text": [
      "[5, 5, 6, 4, 13]\n"
     ]
    }
   ],
   "source": [
    "words = [\"hello\", \"world\", \"Python\", \"list\", \"comprehension\"]\n",
    "\n",
    "lengths = [len(word) for word in words]\n",
    "\n",
    "print(lengths)\n",
    "\n",
    "# Output: [5, 5, 6, 4, 13]"
   ]
  },
  {
   "cell_type": "code",
   "execution_count": 5,
   "id": "4c4ea0a2",
   "metadata": {},
   "outputs": [
    {
     "name": "stdout",
     "output_type": "stream",
     "text": [
      "[1, 2, 3, 4, 5, 6, 7, 8, 9]\n"
     ]
    }
   ],
   "source": [
    "matrix = [[1, 2, 3], [4, 5, 6], [7, 8, 9]]\n",
    "\n",
    "flattened = [num for row in matrix for num in row]\n",
    "\n",
    "print(flattened)\n",
    "\n",
    "# Output: [1, 2, 3, 4, 5, 6, 7, 8, 9]"
   ]
  },
  {
   "cell_type": "markdown",
   "id": "e640387e",
   "metadata": {},
   "source": [
    "## Date and Time"
   ]
  },
  {
   "cell_type": "code",
   "execution_count": 8,
   "id": "6a3211f7",
   "metadata": {},
   "outputs": [
    {
     "name": "stdout",
     "output_type": "stream",
     "text": [
      "Number of ticks since 12:00am, January 1, 1970: 1715252173.28076\n"
     ]
    }
   ],
   "source": [
    "import time # This is required to include time module.\n",
    "ticks = time.time()\n",
    "print (\"Number of ticks since 12:00am, January 1, 1970:\", ticks)"
   ]
  },
  {
   "cell_type": "code",
   "execution_count": 9,
   "id": "b30d2703",
   "metadata": {},
   "outputs": [
    {
     "name": "stdout",
     "output_type": "stream",
     "text": [
      "['_STRUCT_TM_ITEMS', '__doc__', '__loader__', '__name__', '__package__', '__spec__', 'altzone', 'asctime', 'ctime', 'daylight', 'get_clock_info', 'gmtime', 'localtime', 'mktime', 'monotonic', 'monotonic_ns', 'perf_counter', 'perf_counter_ns', 'process_time', 'process_time_ns', 'sleep', 'strftime', 'strptime', 'struct_time', 'thread_time', 'thread_time_ns', 'time', 'time_ns', 'timezone', 'tzname']\n"
     ]
    }
   ],
   "source": [
    "print(dir(time))"
   ]
  },
  {
   "cell_type": "code",
   "execution_count": 1,
   "id": "bb1cb6dd",
   "metadata": {},
   "outputs": [
    {
     "name": "stdout",
     "output_type": "stream",
     "text": [
      "Current Date and Time: 2024-05-09 16:23:21.231164\n"
     ]
    }
   ],
   "source": [
    "import datetime\n",
    "\n",
    "current_datetime = datetime.datetime.now()\n",
    "print(\"Current Date and Time:\", current_datetime)"
   ]
  },
  {
   "cell_type": "code",
   "execution_count": 3,
   "id": "7c1ece18",
   "metadata": {},
   "outputs": [
    {
     "name": "stdout",
     "output_type": "stream",
     "text": [
      "['MAXYEAR', 'MINYEAR', 'UTC', '__all__', '__builtins__', '__cached__', '__doc__', '__file__', '__loader__', '__name__', '__package__', '__spec__', 'date', 'datetime', 'datetime_CAPI', 'sys', 'time', 'timedelta', 'timezone', 'tzinfo']\n"
     ]
    }
   ],
   "source": [
    "print(dir(datetime))"
   ]
  },
  {
   "cell_type": "code",
   "execution_count": 6,
   "id": "0d9b1c44",
   "metadata": {},
   "outputs": [
    {
     "name": "stdout",
     "output_type": "stream",
     "text": [
      "Specific Date and Time: 2024-05-09 15:30:00\n",
      "Year: 2024\n",
      "Month: 5\n",
      "Day: 9\n",
      "Hour: 15\n",
      "Minute: 30\n",
      "Second: 0\n"
     ]
    }
   ],
   "source": [
    "specific_datetime = datetime.datetime(2024, 5, 9, 15, 30, 0)  # Year, Month, Day, Hour, Minute, Second\n",
    "print(\"Specific Date and Time:\", specific_datetime)\n",
    "\n",
    "print(\"Year:\", specific_datetime.year)\n",
    "print(\"Month:\", specific_datetime.month)\n",
    "print(\"Day:\", specific_datetime.day)\n",
    "print(\"Hour:\", specific_datetime.hour)\n",
    "print(\"Minute:\", specific_datetime.minute)\n",
    "print(\"Second:\", specific_datetime.second)"
   ]
  },
  {
   "cell_type": "code",
   "execution_count": 7,
   "id": "93372d2c",
   "metadata": {},
   "outputs": [
    {
     "name": "stdout",
     "output_type": "stream",
     "text": [
      "Formatted Date and Time: 2024-05-09 15:30:00\n"
     ]
    }
   ],
   "source": [
    "formatted_datetime = specific_datetime.strftime(\"%Y-%m-%d %H:%M:%S\")\n",
    "print(\"Formatted Date and Time:\", formatted_datetime)"
   ]
  },
  {
   "cell_type": "markdown",
   "id": "46da8c73",
   "metadata": {},
   "source": [
    "### Caldendar"
   ]
  },
  {
   "cell_type": "code",
   "execution_count": 14,
   "id": "7f38f18b",
   "metadata": {},
   "outputs": [
    {
     "name": "stdout",
     "output_type": "stream",
     "text": [
      "Here is the calendar:\n",
      "      May 2024\n",
      "Mo Tu We Th Fr Sa Su\n",
      "       1  2  3  4  5\n",
      " 6  7  8  9 10 11 12\n",
      "13 14 15 16 17 18 19\n",
      "20 21 22 23 24 25 26\n",
      "27 28 29 30 31\n",
      "\n",
      "['Calendar', 'EPOCH', 'FRIDAY', 'February', 'HTMLCalendar', 'IllegalMonthError', 'IllegalWeekdayError', 'January', 'LocaleHTMLCalendar', 'LocaleTextCalendar', 'MONDAY', 'SATURDAY', 'SUNDAY', 'THURSDAY', 'TUESDAY', 'TextCalendar', 'WEDNESDAY', '_EPOCH_ORD', '__all__', '__builtins__', '__cached__', '__doc__', '__file__', '__loader__', '__name__', '__package__', '__spec__', '_colwidth', '_get_default_locale', '_locale', '_localized_day', '_localized_month', '_monthlen', '_nextmonth', '_prevmonth', '_spacing', 'c', 'calendar', 'datetime', 'day_abbr', 'day_name', 'different_locale', 'error', 'firstweekday', 'format', 'formatstring', 'isleap', 'leapdays', 'main', 'mdays', 'month', 'month_abbr', 'month_name', 'monthcalendar', 'monthrange', 'prcal', 'prmonth', 'prweek', 'repeat', 'setfirstweekday', 'sys', 'timegm', 'week', 'weekday', 'weekheader']\n"
     ]
    }
   ],
   "source": [
    "import calendar\n",
    "\n",
    "cal = calendar.month(2024, 5)\n",
    "\n",
    "print (\"Here is the calendar:\")\n",
    "\n",
    "print (cal)\n",
    "\n",
    "print(dir(calendar))"
   ]
  },
  {
   "cell_type": "markdown",
   "id": "779e66b6",
   "metadata": {},
   "source": [
    "## Iterators\n",
    "- Iterator in Python is an object representing a stream of data.\n",
    "- Iterators in Python are objects that implement the iterator protocol, which includes two methods: `__iter__()` and `__next__()`. \n",
    "- These methods allow objects to be used in a for loop or with other iterable functions.\n",
    "- `__iter__()`: This method returns the iterator object itself. It's used to initialize an iterator.\n",
    "- `__next__()`: This method returns the next item in the sequence. When there are no more items to return, it raises the StopIteration exception."
   ]
  },
  {
   "cell_type": "code",
   "execution_count": 1,
   "id": "8725816f",
   "metadata": {},
   "outputs": [
    {
     "name": "stdout",
     "output_type": "stream",
     "text": [
      "1\n",
      "2\n",
      "3\n",
      "4\n",
      "5\n"
     ]
    }
   ],
   "source": [
    "#iterable\n",
    "lst=[1,2,3,4,5]\n",
    "\n",
    "for i in lst:\n",
    "    print(i)"
   ]
  },
  {
   "cell_type": "code",
   "execution_count": 2,
   "id": "7c318872",
   "metadata": {},
   "outputs": [
    {
     "data": {
      "text/plain": [
       "<list_iterator at 0x1cc92b37940>"
      ]
     },
     "execution_count": 2,
     "metadata": {},
     "output_type": "execute_result"
    }
   ],
   "source": [
    "iter(lst)"
   ]
  },
  {
   "cell_type": "code",
   "execution_count": 3,
   "id": "76dc446d",
   "metadata": {},
   "outputs": [
    {
     "name": "stdout",
     "output_type": "stream",
     "text": [
      "1\n",
      "2\n",
      "3\n",
      "4\n",
      "5\n"
     ]
    }
   ],
   "source": [
    "iterable=iter(lst)\n",
    "\n",
    "for i in iterable:\n",
    "    print(i)"
   ]
  },
  {
   "cell_type": "code",
   "execution_count": 5,
   "id": "591fbfd3",
   "metadata": {},
   "outputs": [
    {
     "name": "stdout",
     "output_type": "stream",
     "text": [
      "<str_ascii_iterator object at 0x000001CC92BC5120>\n",
      "<list_iterator object at 0x000001CC92BC51E0>\n",
      "<tuple_iterator object at 0x000001CC92BC5120>\n",
      "<dict_keyiterator object at 0x000001CC92B2D2B0>\n"
     ]
    }
   ],
   "source": [
    "print (iter(\"aa\"))\n",
    "print (iter([1,2,3]))\n",
    "print (iter((1,2,3)))\n",
    "print (iter({}))"
   ]
  },
  {
   "cell_type": "code",
   "execution_count": 16,
   "id": "6aeb1dd8",
   "metadata": {},
   "outputs": [
    {
     "name": "stdout",
     "output_type": "stream",
     "text": [
      "1\n",
      "2\n",
      "3\n"
     ]
    },
    {
     "ename": "StopIteration",
     "evalue": "",
     "output_type": "error",
     "traceback": [
      "\u001b[1;31m---------------------------------------------------------------------------\u001b[0m",
      "\u001b[1;31mStopIteration\u001b[0m                             Traceback (most recent call last)",
      "Cell \u001b[1;32mIn[16], line 8\u001b[0m\n\u001b[0;32m      5\u001b[0m \u001b[38;5;28mprint\u001b[39m (it\u001b[38;5;241m.\u001b[39m\u001b[38;5;21m__next__\u001b[39m())\n\u001b[0;32m      6\u001b[0m \u001b[38;5;28mprint\u001b[39m (it\u001b[38;5;241m.\u001b[39m\u001b[38;5;21m__next__\u001b[39m())\n\u001b[1;32m----> 8\u001b[0m \u001b[38;5;28mprint\u001b[39m (\u001b[38;5;28mnext\u001b[39m(it))\n",
      "\u001b[1;31mStopIteration\u001b[0m: "
     ]
    }
   ],
   "source": [
    "it = iter([1,2,3])\n",
    "\n",
    "print (next(it))\n",
    "\n",
    "print (it.__next__())\n",
    "\n",
    "print (it.__next__())\n",
    "\n",
    "print (next(it)) # Will raise an error"
   ]
  },
  {
   "cell_type": "markdown",
   "id": "377f036a",
   "metadata": {},
   "source": [
    "- Iterator object has __next__() method. \n",
    "- Every time it is called, it returns next element in iterator stream. \n",
    "- When the stream gets exhausted, StopIteration error is raised whereas for loop never raise an error"
   ]
  },
  {
   "cell_type": "code",
   "execution_count": 1,
   "id": "3b1a5c59",
   "metadata": {},
   "outputs": [
    {
     "name": "stdout",
     "output_type": "stream",
     "text": [
      "1\n",
      "2\n",
      "3\n",
      "4\n",
      "5\n"
     ]
    }
   ],
   "source": [
    "it = iter([1,2,3, 4, 5])\n",
    "\n",
    "print (next(it))\n",
    "\n",
    "while True:\n",
    "   try:\n",
    "      no = next(it)\n",
    "      print (no)\n",
    "    \n",
    "   except StopIteration:  # Built-in exception\n",
    "     break"
   ]
  },
  {
   "cell_type": "code",
   "execution_count": 19,
   "id": "d1418cca",
   "metadata": {},
   "outputs": [
    {
     "name": "stdout",
     "output_type": "stream",
     "text": [
      "1\n",
      "2\n",
      "3\n",
      "4\n",
      "5\n"
     ]
    }
   ],
   "source": [
    "class MyIterator:\n",
    "    def __init__(self, start, end):\n",
    "        self.current = start\n",
    "        self.end = end\n",
    "\n",
    "    def __iter__(self):\n",
    "        return self\n",
    "\n",
    "    def __next__(self):\n",
    "        if self.current > self.end:\n",
    "            raise StopIteration\n",
    "        else:\n",
    "            self.current += 1\n",
    "            return self.current - 1\n",
    "\n",
    "# Using the iterator\n",
    "my_iter = MyIterator(1, 5)\n",
    "\n",
    "iter_obj = iter(my_iter)  # Equivalent to calling my_iter.__iter__()\n",
    "\n",
    "for item in iter_obj:  # This calls iter_obj.__next__() in each iteration\n",
    "    print(item)"
   ]
  },
  {
   "cell_type": "code",
   "execution_count": 18,
   "id": "22703adc",
   "metadata": {},
   "outputs": [
    {
     "name": "stdout",
     "output_type": "stream",
     "text": [
      "1\n",
      "3\n",
      "5\n",
      "7\n",
      "9\n"
     ]
    }
   ],
   "source": [
    "class Oddnumbers:\n",
    "\n",
    "   def __init__(self, end_range):\n",
    "      self.start = -1\n",
    "      self.end = end_range\n",
    "\n",
    "   def __iter__(self):\n",
    "      return self\n",
    "\n",
    "   def __next__(self):\n",
    "      if self.start < self.end-1:\n",
    "         self.start += 2\n",
    "         return self.start\n",
    "      else:\n",
    "         raise StopIteration\n",
    "\n",
    "countiter = Oddnumbers(10)\n",
    "while True:\n",
    "   try:\n",
    "      no = next(countiter)\n",
    "      print (no)\n",
    "   except StopIteration:\n",
    "      break"
   ]
  },
  {
   "cell_type": "markdown",
   "id": "27475232",
   "metadata": {},
   "source": [
    "## Generators\n",
    "- Generators in Python are a special type of iterable that allows us to `generate values on-the-fly`, rather than storing them in memory all at once. \n",
    "- They are defined using functions with the `yield` statement, which `pauses the function's execution` and returns a value to the caller. \n",
    "- Generators are particularly `useful for handling large datasets or infinite sequences` where storing all elements in memory would be impractical."
   ]
  },
  {
   "cell_type": "code",
   "execution_count": null,
   "id": "eab3d9a5",
   "metadata": {},
   "outputs": [],
   "source": [
    "## Sytanx\n",
    "\n",
    "def generator():\n",
    " . . .\n",
    " . . .\n",
    " yield obj\n",
    "\n",
    "it = generator()\n",
    "next(it)\n",
    ". . ."
   ]
  },
  {
   "cell_type": "code",
   "execution_count": 13,
   "id": "dd6cde2d",
   "metadata": {},
   "outputs": [
    {
     "data": {
      "text/plain": [
       "0"
      ]
     },
     "execution_count": 13,
     "metadata": {},
     "output_type": "execute_result"
    }
   ],
   "source": [
    "def squre(n):\n",
    "    for i in range(n):\n",
    "        return i**2  # return first value\n",
    "    \n",
    "squre(3)"
   ]
  },
  {
   "cell_type": "code",
   "execution_count": 26,
   "id": "0a56af15",
   "metadata": {},
   "outputs": [],
   "source": [
    "def squre(n):\n",
    "    for i in range(n):\n",
    "        yield i**2  # return first value"
   ]
  },
  {
   "cell_type": "code",
   "execution_count": 27,
   "id": "98adf373",
   "metadata": {},
   "outputs": [
    {
     "name": "stdout",
     "output_type": "stream",
     "text": [
      "0\n",
      "1\n",
      "4\n"
     ]
    }
   ],
   "source": [
    "for i in squre(3): # return values one by one\n",
    "    print(i)"
   ]
  },
  {
   "cell_type": "code",
   "execution_count": 28,
   "id": "83ce3641",
   "metadata": {},
   "outputs": [
    {
     "data": {
      "text/plain": [
       "<generator object squre at 0x0000017B60265D80>"
      ]
     },
     "execution_count": 28,
     "metadata": {},
     "output_type": "execute_result"
    }
   ],
   "source": [
    "a=squre(3)\n",
    "a"
   ]
  },
  {
   "cell_type": "code",
   "execution_count": 30,
   "id": "960741f0",
   "metadata": {},
   "outputs": [
    {
     "data": {
      "text/plain": [
       "1"
      ]
     },
     "execution_count": 30,
     "metadata": {},
     "output_type": "execute_result"
    }
   ],
   "source": [
    "next(a)"
   ]
  },
  {
   "cell_type": "code",
   "execution_count": 20,
   "id": "5650ae39",
   "metadata": {},
   "outputs": [
    {
     "name": "stdout",
     "output_type": "stream",
     "text": [
      "1\n",
      "2\n",
      "3\n",
      "4\n",
      "5\n"
     ]
    }
   ],
   "source": [
    "def my_generator(start, end):\n",
    "    current = start\n",
    "    while current <= end:\n",
    "        yield current\n",
    "        current += 1\n",
    "\n",
    "# Using the generator\n",
    "gen_obj = my_generator(1, 5)\n",
    "\n",
    "for item in gen_obj:\n",
    "    print(item)"
   ]
  },
  {
   "cell_type": "markdown",
   "id": "71152f26",
   "metadata": {},
   "source": [
    "In this example:\n",
    "\n",
    "- my_generator is a generator function that generates numbers from start to end.\n",
    "- When we call my_generator(1, 5), it returns a generator object gen_obj.\n",
    "- The for loop iterates over gen_obj, calling next(gen_obj) implicitly in each iteration.\n",
    "- Each time yield is encountered in my_generator, the `function's state is saved`, and the value is returned to the caller. When the next iteration occurs, `the function resumes execution from where it left off`.\n",
    "\n",
    "- Python iterator is much more memory efficient\n",
    "- Generator in python helps us top wtite fast and compact code"
   ]
  },
  {
   "cell_type": "markdown",
   "id": "238b4da3",
   "metadata": {},
   "source": [
    "## Closures\n",
    "- A closure is a nested function which has access to a variable from an enclosing function that has finished its execution.\n",
    "- Closures are a powerful concept in Python that allow inner functions to capture and remember the enclosing function's variables even after the enclosing function has finished execution. \n",
    "- This is particularly useful for creating functions that have access to variables from an outer (enclosing) scope without polluting the global namespace. "
   ]
  },
  {
   "cell_type": "code",
   "execution_count": 21,
   "id": "4fc617d3",
   "metadata": {},
   "outputs": [
    {
     "name": "stdout",
     "output_type": "stream",
     "text": [
      "New name\n"
     ]
    }
   ],
   "source": [
    "def functionA(name):\n",
    "   name =\"New name\"\n",
    "   def functionB():\n",
    "      print (name)\n",
    "   return functionB\n",
    "   \n",
    "myfunction = functionA(\"My name\")\n",
    "myfunction()"
   ]
  },
  {
   "cell_type": "code",
   "execution_count": null,
   "id": "5e4ba98d",
   "metadata": {},
   "outputs": [],
   "source": [
    "def outer_function(x):\n",
    "    def inner_function(y):\n",
    "        return x + y\n",
    "    return inner_function\n",
    "\n",
    "closure_func = outer_function(10)  # Returns inner_function with x = 10\n",
    "\n",
    "result = closure_func(5)  # Calls inner_function with y = 5, adds x (from the outer scope) to y\n",
    "print(result)  # Output: 15"
   ]
  },
  {
   "cell_type": "code",
   "execution_count": 22,
   "id": "a25016dd",
   "metadata": {},
   "outputs": [
    {
     "name": "stdout",
     "output_type": "stream",
     "text": [
      "Counter: 1\n",
      "Counter: 2\n",
      "Counter: 3\n"
     ]
    }
   ],
   "source": [
    "# nonlocal Keyword :  allows a variable outside the local scope to be accessed\n",
    "\n",
    "def functionA():\n",
    "   counter =0\n",
    "   def functionB():\n",
    "      nonlocal counter\n",
    "      counter+=1\n",
    "      return counter\n",
    "   return functionB\n",
    "\n",
    "myfunction = functionA()\n",
    "\n",
    "retval = myfunction()\n",
    "print (\"Counter:\", retval)\n",
    "\n",
    "retval = myfunction()\n",
    "print (\"Counter:\", retval)\n",
    "\n",
    "retval = myfunction()\n",
    "print (\"Counter:\", retval)"
   ]
  },
  {
   "cell_type": "markdown",
   "id": "4cf55647",
   "metadata": {},
   "source": [
    "## Decorators\n",
    "- Decorator in Python is a `function that receives another function as argument`. \n",
    "- The argument function is the one to be decorated by decorator. \n",
    "- The behaviour of argument function is `extended by the decorator without actually modifying it`.\n",
    "- Decorators in Python are `functions that modify or enhance the behavior of other functions or methods`. \n",
    "- They allow us to add functionality to existing functions dynamically without modifying their code directly. \n",
    "- Decorators are commonly used for tasks such as logging, authentication, caching, and more. \n",
    "\n",
    "### Decorator Concept:\n",
    "- A decorator is a function that takes another function (or method) as input and returns a new function that usually extends or modifies the behavior of the input function.\n",
    "- Decorators are prefixed with the `@ symbol followed by the decorator function's name` and `placed above the function` to be decorated.\n",
    "- In fact, there are two types of decorators in Python including `class decorators` and `function\n",
    "decorators`.\n",
    "- In application, decorators are majorly used in creating middle layer in the backend, it performs task like token authentication, validation, image compression and many more."
   ]
  },
  {
   "cell_type": "code",
   "execution_count": null,
   "id": "b8a2354f",
   "metadata": {},
   "outputs": [],
   "source": [
    "# Syntax:\n",
    "\n",
    "def decorator(arg_function): #arg_function to be decorated\n",
    "   def nested_function():\n",
    "      #this wraps the arg_function and extends its behaviour\n",
    "      #call arg_function\n",
    "      arg_function()\n",
    "   return nested_function"
   ]
  },
  {
   "cell_type": "code",
   "execution_count": 1,
   "id": "23dd9647",
   "metadata": {},
   "outputs": [],
   "source": [
    "# Import libraries\n",
    "import decorator\n",
    "from decorator import *\n",
    "import functools\n",
    "import math"
   ]
  },
  {
   "cell_type": "code",
   "execution_count": 3,
   "id": "0c74e1b3",
   "metadata": {},
   "outputs": [
    {
     "name": "stdout",
     "output_type": "stream",
     "text": [
      "['__annotations__', '__builtins__', '__call__', '__class__', '__closure__', '__code__', '__defaults__', '__delattr__', '__dict__', '__dir__', '__doc__', '__eq__', '__format__', '__ge__', '__get__', '__getattribute__', '__getstate__', '__globals__', '__gt__', '__hash__', '__init__', '__init_subclass__', '__kwdefaults__', '__le__', '__lt__', '__module__', '__name__', '__ne__', '__new__', '__qualname__', '__reduce__', '__reduce_ex__', '__repr__', '__setattr__', '__sizeof__', '__str__', '__subclasshook__']\n",
      "['GenericAlias', 'RLock', 'WRAPPER_ASSIGNMENTS', 'WRAPPER_UPDATES', '_CacheInfo', '_HashedSeq', '_NOT_FOUND', '__all__', '__builtins__', '__cached__', '__doc__', '__file__', '__loader__', '__name__', '__package__', '__spec__', '_c3_merge', '_c3_mro', '_compose_mro', '_convert', '_find_impl', '_ge_from_gt', '_ge_from_le', '_ge_from_lt', '_gt_from_ge', '_gt_from_le', '_gt_from_lt', '_initial_missing', '_le_from_ge', '_le_from_gt', '_le_from_lt', '_lru_cache_wrapper', '_lt_from_ge', '_lt_from_gt', '_lt_from_le', '_make_key', '_unwrap_partial', 'cache', 'cached_property', 'cmp_to_key', 'get_cache_token', 'lru_cache', 'namedtuple', 'partial', 'partialmethod', 'recursive_repr', 'reduce', 'singledispatch', 'singledispatchmethod', 'total_ordering', 'update_wrapper', 'wraps']\n"
     ]
    }
   ],
   "source": [
    "print(dir(decorator))"
   ]
  },
  {
   "cell_type": "code",
   "execution_count": 4,
   "id": "87046e01",
   "metadata": {},
   "outputs": [
    {
     "name": "stdout",
     "output_type": "stream",
     "text": [
      "['GenericAlias', 'RLock', 'WRAPPER_ASSIGNMENTS', 'WRAPPER_UPDATES', '_CacheInfo', '_HashedSeq', '_NOT_FOUND', '__all__', '__builtins__', '__cached__', '__doc__', '__file__', '__loader__', '__name__', '__package__', '__spec__', '_c3_merge', '_c3_mro', '_compose_mro', '_convert', '_find_impl', '_ge_from_gt', '_ge_from_le', '_ge_from_lt', '_gt_from_ge', '_gt_from_le', '_gt_from_lt', '_initial_missing', '_le_from_ge', '_le_from_gt', '_le_from_lt', '_lru_cache_wrapper', '_lt_from_ge', '_lt_from_gt', '_lt_from_le', '_make_key', '_unwrap_partial', 'cache', 'cached_property', 'cmp_to_key', 'get_cache_token', 'lru_cache', 'namedtuple', 'partial', 'partialmethod', 'recursive_repr', 'reduce', 'singledispatch', 'singledispatchmethod', 'total_ordering', 'update_wrapper', 'wraps']\n"
     ]
    }
   ],
   "source": [
    "print(dir(functools))"
   ]
  },
  {
   "cell_type": "code",
   "execution_count": 5,
   "id": "afdbb9ea",
   "metadata": {},
   "outputs": [
    {
     "name": "stdout",
     "output_type": "stream",
     "text": [
      "Help on function decorator in module decorator:\n",
      "\n",
      "decorator(caller, _func=None, kwsyntax=False)\n",
      "    decorator(caller) converts a caller function into a decorator\n",
      "\n"
     ]
    }
   ],
   "source": [
    "help(decorator)"
   ]
  },
  {
   "cell_type": "code",
   "execution_count": 6,
   "id": "7a36fc20",
   "metadata": {},
   "outputs": [
    {
     "name": "stdout",
     "output_type": "stream",
     "text": [
      "Python is a programming language.\n",
      "Hell, Python!\n"
     ]
    }
   ],
   "source": [
    "# Define a function\n",
    "\"\"\"\n",
    "In the following function, when the code was executed, it yeilds the outputs for both functions.\n",
    "The function new_text() alluded to the function mytext() and behave as function.\n",
    "\"\"\"\n",
    "def mytext(text):\n",
    "    print(text)\n",
    "\n",
    "mytext('Python is a programming language.')    \n",
    "\n",
    "new_text = mytext\n",
    "new_text('Hell, Python!')"
   ]
  },
  {
   "cell_type": "markdown",
   "id": "157bdabb",
   "metadata": {},
   "source": [
    "- The given code defines a function mytext that prints the input text. \n",
    "- After defining the function, it assigns the function mytext to a new variable new_text. \n",
    "- This allows new_text to be used as a reference to the original mytext function. \n",
    "- When new_text is called, it behaves exactly like mytext."
   ]
  },
  {
   "cell_type": "code",
   "execution_count": 7,
   "id": "0dd34565",
   "metadata": {},
   "outputs": [
    {
     "data": {
      "text/plain": [
       "9.8596"
      ]
     },
     "execution_count": 7,
     "metadata": {},
     "output_type": "execute_result"
    }
   ],
   "source": [
    "def multiplication(num):\n",
    "    return num * num\n",
    "\n",
    "mult = multiplication\n",
    "mult(3.14)"
   ]
  },
  {
   "cell_type": "code",
   "execution_count": 1,
   "id": "c62765e1",
   "metadata": {},
   "outputs": [
    {
     "name": "stdout",
     "output_type": "stream",
     "text": [
      "Hi, Welcome to Python Learning\n"
     ]
    }
   ],
   "source": [
    "def message():\n",
    "    print(\"Hi, Welcome to Python Learning\")\n",
    "    \n",
    "message()"
   ]
  },
  {
   "cell_type": "code",
   "execution_count": 10,
   "id": "c75b53fd",
   "metadata": {},
   "outputs": [
    {
     "name": "stdout",
     "output_type": "stream",
     "text": [
      "Python is a programming language.\n",
      "Hello, Python!\n",
      "Hi, World!\n"
     ]
    }
   ],
   "source": [
    "# Define a function\n",
    "\"\"\"\n",
    "In the following function, it is nonsignificant how the child functions are announced.\n",
    "The implementation of the child function does influence on the output.\n",
    "These child functions are topically linked with the function mytext(), therefore they can not be called individually.\n",
    "\"\"\"\n",
    "def mytext():\n",
    "    print('Python is a programming language.')\n",
    "    \n",
    "    def new_text():\n",
    "        print('Hello, Python!')\n",
    "    def message():\n",
    "        print('Hi, World!')\n",
    "    new_text()\n",
    "    message()\n",
    "    \n",
    "mytext()"
   ]
  },
  {
   "cell_type": "code",
   "execution_count": 15,
   "id": "97dce3f3",
   "metadata": {},
   "outputs": [
    {
     "name": "stdout",
     "output_type": "stream",
     "text": [
      "<function message.<locals>.text at 0x000001E592BF3380>\n",
      "Python is a programming language.\n"
     ]
    }
   ],
   "source": [
    "# Define a function\n",
    "\"\"\"\n",
    "In the following example, the function text() is nested into the function message().\n",
    "It will return each time when the function tex() is called.\n",
    "\"\"\"\n",
    "def message():\n",
    "    def text():\n",
    "        print('Python is a programming language.')\n",
    "    return text\n",
    "\n",
    "new_message = message()\n",
    "print(new_message)\n",
    "\n",
    "new_message()"
   ]
  },
  {
   "cell_type": "code",
   "execution_count": 17,
   "id": "de22f75a",
   "metadata": {},
   "outputs": [
    {
     "name": "stdout",
     "output_type": "stream",
     "text": [
      "9.8596\n"
     ]
    }
   ],
   "source": [
    "# Define the outer function\n",
    "def function(num):\n",
    "    # Define the inner function\n",
    "    def mult(num):\n",
    "        # Inner function returns the square of the number\n",
    "        return num * num\n",
    "    \n",
    "    # Call the inner function with the argument 'num'\n",
    "    output = mult(num)\n",
    "    # Return the result from the outer function\n",
    "    return output\n",
    "\n",
    "# Call the outer function with 3.14 and print the result\n",
    "result = function(3.14)\n",
    "print(result)  # Output: 9.8596"
   ]
  },
  {
   "cell_type": "code",
   "execution_count": 18,
   "id": "8de2eac8",
   "metadata": {},
   "outputs": [
    {
     "name": "stdout",
     "output_type": "stream",
     "text": [
      "8.53452\n",
      "0.5152866242038217\n"
     ]
    }
   ],
   "source": [
    "# Define a function\n",
    "\"\"\"\n",
    "In this function, the mult() and divide() functions as argument in operator() function are passed.\n",
    "\"\"\"\n",
    "def mult(x):\n",
    "    return x * 3.14\n",
    "def divide(x):\n",
    "    return x/3.14\n",
    "def operator(function, x):\n",
    "    number = function(x)\n",
    "    return number\n",
    "\n",
    "\n",
    "print(operator(mult, 2.718))\n",
    "print(operator(divide, 1.618))"
   ]
  },
  {
   "cell_type": "code",
   "execution_count": 19,
   "id": "fc480d27",
   "metadata": {},
   "outputs": [
    {
     "data": {
      "text/plain": [
       "5.859874482048838"
      ]
     },
     "execution_count": 19,
     "metadata": {},
     "output_type": "execute_result"
    }
   ],
   "source": [
    "def addition(num):\n",
    "    return num + math.pi\n",
    "\n",
    "def called_function(func):\n",
    "    added_number = math.e\n",
    "    return func(added_number)\n",
    "\n",
    "called_function(addition)"
   ]
  },
  {
   "cell_type": "code",
   "execution_count": 7,
   "id": "dd68f08c",
   "metadata": {},
   "outputs": [
    {
     "name": "stdout",
     "output_type": "stream",
     "text": [
      "Hi, Welcome to decorator Learning\n",
      "Hi, Welcome to Python Learning\n",
      "Have a happy Learning\n"
     ]
    }
   ],
   "source": [
    "def my_decorator(func):\n",
    "    def learning():\n",
    "        print(\"Hi, Welcome to decorator Learning\")\n",
    "        func()\n",
    "        print(\"Have a happy Learning\")\n",
    "    return learning\n",
    "    \n",
    "def message():\n",
    "    print(\"Hi, Welcome to Python Learning\")\n",
    "\n",
    "message=my_decorator(message)\n",
    "\n",
    "message()"
   ]
  },
  {
   "cell_type": "code",
   "execution_count": 8,
   "id": "65bd4a49",
   "metadata": {},
   "outputs": [
    {
     "name": "stdout",
     "output_type": "stream",
     "text": [
      "Hi, Welcome to decorator Learning\n",
      "Hi, Welcome to Python Learning\n",
      "Have a happy Learning\n"
     ]
    }
   ],
   "source": [
    "def my_decorator(func):\n",
    "    def learning():\n",
    "        print(\"Hi, Welcome to decorator Learning\")\n",
    "        func()\n",
    "        print(\"Have a happy Learning\")\n",
    "    return learning\n",
    "\n",
    "@my_decorator\n",
    "def message():\n",
    "    print(\"Hi, Welcome to Python Learning\")\n",
    "\n",
    "message()"
   ]
  },
  {
   "cell_type": "code",
   "execution_count": 23,
   "id": "e168d329",
   "metadata": {},
   "outputs": [
    {
     "name": "stdout",
     "output_type": "stream",
     "text": [
      "wrapper function is called\n",
      "Inside wrapper to check odd/even\n",
      "The number is= 10\n",
      "It is  Even\n"
     ]
    }
   ],
   "source": [
    "def my_decorator(some_function):\n",
    "   def wrapper(num):\n",
    "      print(\"Inside wrapper to check odd/even\")\n",
    "      if num%2 == 0:\n",
    "         ret= \"Even\"\n",
    "      else:\n",
    "         ret= \"Odd!\"\n",
    "      some_function(num)\n",
    "      return ret\n",
    "   print (\"wrapper function is called\")\n",
    "   return wrapper\n",
    "\n",
    "@my_decorator\n",
    "def my_function(x):\n",
    "   print(\"The number is=\",x)\n",
    "\n",
    "no=10\n",
    "print (\"It is \",my_function(no))"
   ]
  },
  {
   "cell_type": "markdown",
   "id": "1271b506",
   "metadata": {},
   "source": [
    "## Regular Expressions\n",
    "- A regular expression is a special sequence of characters that helps us match or find other strings or sets of strings, using a specialized syntax held in a pattern. \n",
    "- Regular expression are popularly known as `regex or regexp`.\n",
    "- Usually, such patterns are used by string-searching algorithms for \"find\" or \"find and replace\" operations on strings, or for input validation.\n",
    "\n",
    "### Tips for Using Regex\n",
    "- Use raw string notation (prefix the pattern with r) to avoid issues with escape sequences.\n",
    "- Test our regex patterns with tools like regex101 (https://regex101.com/) for immediate feedback.\n",
    "- Regular expressions can be complex; break down our pattern and test it incrementally for better debugging.\n",
    "\n",
    "\n",
    "### Basic patterns:\n",
    "- Literal characters: Match exact characters. `pattern = r\"hello\"`\n",
    "- Character classes: Match any character in a set.\n",
    "    - [abc]: Match either 'a', 'b', or 'c'.\n",
    "    - [a-z]: Match any lowercase letter.\n",
    "    - [0-9]: Match any digit.\n",
    "- Anchors:\n",
    "    - ^: Match the start of a string.\n",
    "    - $: Match the end of a string.\n",
    "- Quantifiers:\n",
    "    - *: Match zero or more occurrences.\n",
    "    - +: Match one or more occurrences.\n",
    "    - ?: Match zero or one occurrence.\n",
    "    - {n}: Match exactly n occurrences.\n",
    "    - {n, m}: Match between n and m occurrences.\n",
    "- Special Sequences:\n",
    "    - '\\d' It matches any digit and is equivalent to [0-9].\n",
    "    - '\\D' It matches any non-digit character and is equivalent to [^0-9].\n",
    "    - '\\s' It matches any white space character and is equivalent to [\\t\\n\\r\\f\\v]\n",
    "    - '\\S' It matches any character except the white space character and is equivalent to [^\\t\\n\\r\\f\\v]\n",
    "    - '\\w' It matches any alphanumeric character and is equivalent to [a-zA-Z0-9]\n",
    "    - '\\W' It matches any characters except the alphanumeric character and is equivalent to [^a-zA-Z0-9]\n",
    "- RegEx Functions:\n",
    "    - **compile** - It is used to turn a regular pattern into an object of a regular expression that may be used in a number of ways for matching patterns in a string.\n",
    "    - **search** - It is used to find the first occurrence of a regex pattern in a given string.\n",
    "    - **match** - It starts matching the pattern at the beginning of the string.\n",
    "    - **fullmatch** - It is used to match the whole string with a regex pattern.\n",
    "    - **split** - It is used to split the pattern based on the regex pattern.\n",
    "    - **findall** - It is used to find all non-overlapping patterns in a string. It returns a list of matched patterns.\n",
    "    - **finditer** - It returns an iterator that yields match objects.\n",
    "    - **sub** - It returns a string after substituting the first occurrence of the pattern by the replacement.\n",
    "    - **subn** - It works the same as 'sub'. It returns a tuple (new_string, num_of_substitution).\n",
    "    - **escape** - It is used to escape special characters in a pattern.\n",
    "    - **purge** - It is used to clear the regex expression cache."
   ]
  },
  {
   "cell_type": "code",
   "execution_count": 9,
   "id": "5d7a047b",
   "metadata": {},
   "outputs": [
    {
     "name": "stdout",
     "output_type": "stream",
     "text": [
      "123\n"
     ]
    }
   ],
   "source": [
    "import re\n",
    "\n",
    "# Checks if the beginning of a string matches the pattern\n",
    "\n",
    "result = re.match(r'\\d+', '123xyz456') # try with `abc123xyz456`\n",
    "\n",
    "print(result.group())  # Output: '123'"
   ]
  },
  {
   "cell_type": "code",
   "execution_count": 7,
   "id": "91795730",
   "metadata": {},
   "outputs": [
    {
     "name": "stdout",
     "output_type": "stream",
     "text": [
      "123\n"
     ]
    }
   ],
   "source": [
    "import re\n",
    "\n",
    "# Searches the string for a match to the pattern and returns the first match\n",
    "\n",
    "result = re.search(r'\\d+', 'abc123xyz456')\n",
    "\n",
    "print(result.group())"
   ]
  },
  {
   "cell_type": "code",
   "execution_count": 6,
   "id": "513b024b",
   "metadata": {},
   "outputs": [
    {
     "name": "stdout",
     "output_type": "stream",
     "text": [
      "['123', '456']\n"
     ]
    }
   ],
   "source": [
    "import re\n",
    "\n",
    "# Finds all matches of the pattern in the string and returns them as a list\n",
    "\n",
    "result = re.findall(r'\\d+', 'abc123xyz456')\n",
    "\n",
    "print(result)  # Output: ['123', '456']"
   ]
  },
  {
   "cell_type": "code",
   "execution_count": 10,
   "id": "4b7efc70",
   "metadata": {},
   "outputs": [
    {
     "name": "stdout",
     "output_type": "stream",
     "text": [
      "123\n",
      "456\n"
     ]
    }
   ],
   "source": [
    "import re\n",
    "\n",
    "# Finds all matches of the pattern in the string and returns them as an iterator of match objects\n",
    "\n",
    "result = re.finditer(r'\\d+', 'abc123xyz456')\n",
    "\n",
    "for match in result:\n",
    "    print(match.group())  # Output: '123' and '456'"
   ]
  },
  {
   "cell_type": "code",
   "execution_count": 11,
   "id": "c5376d74",
   "metadata": {},
   "outputs": [
    {
     "name": "stdout",
     "output_type": "stream",
     "text": [
      "abc#xyz#\n"
     ]
    }
   ],
   "source": [
    "import re\n",
    "\n",
    "# Replaces occurrences of the pattern with a replacement string\n",
    "\n",
    "result = re.sub(r'\\d+', '#', 'abc123xyz456')\n",
    "print(result)  # Output: 'abc#xyz#'"
   ]
  },
  {
   "cell_type": "code",
   "execution_count": 12,
   "id": "3a028a8f",
   "metadata": {},
   "outputs": [
    {
     "name": "stdout",
     "output_type": "stream",
     "text": [
      "Valid email\n"
     ]
    }
   ],
   "source": [
    "pattern = r'^[a-zA-Z0-9_.+-]+@[a-zA-Z0-9-]+\\.[a-zA-Z0-9-.]+$'\n",
    "email = 'example@example.com'\n",
    "\n",
    "if re.match(pattern, email):\n",
    "    print(\"Valid email\")\n",
    "else:\n",
    "    print(\"Invalid email\")"
   ]
  },
  {
   "cell_type": "code",
   "execution_count": 13,
   "id": "2e3cd394",
   "metadata": {},
   "outputs": [
    {
     "name": "stdout",
     "output_type": "stream",
     "text": [
      "['This', 'is', 'a', 'test.', 'Split', 'this', 'text', 'by', 'spaces.']\n"
     ]
    }
   ],
   "source": [
    "text = 'This is a test. Split this text by spaces.'\n",
    "words = re.split(r'\\s+', text)\n",
    "\n",
    "print(words)  # Output: ['This', 'is', 'a', 'test.', 'Split', 'this', 'text', 'by', 'spaces.']"
   ]
  },
  {
   "cell_type": "markdown",
   "id": "08ad025d",
   "metadata": {},
   "source": [
    "## Functional programming \n",
    "- Functional programming is a programming paradigm where programs are constructed by applying and composing functions. \n",
    "- It is characterized by the use of pure functions, higher-order functions, immutability, and the avoidance of side effects.\n",
    "- Python, while not a purely functional programming language, supports functional programming features.\n",
    "\n",
    "### Key Concepts in Functional Programming\n",
    "- **Pure Functions**: Functions that always produce the same output for the same input and have no side effects (they do not alter any state or data outside the function).\n",
    "- **Higher-Order Functions**: Functions that take other functions as arguments or return them as results.\n",
    "- **Immutability**: Data objects are immutable, meaning they cannot be modified after they are created.\n",
    "- **First-Class Functions**: Functions are treated as first-class citizens, meaning they can be passed as arguments, returned from other functions, and assigned to variables.\n",
    "- **Recursion**: Functional programming often uses recursion as a primary control structure instead of loops."
   ]
  },
  {
   "cell_type": "code",
   "execution_count": 6,
   "id": "a7f2d14b",
   "metadata": {},
   "outputs": [
    {
     "name": "stdout",
     "output_type": "stream",
     "text": [
      "5\n",
      "5\n"
     ]
    }
   ],
   "source": [
    "# Example of a pure function\n",
    "def add(a, b):\n",
    "    return a + b\n",
    "\n",
    "# The function always produces the same output for the same inputs\n",
    "print(add(2, 3))  # Output: 5\n",
    "print(add(2, 3))  # Output: 5"
   ]
  },
  {
   "cell_type": "code",
   "execution_count": 8,
   "id": "20c32519",
   "metadata": {},
   "outputs": [
    {
     "name": "stdout",
     "output_type": "stream",
     "text": [
      "10\n"
     ]
    }
   ],
   "source": [
    "# Example of a higher-order function\n",
    "def apply_function(func, value):\n",
    "    return func(value)\n",
    "\n",
    "# Function that doubles a number\n",
    "def double(x):\n",
    "    return x * 2\n",
    "\n",
    "print(apply_function(double, 5))  # Output: 10"
   ]
  },
  {
   "cell_type": "code",
   "execution_count": 7,
   "id": "336d4399",
   "metadata": {},
   "outputs": [
    {
     "name": "stdout",
     "output_type": "stream",
     "text": [
      "16\n",
      "16\n"
     ]
    }
   ],
   "source": [
    "# Functions as first-class citizens\n",
    "def square(x):\n",
    "    return x * x\n",
    "\n",
    "# Assign function to a variable\n",
    "func = square\n",
    "print(func(4))  # Output: 16\n",
    "\n",
    "# Pass function as an argument\n",
    "def apply_twice(func, value):\n",
    "    return func(func(value))\n",
    "\n",
    "print(apply_twice(square, 2))  # Output: 16"
   ]
  },
  {
   "cell_type": "code",
   "execution_count": 9,
   "id": "dea1cfbe",
   "metadata": {},
   "outputs": [
    {
     "name": "stdout",
     "output_type": "stream",
     "text": [
      "120\n"
     ]
    }
   ],
   "source": [
    "# Example of recursion\n",
    "def factorial(n):\n",
    "    if n == 0:\n",
    "        return 1\n",
    "    else:\n",
    "        return n * factorial(n - 1)\n",
    "\n",
    "print(factorial(5))  # Output: 120"
   ]
  },
  {
   "cell_type": "markdown",
   "id": "305b1ab8",
   "metadata": {},
   "source": [
    "- Common Functional Programming Functions in Python\n",
    "    - **map()**: Applies a function to all items in an input list.\n",
    "    - **filter()**: Filters items out of a list based on a function that returns True or False.\n",
    "    - **reduce() (from functools module)**: Applies a function of two arguments cumulatively to the items of a list, from left to right, to reduce the list to a single value.\n",
    "    - **lambda**: Creates an anonymous function."
   ]
  },
  {
   "cell_type": "code",
   "execution_count": 11,
   "id": "ecfaac9b",
   "metadata": {},
   "outputs": [
    {
     "name": "stdout",
     "output_type": "stream",
     "text": [
      "[1, 4, 9, 16]\n"
     ]
    }
   ],
   "source": [
    "numbers = [1, 2, 3, 4]\n",
    "\n",
    "squared_numbers = list(map(lambda x: x ** 2, numbers))\n",
    "\n",
    "print(squared_numbers)  # Output: [1, 4, 9, 16]"
   ]
  },
  {
   "cell_type": "code",
   "execution_count": 12,
   "id": "212f4881",
   "metadata": {},
   "outputs": [
    {
     "name": "stdout",
     "output_type": "stream",
     "text": [
      "[2, 4, 6]\n"
     ]
    }
   ],
   "source": [
    "numbers = [1, 2, 3, 4, 5, 6]\n",
    "\n",
    "even_numbers = list(filter(lambda x: x % 2 == 0, numbers))\n",
    "\n",
    "print(even_numbers)  # Output: [2, 4, 6]"
   ]
  },
  {
   "cell_type": "code",
   "execution_count": null,
   "id": "89dd1645",
   "metadata": {},
   "outputs": [],
   "source": [
    "from functools import reduce\n",
    "\n",
    "numbers = [1, 2, 3, 4]\n",
    "\n",
    "product = reduce(lambda x, y: x * y, numbers)\n",
    "\n",
    "print(product)  # Output: 24"
   ]
  },
  {
   "cell_type": "markdown",
   "id": "5e9cd990",
   "metadata": {},
   "source": [
    "## Shallow and deep copying\n",
    "- Shallow Copy\n",
    "    - A shallow copy creates a new object, but inserts references into it to the objects found in the original. \n",
    "    - This means that while the new object is a distinct entity, its contents are references to the same items as the original.\n",
    "        - Copies the object's structure.\n",
    "        - Nested objects are shared between the original and the copy.\n",
    "        - Changes to nested objects affect both the original and the copy.\n",
    "        - Use copy.copy() to create a shallow copy.\n",
    "- Deep Copy\n",
    "    - A deep copy creates a new object and recursively copies all objects found in the original, meaning it creates new instances of nested objects as well.\n",
    "        - Copies the object's structure and all nested objects.\n",
    "        - Nested objects are independent between the original and the copy.\n",
    "        - Changes to nested objects do not affect the other.\n",
    "        - Use copy.deepcopy() to create a deep copy."
   ]
  },
  {
   "cell_type": "code",
   "execution_count": 13,
   "id": "51e594c6",
   "metadata": {},
   "outputs": [
    {
     "name": "stdout",
     "output_type": "stream",
     "text": [
      "Original: [1, 2, ['a', 4]]\n",
      "Shallow Copy: [1, 2, ['a', 4]]\n"
     ]
    }
   ],
   "source": [
    "import copy\n",
    "\n",
    "# Original list\n",
    "original = [1, 2, [3, 4]]\n",
    "\n",
    "# Shallow copy\n",
    "shallow_copy = copy.copy(original)\n",
    "\n",
    "# Modifying the nested list in the shallow copy\n",
    "shallow_copy[2][0] = 'a'\n",
    "\n",
    "print(\"Original:\", original)       # Output: [1, 2, ['a', 4]]\n",
    "print(\"Shallow Copy:\", shallow_copy)  # Output: [1, 2, ['a', 4]]"
   ]
  },
  {
   "cell_type": "code",
   "execution_count": 14,
   "id": "a18507af",
   "metadata": {},
   "outputs": [
    {
     "name": "stdout",
     "output_type": "stream",
     "text": [
      "Original: [1, 2, [3, 4]]\n",
      "Deep Copy: [1, 2, ['a', 4]]\n"
     ]
    }
   ],
   "source": [
    "import copy\n",
    "\n",
    "# Original list\n",
    "original = [1, 2, [3, 4]]\n",
    "\n",
    "# Deep copy\n",
    "deep_copy = copy.deepcopy(original)\n",
    "\n",
    "# Modifying the nested list in the deep copy\n",
    "deep_copy[2][0] = 'a'\n",
    "\n",
    "print(\"Original:\", original)      # Output: [1, 2, [3, 4]]\n",
    "print(\"Deep Copy:\", deep_copy)    # Output: [1, 2, ['a', 4]]"
   ]
  },
  {
   "cell_type": "markdown",
   "id": "24ba6265",
   "metadata": {},
   "source": [
    "## Megic Methods / Dunder\n",
    "- Dunder methods, also known as `magic methods or special methods`, are predefined methods in Python that start and end with double underscores (__). \n",
    "- These methods are used to provide special behavior for instances of a class, such as how they should be initialized, represented as strings, compared, or operated on. \n",
    "- Dunder methods are a key part of Python's data model and allow us to define the behavior of our objects in a Pythonic way.\n",
    "\n",
    "### Common Dunder Methods\n",
    "- Initialization and Representation\n",
    "    - `__init__(self, ...)`: Initializes a new instance of the class.\n",
    "    - `__repr__(self)`: Returns an official string representation of the object, which is ideally unambiguous.\n",
    "    - `__str__(self)`: Returns a readable string representation of the object, which is ideally user-friendly."
   ]
  },
  {
   "cell_type": "code",
   "execution_count": 14,
   "id": "65ed1a5d",
   "metadata": {},
   "outputs": [
    {
     "name": "stdout",
     "output_type": "stream",
     "text": [
      "6\n",
      "6\n",
      "-------------------------------\n",
      "12\n",
      "12\n"
     ]
    }
   ],
   "source": [
    "x=1\n",
    "y=5\n",
    "\n",
    "print(x+y)\n",
    "\n",
    "print(int.__add__(x,y))\n",
    "\n",
    "print('-------------------------------')\n",
    "\n",
    "x='1'\n",
    "y='2'\n",
    "\n",
    "print(x+y)\n",
    "\n",
    "print(str.__add__(x,y))"
   ]
  },
  {
   "cell_type": "code",
   "execution_count": 17,
   "id": "2b765db9",
   "metadata": {},
   "outputs": [
    {
     "name": "stdout",
     "output_type": "stream",
     "text": [
      "3000\n"
     ]
    }
   ],
   "source": [
    "class student:\n",
    "    def __init__(self, name, fees):\n",
    "        self.name=name\n",
    "        self.fees=fees\n",
    "        \n",
    "    def __str__(self):\n",
    "        return f'{self.name}'\n",
    "    \n",
    "    def __add__(self, other):\n",
    "        return self.fees + other.fees\n",
    "    \n",
    "stud1=student('Mohana', 1000)\n",
    "stud2=student('Riya', 2000)\n",
    "\n",
    "print(stud1+stud2)"
   ]
  },
  {
   "cell_type": "code",
   "execution_count": 21,
   "id": "2efb7280",
   "metadata": {},
   "outputs": [
    {
     "name": "stdout",
     "output_type": "stream",
     "text": [
      "False\n"
     ]
    }
   ],
   "source": [
    "class student:\n",
    "    def __init__(self, name, fees):\n",
    "        self.name=name\n",
    "        self.fees=fees\n",
    "        \n",
    "    def __str__(self):\n",
    "        return f'{self.name}'\n",
    "    \n",
    "    def __add__(self, other):\n",
    "        return self.fees + other.fees\n",
    "    \n",
    "    def __eq__(self, other):\n",
    "        return self.name == other.name\n",
    "    \n",
    "stud1=student('Mohana', 1000)\n",
    "stud2=student('Riya', 2000)\n",
    "\n",
    "print(stud1 == stud2)"
   ]
  },
  {
   "cell_type": "code",
   "execution_count": 24,
   "id": "6108c117",
   "metadata": {},
   "outputs": [
    {
     "name": "stdout",
     "output_type": "stream",
     "text": [
      "6\n"
     ]
    }
   ],
   "source": [
    "class student:\n",
    "    def __init__(self, name, fees):\n",
    "        self.name=name\n",
    "        self.fees=fees\n",
    "        \n",
    "    def __str__(self):\n",
    "        return f'{self.name}'\n",
    "    \n",
    "    def __add__(self, other):\n",
    "        return self.fees + other.fees\n",
    "    \n",
    "    def __eq__(self, other):\n",
    "        return self.name == other.name\n",
    "    \n",
    "    def __len__(self):\n",
    "        return len(self.name)\n",
    "    \n",
    "stud1=student('Mohana', 1000)\n",
    "stud2=student('Riya', 2000)\n",
    "\n",
    "print(len(stud1))"
   ]
  },
  {
   "cell_type": "code",
   "execution_count": 33,
   "id": "72500760",
   "metadata": {},
   "outputs": [
    {
     "name": "stdout",
     "output_type": "stream",
     "text": [
      "Moh\n",
      "<class 'str'>\n",
      "Moh\n"
     ]
    }
   ],
   "source": [
    "class student:\n",
    "    def __init__(self, name, fees):\n",
    "        self.name=name\n",
    "        self.fees=fees\n",
    "        \n",
    "    def __str__(self):\n",
    "        return f'{self.name}'\n",
    "    \n",
    "    def __add__(self, other):\n",
    "        return self.fees + other.fees\n",
    "    \n",
    "    def __eq__(self, other):\n",
    "        return self.name == other.name\n",
    "    \n",
    "    def __len__(self):\n",
    "        return len(self.name)\n",
    "    \n",
    "    def __getitem__(self,key):\n",
    "        return self.name[key]\n",
    "    \n",
    "stud1=student('Mohana', 1000)\n",
    "stud2=student('Riya', 2000)\n",
    "\n",
    "#print(stud1, type(stud1))\n",
    "\n",
    "print(stud1[0:3])\n",
    "\n",
    "name=\"Mohana\"\n",
    "print(type(name))\n",
    "print(name[0:3])"
   ]
  },
  {
   "cell_type": "code",
   "execution_count": 36,
   "id": "79b04a48",
   "metadata": {},
   "outputs": [
    {
     "name": "stdout",
     "output_type": "stream",
     "text": [
      "True\n",
      "o found\n"
     ]
    }
   ],
   "source": [
    "class student:\n",
    "    def __init__(self, name, fees):\n",
    "        self.name=name\n",
    "        self.fees=fees\n",
    "        \n",
    "    def __str__(self):\n",
    "        return f'{self.name}'\n",
    "    \n",
    "    def __add__(self, other):\n",
    "        return self.fees + other.fees\n",
    "    \n",
    "    def __eq__(self, other):\n",
    "        return self.name == other.name\n",
    "    \n",
    "    def __len__(self):\n",
    "        return len(self.name)\n",
    "    \n",
    "    def __getitem__(self,key):\n",
    "        return self.name[key]\n",
    "    \n",
    "    def __contains__(self,value):\n",
    "        if value in self.name:\n",
    "            return True\n",
    "        return False\n",
    "    \n",
    "stud1=student('Mohana', 1000)\n",
    "stud2=student('Riya', 2000)\n",
    "\n",
    "\n",
    "print('M' in stud1)\n",
    "\n",
    "if 'o' in stud1:\n",
    "    print('o found')"
   ]
  },
  {
   "cell_type": "code",
   "execution_count": 15,
   "id": "14415eb3",
   "metadata": {},
   "outputs": [
    {
     "name": "stdout",
     "output_type": "stream",
     "text": [
      "MyClass(value=10)\n",
      "MyClass with value 10\n"
     ]
    }
   ],
   "source": [
    "class MyClass:\n",
    "    def __init__(self, value):\n",
    "        self.value = value\n",
    "    \n",
    "    def __repr__(self):\n",
    "        return f'MyClass(value={self.value})'\n",
    "    \n",
    "    def __str__(self):\n",
    "        return f'MyClass with value {self.value}'\n",
    "\n",
    "obj = MyClass(10)\n",
    "print(repr(obj))  # Output: MyClass(value=10)\n",
    "print(str(obj))   # Output: MyClass with value 10"
   ]
  },
  {
   "cell_type": "code",
   "execution_count": 16,
   "id": "41804bce",
   "metadata": {},
   "outputs": [
    {
     "name": "stdout",
     "output_type": "stream",
     "text": [
      "Vector(6, 8)\n"
     ]
    }
   ],
   "source": [
    "class Vector:\n",
    "    def __init__(self, x, y):\n",
    "        self.x = x\n",
    "        self.y = y\n",
    "    \n",
    "    def __add__(self, other):\n",
    "        return Vector(self.x + other.x, self.y + other.y)\n",
    "    \n",
    "    def __repr__(self):\n",
    "        return f'Vector({self.x}, {self.y})'\n",
    "\n",
    "v1 = Vector(2, 3)\n",
    "v2 = Vector(4, 5)\n",
    "v3 = v1 + v2\n",
    "print(v3)  # Output: Vector(6, 8)"
   ]
  },
  {
   "cell_type": "code",
   "execution_count": 17,
   "id": "959f8e66",
   "metadata": {},
   "outputs": [
    {
     "name": "stdout",
     "output_type": "stream",
     "text": [
      "False\n",
      "False\n",
      "True\n"
     ]
    }
   ],
   "source": [
    "class Person:\n",
    "    def __init__(self, name, age):\n",
    "        self.name = name\n",
    "        self.age = age\n",
    "    \n",
    "    def __eq__(self, other):\n",
    "        return self.age == other.age\n",
    "    \n",
    "    def __lt__(self, other):\n",
    "        return self.age < other.age\n",
    "\n",
    "p1 = Person('Alice', 30)\n",
    "p2 = Person('Bob', 25)\n",
    "\n",
    "print(p1 == p2)  # Output: False\n",
    "print(p1 < p2)   # Output: False\n",
    "print(p1 > p2)   # Output: True"
   ]
  },
  {
   "cell_type": "code",
   "execution_count": 18,
   "id": "12c9969d",
   "metadata": {},
   "outputs": [
    {
     "name": "stdout",
     "output_type": "stream",
     "text": [
      "3\n",
      "1\n",
      "10\n",
      "[2, 3]\n"
     ]
    }
   ],
   "source": [
    "class MyList:\n",
    "    def __init__(self):\n",
    "        self.items = []\n",
    "    \n",
    "    def __len__(self):\n",
    "        return len(self.items)\n",
    "    \n",
    "    def __getitem__(self, index):\n",
    "        return self.items[index]\n",
    "    \n",
    "    def __setitem__(self, index, value):\n",
    "        self.items[index] = value\n",
    "    \n",
    "    def __delitem__(self, index):\n",
    "        del self.items[index]\n",
    "    \n",
    "    def __iter__(self):\n",
    "        return iter(self.items)\n",
    "\n",
    "my_list = MyList()\n",
    "my_list.items.extend([1, 2, 3])\n",
    "\n",
    "print(len(my_list))       # Output: 3\n",
    "print(my_list[0])         # Output: 1\n",
    "my_list[0] = 10\n",
    "print(my_list[0])         # Output: 10\n",
    "del my_list[0]\n",
    "print(list(my_list))      # Output: [2, 3]"
   ]
  }
 ],
 "metadata": {
  "kernelspec": {
   "display_name": "Python 3 (ipykernel)",
   "language": "python",
   "name": "python3"
  },
  "language_info": {
   "codemirror_mode": {
    "name": "ipython",
    "version": 3
   },
   "file_extension": ".py",
   "mimetype": "text/x-python",
   "name": "python",
   "nbconvert_exporter": "python",
   "pygments_lexer": "ipython3",
   "version": "3.11.7"
  }
 },
 "nbformat": 4,
 "nbformat_minor": 5
}
